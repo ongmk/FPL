{
 "cells": [
  {
   "cell_type": "code",
   "execution_count": 2,
   "metadata": {},
   "outputs": [],
   "source": [
    "import sqlite3\n",
    "import pandas as pd\n",
    "import numpy as np\n",
    "from datetime import timedelta\n",
    "import requests\n",
    "from tqdm import tqdm\n",
    "import re\n",
    "\n",
    "import sys\n",
    "sys.path.append(\"..\")\n",
    "\n",
    "from src.fpl.pipelines.optimization_pipeline.fpl_api import get_fpl_base_data"
   ]
  },
  {
   "cell_type": "code",
   "execution_count": 8,
   "metadata": {},
   "outputs": [
    {
     "data": {
      "text/html": [
       "<div>\n",
       "<style scoped>\n",
       "    .dataframe tbody tr th:only-of-type {\n",
       "        vertical-align: middle;\n",
       "    }\n",
       "\n",
       "    .dataframe tbody tr th {\n",
       "        vertical-align: top;\n",
       "    }\n",
       "\n",
       "    .dataframe thead th {\n",
       "        text-align: right;\n",
       "    }\n",
       "</style>\n",
       "<table border=\"1\" class=\"dataframe\">\n",
       "  <thead>\n",
       "    <tr style=\"text-align: right;\">\n",
       "      <th></th>\n",
       "      <th>season</th>\n",
       "      <th>player</th>\n",
       "      <th>date</th>\n",
       "      <th>day</th>\n",
       "      <th>comp</th>\n",
       "      <th>round</th>\n",
       "      <th>venue</th>\n",
       "      <th>result</th>\n",
       "      <th>squad</th>\n",
       "      <th>opponent</th>\n",
       "      <th>...</th>\n",
       "      <th>xag</th>\n",
       "      <th>sca</th>\n",
       "      <th>gca</th>\n",
       "      <th>sota</th>\n",
       "      <th>ga</th>\n",
       "      <th>saves</th>\n",
       "      <th>savepct</th>\n",
       "      <th>cs</th>\n",
       "      <th>psxg</th>\n",
       "      <th>link</th>\n",
       "    </tr>\n",
       "  </thead>\n",
       "  <tbody>\n",
       "  </tbody>\n",
       "</table>\n",
       "<p>0 rows × 32 columns</p>\n",
       "</div>"
      ],
      "text/plain": [
       "Empty DataFrame\n",
       "Columns: [season, player, date, day, comp, round, venue, result, squad, opponent, start, pos, min, gls, ast, pk, pkatt, sh, sot, touches, xg, npxg, xag, sca, gca, sota, ga, saves, savepct, cs, psxg, link]\n",
       "Index: []\n",
       "\n",
       "[0 rows x 32 columns]"
      ]
     },
     "execution_count": 8,
     "metadata": {},
     "output_type": "execute_result"
    }
   ],
   "source": [
    "current_season = '2023-2024'\n",
    "conn = sqlite3.connect(\"../data/fpl.db\")\n",
    "cur = conn.cursor()\n",
    "cur.execute(f\"DELETE FROM raw_player_match_log WHERE season = '{current_season}'\")\n",
    "conn.commit()\n",
    "data = pd.read_sql(f\"select * from raw_player_match_log where season = '{current_season}'\", conn)\n",
    "conn.close()\n",
    "\n",
    "data"
   ]
  },
  {
   "cell_type": "code",
   "execution_count": 12,
   "metadata": {},
   "outputs": [
    {
     "data": {
      "text/plain": [
       "[2016, 2017, 2018, 2019, 2020, 2021, 2022, 2023]"
      ]
     },
     "execution_count": 12,
     "metadata": {},
     "output_type": "execute_result"
    }
   ],
   "source": [
    "current_season = \"2023-2024\"\n",
    "current_year = int(re.findall(r'\\d+', current_season)[0])\n",
    "[i for i in range(2016, current_year+1)]"
   ]
  },
  {
   "cell_type": "code",
   "execution_count": 145,
   "metadata": {},
   "outputs": [
    {
     "name": "stdout",
     "output_type": "stream",
     "text": [
      "Columns only in df1:  set()\n",
      "Columns only in df2:  set()\n"
     ]
    }
   ],
   "source": [
    "columns_df1 = set(raw_data.columns)\n",
    "columns_df2 = set(current_season_data.columns)\n",
    "\n",
    "# Find columns that are only in df1\n",
    "only_in_df1 = columns_df1 - columns_df2\n",
    "print(\"Columns only in df1: \", only_in_df1)\n",
    "\n",
    "# Find columns that are only in df2\n",
    "only_in_df2 = columns_df2 - columns_df1\n",
    "print(\"Columns only in df2: \", only_in_df2)\n"
   ]
  },
  {
   "cell_type": "code",
   "execution_count": 96,
   "metadata": {},
   "outputs": [],
   "source": [
    "def refresh_fpl_names_mapping():\n",
    "    \n",
    "\n",
    "    elements_team = pd.read_csv(\"./data/raw/backtest_data/merged_gw.csv\")[\n",
    "        [\"name\", \"team\", \"position\"]\n",
    "    ]\n",
    "    latest_elements_team, _, _, _ = get_fpl_base_data()\n",
    "    elements_team = latest_elements_team.merge(\n",
    "        elements_team,\n",
    "        left_on=[\"full_name\", \"name\"],\n",
    "        right_on=[\"name\", \"team\"],\n",
    "        suffixes=(\"\", \"_y\"),\n",
    "    )\n",
    "    elements_team = (\n",
    "        elements_team[[\"web_name\", \"short_name\", \"position\"]]\n",
    "        .drop_duplicates()\n",
    "        .reset_index(drop=True)\n",
    "    )\n",
    "\n",
    "    path = \"./data/raw/theFPLkiwi/FPL_projections_22_23/\"\n",
    "    files = [\n",
    "        os.path.join(path, f)\n",
    "        for f in os.listdir(path)\n",
    "        if os.path.isfile(os.path.join(path, f))\n",
    "    ]\n",
    "    pred_pts_data = pd.DataFrame(columns=[\"FPL name\", \"Team\", \"Pos\"])\n",
    "    fpl_name_dict = pd.read_csv(\n",
    "        \"./data/raw/theFPLkiwi/ID_Dictionary.csv\", encoding=\"cp1252\"\n",
    "    )[[\"Name\", \"FPL name\"]]\n",
    "    for file in files:\n",
    "        df = pd.read_csv(file)\n",
    "        df = fpl_name_dict.merge(df, on=\"Name\")\n",
    "        unique_rows = df[[\"FPL name\", \"Team\", \"Pos\", \"Price\"]].drop_duplicates()\n",
    "        pred_pts_data = pd.concat([pred_pts_data, unique_rows], ignore_index=True)\n",
    "\n",
    "    pred_pts_data = pred_pts_data.rename({\"FPL name\": \"pred_pts_fpl_name\"}, axis=1)\n",
    "    pred_pts_data = pred_pts_data.drop_duplicates(\n",
    "        subset=[\"pred_pts_fpl_name\", \"Team\", \"Pos\"], keep=\"last\"\n",
    "    ).reset_index(drop=True)\n",
    "\n",
    "    tqdm.pandas(desc=\"Resolving FPL names in predicted pts data\")\n",
    "    pred_pts_data[\"matched\"] = pred_pts_data.progress_apply(\n",
    "        lambda row: fuzzy_match(row, elements_team), axis=1\n",
    "    )\n",
    "    pred_pts_data[\"same\"] = (\n",
    "        pred_pts_data[\"pred_pts_fpl_name\"] == pred_pts_data[\"matched\"]\n",
    "    )\n",
    "    pred_pts_data = pred_pts_data.sort_values([\"same\", \"Price\"], ascending=False)\n",
    "    pred_pts_data = pred_pts_data.drop_duplicates([\"Team\", \"matched\"])\n",
    "    pred_pts_data[\"fpl_name\"] = pred_pts_data[\"matched\"]\n",
    "    pred_pts_data = pred_pts_data[[\"pred_pts_fpl_name\", \"fpl_name\"]].reset_index(\n",
    "        drop=True\n",
    "    )\n",
    "\n",
    "    pred_pts_data.to_csv(\n",
    "        \"./src/fpl/pipelines/model_pipeline/fpl_names_mapping.csv\", index=False\n",
    "    )\n",
    "    return None"
   ]
  },
  {
   "cell_type": "code",
   "execution_count": null,
   "metadata": {},
   "outputs": [],
   "source": []
  }
 ],
 "metadata": {
  "kernelspec": {
   "display_name": "fpl",
   "language": "python",
   "name": "python3"
  },
  "language_info": {
   "codemirror_mode": {
    "name": "ipython",
    "version": 3
   },
   "file_extension": ".py",
   "mimetype": "text/x-python",
   "name": "python",
   "nbconvert_exporter": "python",
   "pygments_lexer": "ipython3",
   "version": "3.10.11"
  },
  "orig_nbformat": 4
 },
 "nbformat": 4,
 "nbformat_minor": 2
}
