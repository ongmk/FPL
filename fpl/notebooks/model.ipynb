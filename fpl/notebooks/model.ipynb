{
 "cells": [
  {
   "cell_type": "code",
   "execution_count": 93,
   "metadata": {},
   "outputs": [],
   "source": [
    "import pandas as pd\n",
    "import sqlite3\n",
    "from pprint import pprint\n",
    "from tqdm.notebook import tqdm\n",
    "import sys\n",
    "sys.path.append(\"..\")"
   ]
  },
  {
   "cell_type": "code",
   "execution_count": 150,
   "metadata": {},
   "outputs": [],
   "source": [
    "color_map = pd.read_csv(\"../src/fpl/pipelines/model_pipeline/team_mapping.csv\")\n",
    "color_map = color_map.set_index(\"FBREF_NAME\")[\"PRIMARY_COLOR\"].to_dict()"
   ]
  },
  {
   "cell_type": "code",
   "execution_count": 95,
   "metadata": {},
   "outputs": [],
   "source": [
    "from plotly.subplots import make_subplots\n",
    "import plotly.graph_objects as go\n",
    "\n",
    "def plot_elos(team_df, x_axis, y_axis, color_by, tooltips):\n",
    "    fig = make_subplots(rows=1, cols=3, shared_yaxes=True, subplot_titles=x_axis, y_title=y_axis,)\n",
    "    for idx, axis in enumerate(x_axis):\n",
    "        fig.add_trace(\n",
    "            go.Scatter(x=team_df[axis], \n",
    "                       y=team_df[y_axis], \n",
    "                       marker_color=team_df[color_by], \n",
    "                       text=team_df[tooltips].apply(lambda x: '<br>'.join(str(x)), axis=1),\n",
    "                       showlegend=False,\n",
    "                       ),\n",
    "            row=1, col=idx+1)\n",
    "    fig.update_traces(mode='markers')\n",
    "    fig.update_layout(height=400, width=1200)\n",
    "    fig.show()"
   ]
  },
  {
   "cell_type": "code",
   "execution_count": 152,
   "metadata": {},
   "outputs": [
    {
     "data": {
      "application/vnd.plotly.v1+json": {
       "config": {
        "plotlyServerURL": "https://plot.ly"
       },
       "data": [
        {
         "marker": {
          "color": [
           "#EF0107",
           "#0073C2",
           "#FDB913",
           "#000000",
           "#FFFFFF",
           "#0047A0",
           "#0057B8",
           "#C8102E",
           "#6C1D45",
           "#001C58",
           "#D71920",
           "#E20E2D",
           "#7A263A",
           "#E62333",
           "#FBEE23",
           "#034694",
           "#003399",
           "#1B458F",
           "#0053A0",
           "#D71920",
           "#C8102E",
           "#FDB913",
           "#0073C2",
           "#000000",
           "#EF0107",
           "#003399",
           "#034694",
           "#7A263A",
           "#E62333",
           "#FBEE23",
           "#FFFFFF",
           "#0047A0",
           "#1B458F",
           "#001C58",
           "#E20E2D",
           "#6C1D45",
           "#0053A0",
           "#0057B8",
           "#7A263A",
           "#001C58",
           "#E62333",
           "#0057B8",
           "#00A650",
           "#FBEE23",
           "#003399",
           "#FDB913",
           "#1B458F",
           "#95BFE5",
           "#D71920",
           "#C8102E",
           "#034694",
           "#000000",
           "#6C1D45",
           "#E20E2D",
           "#EF0107",
           "#0053A0",
           "#FDB913",
           "#EE2737",
           "#003399",
           "#95BFE5",
           "#1B458F",
           "#EE2737",
           "#001C58",
           "#7A263A",
           "#0053A0",
           "#E20E2D",
           "#EF0107",
           "#6C1D45",
           "#034694",
           "#C8102E",
           "#D71920",
           "#000000",
           "#0057B8",
           "#E62333",
           "#FBEE23",
           "#00A650",
           "#FDB913",
           "#0053A0",
           "#FFCD00",
           "#EF0107",
           "#7A263A",
           "#EE2737",
           "#C8102E",
           "#001C58",
           "#6C1D45",
           "#FFFFFF",
           "#E20E2D",
           "#091453",
           "#D71920",
           "#000000",
           "#034694",
           "#0057B8",
           "#1B458F",
           "#95BFE5",
           "#091453",
           "#EE2737",
           "#6C1D45",
           "#C8102E",
           "#001C58",
           "#003399",
           "#EF0107",
           "#7A263A",
           "#FDB913",
           "#E20E2D",
           "#D71920",
           "#FFFFFF",
           "#0053A0",
           "#FFCD00",
           "#95BFE5",
           "#1B458F",
           "#034694",
           "#000000",
           "#0057B8",
           "#003399",
           "#001C58",
           "#00A650",
           "#EF0107",
           "#0053A0",
           "#D71920",
           "#034694",
           "#C8102E",
           "#6C1D45",
           "#0057B8",
           "#1B458F",
           "#E20E2D",
           "#003399",
           "#7A263A",
           "#95BFE5",
           "#FBEE23",
           "#FDB913",
           "#FFCD00",
           "#000000",
           "#0053A0",
           "#FFD700",
           "#EF0107",
           "#034694",
           "#D71920",
           "#FFD700",
           "#00A650",
           "#001C58",
           "#003399",
           "#E20E2D",
           "#1B458F",
           "#6C1D45",
           "#C8102E",
           "#0057B8",
           "#FBEE23",
           "#FFCD00",
           "#000000",
           "#FDB913",
           "#7A263A",
           "#95BFE5"
          ]
         },
         "mode": "markers",
         "showlegend": false,
         "text": [
          "O<br>P<br>P<br>O<br>N<br>E<br>N<br>T<br> <br> <br> <br> <br> <br> <br>A<br>r<br>s<br>e<br>n<br>a<br>l<br>\n<br>S<br>E<br>A<br>S<br>O<br>N<br> <br> <br> <br> <br> <br> <br>2<br>0<br>1<br>8<br>-<br>2<br>0<br>1<br>9<br>\n<br>R<br>O<br>U<br>N<br>D<br> <br> <br> <br> <br> <br> <br> <br> <br> <br> <br> <br> <br> <br> <br> <br>1<br>\n<br>N<br>a<br>m<br>e<br>:<br> <br>1<br>7<br>,<br> <br>d<br>t<br>y<br>p<br>e<br>:<br> <br>o<br>b<br>j<br>e<br>c<br>t",
          "O<br>P<br>P<br>O<br>N<br>E<br>N<br>T<br> <br> <br> <br> <br>H<br>u<br>d<br>d<br>e<br>r<br>s<br>f<br>i<br>e<br>l<br>d<br>\n<br>S<br>E<br>A<br>S<br>O<br>N<br> <br> <br> <br> <br> <br> <br> <br> <br> <br>2<br>0<br>1<br>8<br>-<br>2<br>0<br>1<br>9<br>\n<br>R<br>O<br>U<br>N<br>D<br> <br> <br> <br> <br> <br> <br> <br> <br> <br> <br> <br> <br> <br> <br> <br> <br> <br> <br>2<br>\n<br>N<br>a<br>m<br>e<br>:<br> <br>3<br>5<br>,<br> <br>d<br>t<br>y<br>p<br>e<br>:<br> <br>o<br>b<br>j<br>e<br>c<br>t",
          "O<br>P<br>P<br>O<br>N<br>E<br>N<br>T<br> <br> <br> <br> <br> <br> <br> <br>W<br>o<br>l<br>v<br>e<br>s<br>\n<br>S<br>E<br>A<br>S<br>O<br>N<br> <br> <br> <br> <br> <br> <br>2<br>0<br>1<br>8<br>-<br>2<br>0<br>1<br>9<br>\n<br>R<br>O<br>U<br>N<br>D<br> <br> <br> <br> <br> <br> <br> <br> <br> <br> <br> <br> <br> <br> <br> <br>3<br>\n<br>N<br>a<br>m<br>e<br>:<br> <br>4<br>8<br>,<br> <br>d<br>t<br>y<br>p<br>e<br>:<br> <br>o<br>b<br>j<br>e<br>c<br>t",
          "O<br>P<br>P<br>O<br>N<br>E<br>N<br>T<br> <br> <br> <br> <br>N<br>e<br>w<br>c<br>a<br>s<br>t<br>l<br>e<br> <br>U<br>t<br>d<br>\n<br>S<br>E<br>A<br>S<br>O<br>N<br> <br> <br> <br> <br> <br> <br> <br> <br> <br> <br>2<br>0<br>1<br>8<br>-<br>2<br>0<br>1<br>9<br>\n<br>R<br>O<br>U<br>N<br>D<br> <br> <br> <br> <br> <br> <br> <br> <br> <br> <br> <br> <br> <br> <br> <br> <br> <br> <br> <br>4<br>\n<br>N<br>a<br>m<br>e<br>:<br> <br>6<br>9<br>,<br> <br>d<br>t<br>y<br>p<br>e<br>:<br> <br>o<br>b<br>j<br>e<br>c<br>t",
          "O<br>P<br>P<br>O<br>N<br>E<br>N<br>T<br> <br> <br> <br> <br> <br> <br> <br>F<br>u<br>l<br>h<br>a<br>m<br>\n<br>S<br>E<br>A<br>S<br>O<br>N<br> <br> <br> <br> <br> <br> <br>2<br>0<br>1<br>8<br>-<br>2<br>0<br>1<br>9<br>\n<br>R<br>O<br>U<br>N<br>D<br> <br> <br> <br> <br> <br> <br> <br> <br> <br> <br> <br> <br> <br> <br> <br>5<br>\n<br>N<br>a<br>m<br>e<br>:<br> <br>8<br>9<br>,<br> <br>d<br>t<br>y<br>p<br>e<br>:<br> <br>o<br>b<br>j<br>e<br>c<br>t",
          "O<br>P<br>P<br>O<br>N<br>E<br>N<br>T<br> <br> <br> <br> <br>C<br>a<br>r<br>d<br>i<br>f<br>f<br> <br>C<br>i<br>t<br>y<br>\n<br>S<br>E<br>A<br>S<br>O<br>N<br> <br> <br> <br> <br> <br> <br> <br> <br> <br>2<br>0<br>1<br>8<br>-<br>2<br>0<br>1<br>9<br>\n<br>R<br>O<br>U<br>N<br>D<br> <br> <br> <br> <br> <br> <br> <br> <br> <br> <br> <br> <br> <br> <br> <br> <br> <br> <br>6<br>\n<br>N<br>a<br>m<br>e<br>:<br> <br>1<br>0<br>9<br>,<br> <br>d<br>t<br>y<br>p<br>e<br>:<br> <br>o<br>b<br>j<br>e<br>c<br>t",
          "O<br>P<br>P<br>O<br>N<br>E<br>N<br>T<br> <br> <br> <br> <br> <br>B<br>r<br>i<br>g<br>h<br>t<br>o<br>n<br>\n<br>S<br>E<br>A<br>S<br>O<br>N<br> <br> <br> <br> <br> <br> <br>2<br>0<br>1<br>8<br>-<br>2<br>0<br>1<br>9<br>\n<br>R<br>O<br>U<br>N<br>D<br> <br> <br> <br> <br> <br> <br> <br> <br> <br> <br> <br> <br> <br> <br> <br>7<br>\n<br>N<br>a<br>m<br>e<br>:<br> <br>1<br>2<br>8<br>,<br> <br>d<br>t<br>y<br>p<br>e<br>:<br> <br>o<br>b<br>j<br>e<br>c<br>t",
          "O<br>P<br>P<br>O<br>N<br>E<br>N<br>T<br> <br> <br> <br> <br>L<br>i<br>v<br>e<br>r<br>p<br>o<br>o<br>l<br>\n<br>S<br>E<br>A<br>S<br>O<br>N<br> <br> <br> <br> <br> <br> <br>2<br>0<br>1<br>8<br>-<br>2<br>0<br>1<br>9<br>\n<br>R<br>O<br>U<br>N<br>D<br> <br> <br> <br> <br> <br> <br> <br> <br> <br> <br> <br> <br> <br> <br> <br>8<br>\n<br>N<br>a<br>m<br>e<br>:<br> <br>1<br>5<br>8<br>,<br> <br>d<br>t<br>y<br>p<br>e<br>:<br> <br>o<br>b<br>j<br>e<br>c<br>t",
          "O<br>P<br>P<br>O<br>N<br>E<br>N<br>T<br> <br> <br> <br> <br> <br> <br>B<br>u<br>r<br>n<br>l<br>e<br>y<br>\n<br>S<br>E<br>A<br>S<br>O<br>N<br> <br> <br> <br> <br> <br> <br>2<br>0<br>1<br>8<br>-<br>2<br>0<br>1<br>9<br>\n<br>R<br>O<br>U<br>N<br>D<br> <br> <br> <br> <br> <br> <br> <br> <br> <br> <br> <br> <br> <br> <br> <br>9<br>\n<br>N<br>a<br>m<br>e<br>:<br> <br>1<br>6<br>8<br>,<br> <br>d<br>t<br>y<br>p<br>e<br>:<br> <br>o<br>b<br>j<br>e<br>c<br>t",
          "O<br>P<br>P<br>O<br>N<br>E<br>N<br>T<br> <br> <br> <br> <br>T<br>o<br>t<br>t<br>e<br>n<br>h<br>a<br>m<br>\n<br>S<br>E<br>A<br>S<br>O<br>N<br> <br> <br> <br> <br> <br> <br>2<br>0<br>1<br>8<br>-<br>2<br>0<br>1<br>9<br>\n<br>R<br>O<br>U<br>N<br>D<br> <br> <br> <br> <br> <br> <br> <br> <br> <br> <br> <br> <br> <br> <br>1<br>0<br>\n<br>N<br>a<br>m<br>e<br>:<br> <br>1<br>9<br>8<br>,<br> <br>d<br>t<br>y<br>p<br>e<br>:<br> <br>o<br>b<br>j<br>e<br>c<br>t",
          "O<br>P<br>P<br>O<br>N<br>E<br>N<br>T<br> <br> <br> <br> <br>S<br>o<br>u<br>t<br>h<br>a<br>m<br>p<br>t<br>o<br>n<br>\n<br>S<br>E<br>A<br>S<br>O<br>N<br> <br> <br> <br> <br> <br> <br> <br> <br>2<br>0<br>1<br>8<br>-<br>2<br>0<br>1<br>9<br>\n<br>R<br>O<br>U<br>N<br>D<br> <br> <br> <br> <br> <br> <br> <br> <br> <br> <br> <br> <br> <br> <br> <br> <br>1<br>1<br>\n<br>N<br>a<br>m<br>e<br>:<br> <br>2<br>1<br>6<br>,<br> <br>d<br>t<br>y<br>p<br>e<br>:<br> <br>o<br>b<br>j<br>e<br>c<br>t",
          "O<br>P<br>P<br>O<br>N<br>E<br>N<br>T<br> <br> <br> <br> <br>M<br>a<br>n<br>c<br>h<br>e<br>s<br>t<br>e<br>r<br> <br>U<br>t<br>d<br>\n<br>S<br>E<br>A<br>S<br>O<br>N<br> <br> <br> <br> <br> <br> <br> <br> <br> <br> <br> <br>2<br>0<br>1<br>8<br>-<br>2<br>0<br>1<br>9<br>\n<br>R<br>O<br>U<br>N<br>D<br> <br> <br> <br> <br> <br> <br> <br> <br> <br> <br> <br> <br> <br> <br> <br> <br> <br> <br> <br>1<br>2<br>\n<br>N<br>a<br>m<br>e<br>:<br> <br>2<br>3<br>7<br>,<br> <br>d<br>t<br>y<br>p<br>e<br>:<br> <br>o<br>b<br>j<br>e<br>c<br>t",
          "O<br>P<br>P<br>O<br>N<br>E<br>N<br>T<br> <br> <br> <br> <br> <br>W<br>e<br>s<br>t<br> <br>H<br>a<br>m<br>\n<br>S<br>E<br>A<br>S<br>O<br>N<br> <br> <br> <br> <br> <br> <br>2<br>0<br>1<br>8<br>-<br>2<br>0<br>1<br>9<br>\n<br>R<br>O<br>U<br>N<br>D<br> <br> <br> <br> <br> <br> <br> <br> <br> <br> <br> <br> <br> <br> <br>1<br>3<br>\n<br>N<br>a<br>m<br>e<br>:<br> <br>2<br>4<br>8<br>,<br> <br>d<br>t<br>y<br>p<br>e<br>:<br> <br>o<br>b<br>j<br>e<br>c<br>t",
          "O<br>P<br>P<br>O<br>N<br>E<br>N<br>T<br> <br> <br> <br> <br>B<br>o<br>u<br>r<br>n<br>e<br>m<br>o<br>u<br>t<br>h<br>\n<br>S<br>E<br>A<br>S<br>O<br>N<br> <br> <br> <br> <br> <br> <br> <br> <br>2<br>0<br>1<br>8<br>-<br>2<br>0<br>1<br>9<br>\n<br>R<br>O<br>U<br>N<br>D<br> <br> <br> <br> <br> <br> <br> <br> <br> <br> <br> <br> <br> <br> <br> <br> <br>1<br>4<br>\n<br>N<br>a<br>m<br>e<br>:<br> <br>2<br>6<br>8<br>,<br> <br>d<br>t<br>y<br>p<br>e<br>:<br> <br>o<br>b<br>j<br>e<br>c<br>t",
          "O<br>P<br>P<br>O<br>N<br>E<br>N<br>T<br> <br> <br> <br> <br> <br> <br>W<br>a<br>t<br>f<br>o<br>r<br>d<br>\n<br>S<br>E<br>A<br>S<br>O<br>N<br> <br> <br> <br> <br> <br> <br>2<br>0<br>1<br>8<br>-<br>2<br>0<br>1<br>9<br>\n<br>R<br>O<br>U<br>N<br>D<br> <br> <br> <br> <br> <br> <br> <br> <br> <br> <br> <br> <br> <br> <br>1<br>5<br>\n<br>N<br>a<br>m<br>e<br>:<br> <br>2<br>8<br>5<br>,<br> <br>d<br>t<br>y<br>p<br>e<br>:<br> <br>o<br>b<br>j<br>e<br>c<br>t",
          "O<br>P<br>P<br>O<br>N<br>E<br>N<br>T<br> <br> <br> <br> <br> <br> <br>C<br>h<br>e<br>l<br>s<br>e<br>a<br>\n<br>S<br>E<br>A<br>S<br>O<br>N<br> <br> <br> <br> <br> <br> <br>2<br>0<br>1<br>8<br>-<br>2<br>0<br>1<br>9<br>\n<br>R<br>O<br>U<br>N<br>D<br> <br> <br> <br> <br> <br> <br> <br> <br> <br> <br> <br> <br> <br> <br>1<br>6<br>\n<br>N<br>a<br>m<br>e<br>:<br> <br>3<br>1<br>1<br>,<br> <br>d<br>t<br>y<br>p<br>e<br>:<br> <br>o<br>b<br>j<br>e<br>c<br>t",
          "O<br>P<br>P<br>O<br>N<br>E<br>N<br>T<br> <br> <br> <br> <br> <br> <br>E<br>v<br>e<br>r<br>t<br>o<br>n<br>\n<br>S<br>E<br>A<br>S<br>O<br>N<br> <br> <br> <br> <br> <br> <br>2<br>0<br>1<br>8<br>-<br>2<br>0<br>1<br>9<br>\n<br>R<br>O<br>U<br>N<br>D<br> <br> <br> <br> <br> <br> <br> <br> <br> <br> <br> <br> <br> <br> <br>1<br>7<br>\n<br>N<br>a<br>m<br>e<br>:<br> <br>3<br>2<br>8<br>,<br> <br>d<br>t<br>y<br>p<br>e<br>:<br> <br>o<br>b<br>j<br>e<br>c<br>t",
          "O<br>P<br>P<br>O<br>N<br>E<br>N<br>T<br> <br> <br> <br> <br>C<br>r<br>y<br>s<br>t<br>a<br>l<br> <br>P<br>a<br>l<br>a<br>c<br>e<br>\n<br>S<br>E<br>A<br>S<br>O<br>N<br> <br> <br> <br> <br> <br> <br> <br> <br> <br> <br> <br>2<br>0<br>1<br>8<br>-<br>2<br>0<br>1<br>9<br>\n<br>R<br>O<br>U<br>N<br>D<br> <br> <br> <br> <br> <br> <br> <br> <br> <br> <br> <br> <br> <br> <br> <br> <br> <br> <br> <br>1<br>8<br>\n<br>N<br>a<br>m<br>e<br>:<br> <br>3<br>5<br>2<br>,<br> <br>d<br>t<br>y<br>p<br>e<br>:<br> <br>o<br>b<br>j<br>e<br>c<br>t",
          "O<br>P<br>P<br>O<br>N<br>E<br>N<br>T<br> <br> <br> <br> <br>L<br>e<br>i<br>c<br>e<br>s<br>t<br>e<br>r<br> <br>C<br>i<br>t<br>y<br>\n<br>S<br>E<br>A<br>S<br>O<br>N<br> <br> <br> <br> <br> <br> <br> <br> <br> <br> <br> <br>2<br>0<br>1<br>8<br>-<br>2<br>0<br>1<br>9<br>\n<br>R<br>O<br>U<br>N<br>D<br> <br> <br> <br> <br> <br> <br> <br> <br> <br> <br> <br> <br> <br> <br> <br> <br> <br> <br> <br>1<br>9<br>\n<br>N<br>a<br>m<br>e<br>:<br> <br>3<br>7<br>2<br>,<br> <br>d<br>t<br>y<br>p<br>e<br>:<br> <br>o<br>b<br>j<br>e<br>c<br>t",
          "O<br>P<br>P<br>O<br>N<br>E<br>N<br>T<br> <br> <br> <br> <br>S<br>o<br>u<br>t<br>h<br>a<br>m<br>p<br>t<br>o<br>n<br>\n<br>S<br>E<br>A<br>S<br>O<br>N<br> <br> <br> <br> <br> <br> <br> <br> <br>2<br>0<br>1<br>8<br>-<br>2<br>0<br>1<br>9<br>\n<br>R<br>O<br>U<br>N<br>D<br> <br> <br> <br> <br> <br> <br> <br> <br> <br> <br> <br> <br> <br> <br> <br> <br>2<br>0<br>\n<br>N<br>a<br>m<br>e<br>:<br> <br>3<br>9<br>6<br>,<br> <br>d<br>t<br>y<br>p<br>e<br>:<br> <br>o<br>b<br>j<br>e<br>c<br>t",
          "O<br>P<br>P<br>O<br>N<br>E<br>N<br>T<br> <br> <br> <br> <br>L<br>i<br>v<br>e<br>r<br>p<br>o<br>o<br>l<br>\n<br>S<br>E<br>A<br>S<br>O<br>N<br> <br> <br> <br> <br> <br> <br>2<br>0<br>1<br>8<br>-<br>2<br>0<br>1<br>9<br>\n<br>R<br>O<br>U<br>N<br>D<br> <br> <br> <br> <br> <br> <br> <br> <br> <br> <br> <br> <br> <br> <br>2<br>1<br>\n<br>N<br>a<br>m<br>e<br>:<br> <br>4<br>1<br>9<br>,<br> <br>d<br>t<br>y<br>p<br>e<br>:<br> <br>o<br>b<br>j<br>e<br>c<br>t",
          "O<br>P<br>P<br>O<br>N<br>E<br>N<br>T<br> <br> <br> <br> <br> <br> <br> <br>W<br>o<br>l<br>v<br>e<br>s<br>\n<br>S<br>E<br>A<br>S<br>O<br>N<br> <br> <br> <br> <br> <br> <br>2<br>0<br>1<br>8<br>-<br>2<br>0<br>1<br>9<br>\n<br>R<br>O<br>U<br>N<br>D<br> <br> <br> <br> <br> <br> <br> <br> <br> <br> <br> <br> <br> <br> <br>2<br>2<br>\n<br>N<br>a<br>m<br>e<br>:<br> <br>4<br>3<br>8<br>,<br> <br>d<br>t<br>y<br>p<br>e<br>:<br> <br>o<br>b<br>j<br>e<br>c<br>t",
          "O<br>P<br>P<br>O<br>N<br>E<br>N<br>T<br> <br> <br> <br> <br>H<br>u<br>d<br>d<br>e<br>r<br>s<br>f<br>i<br>e<br>l<br>d<br>\n<br>S<br>E<br>A<br>S<br>O<br>N<br> <br> <br> <br> <br> <br> <br> <br> <br> <br>2<br>0<br>1<br>8<br>-<br>2<br>0<br>1<br>9<br>\n<br>R<br>O<br>U<br>N<br>D<br> <br> <br> <br> <br> <br> <br> <br> <br> <br> <br> <br> <br> <br> <br> <br> <br> <br>2<br>3<br>\n<br>N<br>a<br>m<br>e<br>:<br> <br>4<br>5<br>8<br>,<br> <br>d<br>t<br>y<br>p<br>e<br>:<br> <br>o<br>b<br>j<br>e<br>c<br>t",
          "O<br>P<br>P<br>O<br>N<br>E<br>N<br>T<br> <br> <br> <br> <br>N<br>e<br>w<br>c<br>a<br>s<br>t<br>l<br>e<br> <br>U<br>t<br>d<br>\n<br>S<br>E<br>A<br>S<br>O<br>N<br> <br> <br> <br> <br> <br> <br> <br> <br> <br> <br>2<br>0<br>1<br>8<br>-<br>2<br>0<br>1<br>9<br>\n<br>R<br>O<br>U<br>N<br>D<br> <br> <br> <br> <br> <br> <br> <br> <br> <br> <br> <br> <br> <br> <br> <br> <br> <br> <br>2<br>4<br>\n<br>N<br>a<br>m<br>e<br>:<br> <br>4<br>6<br>7<br>,<br> <br>d<br>t<br>y<br>p<br>e<br>:<br> <br>o<br>b<br>j<br>e<br>c<br>t",
          "O<br>P<br>P<br>O<br>N<br>E<br>N<br>T<br> <br> <br> <br> <br> <br> <br>A<br>r<br>s<br>e<br>n<br>a<br>l<br>\n<br>S<br>E<br>A<br>S<br>O<br>N<br> <br> <br> <br> <br> <br> <br>2<br>0<br>1<br>8<br>-<br>2<br>0<br>1<br>9<br>\n<br>R<br>O<br>U<br>N<br>D<br> <br> <br> <br> <br> <br> <br> <br> <br> <br> <br> <br> <br> <br> <br>2<br>5<br>\n<br>N<br>a<br>m<br>e<br>:<br> <br>4<br>9<br>6<br>,<br> <br>d<br>t<br>y<br>p<br>e<br>:<br> <br>o<br>b<br>j<br>e<br>c<br>t",
          "O<br>P<br>P<br>O<br>N<br>E<br>N<br>T<br> <br> <br> <br> <br> <br> <br>E<br>v<br>e<br>r<br>t<br>o<br>n<br>\n<br>S<br>E<br>A<br>S<br>O<br>N<br> <br> <br> <br> <br> <br> <br>2<br>0<br>1<br>8<br>-<br>2<br>0<br>1<br>9<br>\n<br>R<br>O<br>U<br>N<br>D<br> <br> <br> <br> <br> <br> <br> <br> <br> <br> <br> <br> <br> <br> <br>2<br>7<br>\n<br>N<br>a<br>m<br>e<br>:<br> <br>5<br>0<br>1<br>,<br> <br>d<br>t<br>y<br>p<br>e<br>:<br> <br>o<br>b<br>j<br>e<br>c<br>t",
          "O<br>P<br>P<br>O<br>N<br>E<br>N<br>T<br> <br> <br> <br> <br> <br> <br>C<br>h<br>e<br>l<br>s<br>e<br>a<br>\n<br>S<br>E<br>A<br>S<br>O<br>N<br> <br> <br> <br> <br> <br> <br>2<br>0<br>1<br>8<br>-<br>2<br>0<br>1<br>9<br>\n<br>R<br>O<br>U<br>N<br>D<br> <br> <br> <br> <br> <br> <br> <br> <br> <br> <br> <br> <br> <br> <br>2<br>6<br>\n<br>N<br>a<br>m<br>e<br>:<br> <br>5<br>1<br>8<br>,<br> <br>d<br>t<br>y<br>p<br>e<br>:<br> <br>o<br>b<br>j<br>e<br>c<br>t",
          "O<br>P<br>P<br>O<br>N<br>E<br>N<br>T<br> <br> <br> <br> <br> <br>W<br>e<br>s<br>t<br> <br>H<br>a<br>m<br>\n<br>S<br>E<br>A<br>S<br>O<br>N<br> <br> <br> <br> <br> <br> <br>2<br>0<br>1<br>8<br>-<br>2<br>0<br>1<br>9<br>\n<br>R<br>O<br>U<br>N<br>D<br> <br> <br> <br> <br> <br> <br> <br> <br> <br> <br> <br> <br> <br> <br>2<br>8<br>\n<br>N<br>a<br>m<br>e<br>:<br> <br>5<br>5<br>2<br>,<br> <br>d<br>t<br>y<br>p<br>e<br>:<br> <br>o<br>b<br>j<br>e<br>c<br>t",
          "O<br>P<br>P<br>O<br>N<br>E<br>N<br>T<br> <br> <br> <br> <br>B<br>o<br>u<br>r<br>n<br>e<br>m<br>o<br>u<br>t<br>h<br>\n<br>S<br>E<br>A<br>S<br>O<br>N<br> <br> <br> <br> <br> <br> <br> <br> <br>2<br>0<br>1<br>8<br>-<br>2<br>0<br>1<br>9<br>\n<br>R<br>O<br>U<br>N<br>D<br> <br> <br> <br> <br> <br> <br> <br> <br> <br> <br> <br> <br> <br> <br> <br> <br>2<br>9<br>\n<br>N<br>a<br>m<br>e<br>:<br> <br>5<br>6<br>5<br>,<br> <br>d<br>t<br>y<br>p<br>e<br>:<br> <br>o<br>b<br>j<br>e<br>c<br>t",
          "O<br>P<br>P<br>O<br>N<br>E<br>N<br>T<br> <br> <br> <br> <br> <br> <br>W<br>a<br>t<br>f<br>o<br>r<br>d<br>\n<br>S<br>E<br>A<br>S<br>O<br>N<br> <br> <br> <br> <br> <br> <br>2<br>0<br>1<br>8<br>-<br>2<br>0<br>1<br>9<br>\n<br>R<br>O<br>U<br>N<br>D<br> <br> <br> <br> <br> <br> <br> <br> <br> <br> <br> <br> <br> <br> <br>3<br>0<br>\n<br>N<br>a<br>m<br>e<br>:<br> <br>5<br>8<br>6<br>,<br> <br>d<br>t<br>y<br>p<br>e<br>:<br> <br>o<br>b<br>j<br>e<br>c<br>t",
          "O<br>P<br>P<br>O<br>N<br>E<br>N<br>T<br> <br> <br> <br> <br> <br> <br> <br>F<br>u<br>l<br>h<br>a<br>m<br>\n<br>S<br>E<br>A<br>S<br>O<br>N<br> <br> <br> <br> <br> <br> <br>2<br>0<br>1<br>8<br>-<br>2<br>0<br>1<br>9<br>\n<br>R<br>O<br>U<br>N<br>D<br> <br> <br> <br> <br> <br> <br> <br> <br> <br> <br> <br> <br> <br> <br>3<br>2<br>\n<br>N<br>a<br>m<br>e<br>:<br> <br>6<br>1<br>6<br>,<br> <br>d<br>t<br>y<br>p<br>e<br>:<br> <br>o<br>b<br>j<br>e<br>c<br>t",
          "O<br>P<br>P<br>O<br>N<br>E<br>N<br>T<br> <br> <br> <br> <br>C<br>a<br>r<br>d<br>i<br>f<br>f<br> <br>C<br>i<br>t<br>y<br>\n<br>S<br>E<br>A<br>S<br>O<br>N<br> <br> <br> <br> <br> <br> <br> <br> <br> <br>2<br>0<br>1<br>8<br>-<br>2<br>0<br>1<br>9<br>\n<br>R<br>O<br>U<br>N<br>D<br> <br> <br> <br> <br> <br> <br> <br> <br> <br> <br> <br> <br> <br> <br> <br> <br> <br>3<br>3<br>\n<br>N<br>a<br>m<br>e<br>:<br> <br>6<br>3<br>6<br>,<br> <br>d<br>t<br>y<br>p<br>e<br>:<br> <br>o<br>b<br>j<br>e<br>c<br>t",
          "O<br>P<br>P<br>O<br>N<br>E<br>N<br>T<br> <br> <br> <br> <br>C<br>r<br>y<br>s<br>t<br>a<br>l<br> <br>P<br>a<br>l<br>a<br>c<br>e<br>\n<br>S<br>E<br>A<br>S<br>O<br>N<br> <br> <br> <br> <br> <br> <br> <br> <br> <br> <br> <br>2<br>0<br>1<br>8<br>-<br>2<br>0<br>1<br>9<br>\n<br>R<br>O<br>U<br>N<br>D<br> <br> <br> <br> <br> <br> <br> <br> <br> <br> <br> <br> <br> <br> <br> <br> <br> <br> <br> <br>3<br>4<br>\n<br>N<br>a<br>m<br>e<br>:<br> <br>6<br>6<br>7<br>,<br> <br>d<br>t<br>y<br>p<br>e<br>:<br> <br>o<br>b<br>j<br>e<br>c<br>t",
          "O<br>P<br>P<br>O<br>N<br>E<br>N<br>T<br> <br> <br> <br> <br>T<br>o<br>t<br>t<br>e<br>n<br>h<br>a<br>m<br>\n<br>S<br>E<br>A<br>S<br>O<br>N<br> <br> <br> <br> <br> <br> <br>2<br>0<br>1<br>8<br>-<br>2<br>0<br>1<br>9<br>\n<br>R<br>O<br>U<br>N<br>D<br> <br> <br> <br> <br> <br> <br> <br> <br> <br> <br> <br> <br> <br> <br>3<br>5<br>\n<br>N<br>a<br>m<br>e<br>:<br> <br>6<br>7<br>7<br>,<br> <br>d<br>t<br>y<br>p<br>e<br>:<br> <br>o<br>b<br>j<br>e<br>c<br>t",
          "O<br>P<br>P<br>O<br>N<br>E<br>N<br>T<br> <br> <br> <br> <br>M<br>a<br>n<br>c<br>h<br>e<br>s<br>t<br>e<br>r<br> <br>U<br>t<br>d<br>\n<br>S<br>E<br>A<br>S<br>O<br>N<br> <br> <br> <br> <br> <br> <br> <br> <br> <br> <br> <br>2<br>0<br>1<br>8<br>-<br>2<br>0<br>1<br>9<br>\n<br>R<br>O<br>U<br>N<br>D<br> <br> <br> <br> <br> <br> <br> <br> <br> <br> <br> <br> <br> <br> <br> <br> <br> <br> <br> <br>3<br>1<br>\n<br>N<br>a<br>m<br>e<br>:<br> <br>6<br>9<br>7<br>,<br> <br>d<br>t<br>y<br>p<br>e<br>:<br> <br>o<br>b<br>j<br>e<br>c<br>t",
          "O<br>P<br>P<br>O<br>N<br>E<br>N<br>T<br> <br> <br> <br> <br> <br> <br>B<br>u<br>r<br>n<br>l<br>e<br>y<br>\n<br>S<br>E<br>A<br>S<br>O<br>N<br> <br> <br> <br> <br> <br> <br>2<br>0<br>1<br>8<br>-<br>2<br>0<br>1<br>9<br>\n<br>R<br>O<br>U<br>N<br>D<br> <br> <br> <br> <br> <br> <br> <br> <br> <br> <br> <br> <br> <br> <br>3<br>6<br>\n<br>N<br>a<br>m<br>e<br>:<br> <br>7<br>1<br>8<br>,<br> <br>d<br>t<br>y<br>p<br>e<br>:<br> <br>o<br>b<br>j<br>e<br>c<br>t",
          "O<br>P<br>P<br>O<br>N<br>E<br>N<br>T<br> <br> <br> <br> <br>L<br>e<br>i<br>c<br>e<br>s<br>t<br>e<br>r<br> <br>C<br>i<br>t<br>y<br>\n<br>S<br>E<br>A<br>S<br>O<br>N<br> <br> <br> <br> <br> <br> <br> <br> <br> <br> <br> <br>2<br>0<br>1<br>8<br>-<br>2<br>0<br>1<br>9<br>\n<br>R<br>O<br>U<br>N<br>D<br> <br> <br> <br> <br> <br> <br> <br> <br> <br> <br> <br> <br> <br> <br> <br> <br> <br> <br> <br>3<br>7<br>\n<br>N<br>a<br>m<br>e<br>:<br> <br>7<br>3<br>9<br>,<br> <br>d<br>t<br>y<br>p<br>e<br>:<br> <br>o<br>b<br>j<br>e<br>c<br>t",
          "O<br>P<br>P<br>O<br>N<br>E<br>N<br>T<br> <br> <br> <br> <br> <br>B<br>r<br>i<br>g<br>h<br>t<br>o<br>n<br>\n<br>S<br>E<br>A<br>S<br>O<br>N<br> <br> <br> <br> <br> <br> <br>2<br>0<br>1<br>8<br>-<br>2<br>0<br>1<br>9<br>\n<br>R<br>O<br>U<br>N<br>D<br> <br> <br> <br> <br> <br> <br> <br> <br> <br> <br> <br> <br> <br> <br>3<br>8<br>\n<br>N<br>a<br>m<br>e<br>:<br> <br>7<br>5<br>2<br>,<br> <br>d<br>t<br>y<br>p<br>e<br>:<br> <br>o<br>b<br>j<br>e<br>c<br>t",
          "O<br>P<br>P<br>O<br>N<br>E<br>N<br>T<br> <br> <br> <br> <br> <br>W<br>e<br>s<br>t<br> <br>H<br>a<br>m<br>\n<br>S<br>E<br>A<br>S<br>O<br>N<br> <br> <br> <br> <br> <br> <br>2<br>0<br>1<br>9<br>-<br>2<br>0<br>2<br>0<br>\n<br>R<br>O<br>U<br>N<br>D<br> <br> <br> <br> <br> <br> <br> <br> <br> <br> <br> <br> <br> <br> <br> <br>1<br>\n<br>N<br>a<br>m<br>e<br>:<br> <br>7<br>6<br>8<br>,<br> <br>d<br>t<br>y<br>p<br>e<br>:<br> <br>o<br>b<br>j<br>e<br>c<br>t",
          "O<br>P<br>P<br>O<br>N<br>E<br>N<br>T<br> <br> <br> <br> <br>T<br>o<br>t<br>t<br>e<br>n<br>h<br>a<br>m<br>\n<br>S<br>E<br>A<br>S<br>O<br>N<br> <br> <br> <br> <br> <br> <br>2<br>0<br>1<br>9<br>-<br>2<br>0<br>2<br>0<br>\n<br>R<br>O<br>U<br>N<br>D<br> <br> <br> <br> <br> <br> <br> <br> <br> <br> <br> <br> <br> <br> <br> <br>2<br>\n<br>N<br>a<br>m<br>e<br>:<br> <br>7<br>8<br>7<br>,<br> <br>d<br>t<br>y<br>p<br>e<br>:<br> <br>o<br>b<br>j<br>e<br>c<br>t",
          "O<br>P<br>P<br>O<br>N<br>E<br>N<br>T<br> <br> <br> <br> <br>B<br>o<br>u<br>r<br>n<br>e<br>m<br>o<br>u<br>t<br>h<br>\n<br>S<br>E<br>A<br>S<br>O<br>N<br> <br> <br> <br> <br> <br> <br> <br> <br>2<br>0<br>1<br>9<br>-<br>2<br>0<br>2<br>0<br>\n<br>R<br>O<br>U<br>N<br>D<br> <br> <br> <br> <br> <br> <br> <br> <br> <br> <br> <br> <br> <br> <br> <br> <br> <br>3<br>\n<br>N<br>a<br>m<br>e<br>:<br> <br>8<br>1<br>6<br>,<br> <br>d<br>t<br>y<br>p<br>e<br>:<br> <br>o<br>b<br>j<br>e<br>c<br>t",
          "O<br>P<br>P<br>O<br>N<br>E<br>N<br>T<br> <br> <br> <br> <br> <br>B<br>r<br>i<br>g<br>h<br>t<br>o<br>n<br>\n<br>S<br>E<br>A<br>S<br>O<br>N<br> <br> <br> <br> <br> <br> <br>2<br>0<br>1<br>9<br>-<br>2<br>0<br>2<br>0<br>\n<br>R<br>O<br>U<br>N<br>D<br> <br> <br> <br> <br> <br> <br> <br> <br> <br> <br> <br> <br> <br> <br> <br>4<br>\n<br>N<br>a<br>m<br>e<br>:<br> <br>8<br>2<br>8<br>,<br> <br>d<br>t<br>y<br>p<br>e<br>:<br> <br>o<br>b<br>j<br>e<br>c<br>t",
          "O<br>P<br>P<br>O<br>N<br>E<br>N<br>T<br> <br> <br> <br> <br>N<br>o<br>r<br>w<br>i<br>c<br>h<br> <br>C<br>i<br>t<br>y<br>\n<br>S<br>E<br>A<br>S<br>O<br>N<br> <br> <br> <br> <br> <br> <br> <br> <br> <br>2<br>0<br>1<br>9<br>-<br>2<br>0<br>2<br>0<br>\n<br>R<br>O<br>U<br>N<br>D<br> <br> <br> <br> <br> <br> <br> <br> <br> <br> <br> <br> <br> <br> <br> <br> <br> <br> <br>5<br>\n<br>N<br>a<br>m<br>e<br>:<br> <br>8<br>4<br>6<br>,<br> <br>d<br>t<br>y<br>p<br>e<br>:<br> <br>o<br>b<br>j<br>e<br>c<br>t",
          "O<br>P<br>P<br>O<br>N<br>E<br>N<br>T<br> <br> <br> <br> <br> <br> <br>W<br>a<br>t<br>f<br>o<br>r<br>d<br>\n<br>S<br>E<br>A<br>S<br>O<br>N<br> <br> <br> <br> <br> <br> <br>2<br>0<br>1<br>9<br>-<br>2<br>0<br>2<br>0<br>\n<br>R<br>O<br>U<br>N<br>D<br> <br> <br> <br> <br> <br> <br> <br> <br> <br> <br> <br> <br> <br> <br> <br>6<br>\n<br>N<br>a<br>m<br>e<br>:<br> <br>8<br>6<br>6<br>,<br> <br>d<br>t<br>y<br>p<br>e<br>:<br> <br>o<br>b<br>j<br>e<br>c<br>t",
          "O<br>P<br>P<br>O<br>N<br>E<br>N<br>T<br> <br> <br> <br> <br> <br> <br>E<br>v<br>e<br>r<br>t<br>o<br>n<br>\n<br>S<br>E<br>A<br>S<br>O<br>N<br> <br> <br> <br> <br> <br> <br>2<br>0<br>1<br>9<br>-<br>2<br>0<br>2<br>0<br>\n<br>R<br>O<br>U<br>N<br>D<br> <br> <br> <br> <br> <br> <br> <br> <br> <br> <br> <br> <br> <br> <br> <br>7<br>\n<br>N<br>a<br>m<br>e<br>:<br> <br>8<br>8<br>8<br>,<br> <br>d<br>t<br>y<br>p<br>e<br>:<br> <br>o<br>b<br>j<br>e<br>c<br>t",
          "O<br>P<br>P<br>O<br>N<br>E<br>N<br>T<br> <br> <br> <br> <br> <br> <br> <br>W<br>o<br>l<br>v<br>e<br>s<br>\n<br>S<br>E<br>A<br>S<br>O<br>N<br> <br> <br> <br> <br> <br> <br>2<br>0<br>1<br>9<br>-<br>2<br>0<br>2<br>0<br>\n<br>R<br>O<br>U<br>N<br>D<br> <br> <br> <br> <br> <br> <br> <br> <br> <br> <br> <br> <br> <br> <br> <br>8<br>\n<br>N<br>a<br>m<br>e<br>:<br> <br>9<br>1<br>5<br>,<br> <br>d<br>t<br>y<br>p<br>e<br>:<br> <br>o<br>b<br>j<br>e<br>c<br>t",
          "O<br>P<br>P<br>O<br>N<br>E<br>N<br>T<br> <br> <br> <br> <br>C<br>r<br>y<br>s<br>t<br>a<br>l<br> <br>P<br>a<br>l<br>a<br>c<br>e<br>\n<br>S<br>E<br>A<br>S<br>O<br>N<br> <br> <br> <br> <br> <br> <br> <br> <br> <br> <br> <br>2<br>0<br>1<br>9<br>-<br>2<br>0<br>2<br>0<br>\n<br>R<br>O<br>U<br>N<br>D<br> <br> <br> <br> <br> <br> <br> <br> <br> <br> <br> <br> <br> <br> <br> <br> <br> <br> <br> <br> <br>9<br>\n<br>N<br>a<br>m<br>e<br>:<br> <br>9<br>2<br>8<br>,<br> <br>d<br>t<br>y<br>p<br>e<br>:<br> <br>o<br>b<br>j<br>e<br>c<br>t",
          "O<br>P<br>P<br>O<br>N<br>E<br>N<br>T<br> <br> <br> <br> <br>A<br>s<br>t<br>o<br>n<br> <br>V<br>i<br>l<br>l<br>a<br>\n<br>S<br>E<br>A<br>S<br>O<br>N<br> <br> <br> <br> <br> <br> <br> <br> <br>2<br>0<br>1<br>9<br>-<br>2<br>0<br>2<br>0<br>\n<br>R<br>O<br>U<br>N<br>D<br> <br> <br> <br> <br> <br> <br> <br> <br> <br> <br> <br> <br> <br> <br> <br> <br>1<br>0<br>\n<br>N<br>a<br>m<br>e<br>:<br> <br>9<br>4<br>8<br>,<br> <br>d<br>t<br>y<br>p<br>e<br>:<br> <br>o<br>b<br>j<br>e<br>c<br>t",
          "O<br>P<br>P<br>O<br>N<br>E<br>N<br>T<br> <br> <br> <br> <br>S<br>o<br>u<br>t<br>h<br>a<br>m<br>p<br>t<br>o<br>n<br>\n<br>S<br>E<br>A<br>S<br>O<br>N<br> <br> <br> <br> <br> <br> <br> <br> <br>2<br>0<br>1<br>9<br>-<br>2<br>0<br>2<br>0<br>\n<br>R<br>O<br>U<br>N<br>D<br> <br> <br> <br> <br> <br> <br> <br> <br> <br> <br> <br> <br> <br> <br> <br> <br>1<br>1<br>\n<br>N<br>a<br>m<br>e<br>:<br> <br>9<br>6<br>7<br>,<br> <br>d<br>t<br>y<br>p<br>e<br>:<br> <br>o<br>b<br>j<br>e<br>c<br>t",
          "O<br>P<br>P<br>O<br>N<br>E<br>N<br>T<br> <br> <br> <br> <br>L<br>i<br>v<br>e<br>r<br>p<br>o<br>o<br>l<br>\n<br>S<br>E<br>A<br>S<br>O<br>N<br> <br> <br> <br> <br> <br> <br>2<br>0<br>1<br>9<br>-<br>2<br>0<br>2<br>0<br>\n<br>R<br>O<br>U<br>N<br>D<br> <br> <br> <br> <br> <br> <br> <br> <br> <br> <br> <br> <br> <br> <br>1<br>2<br>\n<br>N<br>a<br>m<br>e<br>:<br> <br>9<br>9<br>7<br>,<br> <br>d<br>t<br>y<br>p<br>e<br>:<br> <br>o<br>b<br>j<br>e<br>c<br>t",
          "O<br>P<br>P<br>O<br>N<br>E<br>N<br>T<br> <br> <br> <br> <br> <br> <br>C<br>h<br>e<br>l<br>s<br>e<br>a<br>\n<br>S<br>E<br>A<br>S<br>O<br>N<br> <br> <br> <br> <br> <br> <br>2<br>0<br>1<br>9<br>-<br>2<br>0<br>2<br>0<br>\n<br>R<br>O<br>U<br>N<br>D<br> <br> <br> <br> <br> <br> <br> <br> <br> <br> <br> <br> <br> <br> <br>1<br>3<br>\n<br>N<br>a<br>m<br>e<br>:<br> <br>1<br>0<br>0<br>9<br>,<br> <br>d<br>t<br>y<br>p<br>e<br>:<br> <br>o<br>b<br>j<br>e<br>c<br>t",
          "O<br>P<br>P<br>O<br>N<br>E<br>N<br>T<br> <br> <br> <br> <br>N<br>e<br>w<br>c<br>a<br>s<br>t<br>l<br>e<br> <br>U<br>t<br>d<br>\n<br>S<br>E<br>A<br>S<br>O<br>N<br> <br> <br> <br> <br> <br> <br> <br> <br> <br> <br>2<br>0<br>1<br>9<br>-<br>2<br>0<br>2<br>0<br>\n<br>R<br>O<br>U<br>N<br>D<br> <br> <br> <br> <br> <br> <br> <br> <br> <br> <br> <br> <br> <br> <br> <br> <br> <br> <br>1<br>4<br>\n<br>N<br>a<br>m<br>e<br>:<br> <br>1<br>0<br>2<br>6<br>,<br> <br>d<br>t<br>y<br>p<br>e<br>:<br> <br>o<br>b<br>j<br>e<br>c<br>t",
          "O<br>P<br>P<br>O<br>N<br>E<br>N<br>T<br> <br> <br> <br> <br> <br> <br>B<br>u<br>r<br>n<br>l<br>e<br>y<br>\n<br>S<br>E<br>A<br>S<br>O<br>N<br> <br> <br> <br> <br> <br> <br>2<br>0<br>1<br>9<br>-<br>2<br>0<br>2<br>0<br>\n<br>R<br>O<br>U<br>N<br>D<br> <br> <br> <br> <br> <br> <br> <br> <br> <br> <br> <br> <br> <br> <br>1<br>5<br>\n<br>N<br>a<br>m<br>e<br>:<br> <br>1<br>0<br>4<br>3<br>,<br> <br>d<br>t<br>y<br>p<br>e<br>:<br> <br>o<br>b<br>j<br>e<br>c<br>t",
          "O<br>P<br>P<br>O<br>N<br>E<br>N<br>T<br> <br> <br> <br> <br>M<br>a<br>n<br>c<br>h<br>e<br>s<br>t<br>e<br>r<br> <br>U<br>t<br>d<br>\n<br>S<br>E<br>A<br>S<br>O<br>N<br> <br> <br> <br> <br> <br> <br> <br> <br> <br> <br> <br>2<br>0<br>1<br>9<br>-<br>2<br>0<br>2<br>0<br>\n<br>R<br>O<br>U<br>N<br>D<br> <br> <br> <br> <br> <br> <br> <br> <br> <br> <br> <br> <br> <br> <br> <br> <br> <br> <br> <br>1<br>6<br>\n<br>N<br>a<br>m<br>e<br>:<br> <br>1<br>0<br>6<br>6<br>,<br> <br>d<br>t<br>y<br>p<br>e<br>:<br> <br>o<br>b<br>j<br>e<br>c<br>t",
          "O<br>P<br>P<br>O<br>N<br>E<br>N<br>T<br> <br> <br> <br> <br> <br> <br>A<br>r<br>s<br>e<br>n<br>a<br>l<br>\n<br>S<br>E<br>A<br>S<br>O<br>N<br> <br> <br> <br> <br> <br> <br>2<br>0<br>1<br>9<br>-<br>2<br>0<br>2<br>0<br>\n<br>R<br>O<br>U<br>N<br>D<br> <br> <br> <br> <br> <br> <br> <br> <br> <br> <br> <br> <br> <br> <br>1<br>7<br>\n<br>N<br>a<br>m<br>e<br>:<br> <br>1<br>0<br>9<br>4<br>,<br> <br>d<br>t<br>y<br>p<br>e<br>:<br> <br>o<br>b<br>j<br>e<br>c<br>t",
          "O<br>P<br>P<br>O<br>N<br>E<br>N<br>T<br> <br> <br> <br> <br>L<br>e<br>i<br>c<br>e<br>s<br>t<br>e<br>r<br> <br>C<br>i<br>t<br>y<br>\n<br>S<br>E<br>A<br>S<br>O<br>N<br> <br> <br> <br> <br> <br> <br> <br> <br> <br> <br> <br>2<br>0<br>1<br>9<br>-<br>2<br>0<br>2<br>0<br>\n<br>R<br>O<br>U<br>N<br>D<br> <br> <br> <br> <br> <br> <br> <br> <br> <br> <br> <br> <br> <br> <br> <br> <br> <br> <br> <br>1<br>8<br>\n<br>N<br>a<br>m<br>e<br>:<br> <br>1<br>1<br>0<br>8<br>,<br> <br>d<br>t<br>y<br>p<br>e<br>:<br> <br>o<br>b<br>j<br>e<br>c<br>t",
          "O<br>P<br>P<br>O<br>N<br>E<br>N<br>T<br> <br> <br> <br> <br> <br> <br> <br>W<br>o<br>l<br>v<br>e<br>s<br>\n<br>S<br>E<br>A<br>S<br>O<br>N<br> <br> <br> <br> <br> <br> <br>2<br>0<br>1<br>9<br>-<br>2<br>0<br>2<br>0<br>\n<br>R<br>O<br>U<br>N<br>D<br> <br> <br> <br> <br> <br> <br> <br> <br> <br> <br> <br> <br> <br> <br>1<br>9<br>\n<br>N<br>a<br>m<br>e<br>:<br> <br>1<br>1<br>3<br>6<br>,<br> <br>d<br>t<br>y<br>p<br>e<br>:<br> <br>o<br>b<br>j<br>e<br>c<br>t",
          "O<br>P<br>P<br>O<br>N<br>E<br>N<br>T<br> <br> <br> <br> <br>S<br>h<br>e<br>f<br>f<br>i<br>e<br>l<br>d<br> <br>U<br>t<br>d<br>\n<br>S<br>E<br>A<br>S<br>O<br>N<br> <br> <br> <br> <br> <br> <br> <br> <br> <br> <br>2<br>0<br>1<br>9<br>-<br>2<br>0<br>2<br>0<br>\n<br>R<br>O<br>U<br>N<br>D<br> <br> <br> <br> <br> <br> <br> <br> <br> <br> <br> <br> <br> <br> <br> <br> <br> <br> <br>2<br>0<br>\n<br>N<br>a<br>m<br>e<br>:<br> <br>1<br>1<br>5<br>5<br>,<br> <br>d<br>t<br>y<br>p<br>e<br>:<br> <br>o<br>b<br>j<br>e<br>c<br>t",
          "O<br>P<br>P<br>O<br>N<br>E<br>N<br>T<br> <br> <br> <br> <br> <br> <br>E<br>v<br>e<br>r<br>t<br>o<br>n<br>\n<br>S<br>E<br>A<br>S<br>O<br>N<br> <br> <br> <br> <br> <br> <br>2<br>0<br>1<br>9<br>-<br>2<br>0<br>2<br>0<br>\n<br>R<br>O<br>U<br>N<br>D<br> <br> <br> <br> <br> <br> <br> <br> <br> <br> <br> <br> <br> <br> <br>2<br>1<br>\n<br>N<br>a<br>m<br>e<br>:<br> <br>1<br>1<br>6<br>7<br>,<br> <br>d<br>t<br>y<br>p<br>e<br>:<br> <br>o<br>b<br>j<br>e<br>c<br>t",
          "O<br>P<br>P<br>O<br>N<br>E<br>N<br>T<br> <br> <br> <br> <br>A<br>s<br>t<br>o<br>n<br> <br>V<br>i<br>l<br>l<br>a<br>\n<br>S<br>E<br>A<br>S<br>O<br>N<br> <br> <br> <br> <br> <br> <br> <br> <br>2<br>0<br>1<br>9<br>-<br>2<br>0<br>2<br>0<br>\n<br>R<br>O<br>U<br>N<br>D<br> <br> <br> <br> <br> <br> <br> <br> <br> <br> <br> <br> <br> <br> <br> <br> <br>2<br>2<br>\n<br>N<br>a<br>m<br>e<br>:<br> <br>1<br>1<br>9<br>6<br>,<br> <br>d<br>t<br>y<br>p<br>e<br>:<br> <br>o<br>b<br>j<br>e<br>c<br>t",
          "O<br>P<br>P<br>O<br>N<br>E<br>N<br>T<br> <br> <br> <br> <br>C<br>r<br>y<br>s<br>t<br>a<br>l<br> <br>P<br>a<br>l<br>a<br>c<br>e<br>\n<br>S<br>E<br>A<br>S<br>O<br>N<br> <br> <br> <br> <br> <br> <br> <br> <br> <br> <br> <br>2<br>0<br>1<br>9<br>-<br>2<br>0<br>2<br>0<br>\n<br>R<br>O<br>U<br>N<br>D<br> <br> <br> <br> <br> <br> <br> <br> <br> <br> <br> <br> <br> <br> <br> <br> <br> <br> <br> <br>2<br>3<br>\n<br>N<br>a<br>m<br>e<br>:<br> <br>1<br>2<br>0<br>5<br>,<br> <br>d<br>t<br>y<br>p<br>e<br>:<br> <br>o<br>b<br>j<br>e<br>c<br>t",
          "O<br>P<br>P<br>O<br>N<br>E<br>N<br>T<br> <br> <br> <br> <br>S<br>h<br>e<br>f<br>f<br>i<br>e<br>l<br>d<br> <br>U<br>t<br>d<br>\n<br>S<br>E<br>A<br>S<br>O<br>N<br> <br> <br> <br> <br> <br> <br> <br> <br> <br> <br>2<br>0<br>1<br>9<br>-<br>2<br>0<br>2<br>0<br>\n<br>R<br>O<br>U<br>N<br>D<br> <br> <br> <br> <br> <br> <br> <br> <br> <br> <br> <br> <br> <br> <br> <br> <br> <br> <br>2<br>4<br>\n<br>N<br>a<br>m<br>e<br>:<br> <br>1<br>2<br>2<br>5<br>,<br> <br>d<br>t<br>y<br>p<br>e<br>:<br> <br>o<br>b<br>j<br>e<br>c<br>t",
          "O<br>P<br>P<br>O<br>N<br>E<br>N<br>T<br> <br> <br> <br> <br>T<br>o<br>t<br>t<br>e<br>n<br>h<br>a<br>m<br>\n<br>S<br>E<br>A<br>S<br>O<br>N<br> <br> <br> <br> <br> <br> <br>2<br>0<br>1<br>9<br>-<br>2<br>0<br>2<br>0<br>\n<br>R<br>O<br>U<br>N<br>D<br> <br> <br> <br> <br> <br> <br> <br> <br> <br> <br> <br> <br> <br> <br>2<br>5<br>\n<br>N<br>a<br>m<br>e<br>:<br> <br>1<br>2<br>5<br>8<br>,<br> <br>d<br>t<br>y<br>p<br>e<br>:<br> <br>o<br>b<br>j<br>e<br>c<br>t",
          "O<br>P<br>P<br>O<br>N<br>E<br>N<br>T<br> <br> <br> <br> <br> <br>W<br>e<br>s<br>t<br> <br>H<br>a<br>m<br>\n<br>S<br>E<br>A<br>S<br>O<br>N<br> <br> <br> <br> <br> <br> <br>2<br>0<br>1<br>9<br>-<br>2<br>0<br>2<br>0<br>\n<br>R<br>O<br>U<br>N<br>D<br> <br> <br> <br> <br> <br> <br> <br> <br> <br> <br> <br> <br> <br> <br>2<br>6<br>\n<br>N<br>a<br>m<br>e<br>:<br> <br>1<br>2<br>7<br>8<br>,<br> <br>d<br>t<br>y<br>p<br>e<br>:<br> <br>o<br>b<br>j<br>e<br>c<br>t",
          "O<br>P<br>P<br>O<br>N<br>E<br>N<br>T<br> <br> <br> <br> <br>L<br>e<br>i<br>c<br>e<br>s<br>t<br>e<br>r<br> <br>C<br>i<br>t<br>y<br>\n<br>S<br>E<br>A<br>S<br>O<br>N<br> <br> <br> <br> <br> <br> <br> <br> <br> <br> <br> <br>2<br>0<br>1<br>9<br>-<br>2<br>0<br>2<br>0<br>\n<br>R<br>O<br>U<br>N<br>D<br> <br> <br> <br> <br> <br> <br> <br> <br> <br> <br> <br> <br> <br> <br> <br> <br> <br> <br> <br>2<br>7<br>\n<br>N<br>a<br>m<br>e<br>:<br> <br>1<br>2<br>8<br>7<br>,<br> <br>d<br>t<br>y<br>p<br>e<br>:<br> <br>o<br>b<br>j<br>e<br>c<br>t",
          "O<br>P<br>P<br>O<br>N<br>E<br>N<br>T<br> <br> <br> <br> <br>M<br>a<br>n<br>c<br>h<br>e<br>s<br>t<br>e<br>r<br> <br>U<br>t<br>d<br>\n<br>S<br>E<br>A<br>S<br>O<br>N<br> <br> <br> <br> <br> <br> <br> <br> <br> <br> <br> <br>2<br>0<br>1<br>9<br>-<br>2<br>0<br>2<br>0<br>\n<br>R<br>O<br>U<br>N<br>D<br> <br> <br> <br> <br> <br> <br> <br> <br> <br> <br> <br> <br> <br> <br> <br> <br> <br> <br> <br>2<br>9<br>\n<br>N<br>a<br>m<br>e<br>:<br> <br>1<br>3<br>3<br>2<br>,<br> <br>d<br>t<br>y<br>p<br>e<br>:<br> <br>o<br>b<br>j<br>e<br>c<br>t",
          "O<br>P<br>P<br>O<br>N<br>E<br>N<br>T<br> <br> <br> <br> <br> <br> <br>A<br>r<br>s<br>e<br>n<br>a<br>l<br>\n<br>S<br>E<br>A<br>S<br>O<br>N<br> <br> <br> <br> <br> <br> <br>2<br>0<br>1<br>9<br>-<br>2<br>0<br>2<br>0<br>\n<br>R<br>O<br>U<br>N<br>D<br> <br> <br> <br> <br> <br> <br> <br> <br> <br> <br> <br> <br> <br> <br>2<br>8<br>\n<br>N<br>a<br>m<br>e<br>:<br> <br>1<br>3<br>3<br>8<br>,<br> <br>d<br>t<br>y<br>p<br>e<br>:<br> <br>o<br>b<br>j<br>e<br>c<br>t",
          "O<br>P<br>P<br>O<br>N<br>E<br>N<br>T<br> <br> <br> <br> <br> <br> <br>B<br>u<br>r<br>n<br>l<br>e<br>y<br>\n<br>S<br>E<br>A<br>S<br>O<br>N<br> <br> <br> <br> <br> <br> <br>2<br>0<br>1<br>9<br>-<br>2<br>0<br>2<br>0<br>\n<br>R<br>O<br>U<br>N<br>D<br> <br> <br> <br> <br> <br> <br> <br> <br> <br> <br> <br> <br> <br> <br>3<br>0<br>\n<br>N<br>a<br>m<br>e<br>:<br> <br>1<br>3<br>5<br>9<br>,<br> <br>d<br>t<br>y<br>p<br>e<br>:<br> <br>o<br>b<br>j<br>e<br>c<br>t",
          "O<br>P<br>P<br>O<br>N<br>E<br>N<br>T<br> <br> <br> <br> <br> <br> <br>C<br>h<br>e<br>l<br>s<br>e<br>a<br>\n<br>S<br>E<br>A<br>S<br>O<br>N<br> <br> <br> <br> <br> <br> <br>2<br>0<br>1<br>9<br>-<br>2<br>0<br>2<br>0<br>\n<br>R<br>O<br>U<br>N<br>D<br> <br> <br> <br> <br> <br> <br> <br> <br> <br> <br> <br> <br> <br> <br>3<br>1<br>\n<br>N<br>a<br>m<br>e<br>:<br> <br>1<br>3<br>7<br>7<br>,<br> <br>d<br>t<br>y<br>p<br>e<br>:<br> <br>o<br>b<br>j<br>e<br>c<br>t",
          "O<br>P<br>P<br>O<br>N<br>E<br>N<br>T<br> <br> <br> <br> <br>L<br>i<br>v<br>e<br>r<br>p<br>o<br>o<br>l<br>\n<br>S<br>E<br>A<br>S<br>O<br>N<br> <br> <br> <br> <br> <br> <br>2<br>0<br>1<br>9<br>-<br>2<br>0<br>2<br>0<br>\n<br>R<br>O<br>U<br>N<br>D<br> <br> <br> <br> <br> <br> <br> <br> <br> <br> <br> <br> <br> <br> <br>3<br>2<br>\n<br>N<br>a<br>m<br>e<br>:<br> <br>1<br>3<br>9<br>7<br>,<br> <br>d<br>t<br>y<br>p<br>e<br>:<br> <br>o<br>b<br>j<br>e<br>c<br>t",
          "O<br>P<br>P<br>O<br>N<br>E<br>N<br>T<br> <br> <br> <br> <br>S<br>o<br>u<br>t<br>h<br>a<br>m<br>p<br>t<br>o<br>n<br>\n<br>S<br>E<br>A<br>S<br>O<br>N<br> <br> <br> <br> <br> <br> <br> <br> <br>2<br>0<br>1<br>9<br>-<br>2<br>0<br>2<br>0<br>\n<br>R<br>O<br>U<br>N<br>D<br> <br> <br> <br> <br> <br> <br> <br> <br> <br> <br> <br> <br> <br> <br> <br> <br>3<br>3<br>\n<br>N<br>a<br>m<br>e<br>:<br> <br>1<br>4<br>1<br>3<br>,<br> <br>d<br>t<br>y<br>p<br>e<br>:<br> <br>o<br>b<br>j<br>e<br>c<br>t",
          "O<br>P<br>P<br>O<br>N<br>E<br>N<br>T<br> <br> <br> <br> <br>N<br>e<br>w<br>c<br>a<br>s<br>t<br>l<br>e<br> <br>U<br>t<br>d<br>\n<br>S<br>E<br>A<br>S<br>O<br>N<br> <br> <br> <br> <br> <br> <br> <br> <br> <br> <br>2<br>0<br>1<br>9<br>-<br>2<br>0<br>2<br>0<br>\n<br>R<br>O<br>U<br>N<br>D<br> <br> <br> <br> <br> <br> <br> <br> <br> <br> <br> <br> <br> <br> <br> <br> <br> <br> <br>3<br>4<br>\n<br>N<br>a<br>m<br>e<br>:<br> <br>1<br>4<br>2<br>9<br>,<br> <br>d<br>t<br>y<br>p<br>e<br>:<br> <br>o<br>b<br>j<br>e<br>c<br>t",
          "O<br>P<br>P<br>O<br>N<br>E<br>N<br>T<br> <br> <br> <br> <br> <br>B<br>r<br>i<br>g<br>h<br>t<br>o<br>n<br>\n<br>S<br>E<br>A<br>S<br>O<br>N<br> <br> <br> <br> <br> <br> <br>2<br>0<br>1<br>9<br>-<br>2<br>0<br>2<br>0<br>\n<br>R<br>O<br>U<br>N<br>D<br> <br> <br> <br> <br> <br> <br> <br> <br> <br> <br> <br> <br> <br> <br>3<br>5<br>\n<br>N<br>a<br>m<br>e<br>:<br> <br>1<br>4<br>4<br>4<br>,<br> <br>d<br>t<br>y<br>p<br>e<br>:<br> <br>o<br>b<br>j<br>e<br>c<br>t",
          "O<br>P<br>P<br>O<br>N<br>E<br>N<br>T<br> <br> <br> <br> <br>B<br>o<br>u<br>r<br>n<br>e<br>m<br>o<br>u<br>t<br>h<br>\n<br>S<br>E<br>A<br>S<br>O<br>N<br> <br> <br> <br> <br> <br> <br> <br> <br>2<br>0<br>1<br>9<br>-<br>2<br>0<br>2<br>0<br>\n<br>R<br>O<br>U<br>N<br>D<br> <br> <br> <br> <br> <br> <br> <br> <br> <br> <br> <br> <br> <br> <br> <br> <br>3<br>6<br>\n<br>N<br>a<br>m<br>e<br>:<br> <br>1<br>4<br>6<br>6<br>,<br> <br>d<br>t<br>y<br>p<br>e<br>:<br> <br>o<br>b<br>j<br>e<br>c<br>t",
          "O<br>P<br>P<br>O<br>N<br>E<br>N<br>T<br> <br> <br> <br> <br> <br> <br>W<br>a<br>t<br>f<br>o<br>r<br>d<br>\n<br>S<br>E<br>A<br>S<br>O<br>N<br> <br> <br> <br> <br> <br> <br>2<br>0<br>1<br>9<br>-<br>2<br>0<br>2<br>0<br>\n<br>R<br>O<br>U<br>N<br>D<br> <br> <br> <br> <br> <br> <br> <br> <br> <br> <br> <br> <br> <br> <br>3<br>7<br>\n<br>N<br>a<br>m<br>e<br>:<br> <br>1<br>4<br>9<br>4<br>,<br> <br>d<br>t<br>y<br>p<br>e<br>:<br> <br>o<br>b<br>j<br>e<br>c<br>t",
          "O<br>P<br>P<br>O<br>N<br>E<br>N<br>T<br> <br> <br> <br> <br>N<br>o<br>r<br>w<br>i<br>c<br>h<br> <br>C<br>i<br>t<br>y<br>\n<br>S<br>E<br>A<br>S<br>O<br>N<br> <br> <br> <br> <br> <br> <br> <br> <br> <br>2<br>0<br>1<br>9<br>-<br>2<br>0<br>2<br>0<br>\n<br>R<br>O<br>U<br>N<br>D<br> <br> <br> <br> <br> <br> <br> <br> <br> <br> <br> <br> <br> <br> <br> <br> <br> <br>3<br>8<br>\n<br>N<br>a<br>m<br>e<br>:<br> <br>1<br>5<br>1<br>0<br>,<br> <br>d<br>t<br>y<br>p<br>e<br>:<br> <br>o<br>b<br>j<br>e<br>c<br>t",
          "O<br>P<br>P<br>O<br>N<br>E<br>N<br>T<br> <br> <br> <br> <br> <br> <br> <br>W<br>o<br>l<br>v<br>e<br>s<br>\n<br>S<br>E<br>A<br>S<br>O<br>N<br> <br> <br> <br> <br> <br> <br>2<br>0<br>2<br>0<br>-<br>2<br>0<br>2<br>1<br>\n<br>R<br>O<br>U<br>N<br>D<br> <br> <br> <br> <br> <br> <br> <br> <br> <br> <br> <br> <br> <br> <br> <br>2<br>\n<br>N<br>a<br>m<br>e<br>:<br> <br>1<br>5<br>5<br>3<br>,<br> <br>d<br>t<br>y<br>p<br>e<br>:<br> <br>o<br>b<br>j<br>e<br>c<br>t",
          "O<br>P<br>P<br>O<br>N<br>E<br>N<br>T<br> <br> <br> <br> <br>L<br>e<br>i<br>c<br>e<br>s<br>t<br>e<br>r<br> <br>C<br>i<br>t<br>y<br>\n<br>S<br>E<br>A<br>S<br>O<br>N<br> <br> <br> <br> <br> <br> <br> <br> <br> <br> <br> <br>2<br>0<br>2<br>0<br>-<br>2<br>0<br>2<br>1<br>\n<br>R<br>O<br>U<br>N<br>D<br> <br> <br> <br> <br> <br> <br> <br> <br> <br> <br> <br> <br> <br> <br> <br> <br> <br> <br> <br> <br>3<br>\n<br>N<br>a<br>m<br>e<br>:<br> <br>1<br>5<br>6<br>6<br>,<br> <br>d<br>t<br>y<br>p<br>e<br>:<br> <br>o<br>b<br>j<br>e<br>c<br>t",
          "O<br>P<br>P<br>O<br>N<br>E<br>N<br>T<br> <br> <br> <br> <br>L<br>e<br>e<br>d<br>s<br> <br>U<br>n<br>i<br>t<br>e<br>d<br>\n<br>S<br>E<br>A<br>S<br>O<br>N<br> <br> <br> <br> <br> <br> <br> <br> <br> <br>2<br>0<br>2<br>0<br>-<br>2<br>0<br>2<br>1<br>\n<br>R<br>O<br>U<br>N<br>D<br> <br> <br> <br> <br> <br> <br> <br> <br> <br> <br> <br> <br> <br> <br> <br> <br> <br> <br>4<br>\n<br>N<br>a<br>m<br>e<br>:<br> <br>1<br>5<br>8<br>2<br>,<br> <br>d<br>t<br>y<br>p<br>e<br>:<br> <br>o<br>b<br>j<br>e<br>c<br>t",
          "O<br>P<br>P<br>O<br>N<br>E<br>N<br>T<br> <br> <br> <br> <br> <br> <br>A<br>r<br>s<br>e<br>n<br>a<br>l<br>\n<br>S<br>E<br>A<br>S<br>O<br>N<br> <br> <br> <br> <br> <br> <br>2<br>0<br>2<br>0<br>-<br>2<br>0<br>2<br>1<br>\n<br>R<br>O<br>U<br>N<br>D<br> <br> <br> <br> <br> <br> <br> <br> <br> <br> <br> <br> <br> <br> <br> <br>5<br>\n<br>N<br>a<br>m<br>e<br>:<br> <br>1<br>6<br>0<br>0<br>,<br> <br>d<br>t<br>y<br>p<br>e<br>:<br> <br>o<br>b<br>j<br>e<br>c<br>t",
          "O<br>P<br>P<br>O<br>N<br>E<br>N<br>T<br> <br> <br> <br> <br> <br>W<br>e<br>s<br>t<br> <br>H<br>a<br>m<br>\n<br>S<br>E<br>A<br>S<br>O<br>N<br> <br> <br> <br> <br> <br> <br>2<br>0<br>2<br>0<br>-<br>2<br>0<br>2<br>1<br>\n<br>R<br>O<br>U<br>N<br>D<br> <br> <br> <br> <br> <br> <br> <br> <br> <br> <br> <br> <br> <br> <br> <br>6<br>\n<br>N<br>a<br>m<br>e<br>:<br> <br>1<br>6<br>2<br>2<br>,<br> <br>d<br>t<br>y<br>p<br>e<br>:<br> <br>o<br>b<br>j<br>e<br>c<br>t",
          "O<br>P<br>P<br>O<br>N<br>E<br>N<br>T<br> <br> <br> <br> <br>S<br>h<br>e<br>f<br>f<br>i<br>e<br>l<br>d<br> <br>U<br>t<br>d<br>\n<br>S<br>E<br>A<br>S<br>O<br>N<br> <br> <br> <br> <br> <br> <br> <br> <br> <br> <br>2<br>0<br>2<br>0<br>-<br>2<br>0<br>2<br>1<br>\n<br>R<br>O<br>U<br>N<br>D<br> <br> <br> <br> <br> <br> <br> <br> <br> <br> <br> <br> <br> <br> <br> <br> <br> <br> <br> <br>7<br>\n<br>N<br>a<br>m<br>e<br>:<br> <br>1<br>6<br>4<br>1<br>,<br> <br>d<br>t<br>y<br>p<br>e<br>:<br> <br>o<br>b<br>j<br>e<br>c<br>t",
          "O<br>P<br>P<br>O<br>N<br>E<br>N<br>T<br> <br> <br> <br> <br>L<br>i<br>v<br>e<br>r<br>p<br>o<br>o<br>l<br>\n<br>S<br>E<br>A<br>S<br>O<br>N<br> <br> <br> <br> <br> <br> <br>2<br>0<br>2<br>0<br>-<br>2<br>0<br>2<br>1<br>\n<br>R<br>O<br>U<br>N<br>D<br> <br> <br> <br> <br> <br> <br> <br> <br> <br> <br> <br> <br> <br> <br> <br>8<br>\n<br>N<br>a<br>m<br>e<br>:<br> <br>1<br>6<br>7<br>2<br>,<br> <br>d<br>t<br>y<br>p<br>e<br>:<br> <br>o<br>b<br>j<br>e<br>c<br>t",
          "O<br>P<br>P<br>O<br>N<br>E<br>N<br>T<br> <br> <br> <br> <br>T<br>o<br>t<br>t<br>e<br>n<br>h<br>a<br>m<br>\n<br>S<br>E<br>A<br>S<br>O<br>N<br> <br> <br> <br> <br> <br> <br>2<br>0<br>2<br>0<br>-<br>2<br>0<br>2<br>1<br>\n<br>R<br>O<br>U<br>N<br>D<br> <br> <br> <br> <br> <br> <br> <br> <br> <br> <br> <br> <br> <br> <br> <br>9<br>\n<br>N<br>a<br>m<br>e<br>:<br> <br>1<br>6<br>7<br>9<br>,<br> <br>d<br>t<br>y<br>p<br>e<br>:<br> <br>o<br>b<br>j<br>e<br>c<br>t",
          "O<br>P<br>P<br>O<br>N<br>E<br>N<br>T<br> <br> <br> <br> <br> <br> <br>B<br>u<br>r<br>n<br>l<br>e<br>y<br>\n<br>S<br>E<br>A<br>S<br>O<br>N<br> <br> <br> <br> <br> <br> <br>2<br>0<br>2<br>0<br>-<br>2<br>0<br>2<br>1<br>\n<br>R<br>O<br>U<br>N<br>D<br> <br> <br> <br> <br> <br> <br> <br> <br> <br> <br> <br> <br> <br> <br>1<br>0<br>\n<br>N<br>a<br>m<br>e<br>:<br> <br>1<br>7<br>0<br>3<br>,<br> <br>d<br>t<br>y<br>p<br>e<br>:<br> <br>o<br>b<br>j<br>e<br>c<br>t",
          "O<br>P<br>P<br>O<br>N<br>E<br>N<br>T<br> <br> <br> <br> <br> <br> <br> <br>F<br>u<br>l<br>h<br>a<br>m<br>\n<br>S<br>E<br>A<br>S<br>O<br>N<br> <br> <br> <br> <br> <br> <br>2<br>0<br>2<br>0<br>-<br>2<br>0<br>2<br>1<br>\n<br>R<br>O<br>U<br>N<br>D<br> <br> <br> <br> <br> <br> <br> <br> <br> <br> <br> <br> <br> <br> <br>1<br>1<br>\n<br>N<br>a<br>m<br>e<br>:<br> <br>1<br>7<br>2<br>1<br>,<br> <br>d<br>t<br>y<br>p<br>e<br>:<br> <br>o<br>b<br>j<br>e<br>c<br>t",
          "O<br>P<br>P<br>O<br>N<br>E<br>N<br>T<br> <br> <br> <br> <br>M<br>a<br>n<br>c<br>h<br>e<br>s<br>t<br>e<br>r<br> <br>U<br>t<br>d<br>\n<br>S<br>E<br>A<br>S<br>O<br>N<br> <br> <br> <br> <br> <br> <br> <br> <br> <br> <br> <br>2<br>0<br>2<br>0<br>-<br>2<br>0<br>2<br>1<br>\n<br>R<br>O<br>U<br>N<br>D<br> <br> <br> <br> <br> <br> <br> <br> <br> <br> <br> <br> <br> <br> <br> <br> <br> <br> <br> <br>1<br>2<br>\n<br>N<br>a<br>m<br>e<br>:<br> <br>1<br>7<br>3<br>9<br>,<br> <br>d<br>t<br>y<br>p<br>e<br>:<br> <br>o<br>b<br>j<br>e<br>c<br>t",
          "O<br>P<br>P<br>O<br>N<br>E<br>N<br>T<br> <br> <br> <br> <br>W<br>e<br>s<br>t<br> <br>B<br>r<br>o<br>m<br>\n<br>S<br>E<br>A<br>S<br>O<br>N<br> <br> <br> <br> <br> <br> <br>2<br>0<br>2<br>0<br>-<br>2<br>0<br>2<br>1<br>\n<br>R<br>O<br>U<br>N<br>D<br> <br> <br> <br> <br> <br> <br> <br> <br> <br> <br> <br> <br> <br> <br>1<br>3<br>\n<br>N<br>a<br>m<br>e<br>:<br> <br>1<br>7<br>5<br>5<br>,<br> <br>d<br>t<br>y<br>p<br>e<br>:<br> <br>o<br>b<br>j<br>e<br>c<br>t",
          "O<br>P<br>P<br>O<br>N<br>E<br>N<br>T<br> <br> <br> <br> <br>S<br>o<br>u<br>t<br>h<br>a<br>m<br>p<br>t<br>o<br>n<br>\n<br>S<br>E<br>A<br>S<br>O<br>N<br> <br> <br> <br> <br> <br> <br> <br> <br>2<br>0<br>2<br>0<br>-<br>2<br>0<br>2<br>1<br>\n<br>R<br>O<br>U<br>N<br>D<br> <br> <br> <br> <br> <br> <br> <br> <br> <br> <br> <br> <br> <br> <br> <br> <br>1<br>4<br>\n<br>N<br>a<br>m<br>e<br>:<br> <br>1<br>7<br>7<br>9<br>,<br> <br>d<br>t<br>y<br>p<br>e<br>:<br> <br>o<br>b<br>j<br>e<br>c<br>t",
          "O<br>P<br>P<br>O<br>N<br>E<br>N<br>T<br> <br> <br> <br> <br>N<br>e<br>w<br>c<br>a<br>s<br>t<br>l<br>e<br> <br>U<br>t<br>d<br>\n<br>S<br>E<br>A<br>S<br>O<br>N<br> <br> <br> <br> <br> <br> <br> <br> <br> <br> <br>2<br>0<br>2<br>0<br>-<br>2<br>0<br>2<br>1<br>\n<br>R<br>O<br>U<br>N<br>D<br> <br> <br> <br> <br> <br> <br> <br> <br> <br> <br> <br> <br> <br> <br> <br> <br> <br> <br>1<br>5<br>\n<br>N<br>a<br>m<br>e<br>:<br> <br>1<br>8<br>0<br>1<br>,<br> <br>d<br>t<br>y<br>p<br>e<br>:<br> <br>o<br>b<br>j<br>e<br>c<br>t",
          "O<br>P<br>P<br>O<br>N<br>E<br>N<br>T<br> <br> <br> <br> <br> <br> <br>C<br>h<br>e<br>l<br>s<br>e<br>a<br>\n<br>S<br>E<br>A<br>S<br>O<br>N<br> <br> <br> <br> <br> <br> <br>2<br>0<br>2<br>0<br>-<br>2<br>0<br>2<br>1<br>\n<br>R<br>O<br>U<br>N<br>D<br> <br> <br> <br> <br> <br> <br> <br> <br> <br> <br> <br> <br> <br> <br>1<br>7<br>\n<br>N<br>a<br>m<br>e<br>:<br> <br>1<br>8<br>4<br>4<br>,<br> <br>d<br>t<br>y<br>p<br>e<br>:<br> <br>o<br>b<br>j<br>e<br>c<br>t",
          "O<br>P<br>P<br>O<br>N<br>E<br>N<br>T<br> <br> <br> <br> <br> <br>B<br>r<br>i<br>g<br>h<br>t<br>o<br>n<br>\n<br>S<br>E<br>A<br>S<br>O<br>N<br> <br> <br> <br> <br> <br> <br>2<br>0<br>2<br>0<br>-<br>2<br>0<br>2<br>1<br>\n<br>R<br>O<br>U<br>N<br>D<br> <br> <br> <br> <br> <br> <br> <br> <br> <br> <br> <br> <br> <br> <br>1<br>8<br>\n<br>N<br>a<br>m<br>e<br>:<br> <br>1<br>8<br>5<br>6<br>,<br> <br>d<br>t<br>y<br>p<br>e<br>:<br> <br>o<br>b<br>j<br>e<br>c<br>t",
          "O<br>P<br>P<br>O<br>N<br>E<br>N<br>T<br> <br> <br> <br> <br>C<br>r<br>y<br>s<br>t<br>a<br>l<br> <br>P<br>a<br>l<br>a<br>c<br>e<br>\n<br>S<br>E<br>A<br>S<br>O<br>N<br> <br> <br> <br> <br> <br> <br> <br> <br> <br> <br> <br>2<br>0<br>2<br>0<br>-<br>2<br>0<br>2<br>1<br>\n<br>R<br>O<br>U<br>N<br>D<br> <br> <br> <br> <br> <br> <br> <br> <br> <br> <br> <br> <br> <br> <br> <br> <br> <br> <br> <br>1<br>9<br>\n<br>N<br>a<br>m<br>e<br>:<br> <br>1<br>8<br>7<br>2<br>,<br> <br>d<br>t<br>y<br>p<br>e<br>:<br> <br>o<br>b<br>j<br>e<br>c<br>t",
          "O<br>P<br>P<br>O<br>N<br>E<br>N<br>T<br> <br> <br> <br> <br>A<br>s<br>t<br>o<br>n<br> <br>V<br>i<br>l<br>l<br>a<br>\n<br>S<br>E<br>A<br>S<br>O<br>N<br> <br> <br> <br> <br> <br> <br> <br> <br>2<br>0<br>2<br>0<br>-<br>2<br>0<br>2<br>1<br>\n<br>R<br>O<br>U<br>N<br>D<br> <br> <br> <br> <br> <br> <br> <br> <br> <br> <br> <br> <br> <br> <br> <br> <br> <br>1<br>\n<br>N<br>a<br>m<br>e<br>:<br> <br>1<br>8<br>8<br>4<br>,<br> <br>d<br>t<br>y<br>p<br>e<br>:<br> <br>o<br>b<br>j<br>e<br>c<br>t",
          "O<br>P<br>P<br>O<br>N<br>E<br>N<br>T<br> <br> <br> <br> <br>W<br>e<br>s<br>t<br> <br>B<br>r<br>o<br>m<br>\n<br>S<br>E<br>A<br>S<br>O<br>N<br> <br> <br> <br> <br> <br> <br>2<br>0<br>2<br>0<br>-<br>2<br>0<br>2<br>1<br>\n<br>R<br>O<br>U<br>N<br>D<br> <br> <br> <br> <br> <br> <br> <br> <br> <br> <br> <br> <br> <br> <br>2<br>0<br>\n<br>N<br>a<br>m<br>e<br>:<br> <br>1<br>8<br>9<br>3<br>,<br> <br>d<br>t<br>y<br>p<br>e<br>:<br> <br>o<br>b<br>j<br>e<br>c<br>t",
          "O<br>P<br>P<br>O<br>N<br>E<br>N<br>T<br> <br> <br> <br> <br>S<br>h<br>e<br>f<br>f<br>i<br>e<br>l<br>d<br> <br>U<br>t<br>d<br>\n<br>S<br>E<br>A<br>S<br>O<br>N<br> <br> <br> <br> <br> <br> <br> <br> <br> <br> <br>2<br>0<br>2<br>0<br>-<br>2<br>0<br>2<br>1<br>\n<br>R<br>O<br>U<br>N<br>D<br> <br> <br> <br> <br> <br> <br> <br> <br> <br> <br> <br> <br> <br> <br> <br> <br> <br> <br>2<br>1<br>\n<br>N<br>a<br>m<br>e<br>:<br> <br>1<br>9<br>1<br>5<br>,<br> <br>d<br>t<br>y<br>p<br>e<br>:<br> <br>o<br>b<br>j<br>e<br>c<br>t",
          "O<br>P<br>P<br>O<br>N<br>E<br>N<br>T<br> <br> <br> <br> <br> <br> <br>B<br>u<br>r<br>n<br>l<br>e<br>y<br>\n<br>S<br>E<br>A<br>S<br>O<br>N<br> <br> <br> <br> <br> <br> <br>2<br>0<br>2<br>0<br>-<br>2<br>0<br>2<br>1<br>\n<br>R<br>O<br>U<br>N<br>D<br> <br> <br> <br> <br> <br> <br> <br> <br> <br> <br> <br> <br> <br> <br>2<br>2<br>\n<br>N<br>a<br>m<br>e<br>:<br> <br>1<br>9<br>4<br>6<br>,<br> <br>d<br>t<br>y<br>p<br>e<br>:<br> <br>o<br>b<br>j<br>e<br>c<br>t",
          "O<br>P<br>P<br>O<br>N<br>E<br>N<br>T<br> <br> <br> <br> <br>L<br>i<br>v<br>e<br>r<br>p<br>o<br>o<br>l<br>\n<br>S<br>E<br>A<br>S<br>O<br>N<br> <br> <br> <br> <br> <br> <br>2<br>0<br>2<br>0<br>-<br>2<br>0<br>2<br>1<br>\n<br>R<br>O<br>U<br>N<br>D<br> <br> <br> <br> <br> <br> <br> <br> <br> <br> <br> <br> <br> <br> <br>2<br>3<br>\n<br>N<br>a<br>m<br>e<br>:<br> <br>1<br>9<br>6<br>3<br>,<br> <br>d<br>t<br>y<br>p<br>e<br>:<br> <br>o<br>b<br>j<br>e<br>c<br>t",
          "O<br>P<br>P<br>O<br>N<br>E<br>N<br>T<br> <br> <br> <br> <br>T<br>o<br>t<br>t<br>e<br>n<br>h<br>a<br>m<br>\n<br>S<br>E<br>A<br>S<br>O<br>N<br> <br> <br> <br> <br> <br> <br>2<br>0<br>2<br>0<br>-<br>2<br>0<br>2<br>1<br>\n<br>R<br>O<br>U<br>N<br>D<br> <br> <br> <br> <br> <br> <br> <br> <br> <br> <br> <br> <br> <br> <br>2<br>4<br>\n<br>N<br>a<br>m<br>e<br>:<br> <br>1<br>9<br>7<br>6<br>,<br> <br>d<br>t<br>y<br>p<br>e<br>:<br> <br>o<br>b<br>j<br>e<br>c<br>t",
          "O<br>P<br>P<br>O<br>N<br>E<br>N<br>T<br> <br> <br> <br> <br> <br> <br>E<br>v<br>e<br>r<br>t<br>o<br>n<br>\n<br>S<br>E<br>A<br>S<br>O<br>N<br> <br> <br> <br> <br> <br> <br>2<br>0<br>2<br>0<br>-<br>2<br>0<br>2<br>1<br>\n<br>R<br>O<br>U<br>N<br>D<br> <br> <br> <br> <br> <br> <br> <br> <br> <br> <br> <br> <br> <br> <br>1<br>6<br>\n<br>N<br>a<br>m<br>e<br>:<br> <br>1<br>9<br>9<br>3<br>,<br> <br>d<br>t<br>y<br>p<br>e<br>:<br> <br>o<br>b<br>j<br>e<br>c<br>t",
          "O<br>P<br>P<br>O<br>N<br>E<br>N<br>T<br> <br> <br> <br> <br> <br> <br>A<br>r<br>s<br>e<br>n<br>a<br>l<br>\n<br>S<br>E<br>A<br>S<br>O<br>N<br> <br> <br> <br> <br> <br> <br>2<br>0<br>2<br>0<br>-<br>2<br>0<br>2<br>1<br>\n<br>R<br>O<br>U<br>N<br>D<br> <br> <br> <br> <br> <br> <br> <br> <br> <br> <br> <br> <br> <br> <br>2<br>5<br>\n<br>N<br>a<br>m<br>e<br>:<br> <br>2<br>0<br>0<br>7<br>,<br> <br>d<br>t<br>y<br>p<br>e<br>:<br> <br>o<br>b<br>j<br>e<br>c<br>t",
          "O<br>P<br>P<br>O<br>N<br>E<br>N<br>T<br> <br> <br> <br> <br> <br>W<br>e<br>s<br>t<br> <br>H<br>a<br>m<br>\n<br>S<br>E<br>A<br>S<br>O<br>N<br> <br> <br> <br> <br> <br> <br>2<br>0<br>2<br>0<br>-<br>2<br>0<br>2<br>1<br>\n<br>R<br>O<br>U<br>N<br>D<br> <br> <br> <br> <br> <br> <br> <br> <br> <br> <br> <br> <br> <br> <br>2<br>6<br>\n<br>N<br>a<br>m<br>e<br>:<br> <br>2<br>0<br>1<br>9<br>,<br> <br>d<br>t<br>y<br>p<br>e<br>:<br> <br>o<br>b<br>j<br>e<br>c<br>t",
          "O<br>P<br>P<br>O<br>N<br>E<br>N<br>T<br> <br> <br> <br> <br> <br> <br> <br>W<br>o<br>l<br>v<br>e<br>s<br>\n<br>S<br>E<br>A<br>S<br>O<br>N<br> <br> <br> <br> <br> <br> <br>2<br>0<br>2<br>0<br>-<br>2<br>0<br>2<br>1<br>\n<br>R<br>O<br>U<br>N<br>D<br> <br> <br> <br> <br> <br> <br> <br> <br> <br> <br> <br> <br> <br> <br>2<br>9<br>\n<br>N<br>a<br>m<br>e<br>:<br> <br>2<br>0<br>3<br>6<br>,<br> <br>d<br>t<br>y<br>p<br>e<br>:<br> <br>o<br>b<br>j<br>e<br>c<br>t",
          "O<br>P<br>P<br>O<br>N<br>E<br>N<br>T<br> <br> <br> <br> <br>M<br>a<br>n<br>c<br>h<br>e<br>s<br>t<br>e<br>r<br> <br>U<br>t<br>d<br>\n<br>S<br>E<br>A<br>S<br>O<br>N<br> <br> <br> <br> <br> <br> <br> <br> <br> <br> <br> <br>2<br>0<br>2<br>0<br>-<br>2<br>0<br>2<br>1<br>\n<br>R<br>O<br>U<br>N<br>D<br> <br> <br> <br> <br> <br> <br> <br> <br> <br> <br> <br> <br> <br> <br> <br> <br> <br> <br> <br>2<br>7<br>\n<br>N<br>a<br>m<br>e<br>:<br> <br>2<br>0<br>6<br>1<br>,<br> <br>d<br>t<br>y<br>p<br>e<br>:<br> <br>o<br>b<br>j<br>e<br>c<br>t",
          "O<br>P<br>P<br>O<br>N<br>E<br>N<br>T<br> <br> <br> <br> <br>S<br>o<br>u<br>t<br>h<br>a<br>m<br>p<br>t<br>o<br>n<br>\n<br>S<br>E<br>A<br>S<br>O<br>N<br> <br> <br> <br> <br> <br> <br> <br> <br>2<br>0<br>2<br>0<br>-<br>2<br>0<br>2<br>1<br>\n<br>R<br>O<br>U<br>N<br>D<br> <br> <br> <br> <br> <br> <br> <br> <br> <br> <br> <br> <br> <br> <br> <br> <br>3<br>3<br>\n<br>N<br>a<br>m<br>e<br>:<br> <br>2<br>0<br>7<br>0<br>,<br> <br>d<br>t<br>y<br>p<br>e<br>:<br> <br>o<br>b<br>j<br>e<br>c<br>t",
          "O<br>P<br>P<br>O<br>N<br>E<br>N<br>T<br> <br> <br> <br> <br> <br> <br> <br>F<br>u<br>l<br>h<br>a<br>m<br>\n<br>S<br>E<br>A<br>S<br>O<br>N<br> <br> <br> <br> <br> <br> <br>2<br>0<br>2<br>0<br>-<br>2<br>0<br>2<br>1<br>\n<br>R<br>O<br>U<br>N<br>D<br> <br> <br> <br> <br> <br> <br> <br> <br> <br> <br> <br> <br> <br> <br>2<br>8<br>\n<br>N<br>a<br>m<br>e<br>:<br> <br>2<br>0<br>8<br>0<br>,<br> <br>d<br>t<br>y<br>p<br>e<br>:<br> <br>o<br>b<br>j<br>e<br>c<br>t",
          "O<br>P<br>P<br>O<br>N<br>E<br>N<br>T<br> <br> <br> <br> <br>L<br>e<br>i<br>c<br>e<br>s<br>t<br>e<br>r<br> <br>C<br>i<br>t<br>y<br>\n<br>S<br>E<br>A<br>S<br>O<br>N<br> <br> <br> <br> <br> <br> <br> <br> <br> <br> <br> <br>2<br>0<br>2<br>0<br>-<br>2<br>0<br>2<br>1<br>\n<br>R<br>O<br>U<br>N<br>D<br> <br> <br> <br> <br> <br> <br> <br> <br> <br> <br> <br> <br> <br> <br> <br> <br> <br> <br> <br>3<br>0<br>\n<br>N<br>a<br>m<br>e<br>:<br> <br>2<br>1<br>0<br>5<br>,<br> <br>d<br>t<br>y<br>p<br>e<br>:<br> <br>o<br>b<br>j<br>e<br>c<br>t",
          "O<br>P<br>P<br>O<br>N<br>E<br>N<br>T<br> <br> <br> <br> <br>L<br>e<br>e<br>d<br>s<br> <br>U<br>n<br>i<br>t<br>e<br>d<br>\n<br>S<br>E<br>A<br>S<br>O<br>N<br> <br> <br> <br> <br> <br> <br> <br> <br> <br>2<br>0<br>2<br>0<br>-<br>2<br>0<br>2<br>1<br>\n<br>R<br>O<br>U<br>N<br>D<br> <br> <br> <br> <br> <br> <br> <br> <br> <br> <br> <br> <br> <br> <br> <br> <br> <br>3<br>1<br>\n<br>N<br>a<br>m<br>e<br>:<br> <br>2<br>1<br>2<br>7<br>,<br> <br>d<br>t<br>y<br>p<br>e<br>:<br> <br>o<br>b<br>j<br>e<br>c<br>t",
          "O<br>P<br>P<br>O<br>N<br>E<br>N<br>T<br> <br> <br> <br> <br>A<br>s<br>t<br>o<br>n<br> <br>V<br>i<br>l<br>l<br>a<br>\n<br>S<br>E<br>A<br>S<br>O<br>N<br> <br> <br> <br> <br> <br> <br> <br> <br>2<br>0<br>2<br>0<br>-<br>2<br>0<br>2<br>1<br>\n<br>R<br>O<br>U<br>N<br>D<br> <br> <br> <br> <br> <br> <br> <br> <br> <br> <br> <br> <br> <br> <br> <br> <br>3<br>2<br>\n<br>N<br>a<br>m<br>e<br>:<br> <br>2<br>1<br>5<br>5<br>,<br> <br>d<br>t<br>y<br>p<br>e<br>:<br> <br>o<br>b<br>j<br>e<br>c<br>t",
          "O<br>P<br>P<br>O<br>N<br>E<br>N<br>T<br> <br> <br> <br> <br>C<br>r<br>y<br>s<br>t<br>a<br>l<br> <br>P<br>a<br>l<br>a<br>c<br>e<br>\n<br>S<br>E<br>A<br>S<br>O<br>N<br> <br> <br> <br> <br> <br> <br> <br> <br> <br> <br> <br>2<br>0<br>2<br>0<br>-<br>2<br>0<br>2<br>1<br>\n<br>R<br>O<br>U<br>N<br>D<br> <br> <br> <br> <br> <br> <br> <br> <br> <br> <br> <br> <br> <br> <br> <br> <br> <br> <br> <br>3<br>4<br>\n<br>N<br>a<br>m<br>e<br>:<br> <br>2<br>1<br>8<br>5<br>,<br> <br>d<br>t<br>y<br>p<br>e<br>:<br> <br>o<br>b<br>j<br>e<br>c<br>t",
          "O<br>P<br>P<br>O<br>N<br>E<br>N<br>T<br> <br> <br> <br> <br> <br> <br>C<br>h<br>e<br>l<br>s<br>e<br>a<br>\n<br>S<br>E<br>A<br>S<br>O<br>N<br> <br> <br> <br> <br> <br> <br>2<br>0<br>2<br>0<br>-<br>2<br>0<br>2<br>1<br>\n<br>R<br>O<br>U<br>N<br>D<br> <br> <br> <br> <br> <br> <br> <br> <br> <br> <br> <br> <br> <br> <br>3<br>5<br>\n<br>N<br>a<br>m<br>e<br>:<br> <br>2<br>2<br>0<br>0<br>,<br> <br>d<br>t<br>y<br>p<br>e<br>:<br> <br>o<br>b<br>j<br>e<br>c<br>t",
          "O<br>P<br>P<br>O<br>N<br>E<br>N<br>T<br> <br> <br> <br> <br>N<br>e<br>w<br>c<br>a<br>s<br>t<br>l<br>e<br> <br>U<br>t<br>d<br>\n<br>S<br>E<br>A<br>S<br>O<br>N<br> <br> <br> <br> <br> <br> <br> <br> <br> <br> <br>2<br>0<br>2<br>0<br>-<br>2<br>0<br>2<br>1<br>\n<br>R<br>O<br>U<br>N<br>D<br> <br> <br> <br> <br> <br> <br> <br> <br> <br> <br> <br> <br> <br> <br> <br> <br> <br> <br>3<br>6<br>\n<br>N<br>a<br>m<br>e<br>:<br> <br>2<br>2<br>2<br>4<br>,<br> <br>d<br>t<br>y<br>p<br>e<br>:<br> <br>o<br>b<br>j<br>e<br>c<br>t",
          "O<br>P<br>P<br>O<br>N<br>E<br>N<br>T<br> <br> <br> <br> <br> <br>B<br>r<br>i<br>g<br>h<br>t<br>o<br>n<br>\n<br>S<br>E<br>A<br>S<br>O<br>N<br> <br> <br> <br> <br> <br> <br>2<br>0<br>2<br>0<br>-<br>2<br>0<br>2<br>1<br>\n<br>R<br>O<br>U<br>N<br>D<br> <br> <br> <br> <br> <br> <br> <br> <br> <br> <br> <br> <br> <br> <br>3<br>7<br>\n<br>N<br>a<br>m<br>e<br>:<br> <br>2<br>2<br>4<br>5<br>,<br> <br>d<br>t<br>y<br>p<br>e<br>:<br> <br>o<br>b<br>j<br>e<br>c<br>t",
          "O<br>P<br>P<br>O<br>N<br>E<br>N<br>T<br> <br> <br> <br> <br> <br> <br>E<br>v<br>e<br>r<br>t<br>o<br>n<br>\n<br>S<br>E<br>A<br>S<br>O<br>N<br> <br> <br> <br> <br> <br> <br>2<br>0<br>2<br>0<br>-<br>2<br>0<br>2<br>1<br>\n<br>R<br>O<br>U<br>N<br>D<br> <br> <br> <br> <br> <br> <br> <br> <br> <br> <br> <br> <br> <br> <br>3<br>8<br>\n<br>N<br>a<br>m<br>e<br>:<br> <br>2<br>2<br>7<br>1<br>,<br> <br>d<br>t<br>y<br>p<br>e<br>:<br> <br>o<br>b<br>j<br>e<br>c<br>t",
          "O<br>P<br>P<br>O<br>N<br>E<br>N<br>T<br> <br> <br> <br> <br>T<br>o<br>t<br>t<br>e<br>n<br>h<br>a<br>m<br>\n<br>S<br>E<br>A<br>S<br>O<br>N<br> <br> <br> <br> <br> <br> <br>2<br>0<br>2<br>1<br>-<br>2<br>0<br>2<br>2<br>\n<br>R<br>O<br>U<br>N<br>D<br> <br> <br> <br> <br> <br> <br> <br> <br> <br> <br> <br> <br> <br> <br> <br>1<br>\n<br>N<br>a<br>m<br>e<br>:<br> <br>2<br>2<br>9<br>6<br>,<br> <br>d<br>t<br>y<br>p<br>e<br>:<br> <br>o<br>b<br>j<br>e<br>c<br>t",
          "O<br>P<br>P<br>O<br>N<br>E<br>N<br>T<br> <br> <br> <br> <br>N<br>o<br>r<br>w<br>i<br>c<br>h<br> <br>C<br>i<br>t<br>y<br>\n<br>S<br>E<br>A<br>S<br>O<br>N<br> <br> <br> <br> <br> <br> <br> <br> <br> <br>2<br>0<br>2<br>1<br>-<br>2<br>0<br>2<br>2<br>\n<br>R<br>O<br>U<br>N<br>D<br> <br> <br> <br> <br> <br> <br> <br> <br> <br> <br> <br> <br> <br> <br> <br> <br> <br> <br>2<br>\n<br>N<br>a<br>m<br>e<br>:<br> <br>2<br>3<br>0<br>8<br>,<br> <br>d<br>t<br>y<br>p<br>e<br>:<br> <br>o<br>b<br>j<br>e<br>c<br>t",
          "O<br>P<br>P<br>O<br>N<br>E<br>N<br>T<br> <br> <br> <br> <br> <br> <br>A<br>r<br>s<br>e<br>n<br>a<br>l<br>\n<br>S<br>E<br>A<br>S<br>O<br>N<br> <br> <br> <br> <br> <br> <br>2<br>0<br>2<br>1<br>-<br>2<br>0<br>2<br>2<br>\n<br>R<br>O<br>U<br>N<br>D<br> <br> <br> <br> <br> <br> <br> <br> <br> <br> <br> <br> <br> <br> <br> <br>3<br>\n<br>N<br>a<br>m<br>e<br>:<br> <br>2<br>3<br>2<br>9<br>,<br> <br>d<br>t<br>y<br>p<br>e<br>:<br> <br>o<br>b<br>j<br>e<br>c<br>t",
          "O<br>P<br>P<br>O<br>N<br>E<br>N<br>T<br> <br> <br> <br> <br>L<br>e<br>i<br>c<br>e<br>s<br>t<br>e<br>r<br> <br>C<br>i<br>t<br>y<br>\n<br>S<br>E<br>A<br>S<br>O<br>N<br> <br> <br> <br> <br> <br> <br> <br> <br> <br> <br> <br>2<br>0<br>2<br>1<br>-<br>2<br>0<br>2<br>2<br>\n<br>R<br>O<br>U<br>N<br>D<br> <br> <br> <br> <br> <br> <br> <br> <br> <br> <br> <br> <br> <br> <br> <br> <br> <br> <br> <br> <br>4<br>\n<br>N<br>a<br>m<br>e<br>:<br> <br>2<br>3<br>4<br>7<br>,<br> <br>d<br>t<br>y<br>p<br>e<br>:<br> <br>o<br>b<br>j<br>e<br>c<br>t",
          "O<br>P<br>P<br>O<br>N<br>E<br>N<br>T<br> <br> <br> <br> <br>S<br>o<br>u<br>t<br>h<br>a<br>m<br>p<br>t<br>o<br>n<br>\n<br>S<br>E<br>A<br>S<br>O<br>N<br> <br> <br> <br> <br> <br> <br> <br> <br>2<br>0<br>2<br>1<br>-<br>2<br>0<br>2<br>2<br>\n<br>R<br>O<br>U<br>N<br>D<br> <br> <br> <br> <br> <br> <br> <br> <br> <br> <br> <br> <br> <br> <br> <br> <br> <br>5<br>\n<br>N<br>a<br>m<br>e<br>:<br> <br>2<br>3<br>6<br>9<br>,<br> <br>d<br>t<br>y<br>p<br>e<br>:<br> <br>o<br>b<br>j<br>e<br>c<br>t",
          "O<br>P<br>P<br>O<br>N<br>E<br>N<br>T<br> <br> <br> <br> <br> <br> <br>C<br>h<br>e<br>l<br>s<br>e<br>a<br>\n<br>S<br>E<br>A<br>S<br>O<br>N<br> <br> <br> <br> <br> <br> <br>2<br>0<br>2<br>1<br>-<br>2<br>0<br>2<br>2<br>\n<br>R<br>O<br>U<br>N<br>D<br> <br> <br> <br> <br> <br> <br> <br> <br> <br> <br> <br> <br> <br> <br> <br>6<br>\n<br>N<br>a<br>m<br>e<br>:<br> <br>2<br>3<br>8<br>8<br>,<br> <br>d<br>t<br>y<br>p<br>e<br>:<br> <br>o<br>b<br>j<br>e<br>c<br>t",
          "O<br>P<br>P<br>O<br>N<br>E<br>N<br>T<br> <br> <br> <br> <br>L<br>i<br>v<br>e<br>r<br>p<br>o<br>o<br>l<br>\n<br>S<br>E<br>A<br>S<br>O<br>N<br> <br> <br> <br> <br> <br> <br>2<br>0<br>2<br>1<br>-<br>2<br>0<br>2<br>2<br>\n<br>R<br>O<br>U<br>N<br>D<br> <br> <br> <br> <br> <br> <br> <br> <br> <br> <br> <br> <br> <br> <br> <br>7<br>\n<br>N<br>a<br>m<br>e<br>:<br> <br>2<br>4<br>1<br>7<br>,<br> <br>d<br>t<br>y<br>p<br>e<br>:<br> <br>o<br>b<br>j<br>e<br>c<br>t",
          "O<br>P<br>P<br>O<br>N<br>E<br>N<br>T<br> <br> <br> <br> <br> <br> <br>B<br>u<br>r<br>n<br>l<br>e<br>y<br>\n<br>S<br>E<br>A<br>S<br>O<br>N<br> <br> <br> <br> <br> <br> <br>2<br>0<br>2<br>1<br>-<br>2<br>0<br>2<br>2<br>\n<br>R<br>O<br>U<br>N<br>D<br> <br> <br> <br> <br> <br> <br> <br> <br> <br> <br> <br> <br> <br> <br> <br>8<br>\n<br>N<br>a<br>m<br>e<br>:<br> <br>2<br>4<br>2<br>8<br>,<br> <br>d<br>t<br>y<br>p<br>e<br>:<br> <br>o<br>b<br>j<br>e<br>c<br>t",
          "O<br>P<br>P<br>O<br>N<br>E<br>N<br>T<br> <br> <br> <br> <br> <br>B<br>r<br>i<br>g<br>h<br>t<br>o<br>n<br>\n<br>S<br>E<br>A<br>S<br>O<br>N<br> <br> <br> <br> <br> <br> <br>2<br>0<br>2<br>1<br>-<br>2<br>0<br>2<br>2<br>\n<br>R<br>O<br>U<br>N<br>D<br> <br> <br> <br> <br> <br> <br> <br> <br> <br> <br> <br> <br> <br> <br> <br>9<br>\n<br>N<br>a<br>m<br>e<br>:<br> <br>2<br>4<br>4<br>8<br>,<br> <br>d<br>t<br>y<br>p<br>e<br>:<br> <br>o<br>b<br>j<br>e<br>c<br>t",
          "O<br>P<br>P<br>O<br>N<br>E<br>N<br>T<br> <br> <br> <br> <br>C<br>r<br>y<br>s<br>t<br>a<br>l<br> <br>P<br>a<br>l<br>a<br>c<br>e<br>\n<br>S<br>E<br>A<br>S<br>O<br>N<br> <br> <br> <br> <br> <br> <br> <br> <br> <br> <br> <br>2<br>0<br>2<br>1<br>-<br>2<br>0<br>2<br>2<br>\n<br>R<br>O<br>U<br>N<br>D<br> <br> <br> <br> <br> <br> <br> <br> <br> <br> <br> <br> <br> <br> <br> <br> <br> <br> <br> <br>1<br>0<br>\n<br>N<br>a<br>m<br>e<br>:<br> <br>2<br>4<br>6<br>8<br>,<br> <br>d<br>t<br>y<br>p<br>e<br>:<br> <br>o<br>b<br>j<br>e<br>c<br>t",
          "O<br>P<br>P<br>O<br>N<br>E<br>N<br>T<br> <br> <br> <br> <br>M<br>a<br>n<br>c<br>h<br>e<br>s<br>t<br>e<br>r<br> <br>U<br>t<br>d<br>\n<br>S<br>E<br>A<br>S<br>O<br>N<br> <br> <br> <br> <br> <br> <br> <br> <br> <br> <br> <br>2<br>0<br>2<br>1<br>-<br>2<br>0<br>2<br>2<br>\n<br>R<br>O<br>U<br>N<br>D<br> <br> <br> <br> <br> <br> <br> <br> <br> <br> <br> <br> <br> <br> <br> <br> <br> <br> <br> <br>1<br>1<br>\n<br>N<br>a<br>m<br>e<br>:<br> <br>2<br>4<br>8<br>7<br>,<br> <br>d<br>t<br>y<br>p<br>e<br>:<br> <br>o<br>b<br>j<br>e<br>c<br>t",
          "O<br>P<br>P<br>O<br>N<br>E<br>N<br>T<br> <br> <br> <br> <br> <br> <br>E<br>v<br>e<br>r<br>t<br>o<br>n<br>\n<br>S<br>E<br>A<br>S<br>O<br>N<br> <br> <br> <br> <br> <br> <br>2<br>0<br>2<br>1<br>-<br>2<br>0<br>2<br>2<br>\n<br>R<br>O<br>U<br>N<br>D<br> <br> <br> <br> <br> <br> <br> <br> <br> <br> <br> <br> <br> <br> <br>1<br>2<br>\n<br>N<br>a<br>m<br>e<br>:<br> <br>2<br>5<br>1<br>8<br>,<br> <br>d<br>t<br>y<br>p<br>e<br>:<br> <br>o<br>b<br>j<br>e<br>c<br>t",
          "O<br>P<br>P<br>O<br>N<br>E<br>N<br>T<br> <br> <br> <br> <br> <br>W<br>e<br>s<br>t<br> <br>H<br>a<br>m<br>\n<br>S<br>E<br>A<br>S<br>O<br>N<br> <br> <br> <br> <br> <br> <br>2<br>0<br>2<br>1<br>-<br>2<br>0<br>2<br>2<br>\n<br>R<br>O<br>U<br>N<br>D<br> <br> <br> <br> <br> <br> <br> <br> <br> <br> <br> <br> <br> <br> <br>1<br>3<br>\n<br>N<br>a<br>m<br>e<br>:<br> <br>2<br>5<br>3<br>4<br>,<br> <br>d<br>t<br>y<br>p<br>e<br>:<br> <br>o<br>b<br>j<br>e<br>c<br>t",
          "O<br>P<br>P<br>O<br>N<br>E<br>N<br>T<br> <br> <br> <br> <br>A<br>s<br>t<br>o<br>n<br> <br>V<br>i<br>l<br>l<br>a<br>\n<br>S<br>E<br>A<br>S<br>O<br>N<br> <br> <br> <br> <br> <br> <br> <br> <br>2<br>0<br>2<br>1<br>-<br>2<br>0<br>2<br>2<br>\n<br>R<br>O<br>U<br>N<br>D<br> <br> <br> <br> <br> <br> <br> <br> <br> <br> <br> <br> <br> <br> <br> <br> <br>1<br>4<br>\n<br>N<br>a<br>m<br>e<br>:<br> <br>2<br>5<br>4<br>9<br>,<br> <br>d<br>t<br>y<br>p<br>e<br>:<br> <br>o<br>b<br>j<br>e<br>c<br>t",
          "O<br>P<br>P<br>O<br>N<br>E<br>N<br>T<br> <br> <br> <br> <br> <br> <br>W<br>a<br>t<br>f<br>o<br>r<br>d<br>\n<br>S<br>E<br>A<br>S<br>O<br>N<br> <br> <br> <br> <br> <br> <br>2<br>0<br>2<br>1<br>-<br>2<br>0<br>2<br>2<br>\n<br>R<br>O<br>U<br>N<br>D<br> <br> <br> <br> <br> <br> <br> <br> <br> <br> <br> <br> <br> <br> <br>1<br>5<br>\n<br>N<br>a<br>m<br>e<br>:<br> <br>2<br>5<br>6<br>2<br>,<br> <br>d<br>t<br>y<br>p<br>e<br>:<br> <br>o<br>b<br>j<br>e<br>c<br>t",
          "O<br>P<br>P<br>O<br>N<br>E<br>N<br>T<br> <br> <br> <br> <br> <br> <br> <br>W<br>o<br>l<br>v<br>e<br>s<br>\n<br>S<br>E<br>A<br>S<br>O<br>N<br> <br> <br> <br> <br> <br> <br>2<br>0<br>2<br>1<br>-<br>2<br>0<br>2<br>2<br>\n<br>R<br>O<br>U<br>N<br>D<br> <br> <br> <br> <br> <br> <br> <br> <br> <br> <br> <br> <br> <br> <br>1<br>6<br>\n<br>N<br>a<br>m<br>e<br>:<br> <br>2<br>5<br>8<br>5<br>,<br> <br>d<br>t<br>y<br>p<br>e<br>:<br> <br>o<br>b<br>j<br>e<br>c<br>t",
          "O<br>P<br>P<br>O<br>N<br>E<br>N<br>T<br> <br> <br> <br> <br>L<br>e<br>e<br>d<br>s<br> <br>U<br>n<br>i<br>t<br>e<br>d<br>\n<br>S<br>E<br>A<br>S<br>O<br>N<br> <br> <br> <br> <br> <br> <br> <br> <br> <br>2<br>0<br>2<br>1<br>-<br>2<br>0<br>2<br>2<br>\n<br>R<br>O<br>U<br>N<br>D<br> <br> <br> <br> <br> <br> <br> <br> <br> <br> <br> <br> <br> <br> <br> <br> <br> <br>1<br>7<br>\n<br>N<br>a<br>m<br>e<br>:<br> <br>2<br>5<br>9<br>8<br>,<br> <br>d<br>t<br>y<br>p<br>e<br>:<br> <br>o<br>b<br>j<br>e<br>c<br>t",
          "O<br>P<br>P<br>O<br>N<br>E<br>N<br>T<br> <br> <br> <br> <br>N<br>e<br>w<br>c<br>a<br>s<br>t<br>l<br>e<br> <br>U<br>t<br>d<br>\n<br>S<br>E<br>A<br>S<br>O<br>N<br> <br> <br> <br> <br> <br> <br> <br> <br> <br> <br>2<br>0<br>2<br>1<br>-<br>2<br>0<br>2<br>2<br>\n<br>R<br>O<br>U<br>N<br>D<br> <br> <br> <br> <br> <br> <br> <br> <br> <br> <br> <br> <br> <br> <br> <br> <br> <br> <br>1<br>8<br>\n<br>N<br>a<br>m<br>e<br>:<br> <br>2<br>6<br>1<br>4<br>,<br> <br>d<br>t<br>y<br>p<br>e<br>:<br> <br>o<br>b<br>j<br>e<br>c<br>t",
          "O<br>P<br>P<br>O<br>N<br>E<br>N<br>T<br> <br> <br> <br> <br>L<br>e<br>i<br>c<br>e<br>s<br>t<br>e<br>r<br> <br>C<br>i<br>t<br>y<br>\n<br>S<br>E<br>A<br>S<br>O<br>N<br> <br> <br> <br> <br> <br> <br> <br> <br> <br> <br> <br>2<br>0<br>2<br>1<br>-<br>2<br>0<br>2<br>2<br>\n<br>R<br>O<br>U<br>N<br>D<br> <br> <br> <br> <br> <br> <br> <br> <br> <br> <br> <br> <br> <br> <br> <br> <br> <br> <br> <br>1<br>9<br>\n<br>N<br>a<br>m<br>e<br>:<br> <br>2<br>6<br>2<br>5<br>,<br> <br>d<br>t<br>y<br>p<br>e<br>:<br> <br>o<br>b<br>j<br>e<br>c<br>t",
          "O<br>P<br>P<br>O<br>N<br>E<br>N<br>T<br> <br> <br> <br> <br>B<br>r<br>e<br>n<br>t<br>f<br>o<br>r<br>d<br>\n<br>S<br>E<br>A<br>S<br>O<br>N<br> <br> <br> <br> <br> <br> <br>2<br>0<br>2<br>1<br>-<br>2<br>0<br>2<br>2<br>\n<br>R<br>O<br>U<br>N<br>D<br> <br> <br> <br> <br> <br> <br> <br> <br> <br> <br> <br> <br> <br> <br>2<br>0<br>\n<br>N<br>a<br>m<br>e<br>:<br> <br>2<br>6<br>4<br>3<br>,<br> <br>d<br>t<br>y<br>p<br>e<br>:<br> <br>o<br>b<br>j<br>e<br>c<br>t",
          "O<br>P<br>P<br>O<br>N<br>E<br>N<br>T<br> <br> <br> <br> <br> <br> <br>A<br>r<br>s<br>e<br>n<br>a<br>l<br>\n<br>S<br>E<br>A<br>S<br>O<br>N<br> <br> <br> <br> <br> <br> <br>2<br>0<br>2<br>1<br>-<br>2<br>0<br>2<br>2<br>\n<br>R<br>O<br>U<br>N<br>D<br> <br> <br> <br> <br> <br> <br> <br> <br> <br> <br> <br> <br> <br> <br>2<br>1<br>\n<br>N<br>a<br>m<br>e<br>:<br> <br>2<br>6<br>4<br>8<br>,<br> <br>d<br>t<br>y<br>p<br>e<br>:<br> <br>o<br>b<br>j<br>e<br>c<br>t",
          "O<br>P<br>P<br>O<br>N<br>E<br>N<br>T<br> <br> <br> <br> <br> <br> <br>C<br>h<br>e<br>l<br>s<br>e<br>a<br>\n<br>S<br>E<br>A<br>S<br>O<br>N<br> <br> <br> <br> <br> <br> <br>2<br>0<br>2<br>1<br>-<br>2<br>0<br>2<br>2<br>\n<br>R<br>O<br>U<br>N<br>D<br> <br> <br> <br> <br> <br> <br> <br> <br> <br> <br> <br> <br> <br> <br>2<br>2<br>\n<br>N<br>a<br>m<br>e<br>:<br> <br>2<br>6<br>7<br>1<br>,<br> <br>d<br>t<br>y<br>p<br>e<br>:<br> <br>o<br>b<br>j<br>e<br>c<br>t",
          "O<br>P<br>P<br>O<br>N<br>E<br>N<br>T<br> <br> <br> <br> <br>S<br>o<br>u<br>t<br>h<br>a<br>m<br>p<br>t<br>o<br>n<br>\n<br>S<br>E<br>A<br>S<br>O<br>N<br> <br> <br> <br> <br> <br> <br> <br> <br>2<br>0<br>2<br>1<br>-<br>2<br>0<br>2<br>2<br>\n<br>R<br>O<br>U<br>N<br>D<br> <br> <br> <br> <br> <br> <br> <br> <br> <br> <br> <br> <br> <br> <br> <br> <br>2<br>3<br>\n<br>N<br>a<br>m<br>e<br>:<br> <br>2<br>6<br>9<br>4<br>,<br> <br>d<br>t<br>y<br>p<br>e<br>:<br> <br>o<br>b<br>j<br>e<br>c<br>t",
          "O<br>P<br>P<br>O<br>N<br>E<br>N<br>T<br> <br> <br> <br> <br>B<br>r<br>e<br>n<br>t<br>f<br>o<br>r<br>d<br>\n<br>S<br>E<br>A<br>S<br>O<br>N<br> <br> <br> <br> <br> <br> <br>2<br>0<br>2<br>1<br>-<br>2<br>0<br>2<br>2<br>\n<br>R<br>O<br>U<br>N<br>D<br> <br> <br> <br> <br> <br> <br> <br> <br> <br> <br> <br> <br> <br> <br>2<br>4<br>\n<br>N<br>a<br>m<br>e<br>:<br> <br>2<br>7<br>2<br>0<br>,<br> <br>d<br>t<br>y<br>p<br>e<br>:<br> <br>o<br>b<br>j<br>e<br>c<br>t",
          "O<br>P<br>P<br>O<br>N<br>E<br>N<br>T<br> <br> <br> <br> <br>N<br>o<br>r<br>w<br>i<br>c<br>h<br> <br>C<br>i<br>t<br>y<br>\n<br>S<br>E<br>A<br>S<br>O<br>N<br> <br> <br> <br> <br> <br> <br> <br> <br> <br>2<br>0<br>2<br>1<br>-<br>2<br>0<br>2<br>2<br>\n<br>R<br>O<br>U<br>N<br>D<br> <br> <br> <br> <br> <br> <br> <br> <br> <br> <br> <br> <br> <br> <br> <br> <br> <br>2<br>5<br>\n<br>N<br>a<br>m<br>e<br>:<br> <br>2<br>7<br>3<br>3<br>,<br> <br>d<br>t<br>y<br>p<br>e<br>:<br> <br>o<br>b<br>j<br>e<br>c<br>t",
          "O<br>P<br>P<br>O<br>N<br>E<br>N<br>T<br> <br> <br> <br> <br>T<br>o<br>t<br>t<br>e<br>n<br>h<br>a<br>m<br>\n<br>S<br>E<br>A<br>S<br>O<br>N<br> <br> <br> <br> <br> <br> <br>2<br>0<br>2<br>1<br>-<br>2<br>0<br>2<br>2<br>\n<br>R<br>O<br>U<br>N<br>D<br> <br> <br> <br> <br> <br> <br> <br> <br> <br> <br> <br> <br> <br> <br>2<br>6<br>\n<br>N<br>a<br>m<br>e<br>:<br> <br>2<br>7<br>5<br>7<br>,<br> <br>d<br>t<br>y<br>p<br>e<br>:<br> <br>o<br>b<br>j<br>e<br>c<br>t",
          "O<br>P<br>P<br>O<br>N<br>E<br>N<br>T<br> <br> <br> <br> <br> <br> <br>E<br>v<br>e<br>r<br>t<br>o<br>n<br>\n<br>S<br>E<br>A<br>S<br>O<br>N<br> <br> <br> <br> <br> <br> <br>2<br>0<br>2<br>1<br>-<br>2<br>0<br>2<br>2<br>\n<br>R<br>O<br>U<br>N<br>D<br> <br> <br> <br> <br> <br> <br> <br> <br> <br> <br> <br> <br> <br> <br>2<br>7<br>\n<br>N<br>a<br>m<br>e<br>:<br> <br>2<br>7<br>8<br>5<br>,<br> <br>d<br>t<br>y<br>p<br>e<br>:<br> <br>o<br>b<br>j<br>e<br>c<br>t",
          "O<br>P<br>P<br>O<br>N<br>E<br>N<br>T<br> <br> <br> <br> <br>M<br>a<br>n<br>c<br>h<br>e<br>s<br>t<br>e<br>r<br> <br>U<br>t<br>d<br>\n<br>S<br>E<br>A<br>S<br>O<br>N<br> <br> <br> <br> <br> <br> <br> <br> <br> <br> <br> <br>2<br>0<br>2<br>1<br>-<br>2<br>0<br>2<br>2<br>\n<br>R<br>O<br>U<br>N<br>D<br> <br> <br> <br> <br> <br> <br> <br> <br> <br> <br> <br> <br> <br> <br> <br> <br> <br> <br> <br>2<br>8<br>\n<br>N<br>a<br>m<br>e<br>:<br> <br>2<br>8<br>0<br>9<br>,<br> <br>d<br>t<br>y<br>p<br>e<br>:<br> <br>o<br>b<br>j<br>e<br>c<br>t",
          "O<br>P<br>P<br>O<br>N<br>E<br>N<br>T<br> <br> <br> <br> <br>C<br>r<br>y<br>s<br>t<br>a<br>l<br> <br>P<br>a<br>l<br>a<br>c<br>e<br>\n<br>S<br>E<br>A<br>S<br>O<br>N<br> <br> <br> <br> <br> <br> <br> <br> <br> <br> <br> <br>2<br>0<br>2<br>1<br>-<br>2<br>0<br>2<br>2<br>\n<br>R<br>O<br>U<br>N<br>D<br> <br> <br> <br> <br> <br> <br> <br> <br> <br> <br> <br> <br> <br> <br> <br> <br> <br> <br> <br>2<br>9<br>\n<br>N<br>a<br>m<br>e<br>:<br> <br>2<br>8<br>4<br>1<br>,<br> <br>d<br>t<br>y<br>p<br>e<br>:<br> <br>o<br>b<br>j<br>e<br>c<br>t",
          "O<br>P<br>P<br>O<br>N<br>E<br>N<br>T<br> <br> <br> <br> <br> <br> <br>B<br>u<br>r<br>n<br>l<br>e<br>y<br>\n<br>S<br>E<br>A<br>S<br>O<br>N<br> <br> <br> <br> <br> <br> <br>2<br>0<br>2<br>1<br>-<br>2<br>0<br>2<br>2<br>\n<br>R<br>O<br>U<br>N<br>D<br> <br> <br> <br> <br> <br> <br> <br> <br> <br> <br> <br> <br> <br> <br>3<br>1<br>\n<br>N<br>a<br>m<br>e<br>:<br> <br>2<br>8<br>6<br>4<br>,<br> <br>d<br>t<br>y<br>p<br>e<br>:<br> <br>o<br>b<br>j<br>e<br>c<br>t",
          "O<br>P<br>P<br>O<br>N<br>E<br>N<br>T<br> <br> <br> <br> <br>L<br>i<br>v<br>e<br>r<br>p<br>o<br>o<br>l<br>\n<br>S<br>E<br>A<br>S<br>O<br>N<br> <br> <br> <br> <br> <br> <br>2<br>0<br>2<br>1<br>-<br>2<br>0<br>2<br>2<br>\n<br>R<br>O<br>U<br>N<br>D<br> <br> <br> <br> <br> <br> <br> <br> <br> <br> <br> <br> <br> <br> <br>3<br>2<br>\n<br>N<br>a<br>m<br>e<br>:<br> <br>2<br>8<br>9<br>5<br>,<br> <br>d<br>t<br>y<br>p<br>e<br>:<br> <br>o<br>b<br>j<br>e<br>c<br>t",
          "O<br>P<br>P<br>O<br>N<br>E<br>N<br>T<br> <br> <br> <br> <br> <br>B<br>r<br>i<br>g<br>h<br>t<br>o<br>n<br>\n<br>S<br>E<br>A<br>S<br>O<br>N<br> <br> <br> <br> <br> <br> <br>2<br>0<br>2<br>1<br>-<br>2<br>0<br>2<br>2<br>\n<br>R<br>O<br>U<br>N<br>D<br> <br> <br> <br> <br> <br> <br> <br> <br> <br> <br> <br> <br> <br> <br>3<br>0<br>\n<br>N<br>a<br>m<br>e<br>:<br> <br>2<br>9<br>1<br>8<br>,<br> <br>d<br>t<br>y<br>p<br>e<br>:<br> <br>o<br>b<br>j<br>e<br>c<br>t",
          "O<br>P<br>P<br>O<br>N<br>E<br>N<br>T<br> <br> <br> <br> <br> <br> <br>W<br>a<br>t<br>f<br>o<br>r<br>d<br>\n<br>S<br>E<br>A<br>S<br>O<br>N<br> <br> <br> <br> <br> <br> <br>2<br>0<br>2<br>1<br>-<br>2<br>0<br>2<br>2<br>\n<br>R<br>O<br>U<br>N<br>D<br> <br> <br> <br> <br> <br> <br> <br> <br> <br> <br> <br> <br> <br> <br>3<br>4<br>\n<br>N<br>a<br>m<br>e<br>:<br> <br>2<br>9<br>2<br>6<br>,<br> <br>d<br>t<br>y<br>p<br>e<br>:<br> <br>o<br>b<br>j<br>e<br>c<br>t",
          "O<br>P<br>P<br>O<br>N<br>E<br>N<br>T<br> <br> <br> <br> <br>L<br>e<br>e<br>d<br>s<br> <br>U<br>n<br>i<br>t<br>e<br>d<br>\n<br>S<br>E<br>A<br>S<br>O<br>N<br> <br> <br> <br> <br> <br> <br> <br> <br> <br>2<br>0<br>2<br>1<br>-<br>2<br>0<br>2<br>2<br>\n<br>R<br>O<br>U<br>N<br>D<br> <br> <br> <br> <br> <br> <br> <br> <br> <br> <br> <br> <br> <br> <br> <br> <br> <br>3<br>5<br>\n<br>N<br>a<br>m<br>e<br>:<br> <br>2<br>9<br>5<br>0<br>,<br> <br>d<br>t<br>y<br>p<br>e<br>:<br> <br>o<br>b<br>j<br>e<br>c<br>t",
          "O<br>P<br>P<br>O<br>N<br>E<br>N<br>T<br> <br> <br> <br> <br>N<br>e<br>w<br>c<br>a<br>s<br>t<br>l<br>e<br> <br>U<br>t<br>d<br>\n<br>S<br>E<br>A<br>S<br>O<br>N<br> <br> <br> <br> <br> <br> <br> <br> <br> <br> <br>2<br>0<br>2<br>1<br>-<br>2<br>0<br>2<br>2<br>\n<br>R<br>O<br>U<br>N<br>D<br> <br> <br> <br> <br> <br> <br> <br> <br> <br> <br> <br> <br> <br> <br> <br> <br> <br> <br>3<br>6<br>\n<br>N<br>a<br>m<br>e<br>:<br> <br>2<br>9<br>8<br>0<br>,<br> <br>d<br>t<br>y<br>p<br>e<br>:<br> <br>o<br>b<br>j<br>e<br>c<br>t",
          "O<br>P<br>P<br>O<br>N<br>E<br>N<br>T<br> <br> <br> <br> <br> <br> <br> <br>W<br>o<br>l<br>v<br>e<br>s<br>\n<br>S<br>E<br>A<br>S<br>O<br>N<br> <br> <br> <br> <br> <br> <br>2<br>0<br>2<br>1<br>-<br>2<br>0<br>2<br>2<br>\n<br>R<br>O<br>U<br>N<br>D<br> <br> <br> <br> <br> <br> <br> <br> <br> <br> <br> <br> <br> <br> <br>3<br>3<br>\n<br>N<br>a<br>m<br>e<br>:<br> <br>2<br>9<br>9<br>0<br>,<br> <br>d<br>t<br>y<br>p<br>e<br>:<br> <br>o<br>b<br>j<br>e<br>c<br>t",
          "O<br>P<br>P<br>O<br>N<br>E<br>N<br>T<br> <br> <br> <br> <br> <br>W<br>e<br>s<br>t<br> <br>H<br>a<br>m<br>\n<br>S<br>E<br>A<br>S<br>O<br>N<br> <br> <br> <br> <br> <br> <br>2<br>0<br>2<br>1<br>-<br>2<br>0<br>2<br>2<br>\n<br>R<br>O<br>U<br>N<br>D<br> <br> <br> <br> <br> <br> <br> <br> <br> <br> <br> <br> <br> <br> <br>3<br>7<br>\n<br>N<br>a<br>m<br>e<br>:<br> <br>3<br>0<br>0<br>4<br>,<br> <br>d<br>t<br>y<br>p<br>e<br>:<br> <br>o<br>b<br>j<br>e<br>c<br>t",
          "O<br>P<br>P<br>O<br>N<br>E<br>N<br>T<br> <br> <br> <br> <br>A<br>s<br>t<br>o<br>n<br> <br>V<br>i<br>l<br>l<br>a<br>\n<br>S<br>E<br>A<br>S<br>O<br>N<br> <br> <br> <br> <br> <br> <br> <br> <br>2<br>0<br>2<br>1<br>-<br>2<br>0<br>2<br>2<br>\n<br>R<br>O<br>U<br>N<br>D<br> <br> <br> <br> <br> <br> <br> <br> <br> <br> <br> <br> <br> <br> <br> <br> <br>3<br>8<br>\n<br>N<br>a<br>m<br>e<br>:<br> <br>3<br>0<br>3<br>1<br>,<br> <br>d<br>t<br>y<br>p<br>e<br>:<br> <br>o<br>b<br>j<br>e<br>c<br>t"
         ],
         "type": "scatter",
         "x": [
          null,
          1.4467952970780273,
          1.719151515565274,
          1.6003546673149638,
          2.0097455934521653,
          2.0915699702232238,
          1.9912393792456577,
          1.237433179789844,
          2.094495405870898,
          1.8955715244869258,
          1.7919135991227222,
          1.9334261656120777,
          1.8891828210480943,
          2.1483846512724303,
          1.6953292805564542,
          1.6934655698605567,
          1.9115464459503926,
          1.6249950647377291,
          1.5680963872233273,
          1.6035791044481797,
          1.1715618666027883,
          1.3148394855411318,
          1.7923203916640218,
          1.8492539135185573,
          1.673908016437417,
          1.746029372932823,
          1.2943120145814513,
          2.069199044532685,
          2.062732875754098,
          1.8543079982587867,
          2.423520602302831,
          2.1498582195143507,
          1.7464153346443085,
          1.8608212736444805,
          1.9297422786151825,
          1.7942375501499548,
          1.6143160197346007,
          1.9631982843565994,
          null,
          1.771145537057,
          2.1122204533760316,
          2.1160917865498314,
          2.159901284903465,
          2.298756646026815,
          1.7845016590502487,
          2.1278757783335944,
          2.1793368206679586,
          2.677471854455028,
          2.566392802828977,
          1.767952232644587,
          1.990264447151259,
          2.2788349738558646,
          1.9452128918549811,
          1.9171536440329542,
          2.2681997650068793,
          1.4897582818978659,
          1.6943275844909182,
          1.8377291562679832,
          1.5897057809112902,
          2.555236888051896,
          1.9635932944174095,
          1.5683977687232467,
          1.952421676775223,
          2.562489002887837,
          1.6655811577650792,
          1.579568725147797,
          1.9846433266474874,
          1.8744127163006925,
          1.2820718722618223,
          1.313617790325671,
          1.9097554209732996,
          2.320909049228779,
          1.785481234111805,
          2.381005546338864,
          1.8233021610531925,
          2.4012169727586663,
          null,
          1.8792665220811449,
          2.2619380052740063,
          1.9444806338796674,
          1.5930181223943196,
          1.5789344775414282,
          1.410137159039408,
          1.5428558921413873,
          1.3670844417919885,
          1.7482127669589356,
          1.3948429697619187,
          2.0107419921212077,
          1.3438648623438374,
          1.5357968386357772,
          0.9658575460816138,
          1.507641486508444,
          1.6559008123660903,
          1.2688503179259178,
          2.2328073653862335,
          1.4378669987614612,
          1.4454279610331033,
          1.187118277086192,
          1.623515535680081,
          1.7776247770989468,
          1.3906966226324666,
          1.2968626068045013,
          1.1936684138322815,
          1.3119503403451833,
          1.5278784848809162,
          1.3923461042340326,
          1.374283106077353,
          1.7637910726567387,
          1.5709630207821361,
          1.8874336174556614,
          0.7175446554855944,
          1.7988518817954637,
          0.8198379827402573,
          1.129546554544222,
          null,
          1.6983405904709046,
          1.4044929157062092,
          1.8189540635024724,
          1.9314512595086024,
          1.128046405684352,
          1.6331551025084203,
          1.9148574908625182,
          1.2944906679354198,
          1.9468828158424505,
          1.7775100720374797,
          1.7329646451653804,
          1.5476211028709934,
          1.9363705029008975,
          2.1370447626634834,
          1.749943350703874,
          2.2089879857045815,
          2.5960191379454054,
          2.425409767444612,
          2.1162488529767582,
          1.8427108917545603,
          1.619533651918793,
          2.2067686115565905,
          1.8664390823043484,
          2.30837659445106,
          2.0364639330710497,
          2.3463916466453187,
          2.1066263018186064,
          1.9259392486850329,
          2.28654347305014,
          1.6931380195366263,
          1.8502945003232392,
          2.2605252592367666,
          2.6518982056217153,
          1.9982370022871283,
          2.6462134173786573,
          2.2994559853773207,
          2.1527667385051
         ],
         "xaxis": "x",
         "y": [
          1.7,
          4.2,
          1.6,
          2,
          4.8,
          2.5,
          2.7,
          1,
          4,
          1.6,
          2.2,
          1.9,
          2.7,
          2.6,
          2.5,
          0.9,
          1.7,
          1.5,
          1.4,
          2.5,
          1.1,
          2.8,
          2,
          1.4,
          2.7,
          2.2,
          3,
          3.5,
          1.2,
          3.4,
          1.8,
          3.2,
          2.5,
          1.9,
          0.5,
          2.5,
          1,
          1.6,
          3.2,
          2.9,
          3,
          1.9,
          2.3,
          5.9,
          2.8,
          1.4,
          3.5,
          2.9,
          2.9,
          1.3,
          1,
          2.4,
          2.2,
          2.2,
          1.3,
          3.3,
          1.5,
          1.1,
          1.5,
          2.8,
          2.6,
          2.8,
          2.4,
          2.1,
          2.4,
          0.6,
          2.6,
          2.4,
          0.8,
          2.4,
          3.2,
          2.8,
          4.4,
          0.7,
          3.3,
          3.2,
          1.9,
          0.9,
          1.2,
          1.3,
          1,
          1.6,
          1.4,
          1.4,
          1.7,
          2.9,
          1.3,
          2.2,
          0.9,
          3,
          2.7,
          2,
          0.7,
          3.4,
          1.8,
          1.5,
          2,
          3.5,
          2.2,
          1,
          1.8,
          0.5,
          3.3,
          1.3,
          2.6,
          2.2,
          1.4,
          2.1,
          1.2,
          1.7,
          1.8,
          1.5,
          0.9,
          2.5,
          2,
          2.7,
          4,
          3.3,
          1.2,
          1.4,
          1.7,
          2.2,
          4,
          1.1,
          2.3,
          2.6,
          2.4,
          1.2,
          3.5,
          3.5,
          3.2,
          2.9,
          3.9,
          1,
          2.2,
          0.9,
          1.9,
          1.8,
          4.9,
          2.6,
          1.9,
          3.1,
          2.9,
          2,
          1.6,
          1.6,
          3.9,
          2.5,
          3.3,
          2.8,
          2.9,
          3.7
         ],
         "yaxis": "y"
        },
        {
         "marker": {
          "color": [
           "#EF0107",
           "#0073C2",
           "#FDB913",
           "#000000",
           "#FFFFFF",
           "#0047A0",
           "#0057B8",
           "#C8102E",
           "#6C1D45",
           "#001C58",
           "#D71920",
           "#E20E2D",
           "#7A263A",
           "#E62333",
           "#FBEE23",
           "#034694",
           "#003399",
           "#1B458F",
           "#0053A0",
           "#D71920",
           "#C8102E",
           "#FDB913",
           "#0073C2",
           "#000000",
           "#EF0107",
           "#003399",
           "#034694",
           "#7A263A",
           "#E62333",
           "#FBEE23",
           "#FFFFFF",
           "#0047A0",
           "#1B458F",
           "#001C58",
           "#E20E2D",
           "#6C1D45",
           "#0053A0",
           "#0057B8",
           "#7A263A",
           "#001C58",
           "#E62333",
           "#0057B8",
           "#00A650",
           "#FBEE23",
           "#003399",
           "#FDB913",
           "#1B458F",
           "#95BFE5",
           "#D71920",
           "#C8102E",
           "#034694",
           "#000000",
           "#6C1D45",
           "#E20E2D",
           "#EF0107",
           "#0053A0",
           "#FDB913",
           "#EE2737",
           "#003399",
           "#95BFE5",
           "#1B458F",
           "#EE2737",
           "#001C58",
           "#7A263A",
           "#0053A0",
           "#E20E2D",
           "#EF0107",
           "#6C1D45",
           "#034694",
           "#C8102E",
           "#D71920",
           "#000000",
           "#0057B8",
           "#E62333",
           "#FBEE23",
           "#00A650",
           "#FDB913",
           "#0053A0",
           "#FFCD00",
           "#EF0107",
           "#7A263A",
           "#EE2737",
           "#C8102E",
           "#001C58",
           "#6C1D45",
           "#FFFFFF",
           "#E20E2D",
           "#091453",
           "#D71920",
           "#000000",
           "#034694",
           "#0057B8",
           "#1B458F",
           "#95BFE5",
           "#091453",
           "#EE2737",
           "#6C1D45",
           "#C8102E",
           "#001C58",
           "#003399",
           "#EF0107",
           "#7A263A",
           "#FDB913",
           "#E20E2D",
           "#D71920",
           "#FFFFFF",
           "#0053A0",
           "#FFCD00",
           "#95BFE5",
           "#1B458F",
           "#034694",
           "#000000",
           "#0057B8",
           "#003399",
           "#001C58",
           "#00A650",
           "#EF0107",
           "#0053A0",
           "#D71920",
           "#034694",
           "#C8102E",
           "#6C1D45",
           "#0057B8",
           "#1B458F",
           "#E20E2D",
           "#003399",
           "#7A263A",
           "#95BFE5",
           "#FBEE23",
           "#FDB913",
           "#FFCD00",
           "#000000",
           "#0053A0",
           "#FFD700",
           "#EF0107",
           "#034694",
           "#D71920",
           "#FFD700",
           "#00A650",
           "#001C58",
           "#003399",
           "#E20E2D",
           "#1B458F",
           "#6C1D45",
           "#C8102E",
           "#0057B8",
           "#FBEE23",
           "#FFCD00",
           "#000000",
           "#FDB913",
           "#7A263A",
           "#95BFE5"
          ]
         },
         "mode": "markers",
         "showlegend": false,
         "text": [
          "O<br>P<br>P<br>O<br>N<br>E<br>N<br>T<br> <br> <br> <br> <br> <br> <br>A<br>r<br>s<br>e<br>n<br>a<br>l<br>\n<br>S<br>E<br>A<br>S<br>O<br>N<br> <br> <br> <br> <br> <br> <br>2<br>0<br>1<br>8<br>-<br>2<br>0<br>1<br>9<br>\n<br>R<br>O<br>U<br>N<br>D<br> <br> <br> <br> <br> <br> <br> <br> <br> <br> <br> <br> <br> <br> <br> <br>1<br>\n<br>N<br>a<br>m<br>e<br>:<br> <br>1<br>7<br>,<br> <br>d<br>t<br>y<br>p<br>e<br>:<br> <br>o<br>b<br>j<br>e<br>c<br>t",
          "O<br>P<br>P<br>O<br>N<br>E<br>N<br>T<br> <br> <br> <br> <br>H<br>u<br>d<br>d<br>e<br>r<br>s<br>f<br>i<br>e<br>l<br>d<br>\n<br>S<br>E<br>A<br>S<br>O<br>N<br> <br> <br> <br> <br> <br> <br> <br> <br> <br>2<br>0<br>1<br>8<br>-<br>2<br>0<br>1<br>9<br>\n<br>R<br>O<br>U<br>N<br>D<br> <br> <br> <br> <br> <br> <br> <br> <br> <br> <br> <br> <br> <br> <br> <br> <br> <br> <br>2<br>\n<br>N<br>a<br>m<br>e<br>:<br> <br>3<br>5<br>,<br> <br>d<br>t<br>y<br>p<br>e<br>:<br> <br>o<br>b<br>j<br>e<br>c<br>t",
          "O<br>P<br>P<br>O<br>N<br>E<br>N<br>T<br> <br> <br> <br> <br> <br> <br> <br>W<br>o<br>l<br>v<br>e<br>s<br>\n<br>S<br>E<br>A<br>S<br>O<br>N<br> <br> <br> <br> <br> <br> <br>2<br>0<br>1<br>8<br>-<br>2<br>0<br>1<br>9<br>\n<br>R<br>O<br>U<br>N<br>D<br> <br> <br> <br> <br> <br> <br> <br> <br> <br> <br> <br> <br> <br> <br> <br>3<br>\n<br>N<br>a<br>m<br>e<br>:<br> <br>4<br>8<br>,<br> <br>d<br>t<br>y<br>p<br>e<br>:<br> <br>o<br>b<br>j<br>e<br>c<br>t",
          "O<br>P<br>P<br>O<br>N<br>E<br>N<br>T<br> <br> <br> <br> <br>N<br>e<br>w<br>c<br>a<br>s<br>t<br>l<br>e<br> <br>U<br>t<br>d<br>\n<br>S<br>E<br>A<br>S<br>O<br>N<br> <br> <br> <br> <br> <br> <br> <br> <br> <br> <br>2<br>0<br>1<br>8<br>-<br>2<br>0<br>1<br>9<br>\n<br>R<br>O<br>U<br>N<br>D<br> <br> <br> <br> <br> <br> <br> <br> <br> <br> <br> <br> <br> <br> <br> <br> <br> <br> <br> <br>4<br>\n<br>N<br>a<br>m<br>e<br>:<br> <br>6<br>9<br>,<br> <br>d<br>t<br>y<br>p<br>e<br>:<br> <br>o<br>b<br>j<br>e<br>c<br>t",
          "O<br>P<br>P<br>O<br>N<br>E<br>N<br>T<br> <br> <br> <br> <br> <br> <br> <br>F<br>u<br>l<br>h<br>a<br>m<br>\n<br>S<br>E<br>A<br>S<br>O<br>N<br> <br> <br> <br> <br> <br> <br>2<br>0<br>1<br>8<br>-<br>2<br>0<br>1<br>9<br>\n<br>R<br>O<br>U<br>N<br>D<br> <br> <br> <br> <br> <br> <br> <br> <br> <br> <br> <br> <br> <br> <br> <br>5<br>\n<br>N<br>a<br>m<br>e<br>:<br> <br>8<br>9<br>,<br> <br>d<br>t<br>y<br>p<br>e<br>:<br> <br>o<br>b<br>j<br>e<br>c<br>t",
          "O<br>P<br>P<br>O<br>N<br>E<br>N<br>T<br> <br> <br> <br> <br>C<br>a<br>r<br>d<br>i<br>f<br>f<br> <br>C<br>i<br>t<br>y<br>\n<br>S<br>E<br>A<br>S<br>O<br>N<br> <br> <br> <br> <br> <br> <br> <br> <br> <br>2<br>0<br>1<br>8<br>-<br>2<br>0<br>1<br>9<br>\n<br>R<br>O<br>U<br>N<br>D<br> <br> <br> <br> <br> <br> <br> <br> <br> <br> <br> <br> <br> <br> <br> <br> <br> <br> <br>6<br>\n<br>N<br>a<br>m<br>e<br>:<br> <br>1<br>0<br>9<br>,<br> <br>d<br>t<br>y<br>p<br>e<br>:<br> <br>o<br>b<br>j<br>e<br>c<br>t",
          "O<br>P<br>P<br>O<br>N<br>E<br>N<br>T<br> <br> <br> <br> <br> <br>B<br>r<br>i<br>g<br>h<br>t<br>o<br>n<br>\n<br>S<br>E<br>A<br>S<br>O<br>N<br> <br> <br> <br> <br> <br> <br>2<br>0<br>1<br>8<br>-<br>2<br>0<br>1<br>9<br>\n<br>R<br>O<br>U<br>N<br>D<br> <br> <br> <br> <br> <br> <br> <br> <br> <br> <br> <br> <br> <br> <br> <br>7<br>\n<br>N<br>a<br>m<br>e<br>:<br> <br>1<br>2<br>8<br>,<br> <br>d<br>t<br>y<br>p<br>e<br>:<br> <br>o<br>b<br>j<br>e<br>c<br>t",
          "O<br>P<br>P<br>O<br>N<br>E<br>N<br>T<br> <br> <br> <br> <br>L<br>i<br>v<br>e<br>r<br>p<br>o<br>o<br>l<br>\n<br>S<br>E<br>A<br>S<br>O<br>N<br> <br> <br> <br> <br> <br> <br>2<br>0<br>1<br>8<br>-<br>2<br>0<br>1<br>9<br>\n<br>R<br>O<br>U<br>N<br>D<br> <br> <br> <br> <br> <br> <br> <br> <br> <br> <br> <br> <br> <br> <br> <br>8<br>\n<br>N<br>a<br>m<br>e<br>:<br> <br>1<br>5<br>8<br>,<br> <br>d<br>t<br>y<br>p<br>e<br>:<br> <br>o<br>b<br>j<br>e<br>c<br>t",
          "O<br>P<br>P<br>O<br>N<br>E<br>N<br>T<br> <br> <br> <br> <br> <br> <br>B<br>u<br>r<br>n<br>l<br>e<br>y<br>\n<br>S<br>E<br>A<br>S<br>O<br>N<br> <br> <br> <br> <br> <br> <br>2<br>0<br>1<br>8<br>-<br>2<br>0<br>1<br>9<br>\n<br>R<br>O<br>U<br>N<br>D<br> <br> <br> <br> <br> <br> <br> <br> <br> <br> <br> <br> <br> <br> <br> <br>9<br>\n<br>N<br>a<br>m<br>e<br>:<br> <br>1<br>6<br>8<br>,<br> <br>d<br>t<br>y<br>p<br>e<br>:<br> <br>o<br>b<br>j<br>e<br>c<br>t",
          "O<br>P<br>P<br>O<br>N<br>E<br>N<br>T<br> <br> <br> <br> <br>T<br>o<br>t<br>t<br>e<br>n<br>h<br>a<br>m<br>\n<br>S<br>E<br>A<br>S<br>O<br>N<br> <br> <br> <br> <br> <br> <br>2<br>0<br>1<br>8<br>-<br>2<br>0<br>1<br>9<br>\n<br>R<br>O<br>U<br>N<br>D<br> <br> <br> <br> <br> <br> <br> <br> <br> <br> <br> <br> <br> <br> <br>1<br>0<br>\n<br>N<br>a<br>m<br>e<br>:<br> <br>1<br>9<br>8<br>,<br> <br>d<br>t<br>y<br>p<br>e<br>:<br> <br>o<br>b<br>j<br>e<br>c<br>t",
          "O<br>P<br>P<br>O<br>N<br>E<br>N<br>T<br> <br> <br> <br> <br>S<br>o<br>u<br>t<br>h<br>a<br>m<br>p<br>t<br>o<br>n<br>\n<br>S<br>E<br>A<br>S<br>O<br>N<br> <br> <br> <br> <br> <br> <br> <br> <br>2<br>0<br>1<br>8<br>-<br>2<br>0<br>1<br>9<br>\n<br>R<br>O<br>U<br>N<br>D<br> <br> <br> <br> <br> <br> <br> <br> <br> <br> <br> <br> <br> <br> <br> <br> <br>1<br>1<br>\n<br>N<br>a<br>m<br>e<br>:<br> <br>2<br>1<br>6<br>,<br> <br>d<br>t<br>y<br>p<br>e<br>:<br> <br>o<br>b<br>j<br>e<br>c<br>t",
          "O<br>P<br>P<br>O<br>N<br>E<br>N<br>T<br> <br> <br> <br> <br>M<br>a<br>n<br>c<br>h<br>e<br>s<br>t<br>e<br>r<br> <br>U<br>t<br>d<br>\n<br>S<br>E<br>A<br>S<br>O<br>N<br> <br> <br> <br> <br> <br> <br> <br> <br> <br> <br> <br>2<br>0<br>1<br>8<br>-<br>2<br>0<br>1<br>9<br>\n<br>R<br>O<br>U<br>N<br>D<br> <br> <br> <br> <br> <br> <br> <br> <br> <br> <br> <br> <br> <br> <br> <br> <br> <br> <br> <br>1<br>2<br>\n<br>N<br>a<br>m<br>e<br>:<br> <br>2<br>3<br>7<br>,<br> <br>d<br>t<br>y<br>p<br>e<br>:<br> <br>o<br>b<br>j<br>e<br>c<br>t",
          "O<br>P<br>P<br>O<br>N<br>E<br>N<br>T<br> <br> <br> <br> <br> <br>W<br>e<br>s<br>t<br> <br>H<br>a<br>m<br>\n<br>S<br>E<br>A<br>S<br>O<br>N<br> <br> <br> <br> <br> <br> <br>2<br>0<br>1<br>8<br>-<br>2<br>0<br>1<br>9<br>\n<br>R<br>O<br>U<br>N<br>D<br> <br> <br> <br> <br> <br> <br> <br> <br> <br> <br> <br> <br> <br> <br>1<br>3<br>\n<br>N<br>a<br>m<br>e<br>:<br> <br>2<br>4<br>8<br>,<br> <br>d<br>t<br>y<br>p<br>e<br>:<br> <br>o<br>b<br>j<br>e<br>c<br>t",
          "O<br>P<br>P<br>O<br>N<br>E<br>N<br>T<br> <br> <br> <br> <br>B<br>o<br>u<br>r<br>n<br>e<br>m<br>o<br>u<br>t<br>h<br>\n<br>S<br>E<br>A<br>S<br>O<br>N<br> <br> <br> <br> <br> <br> <br> <br> <br>2<br>0<br>1<br>8<br>-<br>2<br>0<br>1<br>9<br>\n<br>R<br>O<br>U<br>N<br>D<br> <br> <br> <br> <br> <br> <br> <br> <br> <br> <br> <br> <br> <br> <br> <br> <br>1<br>4<br>\n<br>N<br>a<br>m<br>e<br>:<br> <br>2<br>6<br>8<br>,<br> <br>d<br>t<br>y<br>p<br>e<br>:<br> <br>o<br>b<br>j<br>e<br>c<br>t",
          "O<br>P<br>P<br>O<br>N<br>E<br>N<br>T<br> <br> <br> <br> <br> <br> <br>W<br>a<br>t<br>f<br>o<br>r<br>d<br>\n<br>S<br>E<br>A<br>S<br>O<br>N<br> <br> <br> <br> <br> <br> <br>2<br>0<br>1<br>8<br>-<br>2<br>0<br>1<br>9<br>\n<br>R<br>O<br>U<br>N<br>D<br> <br> <br> <br> <br> <br> <br> <br> <br> <br> <br> <br> <br> <br> <br>1<br>5<br>\n<br>N<br>a<br>m<br>e<br>:<br> <br>2<br>8<br>5<br>,<br> <br>d<br>t<br>y<br>p<br>e<br>:<br> <br>o<br>b<br>j<br>e<br>c<br>t",
          "O<br>P<br>P<br>O<br>N<br>E<br>N<br>T<br> <br> <br> <br> <br> <br> <br>C<br>h<br>e<br>l<br>s<br>e<br>a<br>\n<br>S<br>E<br>A<br>S<br>O<br>N<br> <br> <br> <br> <br> <br> <br>2<br>0<br>1<br>8<br>-<br>2<br>0<br>1<br>9<br>\n<br>R<br>O<br>U<br>N<br>D<br> <br> <br> <br> <br> <br> <br> <br> <br> <br> <br> <br> <br> <br> <br>1<br>6<br>\n<br>N<br>a<br>m<br>e<br>:<br> <br>3<br>1<br>1<br>,<br> <br>d<br>t<br>y<br>p<br>e<br>:<br> <br>o<br>b<br>j<br>e<br>c<br>t",
          "O<br>P<br>P<br>O<br>N<br>E<br>N<br>T<br> <br> <br> <br> <br> <br> <br>E<br>v<br>e<br>r<br>t<br>o<br>n<br>\n<br>S<br>E<br>A<br>S<br>O<br>N<br> <br> <br> <br> <br> <br> <br>2<br>0<br>1<br>8<br>-<br>2<br>0<br>1<br>9<br>\n<br>R<br>O<br>U<br>N<br>D<br> <br> <br> <br> <br> <br> <br> <br> <br> <br> <br> <br> <br> <br> <br>1<br>7<br>\n<br>N<br>a<br>m<br>e<br>:<br> <br>3<br>2<br>8<br>,<br> <br>d<br>t<br>y<br>p<br>e<br>:<br> <br>o<br>b<br>j<br>e<br>c<br>t",
          "O<br>P<br>P<br>O<br>N<br>E<br>N<br>T<br> <br> <br> <br> <br>C<br>r<br>y<br>s<br>t<br>a<br>l<br> <br>P<br>a<br>l<br>a<br>c<br>e<br>\n<br>S<br>E<br>A<br>S<br>O<br>N<br> <br> <br> <br> <br> <br> <br> <br> <br> <br> <br> <br>2<br>0<br>1<br>8<br>-<br>2<br>0<br>1<br>9<br>\n<br>R<br>O<br>U<br>N<br>D<br> <br> <br> <br> <br> <br> <br> <br> <br> <br> <br> <br> <br> <br> <br> <br> <br> <br> <br> <br>1<br>8<br>\n<br>N<br>a<br>m<br>e<br>:<br> <br>3<br>5<br>2<br>,<br> <br>d<br>t<br>y<br>p<br>e<br>:<br> <br>o<br>b<br>j<br>e<br>c<br>t",
          "O<br>P<br>P<br>O<br>N<br>E<br>N<br>T<br> <br> <br> <br> <br>L<br>e<br>i<br>c<br>e<br>s<br>t<br>e<br>r<br> <br>C<br>i<br>t<br>y<br>\n<br>S<br>E<br>A<br>S<br>O<br>N<br> <br> <br> <br> <br> <br> <br> <br> <br> <br> <br> <br>2<br>0<br>1<br>8<br>-<br>2<br>0<br>1<br>9<br>\n<br>R<br>O<br>U<br>N<br>D<br> <br> <br> <br> <br> <br> <br> <br> <br> <br> <br> <br> <br> <br> <br> <br> <br> <br> <br> <br>1<br>9<br>\n<br>N<br>a<br>m<br>e<br>:<br> <br>3<br>7<br>2<br>,<br> <br>d<br>t<br>y<br>p<br>e<br>:<br> <br>o<br>b<br>j<br>e<br>c<br>t",
          "O<br>P<br>P<br>O<br>N<br>E<br>N<br>T<br> <br> <br> <br> <br>S<br>o<br>u<br>t<br>h<br>a<br>m<br>p<br>t<br>o<br>n<br>\n<br>S<br>E<br>A<br>S<br>O<br>N<br> <br> <br> <br> <br> <br> <br> <br> <br>2<br>0<br>1<br>8<br>-<br>2<br>0<br>1<br>9<br>\n<br>R<br>O<br>U<br>N<br>D<br> <br> <br> <br> <br> <br> <br> <br> <br> <br> <br> <br> <br> <br> <br> <br> <br>2<br>0<br>\n<br>N<br>a<br>m<br>e<br>:<br> <br>3<br>9<br>6<br>,<br> <br>d<br>t<br>y<br>p<br>e<br>:<br> <br>o<br>b<br>j<br>e<br>c<br>t",
          "O<br>P<br>P<br>O<br>N<br>E<br>N<br>T<br> <br> <br> <br> <br>L<br>i<br>v<br>e<br>r<br>p<br>o<br>o<br>l<br>\n<br>S<br>E<br>A<br>S<br>O<br>N<br> <br> <br> <br> <br> <br> <br>2<br>0<br>1<br>8<br>-<br>2<br>0<br>1<br>9<br>\n<br>R<br>O<br>U<br>N<br>D<br> <br> <br> <br> <br> <br> <br> <br> <br> <br> <br> <br> <br> <br> <br>2<br>1<br>\n<br>N<br>a<br>m<br>e<br>:<br> <br>4<br>1<br>9<br>,<br> <br>d<br>t<br>y<br>p<br>e<br>:<br> <br>o<br>b<br>j<br>e<br>c<br>t",
          "O<br>P<br>P<br>O<br>N<br>E<br>N<br>T<br> <br> <br> <br> <br> <br> <br> <br>W<br>o<br>l<br>v<br>e<br>s<br>\n<br>S<br>E<br>A<br>S<br>O<br>N<br> <br> <br> <br> <br> <br> <br>2<br>0<br>1<br>8<br>-<br>2<br>0<br>1<br>9<br>\n<br>R<br>O<br>U<br>N<br>D<br> <br> <br> <br> <br> <br> <br> <br> <br> <br> <br> <br> <br> <br> <br>2<br>2<br>\n<br>N<br>a<br>m<br>e<br>:<br> <br>4<br>3<br>8<br>,<br> <br>d<br>t<br>y<br>p<br>e<br>:<br> <br>o<br>b<br>j<br>e<br>c<br>t",
          "O<br>P<br>P<br>O<br>N<br>E<br>N<br>T<br> <br> <br> <br> <br>H<br>u<br>d<br>d<br>e<br>r<br>s<br>f<br>i<br>e<br>l<br>d<br>\n<br>S<br>E<br>A<br>S<br>O<br>N<br> <br> <br> <br> <br> <br> <br> <br> <br> <br>2<br>0<br>1<br>8<br>-<br>2<br>0<br>1<br>9<br>\n<br>R<br>O<br>U<br>N<br>D<br> <br> <br> <br> <br> <br> <br> <br> <br> <br> <br> <br> <br> <br> <br> <br> <br> <br>2<br>3<br>\n<br>N<br>a<br>m<br>e<br>:<br> <br>4<br>5<br>8<br>,<br> <br>d<br>t<br>y<br>p<br>e<br>:<br> <br>o<br>b<br>j<br>e<br>c<br>t",
          "O<br>P<br>P<br>O<br>N<br>E<br>N<br>T<br> <br> <br> <br> <br>N<br>e<br>w<br>c<br>a<br>s<br>t<br>l<br>e<br> <br>U<br>t<br>d<br>\n<br>S<br>E<br>A<br>S<br>O<br>N<br> <br> <br> <br> <br> <br> <br> <br> <br> <br> <br>2<br>0<br>1<br>8<br>-<br>2<br>0<br>1<br>9<br>\n<br>R<br>O<br>U<br>N<br>D<br> <br> <br> <br> <br> <br> <br> <br> <br> <br> <br> <br> <br> <br> <br> <br> <br> <br> <br>2<br>4<br>\n<br>N<br>a<br>m<br>e<br>:<br> <br>4<br>6<br>7<br>,<br> <br>d<br>t<br>y<br>p<br>e<br>:<br> <br>o<br>b<br>j<br>e<br>c<br>t",
          "O<br>P<br>P<br>O<br>N<br>E<br>N<br>T<br> <br> <br> <br> <br> <br> <br>A<br>r<br>s<br>e<br>n<br>a<br>l<br>\n<br>S<br>E<br>A<br>S<br>O<br>N<br> <br> <br> <br> <br> <br> <br>2<br>0<br>1<br>8<br>-<br>2<br>0<br>1<br>9<br>\n<br>R<br>O<br>U<br>N<br>D<br> <br> <br> <br> <br> <br> <br> <br> <br> <br> <br> <br> <br> <br> <br>2<br>5<br>\n<br>N<br>a<br>m<br>e<br>:<br> <br>4<br>9<br>6<br>,<br> <br>d<br>t<br>y<br>p<br>e<br>:<br> <br>o<br>b<br>j<br>e<br>c<br>t",
          "O<br>P<br>P<br>O<br>N<br>E<br>N<br>T<br> <br> <br> <br> <br> <br> <br>E<br>v<br>e<br>r<br>t<br>o<br>n<br>\n<br>S<br>E<br>A<br>S<br>O<br>N<br> <br> <br> <br> <br> <br> <br>2<br>0<br>1<br>8<br>-<br>2<br>0<br>1<br>9<br>\n<br>R<br>O<br>U<br>N<br>D<br> <br> <br> <br> <br> <br> <br> <br> <br> <br> <br> <br> <br> <br> <br>2<br>7<br>\n<br>N<br>a<br>m<br>e<br>:<br> <br>5<br>0<br>1<br>,<br> <br>d<br>t<br>y<br>p<br>e<br>:<br> <br>o<br>b<br>j<br>e<br>c<br>t",
          "O<br>P<br>P<br>O<br>N<br>E<br>N<br>T<br> <br> <br> <br> <br> <br> <br>C<br>h<br>e<br>l<br>s<br>e<br>a<br>\n<br>S<br>E<br>A<br>S<br>O<br>N<br> <br> <br> <br> <br> <br> <br>2<br>0<br>1<br>8<br>-<br>2<br>0<br>1<br>9<br>\n<br>R<br>O<br>U<br>N<br>D<br> <br> <br> <br> <br> <br> <br> <br> <br> <br> <br> <br> <br> <br> <br>2<br>6<br>\n<br>N<br>a<br>m<br>e<br>:<br> <br>5<br>1<br>8<br>,<br> <br>d<br>t<br>y<br>p<br>e<br>:<br> <br>o<br>b<br>j<br>e<br>c<br>t",
          "O<br>P<br>P<br>O<br>N<br>E<br>N<br>T<br> <br> <br> <br> <br> <br>W<br>e<br>s<br>t<br> <br>H<br>a<br>m<br>\n<br>S<br>E<br>A<br>S<br>O<br>N<br> <br> <br> <br> <br> <br> <br>2<br>0<br>1<br>8<br>-<br>2<br>0<br>1<br>9<br>\n<br>R<br>O<br>U<br>N<br>D<br> <br> <br> <br> <br> <br> <br> <br> <br> <br> <br> <br> <br> <br> <br>2<br>8<br>\n<br>N<br>a<br>m<br>e<br>:<br> <br>5<br>5<br>2<br>,<br> <br>d<br>t<br>y<br>p<br>e<br>:<br> <br>o<br>b<br>j<br>e<br>c<br>t",
          "O<br>P<br>P<br>O<br>N<br>E<br>N<br>T<br> <br> <br> <br> <br>B<br>o<br>u<br>r<br>n<br>e<br>m<br>o<br>u<br>t<br>h<br>\n<br>S<br>E<br>A<br>S<br>O<br>N<br> <br> <br> <br> <br> <br> <br> <br> <br>2<br>0<br>1<br>8<br>-<br>2<br>0<br>1<br>9<br>\n<br>R<br>O<br>U<br>N<br>D<br> <br> <br> <br> <br> <br> <br> <br> <br> <br> <br> <br> <br> <br> <br> <br> <br>2<br>9<br>\n<br>N<br>a<br>m<br>e<br>:<br> <br>5<br>6<br>5<br>,<br> <br>d<br>t<br>y<br>p<br>e<br>:<br> <br>o<br>b<br>j<br>e<br>c<br>t",
          "O<br>P<br>P<br>O<br>N<br>E<br>N<br>T<br> <br> <br> <br> <br> <br> <br>W<br>a<br>t<br>f<br>o<br>r<br>d<br>\n<br>S<br>E<br>A<br>S<br>O<br>N<br> <br> <br> <br> <br> <br> <br>2<br>0<br>1<br>8<br>-<br>2<br>0<br>1<br>9<br>\n<br>R<br>O<br>U<br>N<br>D<br> <br> <br> <br> <br> <br> <br> <br> <br> <br> <br> <br> <br> <br> <br>3<br>0<br>\n<br>N<br>a<br>m<br>e<br>:<br> <br>5<br>8<br>6<br>,<br> <br>d<br>t<br>y<br>p<br>e<br>:<br> <br>o<br>b<br>j<br>e<br>c<br>t",
          "O<br>P<br>P<br>O<br>N<br>E<br>N<br>T<br> <br> <br> <br> <br> <br> <br> <br>F<br>u<br>l<br>h<br>a<br>m<br>\n<br>S<br>E<br>A<br>S<br>O<br>N<br> <br> <br> <br> <br> <br> <br>2<br>0<br>1<br>8<br>-<br>2<br>0<br>1<br>9<br>\n<br>R<br>O<br>U<br>N<br>D<br> <br> <br> <br> <br> <br> <br> <br> <br> <br> <br> <br> <br> <br> <br>3<br>2<br>\n<br>N<br>a<br>m<br>e<br>:<br> <br>6<br>1<br>6<br>,<br> <br>d<br>t<br>y<br>p<br>e<br>:<br> <br>o<br>b<br>j<br>e<br>c<br>t",
          "O<br>P<br>P<br>O<br>N<br>E<br>N<br>T<br> <br> <br> <br> <br>C<br>a<br>r<br>d<br>i<br>f<br>f<br> <br>C<br>i<br>t<br>y<br>\n<br>S<br>E<br>A<br>S<br>O<br>N<br> <br> <br> <br> <br> <br> <br> <br> <br> <br>2<br>0<br>1<br>8<br>-<br>2<br>0<br>1<br>9<br>\n<br>R<br>O<br>U<br>N<br>D<br> <br> <br> <br> <br> <br> <br> <br> <br> <br> <br> <br> <br> <br> <br> <br> <br> <br>3<br>3<br>\n<br>N<br>a<br>m<br>e<br>:<br> <br>6<br>3<br>6<br>,<br> <br>d<br>t<br>y<br>p<br>e<br>:<br> <br>o<br>b<br>j<br>e<br>c<br>t",
          "O<br>P<br>P<br>O<br>N<br>E<br>N<br>T<br> <br> <br> <br> <br>C<br>r<br>y<br>s<br>t<br>a<br>l<br> <br>P<br>a<br>l<br>a<br>c<br>e<br>\n<br>S<br>E<br>A<br>S<br>O<br>N<br> <br> <br> <br> <br> <br> <br> <br> <br> <br> <br> <br>2<br>0<br>1<br>8<br>-<br>2<br>0<br>1<br>9<br>\n<br>R<br>O<br>U<br>N<br>D<br> <br> <br> <br> <br> <br> <br> <br> <br> <br> <br> <br> <br> <br> <br> <br> <br> <br> <br> <br>3<br>4<br>\n<br>N<br>a<br>m<br>e<br>:<br> <br>6<br>6<br>7<br>,<br> <br>d<br>t<br>y<br>p<br>e<br>:<br> <br>o<br>b<br>j<br>e<br>c<br>t",
          "O<br>P<br>P<br>O<br>N<br>E<br>N<br>T<br> <br> <br> <br> <br>T<br>o<br>t<br>t<br>e<br>n<br>h<br>a<br>m<br>\n<br>S<br>E<br>A<br>S<br>O<br>N<br> <br> <br> <br> <br> <br> <br>2<br>0<br>1<br>8<br>-<br>2<br>0<br>1<br>9<br>\n<br>R<br>O<br>U<br>N<br>D<br> <br> <br> <br> <br> <br> <br> <br> <br> <br> <br> <br> <br> <br> <br>3<br>5<br>\n<br>N<br>a<br>m<br>e<br>:<br> <br>6<br>7<br>7<br>,<br> <br>d<br>t<br>y<br>p<br>e<br>:<br> <br>o<br>b<br>j<br>e<br>c<br>t",
          "O<br>P<br>P<br>O<br>N<br>E<br>N<br>T<br> <br> <br> <br> <br>M<br>a<br>n<br>c<br>h<br>e<br>s<br>t<br>e<br>r<br> <br>U<br>t<br>d<br>\n<br>S<br>E<br>A<br>S<br>O<br>N<br> <br> <br> <br> <br> <br> <br> <br> <br> <br> <br> <br>2<br>0<br>1<br>8<br>-<br>2<br>0<br>1<br>9<br>\n<br>R<br>O<br>U<br>N<br>D<br> <br> <br> <br> <br> <br> <br> <br> <br> <br> <br> <br> <br> <br> <br> <br> <br> <br> <br> <br>3<br>1<br>\n<br>N<br>a<br>m<br>e<br>:<br> <br>6<br>9<br>7<br>,<br> <br>d<br>t<br>y<br>p<br>e<br>:<br> <br>o<br>b<br>j<br>e<br>c<br>t",
          "O<br>P<br>P<br>O<br>N<br>E<br>N<br>T<br> <br> <br> <br> <br> <br> <br>B<br>u<br>r<br>n<br>l<br>e<br>y<br>\n<br>S<br>E<br>A<br>S<br>O<br>N<br> <br> <br> <br> <br> <br> <br>2<br>0<br>1<br>8<br>-<br>2<br>0<br>1<br>9<br>\n<br>R<br>O<br>U<br>N<br>D<br> <br> <br> <br> <br> <br> <br> <br> <br> <br> <br> <br> <br> <br> <br>3<br>6<br>\n<br>N<br>a<br>m<br>e<br>:<br> <br>7<br>1<br>8<br>,<br> <br>d<br>t<br>y<br>p<br>e<br>:<br> <br>o<br>b<br>j<br>e<br>c<br>t",
          "O<br>P<br>P<br>O<br>N<br>E<br>N<br>T<br> <br> <br> <br> <br>L<br>e<br>i<br>c<br>e<br>s<br>t<br>e<br>r<br> <br>C<br>i<br>t<br>y<br>\n<br>S<br>E<br>A<br>S<br>O<br>N<br> <br> <br> <br> <br> <br> <br> <br> <br> <br> <br> <br>2<br>0<br>1<br>8<br>-<br>2<br>0<br>1<br>9<br>\n<br>R<br>O<br>U<br>N<br>D<br> <br> <br> <br> <br> <br> <br> <br> <br> <br> <br> <br> <br> <br> <br> <br> <br> <br> <br> <br>3<br>7<br>\n<br>N<br>a<br>m<br>e<br>:<br> <br>7<br>3<br>9<br>,<br> <br>d<br>t<br>y<br>p<br>e<br>:<br> <br>o<br>b<br>j<br>e<br>c<br>t",
          "O<br>P<br>P<br>O<br>N<br>E<br>N<br>T<br> <br> <br> <br> <br> <br>B<br>r<br>i<br>g<br>h<br>t<br>o<br>n<br>\n<br>S<br>E<br>A<br>S<br>O<br>N<br> <br> <br> <br> <br> <br> <br>2<br>0<br>1<br>8<br>-<br>2<br>0<br>1<br>9<br>\n<br>R<br>O<br>U<br>N<br>D<br> <br> <br> <br> <br> <br> <br> <br> <br> <br> <br> <br> <br> <br> <br>3<br>8<br>\n<br>N<br>a<br>m<br>e<br>:<br> <br>7<br>5<br>2<br>,<br> <br>d<br>t<br>y<br>p<br>e<br>:<br> <br>o<br>b<br>j<br>e<br>c<br>t",
          "O<br>P<br>P<br>O<br>N<br>E<br>N<br>T<br> <br> <br> <br> <br> <br>W<br>e<br>s<br>t<br> <br>H<br>a<br>m<br>\n<br>S<br>E<br>A<br>S<br>O<br>N<br> <br> <br> <br> <br> <br> <br>2<br>0<br>1<br>9<br>-<br>2<br>0<br>2<br>0<br>\n<br>R<br>O<br>U<br>N<br>D<br> <br> <br> <br> <br> <br> <br> <br> <br> <br> <br> <br> <br> <br> <br> <br>1<br>\n<br>N<br>a<br>m<br>e<br>:<br> <br>7<br>6<br>8<br>,<br> <br>d<br>t<br>y<br>p<br>e<br>:<br> <br>o<br>b<br>j<br>e<br>c<br>t",
          "O<br>P<br>P<br>O<br>N<br>E<br>N<br>T<br> <br> <br> <br> <br>T<br>o<br>t<br>t<br>e<br>n<br>h<br>a<br>m<br>\n<br>S<br>E<br>A<br>S<br>O<br>N<br> <br> <br> <br> <br> <br> <br>2<br>0<br>1<br>9<br>-<br>2<br>0<br>2<br>0<br>\n<br>R<br>O<br>U<br>N<br>D<br> <br> <br> <br> <br> <br> <br> <br> <br> <br> <br> <br> <br> <br> <br> <br>2<br>\n<br>N<br>a<br>m<br>e<br>:<br> <br>7<br>8<br>7<br>,<br> <br>d<br>t<br>y<br>p<br>e<br>:<br> <br>o<br>b<br>j<br>e<br>c<br>t",
          "O<br>P<br>P<br>O<br>N<br>E<br>N<br>T<br> <br> <br> <br> <br>B<br>o<br>u<br>r<br>n<br>e<br>m<br>o<br>u<br>t<br>h<br>\n<br>S<br>E<br>A<br>S<br>O<br>N<br> <br> <br> <br> <br> <br> <br> <br> <br>2<br>0<br>1<br>9<br>-<br>2<br>0<br>2<br>0<br>\n<br>R<br>O<br>U<br>N<br>D<br> <br> <br> <br> <br> <br> <br> <br> <br> <br> <br> <br> <br> <br> <br> <br> <br> <br>3<br>\n<br>N<br>a<br>m<br>e<br>:<br> <br>8<br>1<br>6<br>,<br> <br>d<br>t<br>y<br>p<br>e<br>:<br> <br>o<br>b<br>j<br>e<br>c<br>t",
          "O<br>P<br>P<br>O<br>N<br>E<br>N<br>T<br> <br> <br> <br> <br> <br>B<br>r<br>i<br>g<br>h<br>t<br>o<br>n<br>\n<br>S<br>E<br>A<br>S<br>O<br>N<br> <br> <br> <br> <br> <br> <br>2<br>0<br>1<br>9<br>-<br>2<br>0<br>2<br>0<br>\n<br>R<br>O<br>U<br>N<br>D<br> <br> <br> <br> <br> <br> <br> <br> <br> <br> <br> <br> <br> <br> <br> <br>4<br>\n<br>N<br>a<br>m<br>e<br>:<br> <br>8<br>2<br>8<br>,<br> <br>d<br>t<br>y<br>p<br>e<br>:<br> <br>o<br>b<br>j<br>e<br>c<br>t",
          "O<br>P<br>P<br>O<br>N<br>E<br>N<br>T<br> <br> <br> <br> <br>N<br>o<br>r<br>w<br>i<br>c<br>h<br> <br>C<br>i<br>t<br>y<br>\n<br>S<br>E<br>A<br>S<br>O<br>N<br> <br> <br> <br> <br> <br> <br> <br> <br> <br>2<br>0<br>1<br>9<br>-<br>2<br>0<br>2<br>0<br>\n<br>R<br>O<br>U<br>N<br>D<br> <br> <br> <br> <br> <br> <br> <br> <br> <br> <br> <br> <br> <br> <br> <br> <br> <br> <br>5<br>\n<br>N<br>a<br>m<br>e<br>:<br> <br>8<br>4<br>6<br>,<br> <br>d<br>t<br>y<br>p<br>e<br>:<br> <br>o<br>b<br>j<br>e<br>c<br>t",
          "O<br>P<br>P<br>O<br>N<br>E<br>N<br>T<br> <br> <br> <br> <br> <br> <br>W<br>a<br>t<br>f<br>o<br>r<br>d<br>\n<br>S<br>E<br>A<br>S<br>O<br>N<br> <br> <br> <br> <br> <br> <br>2<br>0<br>1<br>9<br>-<br>2<br>0<br>2<br>0<br>\n<br>R<br>O<br>U<br>N<br>D<br> <br> <br> <br> <br> <br> <br> <br> <br> <br> <br> <br> <br> <br> <br> <br>6<br>\n<br>N<br>a<br>m<br>e<br>:<br> <br>8<br>6<br>6<br>,<br> <br>d<br>t<br>y<br>p<br>e<br>:<br> <br>o<br>b<br>j<br>e<br>c<br>t",
          "O<br>P<br>P<br>O<br>N<br>E<br>N<br>T<br> <br> <br> <br> <br> <br> <br>E<br>v<br>e<br>r<br>t<br>o<br>n<br>\n<br>S<br>E<br>A<br>S<br>O<br>N<br> <br> <br> <br> <br> <br> <br>2<br>0<br>1<br>9<br>-<br>2<br>0<br>2<br>0<br>\n<br>R<br>O<br>U<br>N<br>D<br> <br> <br> <br> <br> <br> <br> <br> <br> <br> <br> <br> <br> <br> <br> <br>7<br>\n<br>N<br>a<br>m<br>e<br>:<br> <br>8<br>8<br>8<br>,<br> <br>d<br>t<br>y<br>p<br>e<br>:<br> <br>o<br>b<br>j<br>e<br>c<br>t",
          "O<br>P<br>P<br>O<br>N<br>E<br>N<br>T<br> <br> <br> <br> <br> <br> <br> <br>W<br>o<br>l<br>v<br>e<br>s<br>\n<br>S<br>E<br>A<br>S<br>O<br>N<br> <br> <br> <br> <br> <br> <br>2<br>0<br>1<br>9<br>-<br>2<br>0<br>2<br>0<br>\n<br>R<br>O<br>U<br>N<br>D<br> <br> <br> <br> <br> <br> <br> <br> <br> <br> <br> <br> <br> <br> <br> <br>8<br>\n<br>N<br>a<br>m<br>e<br>:<br> <br>9<br>1<br>5<br>,<br> <br>d<br>t<br>y<br>p<br>e<br>:<br> <br>o<br>b<br>j<br>e<br>c<br>t",
          "O<br>P<br>P<br>O<br>N<br>E<br>N<br>T<br> <br> <br> <br> <br>C<br>r<br>y<br>s<br>t<br>a<br>l<br> <br>P<br>a<br>l<br>a<br>c<br>e<br>\n<br>S<br>E<br>A<br>S<br>O<br>N<br> <br> <br> <br> <br> <br> <br> <br> <br> <br> <br> <br>2<br>0<br>1<br>9<br>-<br>2<br>0<br>2<br>0<br>\n<br>R<br>O<br>U<br>N<br>D<br> <br> <br> <br> <br> <br> <br> <br> <br> <br> <br> <br> <br> <br> <br> <br> <br> <br> <br> <br> <br>9<br>\n<br>N<br>a<br>m<br>e<br>:<br> <br>9<br>2<br>8<br>,<br> <br>d<br>t<br>y<br>p<br>e<br>:<br> <br>o<br>b<br>j<br>e<br>c<br>t",
          "O<br>P<br>P<br>O<br>N<br>E<br>N<br>T<br> <br> <br> <br> <br>A<br>s<br>t<br>o<br>n<br> <br>V<br>i<br>l<br>l<br>a<br>\n<br>S<br>E<br>A<br>S<br>O<br>N<br> <br> <br> <br> <br> <br> <br> <br> <br>2<br>0<br>1<br>9<br>-<br>2<br>0<br>2<br>0<br>\n<br>R<br>O<br>U<br>N<br>D<br> <br> <br> <br> <br> <br> <br> <br> <br> <br> <br> <br> <br> <br> <br> <br> <br>1<br>0<br>\n<br>N<br>a<br>m<br>e<br>:<br> <br>9<br>4<br>8<br>,<br> <br>d<br>t<br>y<br>p<br>e<br>:<br> <br>o<br>b<br>j<br>e<br>c<br>t",
          "O<br>P<br>P<br>O<br>N<br>E<br>N<br>T<br> <br> <br> <br> <br>S<br>o<br>u<br>t<br>h<br>a<br>m<br>p<br>t<br>o<br>n<br>\n<br>S<br>E<br>A<br>S<br>O<br>N<br> <br> <br> <br> <br> <br> <br> <br> <br>2<br>0<br>1<br>9<br>-<br>2<br>0<br>2<br>0<br>\n<br>R<br>O<br>U<br>N<br>D<br> <br> <br> <br> <br> <br> <br> <br> <br> <br> <br> <br> <br> <br> <br> <br> <br>1<br>1<br>\n<br>N<br>a<br>m<br>e<br>:<br> <br>9<br>6<br>7<br>,<br> <br>d<br>t<br>y<br>p<br>e<br>:<br> <br>o<br>b<br>j<br>e<br>c<br>t",
          "O<br>P<br>P<br>O<br>N<br>E<br>N<br>T<br> <br> <br> <br> <br>L<br>i<br>v<br>e<br>r<br>p<br>o<br>o<br>l<br>\n<br>S<br>E<br>A<br>S<br>O<br>N<br> <br> <br> <br> <br> <br> <br>2<br>0<br>1<br>9<br>-<br>2<br>0<br>2<br>0<br>\n<br>R<br>O<br>U<br>N<br>D<br> <br> <br> <br> <br> <br> <br> <br> <br> <br> <br> <br> <br> <br> <br>1<br>2<br>\n<br>N<br>a<br>m<br>e<br>:<br> <br>9<br>9<br>7<br>,<br> <br>d<br>t<br>y<br>p<br>e<br>:<br> <br>o<br>b<br>j<br>e<br>c<br>t",
          "O<br>P<br>P<br>O<br>N<br>E<br>N<br>T<br> <br> <br> <br> <br> <br> <br>C<br>h<br>e<br>l<br>s<br>e<br>a<br>\n<br>S<br>E<br>A<br>S<br>O<br>N<br> <br> <br> <br> <br> <br> <br>2<br>0<br>1<br>9<br>-<br>2<br>0<br>2<br>0<br>\n<br>R<br>O<br>U<br>N<br>D<br> <br> <br> <br> <br> <br> <br> <br> <br> <br> <br> <br> <br> <br> <br>1<br>3<br>\n<br>N<br>a<br>m<br>e<br>:<br> <br>1<br>0<br>0<br>9<br>,<br> <br>d<br>t<br>y<br>p<br>e<br>:<br> <br>o<br>b<br>j<br>e<br>c<br>t",
          "O<br>P<br>P<br>O<br>N<br>E<br>N<br>T<br> <br> <br> <br> <br>N<br>e<br>w<br>c<br>a<br>s<br>t<br>l<br>e<br> <br>U<br>t<br>d<br>\n<br>S<br>E<br>A<br>S<br>O<br>N<br> <br> <br> <br> <br> <br> <br> <br> <br> <br> <br>2<br>0<br>1<br>9<br>-<br>2<br>0<br>2<br>0<br>\n<br>R<br>O<br>U<br>N<br>D<br> <br> <br> <br> <br> <br> <br> <br> <br> <br> <br> <br> <br> <br> <br> <br> <br> <br> <br>1<br>4<br>\n<br>N<br>a<br>m<br>e<br>:<br> <br>1<br>0<br>2<br>6<br>,<br> <br>d<br>t<br>y<br>p<br>e<br>:<br> <br>o<br>b<br>j<br>e<br>c<br>t",
          "O<br>P<br>P<br>O<br>N<br>E<br>N<br>T<br> <br> <br> <br> <br> <br> <br>B<br>u<br>r<br>n<br>l<br>e<br>y<br>\n<br>S<br>E<br>A<br>S<br>O<br>N<br> <br> <br> <br> <br> <br> <br>2<br>0<br>1<br>9<br>-<br>2<br>0<br>2<br>0<br>\n<br>R<br>O<br>U<br>N<br>D<br> <br> <br> <br> <br> <br> <br> <br> <br> <br> <br> <br> <br> <br> <br>1<br>5<br>\n<br>N<br>a<br>m<br>e<br>:<br> <br>1<br>0<br>4<br>3<br>,<br> <br>d<br>t<br>y<br>p<br>e<br>:<br> <br>o<br>b<br>j<br>e<br>c<br>t",
          "O<br>P<br>P<br>O<br>N<br>E<br>N<br>T<br> <br> <br> <br> <br>M<br>a<br>n<br>c<br>h<br>e<br>s<br>t<br>e<br>r<br> <br>U<br>t<br>d<br>\n<br>S<br>E<br>A<br>S<br>O<br>N<br> <br> <br> <br> <br> <br> <br> <br> <br> <br> <br> <br>2<br>0<br>1<br>9<br>-<br>2<br>0<br>2<br>0<br>\n<br>R<br>O<br>U<br>N<br>D<br> <br> <br> <br> <br> <br> <br> <br> <br> <br> <br> <br> <br> <br> <br> <br> <br> <br> <br> <br>1<br>6<br>\n<br>N<br>a<br>m<br>e<br>:<br> <br>1<br>0<br>6<br>6<br>,<br> <br>d<br>t<br>y<br>p<br>e<br>:<br> <br>o<br>b<br>j<br>e<br>c<br>t",
          "O<br>P<br>P<br>O<br>N<br>E<br>N<br>T<br> <br> <br> <br> <br> <br> <br>A<br>r<br>s<br>e<br>n<br>a<br>l<br>\n<br>S<br>E<br>A<br>S<br>O<br>N<br> <br> <br> <br> <br> <br> <br>2<br>0<br>1<br>9<br>-<br>2<br>0<br>2<br>0<br>\n<br>R<br>O<br>U<br>N<br>D<br> <br> <br> <br> <br> <br> <br> <br> <br> <br> <br> <br> <br> <br> <br>1<br>7<br>\n<br>N<br>a<br>m<br>e<br>:<br> <br>1<br>0<br>9<br>4<br>,<br> <br>d<br>t<br>y<br>p<br>e<br>:<br> <br>o<br>b<br>j<br>e<br>c<br>t",
          "O<br>P<br>P<br>O<br>N<br>E<br>N<br>T<br> <br> <br> <br> <br>L<br>e<br>i<br>c<br>e<br>s<br>t<br>e<br>r<br> <br>C<br>i<br>t<br>y<br>\n<br>S<br>E<br>A<br>S<br>O<br>N<br> <br> <br> <br> <br> <br> <br> <br> <br> <br> <br> <br>2<br>0<br>1<br>9<br>-<br>2<br>0<br>2<br>0<br>\n<br>R<br>O<br>U<br>N<br>D<br> <br> <br> <br> <br> <br> <br> <br> <br> <br> <br> <br> <br> <br> <br> <br> <br> <br> <br> <br>1<br>8<br>\n<br>N<br>a<br>m<br>e<br>:<br> <br>1<br>1<br>0<br>8<br>,<br> <br>d<br>t<br>y<br>p<br>e<br>:<br> <br>o<br>b<br>j<br>e<br>c<br>t",
          "O<br>P<br>P<br>O<br>N<br>E<br>N<br>T<br> <br> <br> <br> <br> <br> <br> <br>W<br>o<br>l<br>v<br>e<br>s<br>\n<br>S<br>E<br>A<br>S<br>O<br>N<br> <br> <br> <br> <br> <br> <br>2<br>0<br>1<br>9<br>-<br>2<br>0<br>2<br>0<br>\n<br>R<br>O<br>U<br>N<br>D<br> <br> <br> <br> <br> <br> <br> <br> <br> <br> <br> <br> <br> <br> <br>1<br>9<br>\n<br>N<br>a<br>m<br>e<br>:<br> <br>1<br>1<br>3<br>6<br>,<br> <br>d<br>t<br>y<br>p<br>e<br>:<br> <br>o<br>b<br>j<br>e<br>c<br>t",
          "O<br>P<br>P<br>O<br>N<br>E<br>N<br>T<br> <br> <br> <br> <br>S<br>h<br>e<br>f<br>f<br>i<br>e<br>l<br>d<br> <br>U<br>t<br>d<br>\n<br>S<br>E<br>A<br>S<br>O<br>N<br> <br> <br> <br> <br> <br> <br> <br> <br> <br> <br>2<br>0<br>1<br>9<br>-<br>2<br>0<br>2<br>0<br>\n<br>R<br>O<br>U<br>N<br>D<br> <br> <br> <br> <br> <br> <br> <br> <br> <br> <br> <br> <br> <br> <br> <br> <br> <br> <br>2<br>0<br>\n<br>N<br>a<br>m<br>e<br>:<br> <br>1<br>1<br>5<br>5<br>,<br> <br>d<br>t<br>y<br>p<br>e<br>:<br> <br>o<br>b<br>j<br>e<br>c<br>t",
          "O<br>P<br>P<br>O<br>N<br>E<br>N<br>T<br> <br> <br> <br> <br> <br> <br>E<br>v<br>e<br>r<br>t<br>o<br>n<br>\n<br>S<br>E<br>A<br>S<br>O<br>N<br> <br> <br> <br> <br> <br> <br>2<br>0<br>1<br>9<br>-<br>2<br>0<br>2<br>0<br>\n<br>R<br>O<br>U<br>N<br>D<br> <br> <br> <br> <br> <br> <br> <br> <br> <br> <br> <br> <br> <br> <br>2<br>1<br>\n<br>N<br>a<br>m<br>e<br>:<br> <br>1<br>1<br>6<br>7<br>,<br> <br>d<br>t<br>y<br>p<br>e<br>:<br> <br>o<br>b<br>j<br>e<br>c<br>t",
          "O<br>P<br>P<br>O<br>N<br>E<br>N<br>T<br> <br> <br> <br> <br>A<br>s<br>t<br>o<br>n<br> <br>V<br>i<br>l<br>l<br>a<br>\n<br>S<br>E<br>A<br>S<br>O<br>N<br> <br> <br> <br> <br> <br> <br> <br> <br>2<br>0<br>1<br>9<br>-<br>2<br>0<br>2<br>0<br>\n<br>R<br>O<br>U<br>N<br>D<br> <br> <br> <br> <br> <br> <br> <br> <br> <br> <br> <br> <br> <br> <br> <br> <br>2<br>2<br>\n<br>N<br>a<br>m<br>e<br>:<br> <br>1<br>1<br>9<br>6<br>,<br> <br>d<br>t<br>y<br>p<br>e<br>:<br> <br>o<br>b<br>j<br>e<br>c<br>t",
          "O<br>P<br>P<br>O<br>N<br>E<br>N<br>T<br> <br> <br> <br> <br>C<br>r<br>y<br>s<br>t<br>a<br>l<br> <br>P<br>a<br>l<br>a<br>c<br>e<br>\n<br>S<br>E<br>A<br>S<br>O<br>N<br> <br> <br> <br> <br> <br> <br> <br> <br> <br> <br> <br>2<br>0<br>1<br>9<br>-<br>2<br>0<br>2<br>0<br>\n<br>R<br>O<br>U<br>N<br>D<br> <br> <br> <br> <br> <br> <br> <br> <br> <br> <br> <br> <br> <br> <br> <br> <br> <br> <br> <br>2<br>3<br>\n<br>N<br>a<br>m<br>e<br>:<br> <br>1<br>2<br>0<br>5<br>,<br> <br>d<br>t<br>y<br>p<br>e<br>:<br> <br>o<br>b<br>j<br>e<br>c<br>t",
          "O<br>P<br>P<br>O<br>N<br>E<br>N<br>T<br> <br> <br> <br> <br>S<br>h<br>e<br>f<br>f<br>i<br>e<br>l<br>d<br> <br>U<br>t<br>d<br>\n<br>S<br>E<br>A<br>S<br>O<br>N<br> <br> <br> <br> <br> <br> <br> <br> <br> <br> <br>2<br>0<br>1<br>9<br>-<br>2<br>0<br>2<br>0<br>\n<br>R<br>O<br>U<br>N<br>D<br> <br> <br> <br> <br> <br> <br> <br> <br> <br> <br> <br> <br> <br> <br> <br> <br> <br> <br>2<br>4<br>\n<br>N<br>a<br>m<br>e<br>:<br> <br>1<br>2<br>2<br>5<br>,<br> <br>d<br>t<br>y<br>p<br>e<br>:<br> <br>o<br>b<br>j<br>e<br>c<br>t",
          "O<br>P<br>P<br>O<br>N<br>E<br>N<br>T<br> <br> <br> <br> <br>T<br>o<br>t<br>t<br>e<br>n<br>h<br>a<br>m<br>\n<br>S<br>E<br>A<br>S<br>O<br>N<br> <br> <br> <br> <br> <br> <br>2<br>0<br>1<br>9<br>-<br>2<br>0<br>2<br>0<br>\n<br>R<br>O<br>U<br>N<br>D<br> <br> <br> <br> <br> <br> <br> <br> <br> <br> <br> <br> <br> <br> <br>2<br>5<br>\n<br>N<br>a<br>m<br>e<br>:<br> <br>1<br>2<br>5<br>8<br>,<br> <br>d<br>t<br>y<br>p<br>e<br>:<br> <br>o<br>b<br>j<br>e<br>c<br>t",
          "O<br>P<br>P<br>O<br>N<br>E<br>N<br>T<br> <br> <br> <br> <br> <br>W<br>e<br>s<br>t<br> <br>H<br>a<br>m<br>\n<br>S<br>E<br>A<br>S<br>O<br>N<br> <br> <br> <br> <br> <br> <br>2<br>0<br>1<br>9<br>-<br>2<br>0<br>2<br>0<br>\n<br>R<br>O<br>U<br>N<br>D<br> <br> <br> <br> <br> <br> <br> <br> <br> <br> <br> <br> <br> <br> <br>2<br>6<br>\n<br>N<br>a<br>m<br>e<br>:<br> <br>1<br>2<br>7<br>8<br>,<br> <br>d<br>t<br>y<br>p<br>e<br>:<br> <br>o<br>b<br>j<br>e<br>c<br>t",
          "O<br>P<br>P<br>O<br>N<br>E<br>N<br>T<br> <br> <br> <br> <br>L<br>e<br>i<br>c<br>e<br>s<br>t<br>e<br>r<br> <br>C<br>i<br>t<br>y<br>\n<br>S<br>E<br>A<br>S<br>O<br>N<br> <br> <br> <br> <br> <br> <br> <br> <br> <br> <br> <br>2<br>0<br>1<br>9<br>-<br>2<br>0<br>2<br>0<br>\n<br>R<br>O<br>U<br>N<br>D<br> <br> <br> <br> <br> <br> <br> <br> <br> <br> <br> <br> <br> <br> <br> <br> <br> <br> <br> <br>2<br>7<br>\n<br>N<br>a<br>m<br>e<br>:<br> <br>1<br>2<br>8<br>7<br>,<br> <br>d<br>t<br>y<br>p<br>e<br>:<br> <br>o<br>b<br>j<br>e<br>c<br>t",
          "O<br>P<br>P<br>O<br>N<br>E<br>N<br>T<br> <br> <br> <br> <br>M<br>a<br>n<br>c<br>h<br>e<br>s<br>t<br>e<br>r<br> <br>U<br>t<br>d<br>\n<br>S<br>E<br>A<br>S<br>O<br>N<br> <br> <br> <br> <br> <br> <br> <br> <br> <br> <br> <br>2<br>0<br>1<br>9<br>-<br>2<br>0<br>2<br>0<br>\n<br>R<br>O<br>U<br>N<br>D<br> <br> <br> <br> <br> <br> <br> <br> <br> <br> <br> <br> <br> <br> <br> <br> <br> <br> <br> <br>2<br>9<br>\n<br>N<br>a<br>m<br>e<br>:<br> <br>1<br>3<br>3<br>2<br>,<br> <br>d<br>t<br>y<br>p<br>e<br>:<br> <br>o<br>b<br>j<br>e<br>c<br>t",
          "O<br>P<br>P<br>O<br>N<br>E<br>N<br>T<br> <br> <br> <br> <br> <br> <br>A<br>r<br>s<br>e<br>n<br>a<br>l<br>\n<br>S<br>E<br>A<br>S<br>O<br>N<br> <br> <br> <br> <br> <br> <br>2<br>0<br>1<br>9<br>-<br>2<br>0<br>2<br>0<br>\n<br>R<br>O<br>U<br>N<br>D<br> <br> <br> <br> <br> <br> <br> <br> <br> <br> <br> <br> <br> <br> <br>2<br>8<br>\n<br>N<br>a<br>m<br>e<br>:<br> <br>1<br>3<br>3<br>8<br>,<br> <br>d<br>t<br>y<br>p<br>e<br>:<br> <br>o<br>b<br>j<br>e<br>c<br>t",
          "O<br>P<br>P<br>O<br>N<br>E<br>N<br>T<br> <br> <br> <br> <br> <br> <br>B<br>u<br>r<br>n<br>l<br>e<br>y<br>\n<br>S<br>E<br>A<br>S<br>O<br>N<br> <br> <br> <br> <br> <br> <br>2<br>0<br>1<br>9<br>-<br>2<br>0<br>2<br>0<br>\n<br>R<br>O<br>U<br>N<br>D<br> <br> <br> <br> <br> <br> <br> <br> <br> <br> <br> <br> <br> <br> <br>3<br>0<br>\n<br>N<br>a<br>m<br>e<br>:<br> <br>1<br>3<br>5<br>9<br>,<br> <br>d<br>t<br>y<br>p<br>e<br>:<br> <br>o<br>b<br>j<br>e<br>c<br>t",
          "O<br>P<br>P<br>O<br>N<br>E<br>N<br>T<br> <br> <br> <br> <br> <br> <br>C<br>h<br>e<br>l<br>s<br>e<br>a<br>\n<br>S<br>E<br>A<br>S<br>O<br>N<br> <br> <br> <br> <br> <br> <br>2<br>0<br>1<br>9<br>-<br>2<br>0<br>2<br>0<br>\n<br>R<br>O<br>U<br>N<br>D<br> <br> <br> <br> <br> <br> <br> <br> <br> <br> <br> <br> <br> <br> <br>3<br>1<br>\n<br>N<br>a<br>m<br>e<br>:<br> <br>1<br>3<br>7<br>7<br>,<br> <br>d<br>t<br>y<br>p<br>e<br>:<br> <br>o<br>b<br>j<br>e<br>c<br>t",
          "O<br>P<br>P<br>O<br>N<br>E<br>N<br>T<br> <br> <br> <br> <br>L<br>i<br>v<br>e<br>r<br>p<br>o<br>o<br>l<br>\n<br>S<br>E<br>A<br>S<br>O<br>N<br> <br> <br> <br> <br> <br> <br>2<br>0<br>1<br>9<br>-<br>2<br>0<br>2<br>0<br>\n<br>R<br>O<br>U<br>N<br>D<br> <br> <br> <br> <br> <br> <br> <br> <br> <br> <br> <br> <br> <br> <br>3<br>2<br>\n<br>N<br>a<br>m<br>e<br>:<br> <br>1<br>3<br>9<br>7<br>,<br> <br>d<br>t<br>y<br>p<br>e<br>:<br> <br>o<br>b<br>j<br>e<br>c<br>t",
          "O<br>P<br>P<br>O<br>N<br>E<br>N<br>T<br> <br> <br> <br> <br>S<br>o<br>u<br>t<br>h<br>a<br>m<br>p<br>t<br>o<br>n<br>\n<br>S<br>E<br>A<br>S<br>O<br>N<br> <br> <br> <br> <br> <br> <br> <br> <br>2<br>0<br>1<br>9<br>-<br>2<br>0<br>2<br>0<br>\n<br>R<br>O<br>U<br>N<br>D<br> <br> <br> <br> <br> <br> <br> <br> <br> <br> <br> <br> <br> <br> <br> <br> <br>3<br>3<br>\n<br>N<br>a<br>m<br>e<br>:<br> <br>1<br>4<br>1<br>3<br>,<br> <br>d<br>t<br>y<br>p<br>e<br>:<br> <br>o<br>b<br>j<br>e<br>c<br>t",
          "O<br>P<br>P<br>O<br>N<br>E<br>N<br>T<br> <br> <br> <br> <br>N<br>e<br>w<br>c<br>a<br>s<br>t<br>l<br>e<br> <br>U<br>t<br>d<br>\n<br>S<br>E<br>A<br>S<br>O<br>N<br> <br> <br> <br> <br> <br> <br> <br> <br> <br> <br>2<br>0<br>1<br>9<br>-<br>2<br>0<br>2<br>0<br>\n<br>R<br>O<br>U<br>N<br>D<br> <br> <br> <br> <br> <br> <br> <br> <br> <br> <br> <br> <br> <br> <br> <br> <br> <br> <br>3<br>4<br>\n<br>N<br>a<br>m<br>e<br>:<br> <br>1<br>4<br>2<br>9<br>,<br> <br>d<br>t<br>y<br>p<br>e<br>:<br> <br>o<br>b<br>j<br>e<br>c<br>t",
          "O<br>P<br>P<br>O<br>N<br>E<br>N<br>T<br> <br> <br> <br> <br> <br>B<br>r<br>i<br>g<br>h<br>t<br>o<br>n<br>\n<br>S<br>E<br>A<br>S<br>O<br>N<br> <br> <br> <br> <br> <br> <br>2<br>0<br>1<br>9<br>-<br>2<br>0<br>2<br>0<br>\n<br>R<br>O<br>U<br>N<br>D<br> <br> <br> <br> <br> <br> <br> <br> <br> <br> <br> <br> <br> <br> <br>3<br>5<br>\n<br>N<br>a<br>m<br>e<br>:<br> <br>1<br>4<br>4<br>4<br>,<br> <br>d<br>t<br>y<br>p<br>e<br>:<br> <br>o<br>b<br>j<br>e<br>c<br>t",
          "O<br>P<br>P<br>O<br>N<br>E<br>N<br>T<br> <br> <br> <br> <br>B<br>o<br>u<br>r<br>n<br>e<br>m<br>o<br>u<br>t<br>h<br>\n<br>S<br>E<br>A<br>S<br>O<br>N<br> <br> <br> <br> <br> <br> <br> <br> <br>2<br>0<br>1<br>9<br>-<br>2<br>0<br>2<br>0<br>\n<br>R<br>O<br>U<br>N<br>D<br> <br> <br> <br> <br> <br> <br> <br> <br> <br> <br> <br> <br> <br> <br> <br> <br>3<br>6<br>\n<br>N<br>a<br>m<br>e<br>:<br> <br>1<br>4<br>6<br>6<br>,<br> <br>d<br>t<br>y<br>p<br>e<br>:<br> <br>o<br>b<br>j<br>e<br>c<br>t",
          "O<br>P<br>P<br>O<br>N<br>E<br>N<br>T<br> <br> <br> <br> <br> <br> <br>W<br>a<br>t<br>f<br>o<br>r<br>d<br>\n<br>S<br>E<br>A<br>S<br>O<br>N<br> <br> <br> <br> <br> <br> <br>2<br>0<br>1<br>9<br>-<br>2<br>0<br>2<br>0<br>\n<br>R<br>O<br>U<br>N<br>D<br> <br> <br> <br> <br> <br> <br> <br> <br> <br> <br> <br> <br> <br> <br>3<br>7<br>\n<br>N<br>a<br>m<br>e<br>:<br> <br>1<br>4<br>9<br>4<br>,<br> <br>d<br>t<br>y<br>p<br>e<br>:<br> <br>o<br>b<br>j<br>e<br>c<br>t",
          "O<br>P<br>P<br>O<br>N<br>E<br>N<br>T<br> <br> <br> <br> <br>N<br>o<br>r<br>w<br>i<br>c<br>h<br> <br>C<br>i<br>t<br>y<br>\n<br>S<br>E<br>A<br>S<br>O<br>N<br> <br> <br> <br> <br> <br> <br> <br> <br> <br>2<br>0<br>1<br>9<br>-<br>2<br>0<br>2<br>0<br>\n<br>R<br>O<br>U<br>N<br>D<br> <br> <br> <br> <br> <br> <br> <br> <br> <br> <br> <br> <br> <br> <br> <br> <br> <br>3<br>8<br>\n<br>N<br>a<br>m<br>e<br>:<br> <br>1<br>5<br>1<br>0<br>,<br> <br>d<br>t<br>y<br>p<br>e<br>:<br> <br>o<br>b<br>j<br>e<br>c<br>t",
          "O<br>P<br>P<br>O<br>N<br>E<br>N<br>T<br> <br> <br> <br> <br> <br> <br> <br>W<br>o<br>l<br>v<br>e<br>s<br>\n<br>S<br>E<br>A<br>S<br>O<br>N<br> <br> <br> <br> <br> <br> <br>2<br>0<br>2<br>0<br>-<br>2<br>0<br>2<br>1<br>\n<br>R<br>O<br>U<br>N<br>D<br> <br> <br> <br> <br> <br> <br> <br> <br> <br> <br> <br> <br> <br> <br> <br>2<br>\n<br>N<br>a<br>m<br>e<br>:<br> <br>1<br>5<br>5<br>3<br>,<br> <br>d<br>t<br>y<br>p<br>e<br>:<br> <br>o<br>b<br>j<br>e<br>c<br>t",
          "O<br>P<br>P<br>O<br>N<br>E<br>N<br>T<br> <br> <br> <br> <br>L<br>e<br>i<br>c<br>e<br>s<br>t<br>e<br>r<br> <br>C<br>i<br>t<br>y<br>\n<br>S<br>E<br>A<br>S<br>O<br>N<br> <br> <br> <br> <br> <br> <br> <br> <br> <br> <br> <br>2<br>0<br>2<br>0<br>-<br>2<br>0<br>2<br>1<br>\n<br>R<br>O<br>U<br>N<br>D<br> <br> <br> <br> <br> <br> <br> <br> <br> <br> <br> <br> <br> <br> <br> <br> <br> <br> <br> <br> <br>3<br>\n<br>N<br>a<br>m<br>e<br>:<br> <br>1<br>5<br>6<br>6<br>,<br> <br>d<br>t<br>y<br>p<br>e<br>:<br> <br>o<br>b<br>j<br>e<br>c<br>t",
          "O<br>P<br>P<br>O<br>N<br>E<br>N<br>T<br> <br> <br> <br> <br>L<br>e<br>e<br>d<br>s<br> <br>U<br>n<br>i<br>t<br>e<br>d<br>\n<br>S<br>E<br>A<br>S<br>O<br>N<br> <br> <br> <br> <br> <br> <br> <br> <br> <br>2<br>0<br>2<br>0<br>-<br>2<br>0<br>2<br>1<br>\n<br>R<br>O<br>U<br>N<br>D<br> <br> <br> <br> <br> <br> <br> <br> <br> <br> <br> <br> <br> <br> <br> <br> <br> <br> <br>4<br>\n<br>N<br>a<br>m<br>e<br>:<br> <br>1<br>5<br>8<br>2<br>,<br> <br>d<br>t<br>y<br>p<br>e<br>:<br> <br>o<br>b<br>j<br>e<br>c<br>t",
          "O<br>P<br>P<br>O<br>N<br>E<br>N<br>T<br> <br> <br> <br> <br> <br> <br>A<br>r<br>s<br>e<br>n<br>a<br>l<br>\n<br>S<br>E<br>A<br>S<br>O<br>N<br> <br> <br> <br> <br> <br> <br>2<br>0<br>2<br>0<br>-<br>2<br>0<br>2<br>1<br>\n<br>R<br>O<br>U<br>N<br>D<br> <br> <br> <br> <br> <br> <br> <br> <br> <br> <br> <br> <br> <br> <br> <br>5<br>\n<br>N<br>a<br>m<br>e<br>:<br> <br>1<br>6<br>0<br>0<br>,<br> <br>d<br>t<br>y<br>p<br>e<br>:<br> <br>o<br>b<br>j<br>e<br>c<br>t",
          "O<br>P<br>P<br>O<br>N<br>E<br>N<br>T<br> <br> <br> <br> <br> <br>W<br>e<br>s<br>t<br> <br>H<br>a<br>m<br>\n<br>S<br>E<br>A<br>S<br>O<br>N<br> <br> <br> <br> <br> <br> <br>2<br>0<br>2<br>0<br>-<br>2<br>0<br>2<br>1<br>\n<br>R<br>O<br>U<br>N<br>D<br> <br> <br> <br> <br> <br> <br> <br> <br> <br> <br> <br> <br> <br> <br> <br>6<br>\n<br>N<br>a<br>m<br>e<br>:<br> <br>1<br>6<br>2<br>2<br>,<br> <br>d<br>t<br>y<br>p<br>e<br>:<br> <br>o<br>b<br>j<br>e<br>c<br>t",
          "O<br>P<br>P<br>O<br>N<br>E<br>N<br>T<br> <br> <br> <br> <br>S<br>h<br>e<br>f<br>f<br>i<br>e<br>l<br>d<br> <br>U<br>t<br>d<br>\n<br>S<br>E<br>A<br>S<br>O<br>N<br> <br> <br> <br> <br> <br> <br> <br> <br> <br> <br>2<br>0<br>2<br>0<br>-<br>2<br>0<br>2<br>1<br>\n<br>R<br>O<br>U<br>N<br>D<br> <br> <br> <br> <br> <br> <br> <br> <br> <br> <br> <br> <br> <br> <br> <br> <br> <br> <br> <br>7<br>\n<br>N<br>a<br>m<br>e<br>:<br> <br>1<br>6<br>4<br>1<br>,<br> <br>d<br>t<br>y<br>p<br>e<br>:<br> <br>o<br>b<br>j<br>e<br>c<br>t",
          "O<br>P<br>P<br>O<br>N<br>E<br>N<br>T<br> <br> <br> <br> <br>L<br>i<br>v<br>e<br>r<br>p<br>o<br>o<br>l<br>\n<br>S<br>E<br>A<br>S<br>O<br>N<br> <br> <br> <br> <br> <br> <br>2<br>0<br>2<br>0<br>-<br>2<br>0<br>2<br>1<br>\n<br>R<br>O<br>U<br>N<br>D<br> <br> <br> <br> <br> <br> <br> <br> <br> <br> <br> <br> <br> <br> <br> <br>8<br>\n<br>N<br>a<br>m<br>e<br>:<br> <br>1<br>6<br>7<br>2<br>,<br> <br>d<br>t<br>y<br>p<br>e<br>:<br> <br>o<br>b<br>j<br>e<br>c<br>t",
          "O<br>P<br>P<br>O<br>N<br>E<br>N<br>T<br> <br> <br> <br> <br>T<br>o<br>t<br>t<br>e<br>n<br>h<br>a<br>m<br>\n<br>S<br>E<br>A<br>S<br>O<br>N<br> <br> <br> <br> <br> <br> <br>2<br>0<br>2<br>0<br>-<br>2<br>0<br>2<br>1<br>\n<br>R<br>O<br>U<br>N<br>D<br> <br> <br> <br> <br> <br> <br> <br> <br> <br> <br> <br> <br> <br> <br> <br>9<br>\n<br>N<br>a<br>m<br>e<br>:<br> <br>1<br>6<br>7<br>9<br>,<br> <br>d<br>t<br>y<br>p<br>e<br>:<br> <br>o<br>b<br>j<br>e<br>c<br>t",
          "O<br>P<br>P<br>O<br>N<br>E<br>N<br>T<br> <br> <br> <br> <br> <br> <br>B<br>u<br>r<br>n<br>l<br>e<br>y<br>\n<br>S<br>E<br>A<br>S<br>O<br>N<br> <br> <br> <br> <br> <br> <br>2<br>0<br>2<br>0<br>-<br>2<br>0<br>2<br>1<br>\n<br>R<br>O<br>U<br>N<br>D<br> <br> <br> <br> <br> <br> <br> <br> <br> <br> <br> <br> <br> <br> <br>1<br>0<br>\n<br>N<br>a<br>m<br>e<br>:<br> <br>1<br>7<br>0<br>3<br>,<br> <br>d<br>t<br>y<br>p<br>e<br>:<br> <br>o<br>b<br>j<br>e<br>c<br>t",
          "O<br>P<br>P<br>O<br>N<br>E<br>N<br>T<br> <br> <br> <br> <br> <br> <br> <br>F<br>u<br>l<br>h<br>a<br>m<br>\n<br>S<br>E<br>A<br>S<br>O<br>N<br> <br> <br> <br> <br> <br> <br>2<br>0<br>2<br>0<br>-<br>2<br>0<br>2<br>1<br>\n<br>R<br>O<br>U<br>N<br>D<br> <br> <br> <br> <br> <br> <br> <br> <br> <br> <br> <br> <br> <br> <br>1<br>1<br>\n<br>N<br>a<br>m<br>e<br>:<br> <br>1<br>7<br>2<br>1<br>,<br> <br>d<br>t<br>y<br>p<br>e<br>:<br> <br>o<br>b<br>j<br>e<br>c<br>t",
          "O<br>P<br>P<br>O<br>N<br>E<br>N<br>T<br> <br> <br> <br> <br>M<br>a<br>n<br>c<br>h<br>e<br>s<br>t<br>e<br>r<br> <br>U<br>t<br>d<br>\n<br>S<br>E<br>A<br>S<br>O<br>N<br> <br> <br> <br> <br> <br> <br> <br> <br> <br> <br> <br>2<br>0<br>2<br>0<br>-<br>2<br>0<br>2<br>1<br>\n<br>R<br>O<br>U<br>N<br>D<br> <br> <br> <br> <br> <br> <br> <br> <br> <br> <br> <br> <br> <br> <br> <br> <br> <br> <br> <br>1<br>2<br>\n<br>N<br>a<br>m<br>e<br>:<br> <br>1<br>7<br>3<br>9<br>,<br> <br>d<br>t<br>y<br>p<br>e<br>:<br> <br>o<br>b<br>j<br>e<br>c<br>t",
          "O<br>P<br>P<br>O<br>N<br>E<br>N<br>T<br> <br> <br> <br> <br>W<br>e<br>s<br>t<br> <br>B<br>r<br>o<br>m<br>\n<br>S<br>E<br>A<br>S<br>O<br>N<br> <br> <br> <br> <br> <br> <br>2<br>0<br>2<br>0<br>-<br>2<br>0<br>2<br>1<br>\n<br>R<br>O<br>U<br>N<br>D<br> <br> <br> <br> <br> <br> <br> <br> <br> <br> <br> <br> <br> <br> <br>1<br>3<br>\n<br>N<br>a<br>m<br>e<br>:<br> <br>1<br>7<br>5<br>5<br>,<br> <br>d<br>t<br>y<br>p<br>e<br>:<br> <br>o<br>b<br>j<br>e<br>c<br>t",
          "O<br>P<br>P<br>O<br>N<br>E<br>N<br>T<br> <br> <br> <br> <br>S<br>o<br>u<br>t<br>h<br>a<br>m<br>p<br>t<br>o<br>n<br>\n<br>S<br>E<br>A<br>S<br>O<br>N<br> <br> <br> <br> <br> <br> <br> <br> <br>2<br>0<br>2<br>0<br>-<br>2<br>0<br>2<br>1<br>\n<br>R<br>O<br>U<br>N<br>D<br> <br> <br> <br> <br> <br> <br> <br> <br> <br> <br> <br> <br> <br> <br> <br> <br>1<br>4<br>\n<br>N<br>a<br>m<br>e<br>:<br> <br>1<br>7<br>7<br>9<br>,<br> <br>d<br>t<br>y<br>p<br>e<br>:<br> <br>o<br>b<br>j<br>e<br>c<br>t",
          "O<br>P<br>P<br>O<br>N<br>E<br>N<br>T<br> <br> <br> <br> <br>N<br>e<br>w<br>c<br>a<br>s<br>t<br>l<br>e<br> <br>U<br>t<br>d<br>\n<br>S<br>E<br>A<br>S<br>O<br>N<br> <br> <br> <br> <br> <br> <br> <br> <br> <br> <br>2<br>0<br>2<br>0<br>-<br>2<br>0<br>2<br>1<br>\n<br>R<br>O<br>U<br>N<br>D<br> <br> <br> <br> <br> <br> <br> <br> <br> <br> <br> <br> <br> <br> <br> <br> <br> <br> <br>1<br>5<br>\n<br>N<br>a<br>m<br>e<br>:<br> <br>1<br>8<br>0<br>1<br>,<br> <br>d<br>t<br>y<br>p<br>e<br>:<br> <br>o<br>b<br>j<br>e<br>c<br>t",
          "O<br>P<br>P<br>O<br>N<br>E<br>N<br>T<br> <br> <br> <br> <br> <br> <br>C<br>h<br>e<br>l<br>s<br>e<br>a<br>\n<br>S<br>E<br>A<br>S<br>O<br>N<br> <br> <br> <br> <br> <br> <br>2<br>0<br>2<br>0<br>-<br>2<br>0<br>2<br>1<br>\n<br>R<br>O<br>U<br>N<br>D<br> <br> <br> <br> <br> <br> <br> <br> <br> <br> <br> <br> <br> <br> <br>1<br>7<br>\n<br>N<br>a<br>m<br>e<br>:<br> <br>1<br>8<br>4<br>4<br>,<br> <br>d<br>t<br>y<br>p<br>e<br>:<br> <br>o<br>b<br>j<br>e<br>c<br>t",
          "O<br>P<br>P<br>O<br>N<br>E<br>N<br>T<br> <br> <br> <br> <br> <br>B<br>r<br>i<br>g<br>h<br>t<br>o<br>n<br>\n<br>S<br>E<br>A<br>S<br>O<br>N<br> <br> <br> <br> <br> <br> <br>2<br>0<br>2<br>0<br>-<br>2<br>0<br>2<br>1<br>\n<br>R<br>O<br>U<br>N<br>D<br> <br> <br> <br> <br> <br> <br> <br> <br> <br> <br> <br> <br> <br> <br>1<br>8<br>\n<br>N<br>a<br>m<br>e<br>:<br> <br>1<br>8<br>5<br>6<br>,<br> <br>d<br>t<br>y<br>p<br>e<br>:<br> <br>o<br>b<br>j<br>e<br>c<br>t",
          "O<br>P<br>P<br>O<br>N<br>E<br>N<br>T<br> <br> <br> <br> <br>C<br>r<br>y<br>s<br>t<br>a<br>l<br> <br>P<br>a<br>l<br>a<br>c<br>e<br>\n<br>S<br>E<br>A<br>S<br>O<br>N<br> <br> <br> <br> <br> <br> <br> <br> <br> <br> <br> <br>2<br>0<br>2<br>0<br>-<br>2<br>0<br>2<br>1<br>\n<br>R<br>O<br>U<br>N<br>D<br> <br> <br> <br> <br> <br> <br> <br> <br> <br> <br> <br> <br> <br> <br> <br> <br> <br> <br> <br>1<br>9<br>\n<br>N<br>a<br>m<br>e<br>:<br> <br>1<br>8<br>7<br>2<br>,<br> <br>d<br>t<br>y<br>p<br>e<br>:<br> <br>o<br>b<br>j<br>e<br>c<br>t",
          "O<br>P<br>P<br>O<br>N<br>E<br>N<br>T<br> <br> <br> <br> <br>A<br>s<br>t<br>o<br>n<br> <br>V<br>i<br>l<br>l<br>a<br>\n<br>S<br>E<br>A<br>S<br>O<br>N<br> <br> <br> <br> <br> <br> <br> <br> <br>2<br>0<br>2<br>0<br>-<br>2<br>0<br>2<br>1<br>\n<br>R<br>O<br>U<br>N<br>D<br> <br> <br> <br> <br> <br> <br> <br> <br> <br> <br> <br> <br> <br> <br> <br> <br> <br>1<br>\n<br>N<br>a<br>m<br>e<br>:<br> <br>1<br>8<br>8<br>4<br>,<br> <br>d<br>t<br>y<br>p<br>e<br>:<br> <br>o<br>b<br>j<br>e<br>c<br>t",
          "O<br>P<br>P<br>O<br>N<br>E<br>N<br>T<br> <br> <br> <br> <br>W<br>e<br>s<br>t<br> <br>B<br>r<br>o<br>m<br>\n<br>S<br>E<br>A<br>S<br>O<br>N<br> <br> <br> <br> <br> <br> <br>2<br>0<br>2<br>0<br>-<br>2<br>0<br>2<br>1<br>\n<br>R<br>O<br>U<br>N<br>D<br> <br> <br> <br> <br> <br> <br> <br> <br> <br> <br> <br> <br> <br> <br>2<br>0<br>\n<br>N<br>a<br>m<br>e<br>:<br> <br>1<br>8<br>9<br>3<br>,<br> <br>d<br>t<br>y<br>p<br>e<br>:<br> <br>o<br>b<br>j<br>e<br>c<br>t",
          "O<br>P<br>P<br>O<br>N<br>E<br>N<br>T<br> <br> <br> <br> <br>S<br>h<br>e<br>f<br>f<br>i<br>e<br>l<br>d<br> <br>U<br>t<br>d<br>\n<br>S<br>E<br>A<br>S<br>O<br>N<br> <br> <br> <br> <br> <br> <br> <br> <br> <br> <br>2<br>0<br>2<br>0<br>-<br>2<br>0<br>2<br>1<br>\n<br>R<br>O<br>U<br>N<br>D<br> <br> <br> <br> <br> <br> <br> <br> <br> <br> <br> <br> <br> <br> <br> <br> <br> <br> <br>2<br>1<br>\n<br>N<br>a<br>m<br>e<br>:<br> <br>1<br>9<br>1<br>5<br>,<br> <br>d<br>t<br>y<br>p<br>e<br>:<br> <br>o<br>b<br>j<br>e<br>c<br>t",
          "O<br>P<br>P<br>O<br>N<br>E<br>N<br>T<br> <br> <br> <br> <br> <br> <br>B<br>u<br>r<br>n<br>l<br>e<br>y<br>\n<br>S<br>E<br>A<br>S<br>O<br>N<br> <br> <br> <br> <br> <br> <br>2<br>0<br>2<br>0<br>-<br>2<br>0<br>2<br>1<br>\n<br>R<br>O<br>U<br>N<br>D<br> <br> <br> <br> <br> <br> <br> <br> <br> <br> <br> <br> <br> <br> <br>2<br>2<br>\n<br>N<br>a<br>m<br>e<br>:<br> <br>1<br>9<br>4<br>6<br>,<br> <br>d<br>t<br>y<br>p<br>e<br>:<br> <br>o<br>b<br>j<br>e<br>c<br>t",
          "O<br>P<br>P<br>O<br>N<br>E<br>N<br>T<br> <br> <br> <br> <br>L<br>i<br>v<br>e<br>r<br>p<br>o<br>o<br>l<br>\n<br>S<br>E<br>A<br>S<br>O<br>N<br> <br> <br> <br> <br> <br> <br>2<br>0<br>2<br>0<br>-<br>2<br>0<br>2<br>1<br>\n<br>R<br>O<br>U<br>N<br>D<br> <br> <br> <br> <br> <br> <br> <br> <br> <br> <br> <br> <br> <br> <br>2<br>3<br>\n<br>N<br>a<br>m<br>e<br>:<br> <br>1<br>9<br>6<br>3<br>,<br> <br>d<br>t<br>y<br>p<br>e<br>:<br> <br>o<br>b<br>j<br>e<br>c<br>t",
          "O<br>P<br>P<br>O<br>N<br>E<br>N<br>T<br> <br> <br> <br> <br>T<br>o<br>t<br>t<br>e<br>n<br>h<br>a<br>m<br>\n<br>S<br>E<br>A<br>S<br>O<br>N<br> <br> <br> <br> <br> <br> <br>2<br>0<br>2<br>0<br>-<br>2<br>0<br>2<br>1<br>\n<br>R<br>O<br>U<br>N<br>D<br> <br> <br> <br> <br> <br> <br> <br> <br> <br> <br> <br> <br> <br> <br>2<br>4<br>\n<br>N<br>a<br>m<br>e<br>:<br> <br>1<br>9<br>7<br>6<br>,<br> <br>d<br>t<br>y<br>p<br>e<br>:<br> <br>o<br>b<br>j<br>e<br>c<br>t",
          "O<br>P<br>P<br>O<br>N<br>E<br>N<br>T<br> <br> <br> <br> <br> <br> <br>E<br>v<br>e<br>r<br>t<br>o<br>n<br>\n<br>S<br>E<br>A<br>S<br>O<br>N<br> <br> <br> <br> <br> <br> <br>2<br>0<br>2<br>0<br>-<br>2<br>0<br>2<br>1<br>\n<br>R<br>O<br>U<br>N<br>D<br> <br> <br> <br> <br> <br> <br> <br> <br> <br> <br> <br> <br> <br> <br>1<br>6<br>\n<br>N<br>a<br>m<br>e<br>:<br> <br>1<br>9<br>9<br>3<br>,<br> <br>d<br>t<br>y<br>p<br>e<br>:<br> <br>o<br>b<br>j<br>e<br>c<br>t",
          "O<br>P<br>P<br>O<br>N<br>E<br>N<br>T<br> <br> <br> <br> <br> <br> <br>A<br>r<br>s<br>e<br>n<br>a<br>l<br>\n<br>S<br>E<br>A<br>S<br>O<br>N<br> <br> <br> <br> <br> <br> <br>2<br>0<br>2<br>0<br>-<br>2<br>0<br>2<br>1<br>\n<br>R<br>O<br>U<br>N<br>D<br> <br> <br> <br> <br> <br> <br> <br> <br> <br> <br> <br> <br> <br> <br>2<br>5<br>\n<br>N<br>a<br>m<br>e<br>:<br> <br>2<br>0<br>0<br>7<br>,<br> <br>d<br>t<br>y<br>p<br>e<br>:<br> <br>o<br>b<br>j<br>e<br>c<br>t",
          "O<br>P<br>P<br>O<br>N<br>E<br>N<br>T<br> <br> <br> <br> <br> <br>W<br>e<br>s<br>t<br> <br>H<br>a<br>m<br>\n<br>S<br>E<br>A<br>S<br>O<br>N<br> <br> <br> <br> <br> <br> <br>2<br>0<br>2<br>0<br>-<br>2<br>0<br>2<br>1<br>\n<br>R<br>O<br>U<br>N<br>D<br> <br> <br> <br> <br> <br> <br> <br> <br> <br> <br> <br> <br> <br> <br>2<br>6<br>\n<br>N<br>a<br>m<br>e<br>:<br> <br>2<br>0<br>1<br>9<br>,<br> <br>d<br>t<br>y<br>p<br>e<br>:<br> <br>o<br>b<br>j<br>e<br>c<br>t",
          "O<br>P<br>P<br>O<br>N<br>E<br>N<br>T<br> <br> <br> <br> <br> <br> <br> <br>W<br>o<br>l<br>v<br>e<br>s<br>\n<br>S<br>E<br>A<br>S<br>O<br>N<br> <br> <br> <br> <br> <br> <br>2<br>0<br>2<br>0<br>-<br>2<br>0<br>2<br>1<br>\n<br>R<br>O<br>U<br>N<br>D<br> <br> <br> <br> <br> <br> <br> <br> <br> <br> <br> <br> <br> <br> <br>2<br>9<br>\n<br>N<br>a<br>m<br>e<br>:<br> <br>2<br>0<br>3<br>6<br>,<br> <br>d<br>t<br>y<br>p<br>e<br>:<br> <br>o<br>b<br>j<br>e<br>c<br>t",
          "O<br>P<br>P<br>O<br>N<br>E<br>N<br>T<br> <br> <br> <br> <br>M<br>a<br>n<br>c<br>h<br>e<br>s<br>t<br>e<br>r<br> <br>U<br>t<br>d<br>\n<br>S<br>E<br>A<br>S<br>O<br>N<br> <br> <br> <br> <br> <br> <br> <br> <br> <br> <br> <br>2<br>0<br>2<br>0<br>-<br>2<br>0<br>2<br>1<br>\n<br>R<br>O<br>U<br>N<br>D<br> <br> <br> <br> <br> <br> <br> <br> <br> <br> <br> <br> <br> <br> <br> <br> <br> <br> <br> <br>2<br>7<br>\n<br>N<br>a<br>m<br>e<br>:<br> <br>2<br>0<br>6<br>1<br>,<br> <br>d<br>t<br>y<br>p<br>e<br>:<br> <br>o<br>b<br>j<br>e<br>c<br>t",
          "O<br>P<br>P<br>O<br>N<br>E<br>N<br>T<br> <br> <br> <br> <br>S<br>o<br>u<br>t<br>h<br>a<br>m<br>p<br>t<br>o<br>n<br>\n<br>S<br>E<br>A<br>S<br>O<br>N<br> <br> <br> <br> <br> <br> <br> <br> <br>2<br>0<br>2<br>0<br>-<br>2<br>0<br>2<br>1<br>\n<br>R<br>O<br>U<br>N<br>D<br> <br> <br> <br> <br> <br> <br> <br> <br> <br> <br> <br> <br> <br> <br> <br> <br>3<br>3<br>\n<br>N<br>a<br>m<br>e<br>:<br> <br>2<br>0<br>7<br>0<br>,<br> <br>d<br>t<br>y<br>p<br>e<br>:<br> <br>o<br>b<br>j<br>e<br>c<br>t",
          "O<br>P<br>P<br>O<br>N<br>E<br>N<br>T<br> <br> <br> <br> <br> <br> <br> <br>F<br>u<br>l<br>h<br>a<br>m<br>\n<br>S<br>E<br>A<br>S<br>O<br>N<br> <br> <br> <br> <br> <br> <br>2<br>0<br>2<br>0<br>-<br>2<br>0<br>2<br>1<br>\n<br>R<br>O<br>U<br>N<br>D<br> <br> <br> <br> <br> <br> <br> <br> <br> <br> <br> <br> <br> <br> <br>2<br>8<br>\n<br>N<br>a<br>m<br>e<br>:<br> <br>2<br>0<br>8<br>0<br>,<br> <br>d<br>t<br>y<br>p<br>e<br>:<br> <br>o<br>b<br>j<br>e<br>c<br>t",
          "O<br>P<br>P<br>O<br>N<br>E<br>N<br>T<br> <br> <br> <br> <br>L<br>e<br>i<br>c<br>e<br>s<br>t<br>e<br>r<br> <br>C<br>i<br>t<br>y<br>\n<br>S<br>E<br>A<br>S<br>O<br>N<br> <br> <br> <br> <br> <br> <br> <br> <br> <br> <br> <br>2<br>0<br>2<br>0<br>-<br>2<br>0<br>2<br>1<br>\n<br>R<br>O<br>U<br>N<br>D<br> <br> <br> <br> <br> <br> <br> <br> <br> <br> <br> <br> <br> <br> <br> <br> <br> <br> <br> <br>3<br>0<br>\n<br>N<br>a<br>m<br>e<br>:<br> <br>2<br>1<br>0<br>5<br>,<br> <br>d<br>t<br>y<br>p<br>e<br>:<br> <br>o<br>b<br>j<br>e<br>c<br>t",
          "O<br>P<br>P<br>O<br>N<br>E<br>N<br>T<br> <br> <br> <br> <br>L<br>e<br>e<br>d<br>s<br> <br>U<br>n<br>i<br>t<br>e<br>d<br>\n<br>S<br>E<br>A<br>S<br>O<br>N<br> <br> <br> <br> <br> <br> <br> <br> <br> <br>2<br>0<br>2<br>0<br>-<br>2<br>0<br>2<br>1<br>\n<br>R<br>O<br>U<br>N<br>D<br> <br> <br> <br> <br> <br> <br> <br> <br> <br> <br> <br> <br> <br> <br> <br> <br> <br>3<br>1<br>\n<br>N<br>a<br>m<br>e<br>:<br> <br>2<br>1<br>2<br>7<br>,<br> <br>d<br>t<br>y<br>p<br>e<br>:<br> <br>o<br>b<br>j<br>e<br>c<br>t",
          "O<br>P<br>P<br>O<br>N<br>E<br>N<br>T<br> <br> <br> <br> <br>A<br>s<br>t<br>o<br>n<br> <br>V<br>i<br>l<br>l<br>a<br>\n<br>S<br>E<br>A<br>S<br>O<br>N<br> <br> <br> <br> <br> <br> <br> <br> <br>2<br>0<br>2<br>0<br>-<br>2<br>0<br>2<br>1<br>\n<br>R<br>O<br>U<br>N<br>D<br> <br> <br> <br> <br> <br> <br> <br> <br> <br> <br> <br> <br> <br> <br> <br> <br>3<br>2<br>\n<br>N<br>a<br>m<br>e<br>:<br> <br>2<br>1<br>5<br>5<br>,<br> <br>d<br>t<br>y<br>p<br>e<br>:<br> <br>o<br>b<br>j<br>e<br>c<br>t",
          "O<br>P<br>P<br>O<br>N<br>E<br>N<br>T<br> <br> <br> <br> <br>C<br>r<br>y<br>s<br>t<br>a<br>l<br> <br>P<br>a<br>l<br>a<br>c<br>e<br>\n<br>S<br>E<br>A<br>S<br>O<br>N<br> <br> <br> <br> <br> <br> <br> <br> <br> <br> <br> <br>2<br>0<br>2<br>0<br>-<br>2<br>0<br>2<br>1<br>\n<br>R<br>O<br>U<br>N<br>D<br> <br> <br> <br> <br> <br> <br> <br> <br> <br> <br> <br> <br> <br> <br> <br> <br> <br> <br> <br>3<br>4<br>\n<br>N<br>a<br>m<br>e<br>:<br> <br>2<br>1<br>8<br>5<br>,<br> <br>d<br>t<br>y<br>p<br>e<br>:<br> <br>o<br>b<br>j<br>e<br>c<br>t",
          "O<br>P<br>P<br>O<br>N<br>E<br>N<br>T<br> <br> <br> <br> <br> <br> <br>C<br>h<br>e<br>l<br>s<br>e<br>a<br>\n<br>S<br>E<br>A<br>S<br>O<br>N<br> <br> <br> <br> <br> <br> <br>2<br>0<br>2<br>0<br>-<br>2<br>0<br>2<br>1<br>\n<br>R<br>O<br>U<br>N<br>D<br> <br> <br> <br> <br> <br> <br> <br> <br> <br> <br> <br> <br> <br> <br>3<br>5<br>\n<br>N<br>a<br>m<br>e<br>:<br> <br>2<br>2<br>0<br>0<br>,<br> <br>d<br>t<br>y<br>p<br>e<br>:<br> <br>o<br>b<br>j<br>e<br>c<br>t",
          "O<br>P<br>P<br>O<br>N<br>E<br>N<br>T<br> <br> <br> <br> <br>N<br>e<br>w<br>c<br>a<br>s<br>t<br>l<br>e<br> <br>U<br>t<br>d<br>\n<br>S<br>E<br>A<br>S<br>O<br>N<br> <br> <br> <br> <br> <br> <br> <br> <br> <br> <br>2<br>0<br>2<br>0<br>-<br>2<br>0<br>2<br>1<br>\n<br>R<br>O<br>U<br>N<br>D<br> <br> <br> <br> <br> <br> <br> <br> <br> <br> <br> <br> <br> <br> <br> <br> <br> <br> <br>3<br>6<br>\n<br>N<br>a<br>m<br>e<br>:<br> <br>2<br>2<br>2<br>4<br>,<br> <br>d<br>t<br>y<br>p<br>e<br>:<br> <br>o<br>b<br>j<br>e<br>c<br>t",
          "O<br>P<br>P<br>O<br>N<br>E<br>N<br>T<br> <br> <br> <br> <br> <br>B<br>r<br>i<br>g<br>h<br>t<br>o<br>n<br>\n<br>S<br>E<br>A<br>S<br>O<br>N<br> <br> <br> <br> <br> <br> <br>2<br>0<br>2<br>0<br>-<br>2<br>0<br>2<br>1<br>\n<br>R<br>O<br>U<br>N<br>D<br> <br> <br> <br> <br> <br> <br> <br> <br> <br> <br> <br> <br> <br> <br>3<br>7<br>\n<br>N<br>a<br>m<br>e<br>:<br> <br>2<br>2<br>4<br>5<br>,<br> <br>d<br>t<br>y<br>p<br>e<br>:<br> <br>o<br>b<br>j<br>e<br>c<br>t",
          "O<br>P<br>P<br>O<br>N<br>E<br>N<br>T<br> <br> <br> <br> <br> <br> <br>E<br>v<br>e<br>r<br>t<br>o<br>n<br>\n<br>S<br>E<br>A<br>S<br>O<br>N<br> <br> <br> <br> <br> <br> <br>2<br>0<br>2<br>0<br>-<br>2<br>0<br>2<br>1<br>\n<br>R<br>O<br>U<br>N<br>D<br> <br> <br> <br> <br> <br> <br> <br> <br> <br> <br> <br> <br> <br> <br>3<br>8<br>\n<br>N<br>a<br>m<br>e<br>:<br> <br>2<br>2<br>7<br>1<br>,<br> <br>d<br>t<br>y<br>p<br>e<br>:<br> <br>o<br>b<br>j<br>e<br>c<br>t",
          "O<br>P<br>P<br>O<br>N<br>E<br>N<br>T<br> <br> <br> <br> <br>T<br>o<br>t<br>t<br>e<br>n<br>h<br>a<br>m<br>\n<br>S<br>E<br>A<br>S<br>O<br>N<br> <br> <br> <br> <br> <br> <br>2<br>0<br>2<br>1<br>-<br>2<br>0<br>2<br>2<br>\n<br>R<br>O<br>U<br>N<br>D<br> <br> <br> <br> <br> <br> <br> <br> <br> <br> <br> <br> <br> <br> <br> <br>1<br>\n<br>N<br>a<br>m<br>e<br>:<br> <br>2<br>2<br>9<br>6<br>,<br> <br>d<br>t<br>y<br>p<br>e<br>:<br> <br>o<br>b<br>j<br>e<br>c<br>t",
          "O<br>P<br>P<br>O<br>N<br>E<br>N<br>T<br> <br> <br> <br> <br>N<br>o<br>r<br>w<br>i<br>c<br>h<br> <br>C<br>i<br>t<br>y<br>\n<br>S<br>E<br>A<br>S<br>O<br>N<br> <br> <br> <br> <br> <br> <br> <br> <br> <br>2<br>0<br>2<br>1<br>-<br>2<br>0<br>2<br>2<br>\n<br>R<br>O<br>U<br>N<br>D<br> <br> <br> <br> <br> <br> <br> <br> <br> <br> <br> <br> <br> <br> <br> <br> <br> <br> <br>2<br>\n<br>N<br>a<br>m<br>e<br>:<br> <br>2<br>3<br>0<br>8<br>,<br> <br>d<br>t<br>y<br>p<br>e<br>:<br> <br>o<br>b<br>j<br>e<br>c<br>t",
          "O<br>P<br>P<br>O<br>N<br>E<br>N<br>T<br> <br> <br> <br> <br> <br> <br>A<br>r<br>s<br>e<br>n<br>a<br>l<br>\n<br>S<br>E<br>A<br>S<br>O<br>N<br> <br> <br> <br> <br> <br> <br>2<br>0<br>2<br>1<br>-<br>2<br>0<br>2<br>2<br>\n<br>R<br>O<br>U<br>N<br>D<br> <br> <br> <br> <br> <br> <br> <br> <br> <br> <br> <br> <br> <br> <br> <br>3<br>\n<br>N<br>a<br>m<br>e<br>:<br> <br>2<br>3<br>2<br>9<br>,<br> <br>d<br>t<br>y<br>p<br>e<br>:<br> <br>o<br>b<br>j<br>e<br>c<br>t",
          "O<br>P<br>P<br>O<br>N<br>E<br>N<br>T<br> <br> <br> <br> <br>L<br>e<br>i<br>c<br>e<br>s<br>t<br>e<br>r<br> <br>C<br>i<br>t<br>y<br>\n<br>S<br>E<br>A<br>S<br>O<br>N<br> <br> <br> <br> <br> <br> <br> <br> <br> <br> <br> <br>2<br>0<br>2<br>1<br>-<br>2<br>0<br>2<br>2<br>\n<br>R<br>O<br>U<br>N<br>D<br> <br> <br> <br> <br> <br> <br> <br> <br> <br> <br> <br> <br> <br> <br> <br> <br> <br> <br> <br> <br>4<br>\n<br>N<br>a<br>m<br>e<br>:<br> <br>2<br>3<br>4<br>7<br>,<br> <br>d<br>t<br>y<br>p<br>e<br>:<br> <br>o<br>b<br>j<br>e<br>c<br>t",
          "O<br>P<br>P<br>O<br>N<br>E<br>N<br>T<br> <br> <br> <br> <br>S<br>o<br>u<br>t<br>h<br>a<br>m<br>p<br>t<br>o<br>n<br>\n<br>S<br>E<br>A<br>S<br>O<br>N<br> <br> <br> <br> <br> <br> <br> <br> <br>2<br>0<br>2<br>1<br>-<br>2<br>0<br>2<br>2<br>\n<br>R<br>O<br>U<br>N<br>D<br> <br> <br> <br> <br> <br> <br> <br> <br> <br> <br> <br> <br> <br> <br> <br> <br> <br>5<br>\n<br>N<br>a<br>m<br>e<br>:<br> <br>2<br>3<br>6<br>9<br>,<br> <br>d<br>t<br>y<br>p<br>e<br>:<br> <br>o<br>b<br>j<br>e<br>c<br>t",
          "O<br>P<br>P<br>O<br>N<br>E<br>N<br>T<br> <br> <br> <br> <br> <br> <br>C<br>h<br>e<br>l<br>s<br>e<br>a<br>\n<br>S<br>E<br>A<br>S<br>O<br>N<br> <br> <br> <br> <br> <br> <br>2<br>0<br>2<br>1<br>-<br>2<br>0<br>2<br>2<br>\n<br>R<br>O<br>U<br>N<br>D<br> <br> <br> <br> <br> <br> <br> <br> <br> <br> <br> <br> <br> <br> <br> <br>6<br>\n<br>N<br>a<br>m<br>e<br>:<br> <br>2<br>3<br>8<br>8<br>,<br> <br>d<br>t<br>y<br>p<br>e<br>:<br> <br>o<br>b<br>j<br>e<br>c<br>t",
          "O<br>P<br>P<br>O<br>N<br>E<br>N<br>T<br> <br> <br> <br> <br>L<br>i<br>v<br>e<br>r<br>p<br>o<br>o<br>l<br>\n<br>S<br>E<br>A<br>S<br>O<br>N<br> <br> <br> <br> <br> <br> <br>2<br>0<br>2<br>1<br>-<br>2<br>0<br>2<br>2<br>\n<br>R<br>O<br>U<br>N<br>D<br> <br> <br> <br> <br> <br> <br> <br> <br> <br> <br> <br> <br> <br> <br> <br>7<br>\n<br>N<br>a<br>m<br>e<br>:<br> <br>2<br>4<br>1<br>7<br>,<br> <br>d<br>t<br>y<br>p<br>e<br>:<br> <br>o<br>b<br>j<br>e<br>c<br>t",
          "O<br>P<br>P<br>O<br>N<br>E<br>N<br>T<br> <br> <br> <br> <br> <br> <br>B<br>u<br>r<br>n<br>l<br>e<br>y<br>\n<br>S<br>E<br>A<br>S<br>O<br>N<br> <br> <br> <br> <br> <br> <br>2<br>0<br>2<br>1<br>-<br>2<br>0<br>2<br>2<br>\n<br>R<br>O<br>U<br>N<br>D<br> <br> <br> <br> <br> <br> <br> <br> <br> <br> <br> <br> <br> <br> <br> <br>8<br>\n<br>N<br>a<br>m<br>e<br>:<br> <br>2<br>4<br>2<br>8<br>,<br> <br>d<br>t<br>y<br>p<br>e<br>:<br> <br>o<br>b<br>j<br>e<br>c<br>t",
          "O<br>P<br>P<br>O<br>N<br>E<br>N<br>T<br> <br> <br> <br> <br> <br>B<br>r<br>i<br>g<br>h<br>t<br>o<br>n<br>\n<br>S<br>E<br>A<br>S<br>O<br>N<br> <br> <br> <br> <br> <br> <br>2<br>0<br>2<br>1<br>-<br>2<br>0<br>2<br>2<br>\n<br>R<br>O<br>U<br>N<br>D<br> <br> <br> <br> <br> <br> <br> <br> <br> <br> <br> <br> <br> <br> <br> <br>9<br>\n<br>N<br>a<br>m<br>e<br>:<br> <br>2<br>4<br>4<br>8<br>,<br> <br>d<br>t<br>y<br>p<br>e<br>:<br> <br>o<br>b<br>j<br>e<br>c<br>t",
          "O<br>P<br>P<br>O<br>N<br>E<br>N<br>T<br> <br> <br> <br> <br>C<br>r<br>y<br>s<br>t<br>a<br>l<br> <br>P<br>a<br>l<br>a<br>c<br>e<br>\n<br>S<br>E<br>A<br>S<br>O<br>N<br> <br> <br> <br> <br> <br> <br> <br> <br> <br> <br> <br>2<br>0<br>2<br>1<br>-<br>2<br>0<br>2<br>2<br>\n<br>R<br>O<br>U<br>N<br>D<br> <br> <br> <br> <br> <br> <br> <br> <br> <br> <br> <br> <br> <br> <br> <br> <br> <br> <br> <br>1<br>0<br>\n<br>N<br>a<br>m<br>e<br>:<br> <br>2<br>4<br>6<br>8<br>,<br> <br>d<br>t<br>y<br>p<br>e<br>:<br> <br>o<br>b<br>j<br>e<br>c<br>t",
          "O<br>P<br>P<br>O<br>N<br>E<br>N<br>T<br> <br> <br> <br> <br>M<br>a<br>n<br>c<br>h<br>e<br>s<br>t<br>e<br>r<br> <br>U<br>t<br>d<br>\n<br>S<br>E<br>A<br>S<br>O<br>N<br> <br> <br> <br> <br> <br> <br> <br> <br> <br> <br> <br>2<br>0<br>2<br>1<br>-<br>2<br>0<br>2<br>2<br>\n<br>R<br>O<br>U<br>N<br>D<br> <br> <br> <br> <br> <br> <br> <br> <br> <br> <br> <br> <br> <br> <br> <br> <br> <br> <br> <br>1<br>1<br>\n<br>N<br>a<br>m<br>e<br>:<br> <br>2<br>4<br>8<br>7<br>,<br> <br>d<br>t<br>y<br>p<br>e<br>:<br> <br>o<br>b<br>j<br>e<br>c<br>t",
          "O<br>P<br>P<br>O<br>N<br>E<br>N<br>T<br> <br> <br> <br> <br> <br> <br>E<br>v<br>e<br>r<br>t<br>o<br>n<br>\n<br>S<br>E<br>A<br>S<br>O<br>N<br> <br> <br> <br> <br> <br> <br>2<br>0<br>2<br>1<br>-<br>2<br>0<br>2<br>2<br>\n<br>R<br>O<br>U<br>N<br>D<br> <br> <br> <br> <br> <br> <br> <br> <br> <br> <br> <br> <br> <br> <br>1<br>2<br>\n<br>N<br>a<br>m<br>e<br>:<br> <br>2<br>5<br>1<br>8<br>,<br> <br>d<br>t<br>y<br>p<br>e<br>:<br> <br>o<br>b<br>j<br>e<br>c<br>t",
          "O<br>P<br>P<br>O<br>N<br>E<br>N<br>T<br> <br> <br> <br> <br> <br>W<br>e<br>s<br>t<br> <br>H<br>a<br>m<br>\n<br>S<br>E<br>A<br>S<br>O<br>N<br> <br> <br> <br> <br> <br> <br>2<br>0<br>2<br>1<br>-<br>2<br>0<br>2<br>2<br>\n<br>R<br>O<br>U<br>N<br>D<br> <br> <br> <br> <br> <br> <br> <br> <br> <br> <br> <br> <br> <br> <br>1<br>3<br>\n<br>N<br>a<br>m<br>e<br>:<br> <br>2<br>5<br>3<br>4<br>,<br> <br>d<br>t<br>y<br>p<br>e<br>:<br> <br>o<br>b<br>j<br>e<br>c<br>t",
          "O<br>P<br>P<br>O<br>N<br>E<br>N<br>T<br> <br> <br> <br> <br>A<br>s<br>t<br>o<br>n<br> <br>V<br>i<br>l<br>l<br>a<br>\n<br>S<br>E<br>A<br>S<br>O<br>N<br> <br> <br> <br> <br> <br> <br> <br> <br>2<br>0<br>2<br>1<br>-<br>2<br>0<br>2<br>2<br>\n<br>R<br>O<br>U<br>N<br>D<br> <br> <br> <br> <br> <br> <br> <br> <br> <br> <br> <br> <br> <br> <br> <br> <br>1<br>4<br>\n<br>N<br>a<br>m<br>e<br>:<br> <br>2<br>5<br>4<br>9<br>,<br> <br>d<br>t<br>y<br>p<br>e<br>:<br> <br>o<br>b<br>j<br>e<br>c<br>t",
          "O<br>P<br>P<br>O<br>N<br>E<br>N<br>T<br> <br> <br> <br> <br> <br> <br>W<br>a<br>t<br>f<br>o<br>r<br>d<br>\n<br>S<br>E<br>A<br>S<br>O<br>N<br> <br> <br> <br> <br> <br> <br>2<br>0<br>2<br>1<br>-<br>2<br>0<br>2<br>2<br>\n<br>R<br>O<br>U<br>N<br>D<br> <br> <br> <br> <br> <br> <br> <br> <br> <br> <br> <br> <br> <br> <br>1<br>5<br>\n<br>N<br>a<br>m<br>e<br>:<br> <br>2<br>5<br>6<br>2<br>,<br> <br>d<br>t<br>y<br>p<br>e<br>:<br> <br>o<br>b<br>j<br>e<br>c<br>t",
          "O<br>P<br>P<br>O<br>N<br>E<br>N<br>T<br> <br> <br> <br> <br> <br> <br> <br>W<br>o<br>l<br>v<br>e<br>s<br>\n<br>S<br>E<br>A<br>S<br>O<br>N<br> <br> <br> <br> <br> <br> <br>2<br>0<br>2<br>1<br>-<br>2<br>0<br>2<br>2<br>\n<br>R<br>O<br>U<br>N<br>D<br> <br> <br> <br> <br> <br> <br> <br> <br> <br> <br> <br> <br> <br> <br>1<br>6<br>\n<br>N<br>a<br>m<br>e<br>:<br> <br>2<br>5<br>8<br>5<br>,<br> <br>d<br>t<br>y<br>p<br>e<br>:<br> <br>o<br>b<br>j<br>e<br>c<br>t",
          "O<br>P<br>P<br>O<br>N<br>E<br>N<br>T<br> <br> <br> <br> <br>L<br>e<br>e<br>d<br>s<br> <br>U<br>n<br>i<br>t<br>e<br>d<br>\n<br>S<br>E<br>A<br>S<br>O<br>N<br> <br> <br> <br> <br> <br> <br> <br> <br> <br>2<br>0<br>2<br>1<br>-<br>2<br>0<br>2<br>2<br>\n<br>R<br>O<br>U<br>N<br>D<br> <br> <br> <br> <br> <br> <br> <br> <br> <br> <br> <br> <br> <br> <br> <br> <br> <br>1<br>7<br>\n<br>N<br>a<br>m<br>e<br>:<br> <br>2<br>5<br>9<br>8<br>,<br> <br>d<br>t<br>y<br>p<br>e<br>:<br> <br>o<br>b<br>j<br>e<br>c<br>t",
          "O<br>P<br>P<br>O<br>N<br>E<br>N<br>T<br> <br> <br> <br> <br>N<br>e<br>w<br>c<br>a<br>s<br>t<br>l<br>e<br> <br>U<br>t<br>d<br>\n<br>S<br>E<br>A<br>S<br>O<br>N<br> <br> <br> <br> <br> <br> <br> <br> <br> <br> <br>2<br>0<br>2<br>1<br>-<br>2<br>0<br>2<br>2<br>\n<br>R<br>O<br>U<br>N<br>D<br> <br> <br> <br> <br> <br> <br> <br> <br> <br> <br> <br> <br> <br> <br> <br> <br> <br> <br>1<br>8<br>\n<br>N<br>a<br>m<br>e<br>:<br> <br>2<br>6<br>1<br>4<br>,<br> <br>d<br>t<br>y<br>p<br>e<br>:<br> <br>o<br>b<br>j<br>e<br>c<br>t",
          "O<br>P<br>P<br>O<br>N<br>E<br>N<br>T<br> <br> <br> <br> <br>L<br>e<br>i<br>c<br>e<br>s<br>t<br>e<br>r<br> <br>C<br>i<br>t<br>y<br>\n<br>S<br>E<br>A<br>S<br>O<br>N<br> <br> <br> <br> <br> <br> <br> <br> <br> <br> <br> <br>2<br>0<br>2<br>1<br>-<br>2<br>0<br>2<br>2<br>\n<br>R<br>O<br>U<br>N<br>D<br> <br> <br> <br> <br> <br> <br> <br> <br> <br> <br> <br> <br> <br> <br> <br> <br> <br> <br> <br>1<br>9<br>\n<br>N<br>a<br>m<br>e<br>:<br> <br>2<br>6<br>2<br>5<br>,<br> <br>d<br>t<br>y<br>p<br>e<br>:<br> <br>o<br>b<br>j<br>e<br>c<br>t",
          "O<br>P<br>P<br>O<br>N<br>E<br>N<br>T<br> <br> <br> <br> <br>B<br>r<br>e<br>n<br>t<br>f<br>o<br>r<br>d<br>\n<br>S<br>E<br>A<br>S<br>O<br>N<br> <br> <br> <br> <br> <br> <br>2<br>0<br>2<br>1<br>-<br>2<br>0<br>2<br>2<br>\n<br>R<br>O<br>U<br>N<br>D<br> <br> <br> <br> <br> <br> <br> <br> <br> <br> <br> <br> <br> <br> <br>2<br>0<br>\n<br>N<br>a<br>m<br>e<br>:<br> <br>2<br>6<br>4<br>3<br>,<br> <br>d<br>t<br>y<br>p<br>e<br>:<br> <br>o<br>b<br>j<br>e<br>c<br>t",
          "O<br>P<br>P<br>O<br>N<br>E<br>N<br>T<br> <br> <br> <br> <br> <br> <br>A<br>r<br>s<br>e<br>n<br>a<br>l<br>\n<br>S<br>E<br>A<br>S<br>O<br>N<br> <br> <br> <br> <br> <br> <br>2<br>0<br>2<br>1<br>-<br>2<br>0<br>2<br>2<br>\n<br>R<br>O<br>U<br>N<br>D<br> <br> <br> <br> <br> <br> <br> <br> <br> <br> <br> <br> <br> <br> <br>2<br>1<br>\n<br>N<br>a<br>m<br>e<br>:<br> <br>2<br>6<br>4<br>8<br>,<br> <br>d<br>t<br>y<br>p<br>e<br>:<br> <br>o<br>b<br>j<br>e<br>c<br>t",
          "O<br>P<br>P<br>O<br>N<br>E<br>N<br>T<br> <br> <br> <br> <br> <br> <br>C<br>h<br>e<br>l<br>s<br>e<br>a<br>\n<br>S<br>E<br>A<br>S<br>O<br>N<br> <br> <br> <br> <br> <br> <br>2<br>0<br>2<br>1<br>-<br>2<br>0<br>2<br>2<br>\n<br>R<br>O<br>U<br>N<br>D<br> <br> <br> <br> <br> <br> <br> <br> <br> <br> <br> <br> <br> <br> <br>2<br>2<br>\n<br>N<br>a<br>m<br>e<br>:<br> <br>2<br>6<br>7<br>1<br>,<br> <br>d<br>t<br>y<br>p<br>e<br>:<br> <br>o<br>b<br>j<br>e<br>c<br>t",
          "O<br>P<br>P<br>O<br>N<br>E<br>N<br>T<br> <br> <br> <br> <br>S<br>o<br>u<br>t<br>h<br>a<br>m<br>p<br>t<br>o<br>n<br>\n<br>S<br>E<br>A<br>S<br>O<br>N<br> <br> <br> <br> <br> <br> <br> <br> <br>2<br>0<br>2<br>1<br>-<br>2<br>0<br>2<br>2<br>\n<br>R<br>O<br>U<br>N<br>D<br> <br> <br> <br> <br> <br> <br> <br> <br> <br> <br> <br> <br> <br> <br> <br> <br>2<br>3<br>\n<br>N<br>a<br>m<br>e<br>:<br> <br>2<br>6<br>9<br>4<br>,<br> <br>d<br>t<br>y<br>p<br>e<br>:<br> <br>o<br>b<br>j<br>e<br>c<br>t",
          "O<br>P<br>P<br>O<br>N<br>E<br>N<br>T<br> <br> <br> <br> <br>B<br>r<br>e<br>n<br>t<br>f<br>o<br>r<br>d<br>\n<br>S<br>E<br>A<br>S<br>O<br>N<br> <br> <br> <br> <br> <br> <br>2<br>0<br>2<br>1<br>-<br>2<br>0<br>2<br>2<br>\n<br>R<br>O<br>U<br>N<br>D<br> <br> <br> <br> <br> <br> <br> <br> <br> <br> <br> <br> <br> <br> <br>2<br>4<br>\n<br>N<br>a<br>m<br>e<br>:<br> <br>2<br>7<br>2<br>0<br>,<br> <br>d<br>t<br>y<br>p<br>e<br>:<br> <br>o<br>b<br>j<br>e<br>c<br>t",
          "O<br>P<br>P<br>O<br>N<br>E<br>N<br>T<br> <br> <br> <br> <br>N<br>o<br>r<br>w<br>i<br>c<br>h<br> <br>C<br>i<br>t<br>y<br>\n<br>S<br>E<br>A<br>S<br>O<br>N<br> <br> <br> <br> <br> <br> <br> <br> <br> <br>2<br>0<br>2<br>1<br>-<br>2<br>0<br>2<br>2<br>\n<br>R<br>O<br>U<br>N<br>D<br> <br> <br> <br> <br> <br> <br> <br> <br> <br> <br> <br> <br> <br> <br> <br> <br> <br>2<br>5<br>\n<br>N<br>a<br>m<br>e<br>:<br> <br>2<br>7<br>3<br>3<br>,<br> <br>d<br>t<br>y<br>p<br>e<br>:<br> <br>o<br>b<br>j<br>e<br>c<br>t",
          "O<br>P<br>P<br>O<br>N<br>E<br>N<br>T<br> <br> <br> <br> <br>T<br>o<br>t<br>t<br>e<br>n<br>h<br>a<br>m<br>\n<br>S<br>E<br>A<br>S<br>O<br>N<br> <br> <br> <br> <br> <br> <br>2<br>0<br>2<br>1<br>-<br>2<br>0<br>2<br>2<br>\n<br>R<br>O<br>U<br>N<br>D<br> <br> <br> <br> <br> <br> <br> <br> <br> <br> <br> <br> <br> <br> <br>2<br>6<br>\n<br>N<br>a<br>m<br>e<br>:<br> <br>2<br>7<br>5<br>7<br>,<br> <br>d<br>t<br>y<br>p<br>e<br>:<br> <br>o<br>b<br>j<br>e<br>c<br>t",
          "O<br>P<br>P<br>O<br>N<br>E<br>N<br>T<br> <br> <br> <br> <br> <br> <br>E<br>v<br>e<br>r<br>t<br>o<br>n<br>\n<br>S<br>E<br>A<br>S<br>O<br>N<br> <br> <br> <br> <br> <br> <br>2<br>0<br>2<br>1<br>-<br>2<br>0<br>2<br>2<br>\n<br>R<br>O<br>U<br>N<br>D<br> <br> <br> <br> <br> <br> <br> <br> <br> <br> <br> <br> <br> <br> <br>2<br>7<br>\n<br>N<br>a<br>m<br>e<br>:<br> <br>2<br>7<br>8<br>5<br>,<br> <br>d<br>t<br>y<br>p<br>e<br>:<br> <br>o<br>b<br>j<br>e<br>c<br>t",
          "O<br>P<br>P<br>O<br>N<br>E<br>N<br>T<br> <br> <br> <br> <br>M<br>a<br>n<br>c<br>h<br>e<br>s<br>t<br>e<br>r<br> <br>U<br>t<br>d<br>\n<br>S<br>E<br>A<br>S<br>O<br>N<br> <br> <br> <br> <br> <br> <br> <br> <br> <br> <br> <br>2<br>0<br>2<br>1<br>-<br>2<br>0<br>2<br>2<br>\n<br>R<br>O<br>U<br>N<br>D<br> <br> <br> <br> <br> <br> <br> <br> <br> <br> <br> <br> <br> <br> <br> <br> <br> <br> <br> <br>2<br>8<br>\n<br>N<br>a<br>m<br>e<br>:<br> <br>2<br>8<br>0<br>9<br>,<br> <br>d<br>t<br>y<br>p<br>e<br>:<br> <br>o<br>b<br>j<br>e<br>c<br>t",
          "O<br>P<br>P<br>O<br>N<br>E<br>N<br>T<br> <br> <br> <br> <br>C<br>r<br>y<br>s<br>t<br>a<br>l<br> <br>P<br>a<br>l<br>a<br>c<br>e<br>\n<br>S<br>E<br>A<br>S<br>O<br>N<br> <br> <br> <br> <br> <br> <br> <br> <br> <br> <br> <br>2<br>0<br>2<br>1<br>-<br>2<br>0<br>2<br>2<br>\n<br>R<br>O<br>U<br>N<br>D<br> <br> <br> <br> <br> <br> <br> <br> <br> <br> <br> <br> <br> <br> <br> <br> <br> <br> <br> <br>2<br>9<br>\n<br>N<br>a<br>m<br>e<br>:<br> <br>2<br>8<br>4<br>1<br>,<br> <br>d<br>t<br>y<br>p<br>e<br>:<br> <br>o<br>b<br>j<br>e<br>c<br>t",
          "O<br>P<br>P<br>O<br>N<br>E<br>N<br>T<br> <br> <br> <br> <br> <br> <br>B<br>u<br>r<br>n<br>l<br>e<br>y<br>\n<br>S<br>E<br>A<br>S<br>O<br>N<br> <br> <br> <br> <br> <br> <br>2<br>0<br>2<br>1<br>-<br>2<br>0<br>2<br>2<br>\n<br>R<br>O<br>U<br>N<br>D<br> <br> <br> <br> <br> <br> <br> <br> <br> <br> <br> <br> <br> <br> <br>3<br>1<br>\n<br>N<br>a<br>m<br>e<br>:<br> <br>2<br>8<br>6<br>4<br>,<br> <br>d<br>t<br>y<br>p<br>e<br>:<br> <br>o<br>b<br>j<br>e<br>c<br>t",
          "O<br>P<br>P<br>O<br>N<br>E<br>N<br>T<br> <br> <br> <br> <br>L<br>i<br>v<br>e<br>r<br>p<br>o<br>o<br>l<br>\n<br>S<br>E<br>A<br>S<br>O<br>N<br> <br> <br> <br> <br> <br> <br>2<br>0<br>2<br>1<br>-<br>2<br>0<br>2<br>2<br>\n<br>R<br>O<br>U<br>N<br>D<br> <br> <br> <br> <br> <br> <br> <br> <br> <br> <br> <br> <br> <br> <br>3<br>2<br>\n<br>N<br>a<br>m<br>e<br>:<br> <br>2<br>8<br>9<br>5<br>,<br> <br>d<br>t<br>y<br>p<br>e<br>:<br> <br>o<br>b<br>j<br>e<br>c<br>t",
          "O<br>P<br>P<br>O<br>N<br>E<br>N<br>T<br> <br> <br> <br> <br> <br>B<br>r<br>i<br>g<br>h<br>t<br>o<br>n<br>\n<br>S<br>E<br>A<br>S<br>O<br>N<br> <br> <br> <br> <br> <br> <br>2<br>0<br>2<br>1<br>-<br>2<br>0<br>2<br>2<br>\n<br>R<br>O<br>U<br>N<br>D<br> <br> <br> <br> <br> <br> <br> <br> <br> <br> <br> <br> <br> <br> <br>3<br>0<br>\n<br>N<br>a<br>m<br>e<br>:<br> <br>2<br>9<br>1<br>8<br>,<br> <br>d<br>t<br>y<br>p<br>e<br>:<br> <br>o<br>b<br>j<br>e<br>c<br>t",
          "O<br>P<br>P<br>O<br>N<br>E<br>N<br>T<br> <br> <br> <br> <br> <br> <br>W<br>a<br>t<br>f<br>o<br>r<br>d<br>\n<br>S<br>E<br>A<br>S<br>O<br>N<br> <br> <br> <br> <br> <br> <br>2<br>0<br>2<br>1<br>-<br>2<br>0<br>2<br>2<br>\n<br>R<br>O<br>U<br>N<br>D<br> <br> <br> <br> <br> <br> <br> <br> <br> <br> <br> <br> <br> <br> <br>3<br>4<br>\n<br>N<br>a<br>m<br>e<br>:<br> <br>2<br>9<br>2<br>6<br>,<br> <br>d<br>t<br>y<br>p<br>e<br>:<br> <br>o<br>b<br>j<br>e<br>c<br>t",
          "O<br>P<br>P<br>O<br>N<br>E<br>N<br>T<br> <br> <br> <br> <br>L<br>e<br>e<br>d<br>s<br> <br>U<br>n<br>i<br>t<br>e<br>d<br>\n<br>S<br>E<br>A<br>S<br>O<br>N<br> <br> <br> <br> <br> <br> <br> <br> <br> <br>2<br>0<br>2<br>1<br>-<br>2<br>0<br>2<br>2<br>\n<br>R<br>O<br>U<br>N<br>D<br> <br> <br> <br> <br> <br> <br> <br> <br> <br> <br> <br> <br> <br> <br> <br> <br> <br>3<br>5<br>\n<br>N<br>a<br>m<br>e<br>:<br> <br>2<br>9<br>5<br>0<br>,<br> <br>d<br>t<br>y<br>p<br>e<br>:<br> <br>o<br>b<br>j<br>e<br>c<br>t",
          "O<br>P<br>P<br>O<br>N<br>E<br>N<br>T<br> <br> <br> <br> <br>N<br>e<br>w<br>c<br>a<br>s<br>t<br>l<br>e<br> <br>U<br>t<br>d<br>\n<br>S<br>E<br>A<br>S<br>O<br>N<br> <br> <br> <br> <br> <br> <br> <br> <br> <br> <br>2<br>0<br>2<br>1<br>-<br>2<br>0<br>2<br>2<br>\n<br>R<br>O<br>U<br>N<br>D<br> <br> <br> <br> <br> <br> <br> <br> <br> <br> <br> <br> <br> <br> <br> <br> <br> <br> <br>3<br>6<br>\n<br>N<br>a<br>m<br>e<br>:<br> <br>2<br>9<br>8<br>0<br>,<br> <br>d<br>t<br>y<br>p<br>e<br>:<br> <br>o<br>b<br>j<br>e<br>c<br>t",
          "O<br>P<br>P<br>O<br>N<br>E<br>N<br>T<br> <br> <br> <br> <br> <br> <br> <br>W<br>o<br>l<br>v<br>e<br>s<br>\n<br>S<br>E<br>A<br>S<br>O<br>N<br> <br> <br> <br> <br> <br> <br>2<br>0<br>2<br>1<br>-<br>2<br>0<br>2<br>2<br>\n<br>R<br>O<br>U<br>N<br>D<br> <br> <br> <br> <br> <br> <br> <br> <br> <br> <br> <br> <br> <br> <br>3<br>3<br>\n<br>N<br>a<br>m<br>e<br>:<br> <br>2<br>9<br>9<br>0<br>,<br> <br>d<br>t<br>y<br>p<br>e<br>:<br> <br>o<br>b<br>j<br>e<br>c<br>t",
          "O<br>P<br>P<br>O<br>N<br>E<br>N<br>T<br> <br> <br> <br> <br> <br>W<br>e<br>s<br>t<br> <br>H<br>a<br>m<br>\n<br>S<br>E<br>A<br>S<br>O<br>N<br> <br> <br> <br> <br> <br> <br>2<br>0<br>2<br>1<br>-<br>2<br>0<br>2<br>2<br>\n<br>R<br>O<br>U<br>N<br>D<br> <br> <br> <br> <br> <br> <br> <br> <br> <br> <br> <br> <br> <br> <br>3<br>7<br>\n<br>N<br>a<br>m<br>e<br>:<br> <br>3<br>0<br>0<br>4<br>,<br> <br>d<br>t<br>y<br>p<br>e<br>:<br> <br>o<br>b<br>j<br>e<br>c<br>t",
          "O<br>P<br>P<br>O<br>N<br>E<br>N<br>T<br> <br> <br> <br> <br>A<br>s<br>t<br>o<br>n<br> <br>V<br>i<br>l<br>l<br>a<br>\n<br>S<br>E<br>A<br>S<br>O<br>N<br> <br> <br> <br> <br> <br> <br> <br> <br>2<br>0<br>2<br>1<br>-<br>2<br>0<br>2<br>2<br>\n<br>R<br>O<br>U<br>N<br>D<br> <br> <br> <br> <br> <br> <br> <br> <br> <br> <br> <br> <br> <br> <br> <br> <br>3<br>8<br>\n<br>N<br>a<br>m<br>e<br>:<br> <br>3<br>0<br>3<br>1<br>,<br> <br>d<br>t<br>y<br>p<br>e<br>:<br> <br>o<br>b<br>j<br>e<br>c<br>t"
         ],
         "type": "scatter",
         "x": [
          null,
          2.6934098008065663,
          null,
          3.1339394688079087,
          3.3793140014008802,
          null,
          3.2334989361078383,
          null,
          3.1833694329444544,
          null,
          3.2331162885606886,
          3.253071966730224,
          null,
          3.3104111933486715,
          null,
          null,
          3.267989231928942,
          3.0091302493203926,
          null,
          null,
          2.552686930073345,
          2.650125450966894,
          null,
          null,
          2.9500330191338326,
          null,
          2.6747533256242346,
          3.5951969390924123,
          null,
          3.1946893560485403,
          null,
          3.8468297429342613,
          null,
          2.78892096260273,
          null,
          null,
          3.1817562211211627,
          null,
          null,
          2.61863758936582,
          null,
          3.5253562565576306,
          null,
          3.0304838619592678,
          null,
          3.3313876045503075,
          null,
          3.763885000119145,
          3.2021916740049012,
          null,
          3.160950381999921,
          null,
          null,
          2.9294435512938657,
          null,
          2.7353792180619205,
          null,
          3.3109420842771895,
          2.9532646640589784,
          null,
          3.0954259100761163,
          null,
          null,
          3.59492446148186,
          null,
          null,
          2.893968390723928,
          2.965697435163788,
          null,
          2.439207957729088,
          null,
          3.100573746596178,
          null,
          3.3972866499483576,
          null,
          2.821582649654572,
          null,
          2.5007148311322798,
          null,
          2.523581306829464,
          null,
          null,
          2.285632686768293,
          null,
          2.5525748378384407,
          2.5120465906945038,
          null,
          2.743272767279971,
          null,
          2.690625998337341,
          null,
          2.659353699333615,
          2.8246710581478816,
          2.285438045676006,
          null,
          2.8142707112647676,
          null,
          null,
          2.281195977492863,
          null,
          null,
          2.4281988107646595,
          2.5763734591849756,
          2.2723490661133567,
          2.4832122589737295,
          null,
          null,
          3.0330276003837024,
          null,
          null,
          2.0995615635172413,
          null,
          null,
          2.3081948097383123,
          null,
          2.857226245784937,
          2.4208973068953217,
          null,
          3.0320884945271858,
          null,
          null,
          3.0183938165002604,
          null,
          3.0265457376433265,
          null,
          2.3786570105891003,
          2.5462692045649566,
          null,
          null,
          2.979489591254464,
          3.3391405159057577,
          null,
          2.9079251387237064,
          null,
          null,
          2.6049847110778663,
          null,
          3.1056860970603513,
          null,
          2.4976993128487153,
          null,
          2.990450606045534,
          null,
          null,
          2.5277151034029783,
          2.700354068683292,
          2.790706271031908,
          null,
          2.9305854495949566,
          null,
          null,
          2.87265777071309
         ],
         "xaxis": "x2",
         "y": [
          1.7,
          4.2,
          1.6,
          2,
          4.8,
          2.5,
          2.7,
          1,
          4,
          1.6,
          2.2,
          1.9,
          2.7,
          2.6,
          2.5,
          0.9,
          1.7,
          1.5,
          1.4,
          2.5,
          1.1,
          2.8,
          2,
          1.4,
          2.7,
          2.2,
          3,
          3.5,
          1.2,
          3.4,
          1.8,
          3.2,
          2.5,
          1.9,
          0.5,
          2.5,
          1,
          1.6,
          3.2,
          2.9,
          3,
          1.9,
          2.3,
          5.9,
          2.8,
          1.4,
          3.5,
          2.9,
          2.9,
          1.3,
          1,
          2.4,
          2.2,
          2.2,
          1.3,
          3.3,
          1.5,
          1.1,
          1.5,
          2.8,
          2.6,
          2.8,
          2.4,
          2.1,
          2.4,
          0.6,
          2.6,
          2.4,
          0.8,
          2.4,
          3.2,
          2.8,
          4.4,
          0.7,
          3.3,
          3.2,
          1.9,
          0.9,
          1.2,
          1.3,
          1,
          1.6,
          1.4,
          1.4,
          1.7,
          2.9,
          1.3,
          2.2,
          0.9,
          3,
          2.7,
          2,
          0.7,
          3.4,
          1.8,
          1.5,
          2,
          3.5,
          2.2,
          1,
          1.8,
          0.5,
          3.3,
          1.3,
          2.6,
          2.2,
          1.4,
          2.1,
          1.2,
          1.7,
          1.8,
          1.5,
          0.9,
          2.5,
          2,
          2.7,
          4,
          3.3,
          1.2,
          1.4,
          1.7,
          2.2,
          4,
          1.1,
          2.3,
          2.6,
          2.4,
          1.2,
          3.5,
          3.5,
          3.2,
          2.9,
          3.9,
          1,
          2.2,
          0.9,
          1.9,
          1.8,
          4.9,
          2.6,
          1.9,
          3.1,
          2.9,
          2,
          1.6,
          1.6,
          3.9,
          2.5,
          3.3,
          2.8,
          2.9,
          3.7
         ],
         "yaxis": "y2"
        },
        {
         "marker": {
          "color": [
           "#EF0107",
           "#0073C2",
           "#FDB913",
           "#000000",
           "#FFFFFF",
           "#0047A0",
           "#0057B8",
           "#C8102E",
           "#6C1D45",
           "#001C58",
           "#D71920",
           "#E20E2D",
           "#7A263A",
           "#E62333",
           "#FBEE23",
           "#034694",
           "#003399",
           "#1B458F",
           "#0053A0",
           "#D71920",
           "#C8102E",
           "#FDB913",
           "#0073C2",
           "#000000",
           "#EF0107",
           "#003399",
           "#034694",
           "#7A263A",
           "#E62333",
           "#FBEE23",
           "#FFFFFF",
           "#0047A0",
           "#1B458F",
           "#001C58",
           "#E20E2D",
           "#6C1D45",
           "#0053A0",
           "#0057B8",
           "#7A263A",
           "#001C58",
           "#E62333",
           "#0057B8",
           "#00A650",
           "#FBEE23",
           "#003399",
           "#FDB913",
           "#1B458F",
           "#95BFE5",
           "#D71920",
           "#C8102E",
           "#034694",
           "#000000",
           "#6C1D45",
           "#E20E2D",
           "#EF0107",
           "#0053A0",
           "#FDB913",
           "#EE2737",
           "#003399",
           "#95BFE5",
           "#1B458F",
           "#EE2737",
           "#001C58",
           "#7A263A",
           "#0053A0",
           "#E20E2D",
           "#EF0107",
           "#6C1D45",
           "#034694",
           "#C8102E",
           "#D71920",
           "#000000",
           "#0057B8",
           "#E62333",
           "#FBEE23",
           "#00A650",
           "#FDB913",
           "#0053A0",
           "#FFCD00",
           "#EF0107",
           "#7A263A",
           "#EE2737",
           "#C8102E",
           "#001C58",
           "#6C1D45",
           "#FFFFFF",
           "#E20E2D",
           "#091453",
           "#D71920",
           "#000000",
           "#034694",
           "#0057B8",
           "#1B458F",
           "#95BFE5",
           "#091453",
           "#EE2737",
           "#6C1D45",
           "#C8102E",
           "#001C58",
           "#003399",
           "#EF0107",
           "#7A263A",
           "#FDB913",
           "#E20E2D",
           "#D71920",
           "#FFFFFF",
           "#0053A0",
           "#FFCD00",
           "#95BFE5",
           "#1B458F",
           "#034694",
           "#000000",
           "#0057B8",
           "#003399",
           "#001C58",
           "#00A650",
           "#EF0107",
           "#0053A0",
           "#D71920",
           "#034694",
           "#C8102E",
           "#6C1D45",
           "#0057B8",
           "#1B458F",
           "#E20E2D",
           "#003399",
           "#7A263A",
           "#95BFE5",
           "#FBEE23",
           "#FDB913",
           "#FFCD00",
           "#000000",
           "#0053A0",
           "#FFD700",
           "#EF0107",
           "#034694",
           "#D71920",
           "#FFD700",
           "#00A650",
           "#001C58",
           "#003399",
           "#E20E2D",
           "#1B458F",
           "#6C1D45",
           "#C8102E",
           "#0057B8",
           "#FBEE23",
           "#FFCD00",
           "#000000",
           "#FDB913",
           "#7A263A",
           "#95BFE5"
          ]
         },
         "mode": "markers",
         "showlegend": false,
         "text": [
          "O<br>P<br>P<br>O<br>N<br>E<br>N<br>T<br> <br> <br> <br> <br> <br> <br>A<br>r<br>s<br>e<br>n<br>a<br>l<br>\n<br>S<br>E<br>A<br>S<br>O<br>N<br> <br> <br> <br> <br> <br> <br>2<br>0<br>1<br>8<br>-<br>2<br>0<br>1<br>9<br>\n<br>R<br>O<br>U<br>N<br>D<br> <br> <br> <br> <br> <br> <br> <br> <br> <br> <br> <br> <br> <br> <br> <br>1<br>\n<br>N<br>a<br>m<br>e<br>:<br> <br>1<br>7<br>,<br> <br>d<br>t<br>y<br>p<br>e<br>:<br> <br>o<br>b<br>j<br>e<br>c<br>t",
          "O<br>P<br>P<br>O<br>N<br>E<br>N<br>T<br> <br> <br> <br> <br>H<br>u<br>d<br>d<br>e<br>r<br>s<br>f<br>i<br>e<br>l<br>d<br>\n<br>S<br>E<br>A<br>S<br>O<br>N<br> <br> <br> <br> <br> <br> <br> <br> <br> <br>2<br>0<br>1<br>8<br>-<br>2<br>0<br>1<br>9<br>\n<br>R<br>O<br>U<br>N<br>D<br> <br> <br> <br> <br> <br> <br> <br> <br> <br> <br> <br> <br> <br> <br> <br> <br> <br> <br>2<br>\n<br>N<br>a<br>m<br>e<br>:<br> <br>3<br>5<br>,<br> <br>d<br>t<br>y<br>p<br>e<br>:<br> <br>o<br>b<br>j<br>e<br>c<br>t",
          "O<br>P<br>P<br>O<br>N<br>E<br>N<br>T<br> <br> <br> <br> <br> <br> <br> <br>W<br>o<br>l<br>v<br>e<br>s<br>\n<br>S<br>E<br>A<br>S<br>O<br>N<br> <br> <br> <br> <br> <br> <br>2<br>0<br>1<br>8<br>-<br>2<br>0<br>1<br>9<br>\n<br>R<br>O<br>U<br>N<br>D<br> <br> <br> <br> <br> <br> <br> <br> <br> <br> <br> <br> <br> <br> <br> <br>3<br>\n<br>N<br>a<br>m<br>e<br>:<br> <br>4<br>8<br>,<br> <br>d<br>t<br>y<br>p<br>e<br>:<br> <br>o<br>b<br>j<br>e<br>c<br>t",
          "O<br>P<br>P<br>O<br>N<br>E<br>N<br>T<br> <br> <br> <br> <br>N<br>e<br>w<br>c<br>a<br>s<br>t<br>l<br>e<br> <br>U<br>t<br>d<br>\n<br>S<br>E<br>A<br>S<br>O<br>N<br> <br> <br> <br> <br> <br> <br> <br> <br> <br> <br>2<br>0<br>1<br>8<br>-<br>2<br>0<br>1<br>9<br>\n<br>R<br>O<br>U<br>N<br>D<br> <br> <br> <br> <br> <br> <br> <br> <br> <br> <br> <br> <br> <br> <br> <br> <br> <br> <br> <br>4<br>\n<br>N<br>a<br>m<br>e<br>:<br> <br>6<br>9<br>,<br> <br>d<br>t<br>y<br>p<br>e<br>:<br> <br>o<br>b<br>j<br>e<br>c<br>t",
          "O<br>P<br>P<br>O<br>N<br>E<br>N<br>T<br> <br> <br> <br> <br> <br> <br> <br>F<br>u<br>l<br>h<br>a<br>m<br>\n<br>S<br>E<br>A<br>S<br>O<br>N<br> <br> <br> <br> <br> <br> <br>2<br>0<br>1<br>8<br>-<br>2<br>0<br>1<br>9<br>\n<br>R<br>O<br>U<br>N<br>D<br> <br> <br> <br> <br> <br> <br> <br> <br> <br> <br> <br> <br> <br> <br> <br>5<br>\n<br>N<br>a<br>m<br>e<br>:<br> <br>8<br>9<br>,<br> <br>d<br>t<br>y<br>p<br>e<br>:<br> <br>o<br>b<br>j<br>e<br>c<br>t",
          "O<br>P<br>P<br>O<br>N<br>E<br>N<br>T<br> <br> <br> <br> <br>C<br>a<br>r<br>d<br>i<br>f<br>f<br> <br>C<br>i<br>t<br>y<br>\n<br>S<br>E<br>A<br>S<br>O<br>N<br> <br> <br> <br> <br> <br> <br> <br> <br> <br>2<br>0<br>1<br>8<br>-<br>2<br>0<br>1<br>9<br>\n<br>R<br>O<br>U<br>N<br>D<br> <br> <br> <br> <br> <br> <br> <br> <br> <br> <br> <br> <br> <br> <br> <br> <br> <br> <br>6<br>\n<br>N<br>a<br>m<br>e<br>:<br> <br>1<br>0<br>9<br>,<br> <br>d<br>t<br>y<br>p<br>e<br>:<br> <br>o<br>b<br>j<br>e<br>c<br>t",
          "O<br>P<br>P<br>O<br>N<br>E<br>N<br>T<br> <br> <br> <br> <br> <br>B<br>r<br>i<br>g<br>h<br>t<br>o<br>n<br>\n<br>S<br>E<br>A<br>S<br>O<br>N<br> <br> <br> <br> <br> <br> <br>2<br>0<br>1<br>8<br>-<br>2<br>0<br>1<br>9<br>\n<br>R<br>O<br>U<br>N<br>D<br> <br> <br> <br> <br> <br> <br> <br> <br> <br> <br> <br> <br> <br> <br> <br>7<br>\n<br>N<br>a<br>m<br>e<br>:<br> <br>1<br>2<br>8<br>,<br> <br>d<br>t<br>y<br>p<br>e<br>:<br> <br>o<br>b<br>j<br>e<br>c<br>t",
          "O<br>P<br>P<br>O<br>N<br>E<br>N<br>T<br> <br> <br> <br> <br>L<br>i<br>v<br>e<br>r<br>p<br>o<br>o<br>l<br>\n<br>S<br>E<br>A<br>S<br>O<br>N<br> <br> <br> <br> <br> <br> <br>2<br>0<br>1<br>8<br>-<br>2<br>0<br>1<br>9<br>\n<br>R<br>O<br>U<br>N<br>D<br> <br> <br> <br> <br> <br> <br> <br> <br> <br> <br> <br> <br> <br> <br> <br>8<br>\n<br>N<br>a<br>m<br>e<br>:<br> <br>1<br>5<br>8<br>,<br> <br>d<br>t<br>y<br>p<br>e<br>:<br> <br>o<br>b<br>j<br>e<br>c<br>t",
          "O<br>P<br>P<br>O<br>N<br>E<br>N<br>T<br> <br> <br> <br> <br> <br> <br>B<br>u<br>r<br>n<br>l<br>e<br>y<br>\n<br>S<br>E<br>A<br>S<br>O<br>N<br> <br> <br> <br> <br> <br> <br>2<br>0<br>1<br>8<br>-<br>2<br>0<br>1<br>9<br>\n<br>R<br>O<br>U<br>N<br>D<br> <br> <br> <br> <br> <br> <br> <br> <br> <br> <br> <br> <br> <br> <br> <br>9<br>\n<br>N<br>a<br>m<br>e<br>:<br> <br>1<br>6<br>8<br>,<br> <br>d<br>t<br>y<br>p<br>e<br>:<br> <br>o<br>b<br>j<br>e<br>c<br>t",
          "O<br>P<br>P<br>O<br>N<br>E<br>N<br>T<br> <br> <br> <br> <br>T<br>o<br>t<br>t<br>e<br>n<br>h<br>a<br>m<br>\n<br>S<br>E<br>A<br>S<br>O<br>N<br> <br> <br> <br> <br> <br> <br>2<br>0<br>1<br>8<br>-<br>2<br>0<br>1<br>9<br>\n<br>R<br>O<br>U<br>N<br>D<br> <br> <br> <br> <br> <br> <br> <br> <br> <br> <br> <br> <br> <br> <br>1<br>0<br>\n<br>N<br>a<br>m<br>e<br>:<br> <br>1<br>9<br>8<br>,<br> <br>d<br>t<br>y<br>p<br>e<br>:<br> <br>o<br>b<br>j<br>e<br>c<br>t",
          "O<br>P<br>P<br>O<br>N<br>E<br>N<br>T<br> <br> <br> <br> <br>S<br>o<br>u<br>t<br>h<br>a<br>m<br>p<br>t<br>o<br>n<br>\n<br>S<br>E<br>A<br>S<br>O<br>N<br> <br> <br> <br> <br> <br> <br> <br> <br>2<br>0<br>1<br>8<br>-<br>2<br>0<br>1<br>9<br>\n<br>R<br>O<br>U<br>N<br>D<br> <br> <br> <br> <br> <br> <br> <br> <br> <br> <br> <br> <br> <br> <br> <br> <br>1<br>1<br>\n<br>N<br>a<br>m<br>e<br>:<br> <br>2<br>1<br>6<br>,<br> <br>d<br>t<br>y<br>p<br>e<br>:<br> <br>o<br>b<br>j<br>e<br>c<br>t",
          "O<br>P<br>P<br>O<br>N<br>E<br>N<br>T<br> <br> <br> <br> <br>M<br>a<br>n<br>c<br>h<br>e<br>s<br>t<br>e<br>r<br> <br>U<br>t<br>d<br>\n<br>S<br>E<br>A<br>S<br>O<br>N<br> <br> <br> <br> <br> <br> <br> <br> <br> <br> <br> <br>2<br>0<br>1<br>8<br>-<br>2<br>0<br>1<br>9<br>\n<br>R<br>O<br>U<br>N<br>D<br> <br> <br> <br> <br> <br> <br> <br> <br> <br> <br> <br> <br> <br> <br> <br> <br> <br> <br> <br>1<br>2<br>\n<br>N<br>a<br>m<br>e<br>:<br> <br>2<br>3<br>7<br>,<br> <br>d<br>t<br>y<br>p<br>e<br>:<br> <br>o<br>b<br>j<br>e<br>c<br>t",
          "O<br>P<br>P<br>O<br>N<br>E<br>N<br>T<br> <br> <br> <br> <br> <br>W<br>e<br>s<br>t<br> <br>H<br>a<br>m<br>\n<br>S<br>E<br>A<br>S<br>O<br>N<br> <br> <br> <br> <br> <br> <br>2<br>0<br>1<br>8<br>-<br>2<br>0<br>1<br>9<br>\n<br>R<br>O<br>U<br>N<br>D<br> <br> <br> <br> <br> <br> <br> <br> <br> <br> <br> <br> <br> <br> <br>1<br>3<br>\n<br>N<br>a<br>m<br>e<br>:<br> <br>2<br>4<br>8<br>,<br> <br>d<br>t<br>y<br>p<br>e<br>:<br> <br>o<br>b<br>j<br>e<br>c<br>t",
          "O<br>P<br>P<br>O<br>N<br>E<br>N<br>T<br> <br> <br> <br> <br>B<br>o<br>u<br>r<br>n<br>e<br>m<br>o<br>u<br>t<br>h<br>\n<br>S<br>E<br>A<br>S<br>O<br>N<br> <br> <br> <br> <br> <br> <br> <br> <br>2<br>0<br>1<br>8<br>-<br>2<br>0<br>1<br>9<br>\n<br>R<br>O<br>U<br>N<br>D<br> <br> <br> <br> <br> <br> <br> <br> <br> <br> <br> <br> <br> <br> <br> <br> <br>1<br>4<br>\n<br>N<br>a<br>m<br>e<br>:<br> <br>2<br>6<br>8<br>,<br> <br>d<br>t<br>y<br>p<br>e<br>:<br> <br>o<br>b<br>j<br>e<br>c<br>t",
          "O<br>P<br>P<br>O<br>N<br>E<br>N<br>T<br> <br> <br> <br> <br> <br> <br>W<br>a<br>t<br>f<br>o<br>r<br>d<br>\n<br>S<br>E<br>A<br>S<br>O<br>N<br> <br> <br> <br> <br> <br> <br>2<br>0<br>1<br>8<br>-<br>2<br>0<br>1<br>9<br>\n<br>R<br>O<br>U<br>N<br>D<br> <br> <br> <br> <br> <br> <br> <br> <br> <br> <br> <br> <br> <br> <br>1<br>5<br>\n<br>N<br>a<br>m<br>e<br>:<br> <br>2<br>8<br>5<br>,<br> <br>d<br>t<br>y<br>p<br>e<br>:<br> <br>o<br>b<br>j<br>e<br>c<br>t",
          "O<br>P<br>P<br>O<br>N<br>E<br>N<br>T<br> <br> <br> <br> <br> <br> <br>C<br>h<br>e<br>l<br>s<br>e<br>a<br>\n<br>S<br>E<br>A<br>S<br>O<br>N<br> <br> <br> <br> <br> <br> <br>2<br>0<br>1<br>8<br>-<br>2<br>0<br>1<br>9<br>\n<br>R<br>O<br>U<br>N<br>D<br> <br> <br> <br> <br> <br> <br> <br> <br> <br> <br> <br> <br> <br> <br>1<br>6<br>\n<br>N<br>a<br>m<br>e<br>:<br> <br>3<br>1<br>1<br>,<br> <br>d<br>t<br>y<br>p<br>e<br>:<br> <br>o<br>b<br>j<br>e<br>c<br>t",
          "O<br>P<br>P<br>O<br>N<br>E<br>N<br>T<br> <br> <br> <br> <br> <br> <br>E<br>v<br>e<br>r<br>t<br>o<br>n<br>\n<br>S<br>E<br>A<br>S<br>O<br>N<br> <br> <br> <br> <br> <br> <br>2<br>0<br>1<br>8<br>-<br>2<br>0<br>1<br>9<br>\n<br>R<br>O<br>U<br>N<br>D<br> <br> <br> <br> <br> <br> <br> <br> <br> <br> <br> <br> <br> <br> <br>1<br>7<br>\n<br>N<br>a<br>m<br>e<br>:<br> <br>3<br>2<br>8<br>,<br> <br>d<br>t<br>y<br>p<br>e<br>:<br> <br>o<br>b<br>j<br>e<br>c<br>t",
          "O<br>P<br>P<br>O<br>N<br>E<br>N<br>T<br> <br> <br> <br> <br>C<br>r<br>y<br>s<br>t<br>a<br>l<br> <br>P<br>a<br>l<br>a<br>c<br>e<br>\n<br>S<br>E<br>A<br>S<br>O<br>N<br> <br> <br> <br> <br> <br> <br> <br> <br> <br> <br> <br>2<br>0<br>1<br>8<br>-<br>2<br>0<br>1<br>9<br>\n<br>R<br>O<br>U<br>N<br>D<br> <br> <br> <br> <br> <br> <br> <br> <br> <br> <br> <br> <br> <br> <br> <br> <br> <br> <br> <br>1<br>8<br>\n<br>N<br>a<br>m<br>e<br>:<br> <br>3<br>5<br>2<br>,<br> <br>d<br>t<br>y<br>p<br>e<br>:<br> <br>o<br>b<br>j<br>e<br>c<br>t",
          "O<br>P<br>P<br>O<br>N<br>E<br>N<br>T<br> <br> <br> <br> <br>L<br>e<br>i<br>c<br>e<br>s<br>t<br>e<br>r<br> <br>C<br>i<br>t<br>y<br>\n<br>S<br>E<br>A<br>S<br>O<br>N<br> <br> <br> <br> <br> <br> <br> <br> <br> <br> <br> <br>2<br>0<br>1<br>8<br>-<br>2<br>0<br>1<br>9<br>\n<br>R<br>O<br>U<br>N<br>D<br> <br> <br> <br> <br> <br> <br> <br> <br> <br> <br> <br> <br> <br> <br> <br> <br> <br> <br> <br>1<br>9<br>\n<br>N<br>a<br>m<br>e<br>:<br> <br>3<br>7<br>2<br>,<br> <br>d<br>t<br>y<br>p<br>e<br>:<br> <br>o<br>b<br>j<br>e<br>c<br>t",
          "O<br>P<br>P<br>O<br>N<br>E<br>N<br>T<br> <br> <br> <br> <br>S<br>o<br>u<br>t<br>h<br>a<br>m<br>p<br>t<br>o<br>n<br>\n<br>S<br>E<br>A<br>S<br>O<br>N<br> <br> <br> <br> <br> <br> <br> <br> <br>2<br>0<br>1<br>8<br>-<br>2<br>0<br>1<br>9<br>\n<br>R<br>O<br>U<br>N<br>D<br> <br> <br> <br> <br> <br> <br> <br> <br> <br> <br> <br> <br> <br> <br> <br> <br>2<br>0<br>\n<br>N<br>a<br>m<br>e<br>:<br> <br>3<br>9<br>6<br>,<br> <br>d<br>t<br>y<br>p<br>e<br>:<br> <br>o<br>b<br>j<br>e<br>c<br>t",
          "O<br>P<br>P<br>O<br>N<br>E<br>N<br>T<br> <br> <br> <br> <br>L<br>i<br>v<br>e<br>r<br>p<br>o<br>o<br>l<br>\n<br>S<br>E<br>A<br>S<br>O<br>N<br> <br> <br> <br> <br> <br> <br>2<br>0<br>1<br>8<br>-<br>2<br>0<br>1<br>9<br>\n<br>R<br>O<br>U<br>N<br>D<br> <br> <br> <br> <br> <br> <br> <br> <br> <br> <br> <br> <br> <br> <br>2<br>1<br>\n<br>N<br>a<br>m<br>e<br>:<br> <br>4<br>1<br>9<br>,<br> <br>d<br>t<br>y<br>p<br>e<br>:<br> <br>o<br>b<br>j<br>e<br>c<br>t",
          "O<br>P<br>P<br>O<br>N<br>E<br>N<br>T<br> <br> <br> <br> <br> <br> <br> <br>W<br>o<br>l<br>v<br>e<br>s<br>\n<br>S<br>E<br>A<br>S<br>O<br>N<br> <br> <br> <br> <br> <br> <br>2<br>0<br>1<br>8<br>-<br>2<br>0<br>1<br>9<br>\n<br>R<br>O<br>U<br>N<br>D<br> <br> <br> <br> <br> <br> <br> <br> <br> <br> <br> <br> <br> <br> <br>2<br>2<br>\n<br>N<br>a<br>m<br>e<br>:<br> <br>4<br>3<br>8<br>,<br> <br>d<br>t<br>y<br>p<br>e<br>:<br> <br>o<br>b<br>j<br>e<br>c<br>t",
          "O<br>P<br>P<br>O<br>N<br>E<br>N<br>T<br> <br> <br> <br> <br>H<br>u<br>d<br>d<br>e<br>r<br>s<br>f<br>i<br>e<br>l<br>d<br>\n<br>S<br>E<br>A<br>S<br>O<br>N<br> <br> <br> <br> <br> <br> <br> <br> <br> <br>2<br>0<br>1<br>8<br>-<br>2<br>0<br>1<br>9<br>\n<br>R<br>O<br>U<br>N<br>D<br> <br> <br> <br> <br> <br> <br> <br> <br> <br> <br> <br> <br> <br> <br> <br> <br> <br>2<br>3<br>\n<br>N<br>a<br>m<br>e<br>:<br> <br>4<br>5<br>8<br>,<br> <br>d<br>t<br>y<br>p<br>e<br>:<br> <br>o<br>b<br>j<br>e<br>c<br>t",
          "O<br>P<br>P<br>O<br>N<br>E<br>N<br>T<br> <br> <br> <br> <br>N<br>e<br>w<br>c<br>a<br>s<br>t<br>l<br>e<br> <br>U<br>t<br>d<br>\n<br>S<br>E<br>A<br>S<br>O<br>N<br> <br> <br> <br> <br> <br> <br> <br> <br> <br> <br>2<br>0<br>1<br>8<br>-<br>2<br>0<br>1<br>9<br>\n<br>R<br>O<br>U<br>N<br>D<br> <br> <br> <br> <br> <br> <br> <br> <br> <br> <br> <br> <br> <br> <br> <br> <br> <br> <br>2<br>4<br>\n<br>N<br>a<br>m<br>e<br>:<br> <br>4<br>6<br>7<br>,<br> <br>d<br>t<br>y<br>p<br>e<br>:<br> <br>o<br>b<br>j<br>e<br>c<br>t",
          "O<br>P<br>P<br>O<br>N<br>E<br>N<br>T<br> <br> <br> <br> <br> <br> <br>A<br>r<br>s<br>e<br>n<br>a<br>l<br>\n<br>S<br>E<br>A<br>S<br>O<br>N<br> <br> <br> <br> <br> <br> <br>2<br>0<br>1<br>8<br>-<br>2<br>0<br>1<br>9<br>\n<br>R<br>O<br>U<br>N<br>D<br> <br> <br> <br> <br> <br> <br> <br> <br> <br> <br> <br> <br> <br> <br>2<br>5<br>\n<br>N<br>a<br>m<br>e<br>:<br> <br>4<br>9<br>6<br>,<br> <br>d<br>t<br>y<br>p<br>e<br>:<br> <br>o<br>b<br>j<br>e<br>c<br>t",
          "O<br>P<br>P<br>O<br>N<br>E<br>N<br>T<br> <br> <br> <br> <br> <br> <br>E<br>v<br>e<br>r<br>t<br>o<br>n<br>\n<br>S<br>E<br>A<br>S<br>O<br>N<br> <br> <br> <br> <br> <br> <br>2<br>0<br>1<br>8<br>-<br>2<br>0<br>1<br>9<br>\n<br>R<br>O<br>U<br>N<br>D<br> <br> <br> <br> <br> <br> <br> <br> <br> <br> <br> <br> <br> <br> <br>2<br>7<br>\n<br>N<br>a<br>m<br>e<br>:<br> <br>5<br>0<br>1<br>,<br> <br>d<br>t<br>y<br>p<br>e<br>:<br> <br>o<br>b<br>j<br>e<br>c<br>t",
          "O<br>P<br>P<br>O<br>N<br>E<br>N<br>T<br> <br> <br> <br> <br> <br> <br>C<br>h<br>e<br>l<br>s<br>e<br>a<br>\n<br>S<br>E<br>A<br>S<br>O<br>N<br> <br> <br> <br> <br> <br> <br>2<br>0<br>1<br>8<br>-<br>2<br>0<br>1<br>9<br>\n<br>R<br>O<br>U<br>N<br>D<br> <br> <br> <br> <br> <br> <br> <br> <br> <br> <br> <br> <br> <br> <br>2<br>6<br>\n<br>N<br>a<br>m<br>e<br>:<br> <br>5<br>1<br>8<br>,<br> <br>d<br>t<br>y<br>p<br>e<br>:<br> <br>o<br>b<br>j<br>e<br>c<br>t",
          "O<br>P<br>P<br>O<br>N<br>E<br>N<br>T<br> <br> <br> <br> <br> <br>W<br>e<br>s<br>t<br> <br>H<br>a<br>m<br>\n<br>S<br>E<br>A<br>S<br>O<br>N<br> <br> <br> <br> <br> <br> <br>2<br>0<br>1<br>8<br>-<br>2<br>0<br>1<br>9<br>\n<br>R<br>O<br>U<br>N<br>D<br> <br> <br> <br> <br> <br> <br> <br> <br> <br> <br> <br> <br> <br> <br>2<br>8<br>\n<br>N<br>a<br>m<br>e<br>:<br> <br>5<br>5<br>2<br>,<br> <br>d<br>t<br>y<br>p<br>e<br>:<br> <br>o<br>b<br>j<br>e<br>c<br>t",
          "O<br>P<br>P<br>O<br>N<br>E<br>N<br>T<br> <br> <br> <br> <br>B<br>o<br>u<br>r<br>n<br>e<br>m<br>o<br>u<br>t<br>h<br>\n<br>S<br>E<br>A<br>S<br>O<br>N<br> <br> <br> <br> <br> <br> <br> <br> <br>2<br>0<br>1<br>8<br>-<br>2<br>0<br>1<br>9<br>\n<br>R<br>O<br>U<br>N<br>D<br> <br> <br> <br> <br> <br> <br> <br> <br> <br> <br> <br> <br> <br> <br> <br> <br>2<br>9<br>\n<br>N<br>a<br>m<br>e<br>:<br> <br>5<br>6<br>5<br>,<br> <br>d<br>t<br>y<br>p<br>e<br>:<br> <br>o<br>b<br>j<br>e<br>c<br>t",
          "O<br>P<br>P<br>O<br>N<br>E<br>N<br>T<br> <br> <br> <br> <br> <br> <br>W<br>a<br>t<br>f<br>o<br>r<br>d<br>\n<br>S<br>E<br>A<br>S<br>O<br>N<br> <br> <br> <br> <br> <br> <br>2<br>0<br>1<br>8<br>-<br>2<br>0<br>1<br>9<br>\n<br>R<br>O<br>U<br>N<br>D<br> <br> <br> <br> <br> <br> <br> <br> <br> <br> <br> <br> <br> <br> <br>3<br>0<br>\n<br>N<br>a<br>m<br>e<br>:<br> <br>5<br>8<br>6<br>,<br> <br>d<br>t<br>y<br>p<br>e<br>:<br> <br>o<br>b<br>j<br>e<br>c<br>t",
          "O<br>P<br>P<br>O<br>N<br>E<br>N<br>T<br> <br> <br> <br> <br> <br> <br> <br>F<br>u<br>l<br>h<br>a<br>m<br>\n<br>S<br>E<br>A<br>S<br>O<br>N<br> <br> <br> <br> <br> <br> <br>2<br>0<br>1<br>8<br>-<br>2<br>0<br>1<br>9<br>\n<br>R<br>O<br>U<br>N<br>D<br> <br> <br> <br> <br> <br> <br> <br> <br> <br> <br> <br> <br> <br> <br>3<br>2<br>\n<br>N<br>a<br>m<br>e<br>:<br> <br>6<br>1<br>6<br>,<br> <br>d<br>t<br>y<br>p<br>e<br>:<br> <br>o<br>b<br>j<br>e<br>c<br>t",
          "O<br>P<br>P<br>O<br>N<br>E<br>N<br>T<br> <br> <br> <br> <br>C<br>a<br>r<br>d<br>i<br>f<br>f<br> <br>C<br>i<br>t<br>y<br>\n<br>S<br>E<br>A<br>S<br>O<br>N<br> <br> <br> <br> <br> <br> <br> <br> <br> <br>2<br>0<br>1<br>8<br>-<br>2<br>0<br>1<br>9<br>\n<br>R<br>O<br>U<br>N<br>D<br> <br> <br> <br> <br> <br> <br> <br> <br> <br> <br> <br> <br> <br> <br> <br> <br> <br>3<br>3<br>\n<br>N<br>a<br>m<br>e<br>:<br> <br>6<br>3<br>6<br>,<br> <br>d<br>t<br>y<br>p<br>e<br>:<br> <br>o<br>b<br>j<br>e<br>c<br>t",
          "O<br>P<br>P<br>O<br>N<br>E<br>N<br>T<br> <br> <br> <br> <br>C<br>r<br>y<br>s<br>t<br>a<br>l<br> <br>P<br>a<br>l<br>a<br>c<br>e<br>\n<br>S<br>E<br>A<br>S<br>O<br>N<br> <br> <br> <br> <br> <br> <br> <br> <br> <br> <br> <br>2<br>0<br>1<br>8<br>-<br>2<br>0<br>1<br>9<br>\n<br>R<br>O<br>U<br>N<br>D<br> <br> <br> <br> <br> <br> <br> <br> <br> <br> <br> <br> <br> <br> <br> <br> <br> <br> <br> <br>3<br>4<br>\n<br>N<br>a<br>m<br>e<br>:<br> <br>6<br>6<br>7<br>,<br> <br>d<br>t<br>y<br>p<br>e<br>:<br> <br>o<br>b<br>j<br>e<br>c<br>t",
          "O<br>P<br>P<br>O<br>N<br>E<br>N<br>T<br> <br> <br> <br> <br>T<br>o<br>t<br>t<br>e<br>n<br>h<br>a<br>m<br>\n<br>S<br>E<br>A<br>S<br>O<br>N<br> <br> <br> <br> <br> <br> <br>2<br>0<br>1<br>8<br>-<br>2<br>0<br>1<br>9<br>\n<br>R<br>O<br>U<br>N<br>D<br> <br> <br> <br> <br> <br> <br> <br> <br> <br> <br> <br> <br> <br> <br>3<br>5<br>\n<br>N<br>a<br>m<br>e<br>:<br> <br>6<br>7<br>7<br>,<br> <br>d<br>t<br>y<br>p<br>e<br>:<br> <br>o<br>b<br>j<br>e<br>c<br>t",
          "O<br>P<br>P<br>O<br>N<br>E<br>N<br>T<br> <br> <br> <br> <br>M<br>a<br>n<br>c<br>h<br>e<br>s<br>t<br>e<br>r<br> <br>U<br>t<br>d<br>\n<br>S<br>E<br>A<br>S<br>O<br>N<br> <br> <br> <br> <br> <br> <br> <br> <br> <br> <br> <br>2<br>0<br>1<br>8<br>-<br>2<br>0<br>1<br>9<br>\n<br>R<br>O<br>U<br>N<br>D<br> <br> <br> <br> <br> <br> <br> <br> <br> <br> <br> <br> <br> <br> <br> <br> <br> <br> <br> <br>3<br>1<br>\n<br>N<br>a<br>m<br>e<br>:<br> <br>6<br>9<br>7<br>,<br> <br>d<br>t<br>y<br>p<br>e<br>:<br> <br>o<br>b<br>j<br>e<br>c<br>t",
          "O<br>P<br>P<br>O<br>N<br>E<br>N<br>T<br> <br> <br> <br> <br> <br> <br>B<br>u<br>r<br>n<br>l<br>e<br>y<br>\n<br>S<br>E<br>A<br>S<br>O<br>N<br> <br> <br> <br> <br> <br> <br>2<br>0<br>1<br>8<br>-<br>2<br>0<br>1<br>9<br>\n<br>R<br>O<br>U<br>N<br>D<br> <br> <br> <br> <br> <br> <br> <br> <br> <br> <br> <br> <br> <br> <br>3<br>6<br>\n<br>N<br>a<br>m<br>e<br>:<br> <br>7<br>1<br>8<br>,<br> <br>d<br>t<br>y<br>p<br>e<br>:<br> <br>o<br>b<br>j<br>e<br>c<br>t",
          "O<br>P<br>P<br>O<br>N<br>E<br>N<br>T<br> <br> <br> <br> <br>L<br>e<br>i<br>c<br>e<br>s<br>t<br>e<br>r<br> <br>C<br>i<br>t<br>y<br>\n<br>S<br>E<br>A<br>S<br>O<br>N<br> <br> <br> <br> <br> <br> <br> <br> <br> <br> <br> <br>2<br>0<br>1<br>8<br>-<br>2<br>0<br>1<br>9<br>\n<br>R<br>O<br>U<br>N<br>D<br> <br> <br> <br> <br> <br> <br> <br> <br> <br> <br> <br> <br> <br> <br> <br> <br> <br> <br> <br>3<br>7<br>\n<br>N<br>a<br>m<br>e<br>:<br> <br>7<br>3<br>9<br>,<br> <br>d<br>t<br>y<br>p<br>e<br>:<br> <br>o<br>b<br>j<br>e<br>c<br>t",
          "O<br>P<br>P<br>O<br>N<br>E<br>N<br>T<br> <br> <br> <br> <br> <br>B<br>r<br>i<br>g<br>h<br>t<br>o<br>n<br>\n<br>S<br>E<br>A<br>S<br>O<br>N<br> <br> <br> <br> <br> <br> <br>2<br>0<br>1<br>8<br>-<br>2<br>0<br>1<br>9<br>\n<br>R<br>O<br>U<br>N<br>D<br> <br> <br> <br> <br> <br> <br> <br> <br> <br> <br> <br> <br> <br> <br>3<br>8<br>\n<br>N<br>a<br>m<br>e<br>:<br> <br>7<br>5<br>2<br>,<br> <br>d<br>t<br>y<br>p<br>e<br>:<br> <br>o<br>b<br>j<br>e<br>c<br>t",
          "O<br>P<br>P<br>O<br>N<br>E<br>N<br>T<br> <br> <br> <br> <br> <br>W<br>e<br>s<br>t<br> <br>H<br>a<br>m<br>\n<br>S<br>E<br>A<br>S<br>O<br>N<br> <br> <br> <br> <br> <br> <br>2<br>0<br>1<br>9<br>-<br>2<br>0<br>2<br>0<br>\n<br>R<br>O<br>U<br>N<br>D<br> <br> <br> <br> <br> <br> <br> <br> <br> <br> <br> <br> <br> <br> <br> <br>1<br>\n<br>N<br>a<br>m<br>e<br>:<br> <br>7<br>6<br>8<br>,<br> <br>d<br>t<br>y<br>p<br>e<br>:<br> <br>o<br>b<br>j<br>e<br>c<br>t",
          "O<br>P<br>P<br>O<br>N<br>E<br>N<br>T<br> <br> <br> <br> <br>T<br>o<br>t<br>t<br>e<br>n<br>h<br>a<br>m<br>\n<br>S<br>E<br>A<br>S<br>O<br>N<br> <br> <br> <br> <br> <br> <br>2<br>0<br>1<br>9<br>-<br>2<br>0<br>2<br>0<br>\n<br>R<br>O<br>U<br>N<br>D<br> <br> <br> <br> <br> <br> <br> <br> <br> <br> <br> <br> <br> <br> <br> <br>2<br>\n<br>N<br>a<br>m<br>e<br>:<br> <br>7<br>8<br>7<br>,<br> <br>d<br>t<br>y<br>p<br>e<br>:<br> <br>o<br>b<br>j<br>e<br>c<br>t",
          "O<br>P<br>P<br>O<br>N<br>E<br>N<br>T<br> <br> <br> <br> <br>B<br>o<br>u<br>r<br>n<br>e<br>m<br>o<br>u<br>t<br>h<br>\n<br>S<br>E<br>A<br>S<br>O<br>N<br> <br> <br> <br> <br> <br> <br> <br> <br>2<br>0<br>1<br>9<br>-<br>2<br>0<br>2<br>0<br>\n<br>R<br>O<br>U<br>N<br>D<br> <br> <br> <br> <br> <br> <br> <br> <br> <br> <br> <br> <br> <br> <br> <br> <br> <br>3<br>\n<br>N<br>a<br>m<br>e<br>:<br> <br>8<br>1<br>6<br>,<br> <br>d<br>t<br>y<br>p<br>e<br>:<br> <br>o<br>b<br>j<br>e<br>c<br>t",
          "O<br>P<br>P<br>O<br>N<br>E<br>N<br>T<br> <br> <br> <br> <br> <br>B<br>r<br>i<br>g<br>h<br>t<br>o<br>n<br>\n<br>S<br>E<br>A<br>S<br>O<br>N<br> <br> <br> <br> <br> <br> <br>2<br>0<br>1<br>9<br>-<br>2<br>0<br>2<br>0<br>\n<br>R<br>O<br>U<br>N<br>D<br> <br> <br> <br> <br> <br> <br> <br> <br> <br> <br> <br> <br> <br> <br> <br>4<br>\n<br>N<br>a<br>m<br>e<br>:<br> <br>8<br>2<br>8<br>,<br> <br>d<br>t<br>y<br>p<br>e<br>:<br> <br>o<br>b<br>j<br>e<br>c<br>t",
          "O<br>P<br>P<br>O<br>N<br>E<br>N<br>T<br> <br> <br> <br> <br>N<br>o<br>r<br>w<br>i<br>c<br>h<br> <br>C<br>i<br>t<br>y<br>\n<br>S<br>E<br>A<br>S<br>O<br>N<br> <br> <br> <br> <br> <br> <br> <br> <br> <br>2<br>0<br>1<br>9<br>-<br>2<br>0<br>2<br>0<br>\n<br>R<br>O<br>U<br>N<br>D<br> <br> <br> <br> <br> <br> <br> <br> <br> <br> <br> <br> <br> <br> <br> <br> <br> <br> <br>5<br>\n<br>N<br>a<br>m<br>e<br>:<br> <br>8<br>4<br>6<br>,<br> <br>d<br>t<br>y<br>p<br>e<br>:<br> <br>o<br>b<br>j<br>e<br>c<br>t",
          "O<br>P<br>P<br>O<br>N<br>E<br>N<br>T<br> <br> <br> <br> <br> <br> <br>W<br>a<br>t<br>f<br>o<br>r<br>d<br>\n<br>S<br>E<br>A<br>S<br>O<br>N<br> <br> <br> <br> <br> <br> <br>2<br>0<br>1<br>9<br>-<br>2<br>0<br>2<br>0<br>\n<br>R<br>O<br>U<br>N<br>D<br> <br> <br> <br> <br> <br> <br> <br> <br> <br> <br> <br> <br> <br> <br> <br>6<br>\n<br>N<br>a<br>m<br>e<br>:<br> <br>8<br>6<br>6<br>,<br> <br>d<br>t<br>y<br>p<br>e<br>:<br> <br>o<br>b<br>j<br>e<br>c<br>t",
          "O<br>P<br>P<br>O<br>N<br>E<br>N<br>T<br> <br> <br> <br> <br> <br> <br>E<br>v<br>e<br>r<br>t<br>o<br>n<br>\n<br>S<br>E<br>A<br>S<br>O<br>N<br> <br> <br> <br> <br> <br> <br>2<br>0<br>1<br>9<br>-<br>2<br>0<br>2<br>0<br>\n<br>R<br>O<br>U<br>N<br>D<br> <br> <br> <br> <br> <br> <br> <br> <br> <br> <br> <br> <br> <br> <br> <br>7<br>\n<br>N<br>a<br>m<br>e<br>:<br> <br>8<br>8<br>8<br>,<br> <br>d<br>t<br>y<br>p<br>e<br>:<br> <br>o<br>b<br>j<br>e<br>c<br>t",
          "O<br>P<br>P<br>O<br>N<br>E<br>N<br>T<br> <br> <br> <br> <br> <br> <br> <br>W<br>o<br>l<br>v<br>e<br>s<br>\n<br>S<br>E<br>A<br>S<br>O<br>N<br> <br> <br> <br> <br> <br> <br>2<br>0<br>1<br>9<br>-<br>2<br>0<br>2<br>0<br>\n<br>R<br>O<br>U<br>N<br>D<br> <br> <br> <br> <br> <br> <br> <br> <br> <br> <br> <br> <br> <br> <br> <br>8<br>\n<br>N<br>a<br>m<br>e<br>:<br> <br>9<br>1<br>5<br>,<br> <br>d<br>t<br>y<br>p<br>e<br>:<br> <br>o<br>b<br>j<br>e<br>c<br>t",
          "O<br>P<br>P<br>O<br>N<br>E<br>N<br>T<br> <br> <br> <br> <br>C<br>r<br>y<br>s<br>t<br>a<br>l<br> <br>P<br>a<br>l<br>a<br>c<br>e<br>\n<br>S<br>E<br>A<br>S<br>O<br>N<br> <br> <br> <br> <br> <br> <br> <br> <br> <br> <br> <br>2<br>0<br>1<br>9<br>-<br>2<br>0<br>2<br>0<br>\n<br>R<br>O<br>U<br>N<br>D<br> <br> <br> <br> <br> <br> <br> <br> <br> <br> <br> <br> <br> <br> <br> <br> <br> <br> <br> <br> <br>9<br>\n<br>N<br>a<br>m<br>e<br>:<br> <br>9<br>2<br>8<br>,<br> <br>d<br>t<br>y<br>p<br>e<br>:<br> <br>o<br>b<br>j<br>e<br>c<br>t",
          "O<br>P<br>P<br>O<br>N<br>E<br>N<br>T<br> <br> <br> <br> <br>A<br>s<br>t<br>o<br>n<br> <br>V<br>i<br>l<br>l<br>a<br>\n<br>S<br>E<br>A<br>S<br>O<br>N<br> <br> <br> <br> <br> <br> <br> <br> <br>2<br>0<br>1<br>9<br>-<br>2<br>0<br>2<br>0<br>\n<br>R<br>O<br>U<br>N<br>D<br> <br> <br> <br> <br> <br> <br> <br> <br> <br> <br> <br> <br> <br> <br> <br> <br>1<br>0<br>\n<br>N<br>a<br>m<br>e<br>:<br> <br>9<br>4<br>8<br>,<br> <br>d<br>t<br>y<br>p<br>e<br>:<br> <br>o<br>b<br>j<br>e<br>c<br>t",
          "O<br>P<br>P<br>O<br>N<br>E<br>N<br>T<br> <br> <br> <br> <br>S<br>o<br>u<br>t<br>h<br>a<br>m<br>p<br>t<br>o<br>n<br>\n<br>S<br>E<br>A<br>S<br>O<br>N<br> <br> <br> <br> <br> <br> <br> <br> <br>2<br>0<br>1<br>9<br>-<br>2<br>0<br>2<br>0<br>\n<br>R<br>O<br>U<br>N<br>D<br> <br> <br> <br> <br> <br> <br> <br> <br> <br> <br> <br> <br> <br> <br> <br> <br>1<br>1<br>\n<br>N<br>a<br>m<br>e<br>:<br> <br>9<br>6<br>7<br>,<br> <br>d<br>t<br>y<br>p<br>e<br>:<br> <br>o<br>b<br>j<br>e<br>c<br>t",
          "O<br>P<br>P<br>O<br>N<br>E<br>N<br>T<br> <br> <br> <br> <br>L<br>i<br>v<br>e<br>r<br>p<br>o<br>o<br>l<br>\n<br>S<br>E<br>A<br>S<br>O<br>N<br> <br> <br> <br> <br> <br> <br>2<br>0<br>1<br>9<br>-<br>2<br>0<br>2<br>0<br>\n<br>R<br>O<br>U<br>N<br>D<br> <br> <br> <br> <br> <br> <br> <br> <br> <br> <br> <br> <br> <br> <br>1<br>2<br>\n<br>N<br>a<br>m<br>e<br>:<br> <br>9<br>9<br>7<br>,<br> <br>d<br>t<br>y<br>p<br>e<br>:<br> <br>o<br>b<br>j<br>e<br>c<br>t",
          "O<br>P<br>P<br>O<br>N<br>E<br>N<br>T<br> <br> <br> <br> <br> <br> <br>C<br>h<br>e<br>l<br>s<br>e<br>a<br>\n<br>S<br>E<br>A<br>S<br>O<br>N<br> <br> <br> <br> <br> <br> <br>2<br>0<br>1<br>9<br>-<br>2<br>0<br>2<br>0<br>\n<br>R<br>O<br>U<br>N<br>D<br> <br> <br> <br> <br> <br> <br> <br> <br> <br> <br> <br> <br> <br> <br>1<br>3<br>\n<br>N<br>a<br>m<br>e<br>:<br> <br>1<br>0<br>0<br>9<br>,<br> <br>d<br>t<br>y<br>p<br>e<br>:<br> <br>o<br>b<br>j<br>e<br>c<br>t",
          "O<br>P<br>P<br>O<br>N<br>E<br>N<br>T<br> <br> <br> <br> <br>N<br>e<br>w<br>c<br>a<br>s<br>t<br>l<br>e<br> <br>U<br>t<br>d<br>\n<br>S<br>E<br>A<br>S<br>O<br>N<br> <br> <br> <br> <br> <br> <br> <br> <br> <br> <br>2<br>0<br>1<br>9<br>-<br>2<br>0<br>2<br>0<br>\n<br>R<br>O<br>U<br>N<br>D<br> <br> <br> <br> <br> <br> <br> <br> <br> <br> <br> <br> <br> <br> <br> <br> <br> <br> <br>1<br>4<br>\n<br>N<br>a<br>m<br>e<br>:<br> <br>1<br>0<br>2<br>6<br>,<br> <br>d<br>t<br>y<br>p<br>e<br>:<br> <br>o<br>b<br>j<br>e<br>c<br>t",
          "O<br>P<br>P<br>O<br>N<br>E<br>N<br>T<br> <br> <br> <br> <br> <br> <br>B<br>u<br>r<br>n<br>l<br>e<br>y<br>\n<br>S<br>E<br>A<br>S<br>O<br>N<br> <br> <br> <br> <br> <br> <br>2<br>0<br>1<br>9<br>-<br>2<br>0<br>2<br>0<br>\n<br>R<br>O<br>U<br>N<br>D<br> <br> <br> <br> <br> <br> <br> <br> <br> <br> <br> <br> <br> <br> <br>1<br>5<br>\n<br>N<br>a<br>m<br>e<br>:<br> <br>1<br>0<br>4<br>3<br>,<br> <br>d<br>t<br>y<br>p<br>e<br>:<br> <br>o<br>b<br>j<br>e<br>c<br>t",
          "O<br>P<br>P<br>O<br>N<br>E<br>N<br>T<br> <br> <br> <br> <br>M<br>a<br>n<br>c<br>h<br>e<br>s<br>t<br>e<br>r<br> <br>U<br>t<br>d<br>\n<br>S<br>E<br>A<br>S<br>O<br>N<br> <br> <br> <br> <br> <br> <br> <br> <br> <br> <br> <br>2<br>0<br>1<br>9<br>-<br>2<br>0<br>2<br>0<br>\n<br>R<br>O<br>U<br>N<br>D<br> <br> <br> <br> <br> <br> <br> <br> <br> <br> <br> <br> <br> <br> <br> <br> <br> <br> <br> <br>1<br>6<br>\n<br>N<br>a<br>m<br>e<br>:<br> <br>1<br>0<br>6<br>6<br>,<br> <br>d<br>t<br>y<br>p<br>e<br>:<br> <br>o<br>b<br>j<br>e<br>c<br>t",
          "O<br>P<br>P<br>O<br>N<br>E<br>N<br>T<br> <br> <br> <br> <br> <br> <br>A<br>r<br>s<br>e<br>n<br>a<br>l<br>\n<br>S<br>E<br>A<br>S<br>O<br>N<br> <br> <br> <br> <br> <br> <br>2<br>0<br>1<br>9<br>-<br>2<br>0<br>2<br>0<br>\n<br>R<br>O<br>U<br>N<br>D<br> <br> <br> <br> <br> <br> <br> <br> <br> <br> <br> <br> <br> <br> <br>1<br>7<br>\n<br>N<br>a<br>m<br>e<br>:<br> <br>1<br>0<br>9<br>4<br>,<br> <br>d<br>t<br>y<br>p<br>e<br>:<br> <br>o<br>b<br>j<br>e<br>c<br>t",
          "O<br>P<br>P<br>O<br>N<br>E<br>N<br>T<br> <br> <br> <br> <br>L<br>e<br>i<br>c<br>e<br>s<br>t<br>e<br>r<br> <br>C<br>i<br>t<br>y<br>\n<br>S<br>E<br>A<br>S<br>O<br>N<br> <br> <br> <br> <br> <br> <br> <br> <br> <br> <br> <br>2<br>0<br>1<br>9<br>-<br>2<br>0<br>2<br>0<br>\n<br>R<br>O<br>U<br>N<br>D<br> <br> <br> <br> <br> <br> <br> <br> <br> <br> <br> <br> <br> <br> <br> <br> <br> <br> <br> <br>1<br>8<br>\n<br>N<br>a<br>m<br>e<br>:<br> <br>1<br>1<br>0<br>8<br>,<br> <br>d<br>t<br>y<br>p<br>e<br>:<br> <br>o<br>b<br>j<br>e<br>c<br>t",
          "O<br>P<br>P<br>O<br>N<br>E<br>N<br>T<br> <br> <br> <br> <br> <br> <br> <br>W<br>o<br>l<br>v<br>e<br>s<br>\n<br>S<br>E<br>A<br>S<br>O<br>N<br> <br> <br> <br> <br> <br> <br>2<br>0<br>1<br>9<br>-<br>2<br>0<br>2<br>0<br>\n<br>R<br>O<br>U<br>N<br>D<br> <br> <br> <br> <br> <br> <br> <br> <br> <br> <br> <br> <br> <br> <br>1<br>9<br>\n<br>N<br>a<br>m<br>e<br>:<br> <br>1<br>1<br>3<br>6<br>,<br> <br>d<br>t<br>y<br>p<br>e<br>:<br> <br>o<br>b<br>j<br>e<br>c<br>t",
          "O<br>P<br>P<br>O<br>N<br>E<br>N<br>T<br> <br> <br> <br> <br>S<br>h<br>e<br>f<br>f<br>i<br>e<br>l<br>d<br> <br>U<br>t<br>d<br>\n<br>S<br>E<br>A<br>S<br>O<br>N<br> <br> <br> <br> <br> <br> <br> <br> <br> <br> <br>2<br>0<br>1<br>9<br>-<br>2<br>0<br>2<br>0<br>\n<br>R<br>O<br>U<br>N<br>D<br> <br> <br> <br> <br> <br> <br> <br> <br> <br> <br> <br> <br> <br> <br> <br> <br> <br> <br>2<br>0<br>\n<br>N<br>a<br>m<br>e<br>:<br> <br>1<br>1<br>5<br>5<br>,<br> <br>d<br>t<br>y<br>p<br>e<br>:<br> <br>o<br>b<br>j<br>e<br>c<br>t",
          "O<br>P<br>P<br>O<br>N<br>E<br>N<br>T<br> <br> <br> <br> <br> <br> <br>E<br>v<br>e<br>r<br>t<br>o<br>n<br>\n<br>S<br>E<br>A<br>S<br>O<br>N<br> <br> <br> <br> <br> <br> <br>2<br>0<br>1<br>9<br>-<br>2<br>0<br>2<br>0<br>\n<br>R<br>O<br>U<br>N<br>D<br> <br> <br> <br> <br> <br> <br> <br> <br> <br> <br> <br> <br> <br> <br>2<br>1<br>\n<br>N<br>a<br>m<br>e<br>:<br> <br>1<br>1<br>6<br>7<br>,<br> <br>d<br>t<br>y<br>p<br>e<br>:<br> <br>o<br>b<br>j<br>e<br>c<br>t",
          "O<br>P<br>P<br>O<br>N<br>E<br>N<br>T<br> <br> <br> <br> <br>A<br>s<br>t<br>o<br>n<br> <br>V<br>i<br>l<br>l<br>a<br>\n<br>S<br>E<br>A<br>S<br>O<br>N<br> <br> <br> <br> <br> <br> <br> <br> <br>2<br>0<br>1<br>9<br>-<br>2<br>0<br>2<br>0<br>\n<br>R<br>O<br>U<br>N<br>D<br> <br> <br> <br> <br> <br> <br> <br> <br> <br> <br> <br> <br> <br> <br> <br> <br>2<br>2<br>\n<br>N<br>a<br>m<br>e<br>:<br> <br>1<br>1<br>9<br>6<br>,<br> <br>d<br>t<br>y<br>p<br>e<br>:<br> <br>o<br>b<br>j<br>e<br>c<br>t",
          "O<br>P<br>P<br>O<br>N<br>E<br>N<br>T<br> <br> <br> <br> <br>C<br>r<br>y<br>s<br>t<br>a<br>l<br> <br>P<br>a<br>l<br>a<br>c<br>e<br>\n<br>S<br>E<br>A<br>S<br>O<br>N<br> <br> <br> <br> <br> <br> <br> <br> <br> <br> <br> <br>2<br>0<br>1<br>9<br>-<br>2<br>0<br>2<br>0<br>\n<br>R<br>O<br>U<br>N<br>D<br> <br> <br> <br> <br> <br> <br> <br> <br> <br> <br> <br> <br> <br> <br> <br> <br> <br> <br> <br>2<br>3<br>\n<br>N<br>a<br>m<br>e<br>:<br> <br>1<br>2<br>0<br>5<br>,<br> <br>d<br>t<br>y<br>p<br>e<br>:<br> <br>o<br>b<br>j<br>e<br>c<br>t",
          "O<br>P<br>P<br>O<br>N<br>E<br>N<br>T<br> <br> <br> <br> <br>S<br>h<br>e<br>f<br>f<br>i<br>e<br>l<br>d<br> <br>U<br>t<br>d<br>\n<br>S<br>E<br>A<br>S<br>O<br>N<br> <br> <br> <br> <br> <br> <br> <br> <br> <br> <br>2<br>0<br>1<br>9<br>-<br>2<br>0<br>2<br>0<br>\n<br>R<br>O<br>U<br>N<br>D<br> <br> <br> <br> <br> <br> <br> <br> <br> <br> <br> <br> <br> <br> <br> <br> <br> <br> <br>2<br>4<br>\n<br>N<br>a<br>m<br>e<br>:<br> <br>1<br>2<br>2<br>5<br>,<br> <br>d<br>t<br>y<br>p<br>e<br>:<br> <br>o<br>b<br>j<br>e<br>c<br>t",
          "O<br>P<br>P<br>O<br>N<br>E<br>N<br>T<br> <br> <br> <br> <br>T<br>o<br>t<br>t<br>e<br>n<br>h<br>a<br>m<br>\n<br>S<br>E<br>A<br>S<br>O<br>N<br> <br> <br> <br> <br> <br> <br>2<br>0<br>1<br>9<br>-<br>2<br>0<br>2<br>0<br>\n<br>R<br>O<br>U<br>N<br>D<br> <br> <br> <br> <br> <br> <br> <br> <br> <br> <br> <br> <br> <br> <br>2<br>5<br>\n<br>N<br>a<br>m<br>e<br>:<br> <br>1<br>2<br>5<br>8<br>,<br> <br>d<br>t<br>y<br>p<br>e<br>:<br> <br>o<br>b<br>j<br>e<br>c<br>t",
          "O<br>P<br>P<br>O<br>N<br>E<br>N<br>T<br> <br> <br> <br> <br> <br>W<br>e<br>s<br>t<br> <br>H<br>a<br>m<br>\n<br>S<br>E<br>A<br>S<br>O<br>N<br> <br> <br> <br> <br> <br> <br>2<br>0<br>1<br>9<br>-<br>2<br>0<br>2<br>0<br>\n<br>R<br>O<br>U<br>N<br>D<br> <br> <br> <br> <br> <br> <br> <br> <br> <br> <br> <br> <br> <br> <br>2<br>6<br>\n<br>N<br>a<br>m<br>e<br>:<br> <br>1<br>2<br>7<br>8<br>,<br> <br>d<br>t<br>y<br>p<br>e<br>:<br> <br>o<br>b<br>j<br>e<br>c<br>t",
          "O<br>P<br>P<br>O<br>N<br>E<br>N<br>T<br> <br> <br> <br> <br>L<br>e<br>i<br>c<br>e<br>s<br>t<br>e<br>r<br> <br>C<br>i<br>t<br>y<br>\n<br>S<br>E<br>A<br>S<br>O<br>N<br> <br> <br> <br> <br> <br> <br> <br> <br> <br> <br> <br>2<br>0<br>1<br>9<br>-<br>2<br>0<br>2<br>0<br>\n<br>R<br>O<br>U<br>N<br>D<br> <br> <br> <br> <br> <br> <br> <br> <br> <br> <br> <br> <br> <br> <br> <br> <br> <br> <br> <br>2<br>7<br>\n<br>N<br>a<br>m<br>e<br>:<br> <br>1<br>2<br>8<br>7<br>,<br> <br>d<br>t<br>y<br>p<br>e<br>:<br> <br>o<br>b<br>j<br>e<br>c<br>t",
          "O<br>P<br>P<br>O<br>N<br>E<br>N<br>T<br> <br> <br> <br> <br>M<br>a<br>n<br>c<br>h<br>e<br>s<br>t<br>e<br>r<br> <br>U<br>t<br>d<br>\n<br>S<br>E<br>A<br>S<br>O<br>N<br> <br> <br> <br> <br> <br> <br> <br> <br> <br> <br> <br>2<br>0<br>1<br>9<br>-<br>2<br>0<br>2<br>0<br>\n<br>R<br>O<br>U<br>N<br>D<br> <br> <br> <br> <br> <br> <br> <br> <br> <br> <br> <br> <br> <br> <br> <br> <br> <br> <br> <br>2<br>9<br>\n<br>N<br>a<br>m<br>e<br>:<br> <br>1<br>3<br>3<br>2<br>,<br> <br>d<br>t<br>y<br>p<br>e<br>:<br> <br>o<br>b<br>j<br>e<br>c<br>t",
          "O<br>P<br>P<br>O<br>N<br>E<br>N<br>T<br> <br> <br> <br> <br> <br> <br>A<br>r<br>s<br>e<br>n<br>a<br>l<br>\n<br>S<br>E<br>A<br>S<br>O<br>N<br> <br> <br> <br> <br> <br> <br>2<br>0<br>1<br>9<br>-<br>2<br>0<br>2<br>0<br>\n<br>R<br>O<br>U<br>N<br>D<br> <br> <br> <br> <br> <br> <br> <br> <br> <br> <br> <br> <br> <br> <br>2<br>8<br>\n<br>N<br>a<br>m<br>e<br>:<br> <br>1<br>3<br>3<br>8<br>,<br> <br>d<br>t<br>y<br>p<br>e<br>:<br> <br>o<br>b<br>j<br>e<br>c<br>t",
          "O<br>P<br>P<br>O<br>N<br>E<br>N<br>T<br> <br> <br> <br> <br> <br> <br>B<br>u<br>r<br>n<br>l<br>e<br>y<br>\n<br>S<br>E<br>A<br>S<br>O<br>N<br> <br> <br> <br> <br> <br> <br>2<br>0<br>1<br>9<br>-<br>2<br>0<br>2<br>0<br>\n<br>R<br>O<br>U<br>N<br>D<br> <br> <br> <br> <br> <br> <br> <br> <br> <br> <br> <br> <br> <br> <br>3<br>0<br>\n<br>N<br>a<br>m<br>e<br>:<br> <br>1<br>3<br>5<br>9<br>,<br> <br>d<br>t<br>y<br>p<br>e<br>:<br> <br>o<br>b<br>j<br>e<br>c<br>t",
          "O<br>P<br>P<br>O<br>N<br>E<br>N<br>T<br> <br> <br> <br> <br> <br> <br>C<br>h<br>e<br>l<br>s<br>e<br>a<br>\n<br>S<br>E<br>A<br>S<br>O<br>N<br> <br> <br> <br> <br> <br> <br>2<br>0<br>1<br>9<br>-<br>2<br>0<br>2<br>0<br>\n<br>R<br>O<br>U<br>N<br>D<br> <br> <br> <br> <br> <br> <br> <br> <br> <br> <br> <br> <br> <br> <br>3<br>1<br>\n<br>N<br>a<br>m<br>e<br>:<br> <br>1<br>3<br>7<br>7<br>,<br> <br>d<br>t<br>y<br>p<br>e<br>:<br> <br>o<br>b<br>j<br>e<br>c<br>t",
          "O<br>P<br>P<br>O<br>N<br>E<br>N<br>T<br> <br> <br> <br> <br>L<br>i<br>v<br>e<br>r<br>p<br>o<br>o<br>l<br>\n<br>S<br>E<br>A<br>S<br>O<br>N<br> <br> <br> <br> <br> <br> <br>2<br>0<br>1<br>9<br>-<br>2<br>0<br>2<br>0<br>\n<br>R<br>O<br>U<br>N<br>D<br> <br> <br> <br> <br> <br> <br> <br> <br> <br> <br> <br> <br> <br> <br>3<br>2<br>\n<br>N<br>a<br>m<br>e<br>:<br> <br>1<br>3<br>9<br>7<br>,<br> <br>d<br>t<br>y<br>p<br>e<br>:<br> <br>o<br>b<br>j<br>e<br>c<br>t",
          "O<br>P<br>P<br>O<br>N<br>E<br>N<br>T<br> <br> <br> <br> <br>S<br>o<br>u<br>t<br>h<br>a<br>m<br>p<br>t<br>o<br>n<br>\n<br>S<br>E<br>A<br>S<br>O<br>N<br> <br> <br> <br> <br> <br> <br> <br> <br>2<br>0<br>1<br>9<br>-<br>2<br>0<br>2<br>0<br>\n<br>R<br>O<br>U<br>N<br>D<br> <br> <br> <br> <br> <br> <br> <br> <br> <br> <br> <br> <br> <br> <br> <br> <br>3<br>3<br>\n<br>N<br>a<br>m<br>e<br>:<br> <br>1<br>4<br>1<br>3<br>,<br> <br>d<br>t<br>y<br>p<br>e<br>:<br> <br>o<br>b<br>j<br>e<br>c<br>t",
          "O<br>P<br>P<br>O<br>N<br>E<br>N<br>T<br> <br> <br> <br> <br>N<br>e<br>w<br>c<br>a<br>s<br>t<br>l<br>e<br> <br>U<br>t<br>d<br>\n<br>S<br>E<br>A<br>S<br>O<br>N<br> <br> <br> <br> <br> <br> <br> <br> <br> <br> <br>2<br>0<br>1<br>9<br>-<br>2<br>0<br>2<br>0<br>\n<br>R<br>O<br>U<br>N<br>D<br> <br> <br> <br> <br> <br> <br> <br> <br> <br> <br> <br> <br> <br> <br> <br> <br> <br> <br>3<br>4<br>\n<br>N<br>a<br>m<br>e<br>:<br> <br>1<br>4<br>2<br>9<br>,<br> <br>d<br>t<br>y<br>p<br>e<br>:<br> <br>o<br>b<br>j<br>e<br>c<br>t",
          "O<br>P<br>P<br>O<br>N<br>E<br>N<br>T<br> <br> <br> <br> <br> <br>B<br>r<br>i<br>g<br>h<br>t<br>o<br>n<br>\n<br>S<br>E<br>A<br>S<br>O<br>N<br> <br> <br> <br> <br> <br> <br>2<br>0<br>1<br>9<br>-<br>2<br>0<br>2<br>0<br>\n<br>R<br>O<br>U<br>N<br>D<br> <br> <br> <br> <br> <br> <br> <br> <br> <br> <br> <br> <br> <br> <br>3<br>5<br>\n<br>N<br>a<br>m<br>e<br>:<br> <br>1<br>4<br>4<br>4<br>,<br> <br>d<br>t<br>y<br>p<br>e<br>:<br> <br>o<br>b<br>j<br>e<br>c<br>t",
          "O<br>P<br>P<br>O<br>N<br>E<br>N<br>T<br> <br> <br> <br> <br>B<br>o<br>u<br>r<br>n<br>e<br>m<br>o<br>u<br>t<br>h<br>\n<br>S<br>E<br>A<br>S<br>O<br>N<br> <br> <br> <br> <br> <br> <br> <br> <br>2<br>0<br>1<br>9<br>-<br>2<br>0<br>2<br>0<br>\n<br>R<br>O<br>U<br>N<br>D<br> <br> <br> <br> <br> <br> <br> <br> <br> <br> <br> <br> <br> <br> <br> <br> <br>3<br>6<br>\n<br>N<br>a<br>m<br>e<br>:<br> <br>1<br>4<br>6<br>6<br>,<br> <br>d<br>t<br>y<br>p<br>e<br>:<br> <br>o<br>b<br>j<br>e<br>c<br>t",
          "O<br>P<br>P<br>O<br>N<br>E<br>N<br>T<br> <br> <br> <br> <br> <br> <br>W<br>a<br>t<br>f<br>o<br>r<br>d<br>\n<br>S<br>E<br>A<br>S<br>O<br>N<br> <br> <br> <br> <br> <br> <br>2<br>0<br>1<br>9<br>-<br>2<br>0<br>2<br>0<br>\n<br>R<br>O<br>U<br>N<br>D<br> <br> <br> <br> <br> <br> <br> <br> <br> <br> <br> <br> <br> <br> <br>3<br>7<br>\n<br>N<br>a<br>m<br>e<br>:<br> <br>1<br>4<br>9<br>4<br>,<br> <br>d<br>t<br>y<br>p<br>e<br>:<br> <br>o<br>b<br>j<br>e<br>c<br>t",
          "O<br>P<br>P<br>O<br>N<br>E<br>N<br>T<br> <br> <br> <br> <br>N<br>o<br>r<br>w<br>i<br>c<br>h<br> <br>C<br>i<br>t<br>y<br>\n<br>S<br>E<br>A<br>S<br>O<br>N<br> <br> <br> <br> <br> <br> <br> <br> <br> <br>2<br>0<br>1<br>9<br>-<br>2<br>0<br>2<br>0<br>\n<br>R<br>O<br>U<br>N<br>D<br> <br> <br> <br> <br> <br> <br> <br> <br> <br> <br> <br> <br> <br> <br> <br> <br> <br>3<br>8<br>\n<br>N<br>a<br>m<br>e<br>:<br> <br>1<br>5<br>1<br>0<br>,<br> <br>d<br>t<br>y<br>p<br>e<br>:<br> <br>o<br>b<br>j<br>e<br>c<br>t",
          "O<br>P<br>P<br>O<br>N<br>E<br>N<br>T<br> <br> <br> <br> <br> <br> <br> <br>W<br>o<br>l<br>v<br>e<br>s<br>\n<br>S<br>E<br>A<br>S<br>O<br>N<br> <br> <br> <br> <br> <br> <br>2<br>0<br>2<br>0<br>-<br>2<br>0<br>2<br>1<br>\n<br>R<br>O<br>U<br>N<br>D<br> <br> <br> <br> <br> <br> <br> <br> <br> <br> <br> <br> <br> <br> <br> <br>2<br>\n<br>N<br>a<br>m<br>e<br>:<br> <br>1<br>5<br>5<br>3<br>,<br> <br>d<br>t<br>y<br>p<br>e<br>:<br> <br>o<br>b<br>j<br>e<br>c<br>t",
          "O<br>P<br>P<br>O<br>N<br>E<br>N<br>T<br> <br> <br> <br> <br>L<br>e<br>i<br>c<br>e<br>s<br>t<br>e<br>r<br> <br>C<br>i<br>t<br>y<br>\n<br>S<br>E<br>A<br>S<br>O<br>N<br> <br> <br> <br> <br> <br> <br> <br> <br> <br> <br> <br>2<br>0<br>2<br>0<br>-<br>2<br>0<br>2<br>1<br>\n<br>R<br>O<br>U<br>N<br>D<br> <br> <br> <br> <br> <br> <br> <br> <br> <br> <br> <br> <br> <br> <br> <br> <br> <br> <br> <br> <br>3<br>\n<br>N<br>a<br>m<br>e<br>:<br> <br>1<br>5<br>6<br>6<br>,<br> <br>d<br>t<br>y<br>p<br>e<br>:<br> <br>o<br>b<br>j<br>e<br>c<br>t",
          "O<br>P<br>P<br>O<br>N<br>E<br>N<br>T<br> <br> <br> <br> <br>L<br>e<br>e<br>d<br>s<br> <br>U<br>n<br>i<br>t<br>e<br>d<br>\n<br>S<br>E<br>A<br>S<br>O<br>N<br> <br> <br> <br> <br> <br> <br> <br> <br> <br>2<br>0<br>2<br>0<br>-<br>2<br>0<br>2<br>1<br>\n<br>R<br>O<br>U<br>N<br>D<br> <br> <br> <br> <br> <br> <br> <br> <br> <br> <br> <br> <br> <br> <br> <br> <br> <br> <br>4<br>\n<br>N<br>a<br>m<br>e<br>:<br> <br>1<br>5<br>8<br>2<br>,<br> <br>d<br>t<br>y<br>p<br>e<br>:<br> <br>o<br>b<br>j<br>e<br>c<br>t",
          "O<br>P<br>P<br>O<br>N<br>E<br>N<br>T<br> <br> <br> <br> <br> <br> <br>A<br>r<br>s<br>e<br>n<br>a<br>l<br>\n<br>S<br>E<br>A<br>S<br>O<br>N<br> <br> <br> <br> <br> <br> <br>2<br>0<br>2<br>0<br>-<br>2<br>0<br>2<br>1<br>\n<br>R<br>O<br>U<br>N<br>D<br> <br> <br> <br> <br> <br> <br> <br> <br> <br> <br> <br> <br> <br> <br> <br>5<br>\n<br>N<br>a<br>m<br>e<br>:<br> <br>1<br>6<br>0<br>0<br>,<br> <br>d<br>t<br>y<br>p<br>e<br>:<br> <br>o<br>b<br>j<br>e<br>c<br>t",
          "O<br>P<br>P<br>O<br>N<br>E<br>N<br>T<br> <br> <br> <br> <br> <br>W<br>e<br>s<br>t<br> <br>H<br>a<br>m<br>\n<br>S<br>E<br>A<br>S<br>O<br>N<br> <br> <br> <br> <br> <br> <br>2<br>0<br>2<br>0<br>-<br>2<br>0<br>2<br>1<br>\n<br>R<br>O<br>U<br>N<br>D<br> <br> <br> <br> <br> <br> <br> <br> <br> <br> <br> <br> <br> <br> <br> <br>6<br>\n<br>N<br>a<br>m<br>e<br>:<br> <br>1<br>6<br>2<br>2<br>,<br> <br>d<br>t<br>y<br>p<br>e<br>:<br> <br>o<br>b<br>j<br>e<br>c<br>t",
          "O<br>P<br>P<br>O<br>N<br>E<br>N<br>T<br> <br> <br> <br> <br>S<br>h<br>e<br>f<br>f<br>i<br>e<br>l<br>d<br> <br>U<br>t<br>d<br>\n<br>S<br>E<br>A<br>S<br>O<br>N<br> <br> <br> <br> <br> <br> <br> <br> <br> <br> <br>2<br>0<br>2<br>0<br>-<br>2<br>0<br>2<br>1<br>\n<br>R<br>O<br>U<br>N<br>D<br> <br> <br> <br> <br> <br> <br> <br> <br> <br> <br> <br> <br> <br> <br> <br> <br> <br> <br> <br>7<br>\n<br>N<br>a<br>m<br>e<br>:<br> <br>1<br>6<br>4<br>1<br>,<br> <br>d<br>t<br>y<br>p<br>e<br>:<br> <br>o<br>b<br>j<br>e<br>c<br>t",
          "O<br>P<br>P<br>O<br>N<br>E<br>N<br>T<br> <br> <br> <br> <br>L<br>i<br>v<br>e<br>r<br>p<br>o<br>o<br>l<br>\n<br>S<br>E<br>A<br>S<br>O<br>N<br> <br> <br> <br> <br> <br> <br>2<br>0<br>2<br>0<br>-<br>2<br>0<br>2<br>1<br>\n<br>R<br>O<br>U<br>N<br>D<br> <br> <br> <br> <br> <br> <br> <br> <br> <br> <br> <br> <br> <br> <br> <br>8<br>\n<br>N<br>a<br>m<br>e<br>:<br> <br>1<br>6<br>7<br>2<br>,<br> <br>d<br>t<br>y<br>p<br>e<br>:<br> <br>o<br>b<br>j<br>e<br>c<br>t",
          "O<br>P<br>P<br>O<br>N<br>E<br>N<br>T<br> <br> <br> <br> <br>T<br>o<br>t<br>t<br>e<br>n<br>h<br>a<br>m<br>\n<br>S<br>E<br>A<br>S<br>O<br>N<br> <br> <br> <br> <br> <br> <br>2<br>0<br>2<br>0<br>-<br>2<br>0<br>2<br>1<br>\n<br>R<br>O<br>U<br>N<br>D<br> <br> <br> <br> <br> <br> <br> <br> <br> <br> <br> <br> <br> <br> <br> <br>9<br>\n<br>N<br>a<br>m<br>e<br>:<br> <br>1<br>6<br>7<br>9<br>,<br> <br>d<br>t<br>y<br>p<br>e<br>:<br> <br>o<br>b<br>j<br>e<br>c<br>t",
          "O<br>P<br>P<br>O<br>N<br>E<br>N<br>T<br> <br> <br> <br> <br> <br> <br>B<br>u<br>r<br>n<br>l<br>e<br>y<br>\n<br>S<br>E<br>A<br>S<br>O<br>N<br> <br> <br> <br> <br> <br> <br>2<br>0<br>2<br>0<br>-<br>2<br>0<br>2<br>1<br>\n<br>R<br>O<br>U<br>N<br>D<br> <br> <br> <br> <br> <br> <br> <br> <br> <br> <br> <br> <br> <br> <br>1<br>0<br>\n<br>N<br>a<br>m<br>e<br>:<br> <br>1<br>7<br>0<br>3<br>,<br> <br>d<br>t<br>y<br>p<br>e<br>:<br> <br>o<br>b<br>j<br>e<br>c<br>t",
          "O<br>P<br>P<br>O<br>N<br>E<br>N<br>T<br> <br> <br> <br> <br> <br> <br> <br>F<br>u<br>l<br>h<br>a<br>m<br>\n<br>S<br>E<br>A<br>S<br>O<br>N<br> <br> <br> <br> <br> <br> <br>2<br>0<br>2<br>0<br>-<br>2<br>0<br>2<br>1<br>\n<br>R<br>O<br>U<br>N<br>D<br> <br> <br> <br> <br> <br> <br> <br> <br> <br> <br> <br> <br> <br> <br>1<br>1<br>\n<br>N<br>a<br>m<br>e<br>:<br> <br>1<br>7<br>2<br>1<br>,<br> <br>d<br>t<br>y<br>p<br>e<br>:<br> <br>o<br>b<br>j<br>e<br>c<br>t",
          "O<br>P<br>P<br>O<br>N<br>E<br>N<br>T<br> <br> <br> <br> <br>M<br>a<br>n<br>c<br>h<br>e<br>s<br>t<br>e<br>r<br> <br>U<br>t<br>d<br>\n<br>S<br>E<br>A<br>S<br>O<br>N<br> <br> <br> <br> <br> <br> <br> <br> <br> <br> <br> <br>2<br>0<br>2<br>0<br>-<br>2<br>0<br>2<br>1<br>\n<br>R<br>O<br>U<br>N<br>D<br> <br> <br> <br> <br> <br> <br> <br> <br> <br> <br> <br> <br> <br> <br> <br> <br> <br> <br> <br>1<br>2<br>\n<br>N<br>a<br>m<br>e<br>:<br> <br>1<br>7<br>3<br>9<br>,<br> <br>d<br>t<br>y<br>p<br>e<br>:<br> <br>o<br>b<br>j<br>e<br>c<br>t",
          "O<br>P<br>P<br>O<br>N<br>E<br>N<br>T<br> <br> <br> <br> <br>W<br>e<br>s<br>t<br> <br>B<br>r<br>o<br>m<br>\n<br>S<br>E<br>A<br>S<br>O<br>N<br> <br> <br> <br> <br> <br> <br>2<br>0<br>2<br>0<br>-<br>2<br>0<br>2<br>1<br>\n<br>R<br>O<br>U<br>N<br>D<br> <br> <br> <br> <br> <br> <br> <br> <br> <br> <br> <br> <br> <br> <br>1<br>3<br>\n<br>N<br>a<br>m<br>e<br>:<br> <br>1<br>7<br>5<br>5<br>,<br> <br>d<br>t<br>y<br>p<br>e<br>:<br> <br>o<br>b<br>j<br>e<br>c<br>t",
          "O<br>P<br>P<br>O<br>N<br>E<br>N<br>T<br> <br> <br> <br> <br>S<br>o<br>u<br>t<br>h<br>a<br>m<br>p<br>t<br>o<br>n<br>\n<br>S<br>E<br>A<br>S<br>O<br>N<br> <br> <br> <br> <br> <br> <br> <br> <br>2<br>0<br>2<br>0<br>-<br>2<br>0<br>2<br>1<br>\n<br>R<br>O<br>U<br>N<br>D<br> <br> <br> <br> <br> <br> <br> <br> <br> <br> <br> <br> <br> <br> <br> <br> <br>1<br>4<br>\n<br>N<br>a<br>m<br>e<br>:<br> <br>1<br>7<br>7<br>9<br>,<br> <br>d<br>t<br>y<br>p<br>e<br>:<br> <br>o<br>b<br>j<br>e<br>c<br>t",
          "O<br>P<br>P<br>O<br>N<br>E<br>N<br>T<br> <br> <br> <br> <br>N<br>e<br>w<br>c<br>a<br>s<br>t<br>l<br>e<br> <br>U<br>t<br>d<br>\n<br>S<br>E<br>A<br>S<br>O<br>N<br> <br> <br> <br> <br> <br> <br> <br> <br> <br> <br>2<br>0<br>2<br>0<br>-<br>2<br>0<br>2<br>1<br>\n<br>R<br>O<br>U<br>N<br>D<br> <br> <br> <br> <br> <br> <br> <br> <br> <br> <br> <br> <br> <br> <br> <br> <br> <br> <br>1<br>5<br>\n<br>N<br>a<br>m<br>e<br>:<br> <br>1<br>8<br>0<br>1<br>,<br> <br>d<br>t<br>y<br>p<br>e<br>:<br> <br>o<br>b<br>j<br>e<br>c<br>t",
          "O<br>P<br>P<br>O<br>N<br>E<br>N<br>T<br> <br> <br> <br> <br> <br> <br>C<br>h<br>e<br>l<br>s<br>e<br>a<br>\n<br>S<br>E<br>A<br>S<br>O<br>N<br> <br> <br> <br> <br> <br> <br>2<br>0<br>2<br>0<br>-<br>2<br>0<br>2<br>1<br>\n<br>R<br>O<br>U<br>N<br>D<br> <br> <br> <br> <br> <br> <br> <br> <br> <br> <br> <br> <br> <br> <br>1<br>7<br>\n<br>N<br>a<br>m<br>e<br>:<br> <br>1<br>8<br>4<br>4<br>,<br> <br>d<br>t<br>y<br>p<br>e<br>:<br> <br>o<br>b<br>j<br>e<br>c<br>t",
          "O<br>P<br>P<br>O<br>N<br>E<br>N<br>T<br> <br> <br> <br> <br> <br>B<br>r<br>i<br>g<br>h<br>t<br>o<br>n<br>\n<br>S<br>E<br>A<br>S<br>O<br>N<br> <br> <br> <br> <br> <br> <br>2<br>0<br>2<br>0<br>-<br>2<br>0<br>2<br>1<br>\n<br>R<br>O<br>U<br>N<br>D<br> <br> <br> <br> <br> <br> <br> <br> <br> <br> <br> <br> <br> <br> <br>1<br>8<br>\n<br>N<br>a<br>m<br>e<br>:<br> <br>1<br>8<br>5<br>6<br>,<br> <br>d<br>t<br>y<br>p<br>e<br>:<br> <br>o<br>b<br>j<br>e<br>c<br>t",
          "O<br>P<br>P<br>O<br>N<br>E<br>N<br>T<br> <br> <br> <br> <br>C<br>r<br>y<br>s<br>t<br>a<br>l<br> <br>P<br>a<br>l<br>a<br>c<br>e<br>\n<br>S<br>E<br>A<br>S<br>O<br>N<br> <br> <br> <br> <br> <br> <br> <br> <br> <br> <br> <br>2<br>0<br>2<br>0<br>-<br>2<br>0<br>2<br>1<br>\n<br>R<br>O<br>U<br>N<br>D<br> <br> <br> <br> <br> <br> <br> <br> <br> <br> <br> <br> <br> <br> <br> <br> <br> <br> <br> <br>1<br>9<br>\n<br>N<br>a<br>m<br>e<br>:<br> <br>1<br>8<br>7<br>2<br>,<br> <br>d<br>t<br>y<br>p<br>e<br>:<br> <br>o<br>b<br>j<br>e<br>c<br>t",
          "O<br>P<br>P<br>O<br>N<br>E<br>N<br>T<br> <br> <br> <br> <br>A<br>s<br>t<br>o<br>n<br> <br>V<br>i<br>l<br>l<br>a<br>\n<br>S<br>E<br>A<br>S<br>O<br>N<br> <br> <br> <br> <br> <br> <br> <br> <br>2<br>0<br>2<br>0<br>-<br>2<br>0<br>2<br>1<br>\n<br>R<br>O<br>U<br>N<br>D<br> <br> <br> <br> <br> <br> <br> <br> <br> <br> <br> <br> <br> <br> <br> <br> <br> <br>1<br>\n<br>N<br>a<br>m<br>e<br>:<br> <br>1<br>8<br>8<br>4<br>,<br> <br>d<br>t<br>y<br>p<br>e<br>:<br> <br>o<br>b<br>j<br>e<br>c<br>t",
          "O<br>P<br>P<br>O<br>N<br>E<br>N<br>T<br> <br> <br> <br> <br>W<br>e<br>s<br>t<br> <br>B<br>r<br>o<br>m<br>\n<br>S<br>E<br>A<br>S<br>O<br>N<br> <br> <br> <br> <br> <br> <br>2<br>0<br>2<br>0<br>-<br>2<br>0<br>2<br>1<br>\n<br>R<br>O<br>U<br>N<br>D<br> <br> <br> <br> <br> <br> <br> <br> <br> <br> <br> <br> <br> <br> <br>2<br>0<br>\n<br>N<br>a<br>m<br>e<br>:<br> <br>1<br>8<br>9<br>3<br>,<br> <br>d<br>t<br>y<br>p<br>e<br>:<br> <br>o<br>b<br>j<br>e<br>c<br>t",
          "O<br>P<br>P<br>O<br>N<br>E<br>N<br>T<br> <br> <br> <br> <br>S<br>h<br>e<br>f<br>f<br>i<br>e<br>l<br>d<br> <br>U<br>t<br>d<br>\n<br>S<br>E<br>A<br>S<br>O<br>N<br> <br> <br> <br> <br> <br> <br> <br> <br> <br> <br>2<br>0<br>2<br>0<br>-<br>2<br>0<br>2<br>1<br>\n<br>R<br>O<br>U<br>N<br>D<br> <br> <br> <br> <br> <br> <br> <br> <br> <br> <br> <br> <br> <br> <br> <br> <br> <br> <br>2<br>1<br>\n<br>N<br>a<br>m<br>e<br>:<br> <br>1<br>9<br>1<br>5<br>,<br> <br>d<br>t<br>y<br>p<br>e<br>:<br> <br>o<br>b<br>j<br>e<br>c<br>t",
          "O<br>P<br>P<br>O<br>N<br>E<br>N<br>T<br> <br> <br> <br> <br> <br> <br>B<br>u<br>r<br>n<br>l<br>e<br>y<br>\n<br>S<br>E<br>A<br>S<br>O<br>N<br> <br> <br> <br> <br> <br> <br>2<br>0<br>2<br>0<br>-<br>2<br>0<br>2<br>1<br>\n<br>R<br>O<br>U<br>N<br>D<br> <br> <br> <br> <br> <br> <br> <br> <br> <br> <br> <br> <br> <br> <br>2<br>2<br>\n<br>N<br>a<br>m<br>e<br>:<br> <br>1<br>9<br>4<br>6<br>,<br> <br>d<br>t<br>y<br>p<br>e<br>:<br> <br>o<br>b<br>j<br>e<br>c<br>t",
          "O<br>P<br>P<br>O<br>N<br>E<br>N<br>T<br> <br> <br> <br> <br>L<br>i<br>v<br>e<br>r<br>p<br>o<br>o<br>l<br>\n<br>S<br>E<br>A<br>S<br>O<br>N<br> <br> <br> <br> <br> <br> <br>2<br>0<br>2<br>0<br>-<br>2<br>0<br>2<br>1<br>\n<br>R<br>O<br>U<br>N<br>D<br> <br> <br> <br> <br> <br> <br> <br> <br> <br> <br> <br> <br> <br> <br>2<br>3<br>\n<br>N<br>a<br>m<br>e<br>:<br> <br>1<br>9<br>6<br>3<br>,<br> <br>d<br>t<br>y<br>p<br>e<br>:<br> <br>o<br>b<br>j<br>e<br>c<br>t",
          "O<br>P<br>P<br>O<br>N<br>E<br>N<br>T<br> <br> <br> <br> <br>T<br>o<br>t<br>t<br>e<br>n<br>h<br>a<br>m<br>\n<br>S<br>E<br>A<br>S<br>O<br>N<br> <br> <br> <br> <br> <br> <br>2<br>0<br>2<br>0<br>-<br>2<br>0<br>2<br>1<br>\n<br>R<br>O<br>U<br>N<br>D<br> <br> <br> <br> <br> <br> <br> <br> <br> <br> <br> <br> <br> <br> <br>2<br>4<br>\n<br>N<br>a<br>m<br>e<br>:<br> <br>1<br>9<br>7<br>6<br>,<br> <br>d<br>t<br>y<br>p<br>e<br>:<br> <br>o<br>b<br>j<br>e<br>c<br>t",
          "O<br>P<br>P<br>O<br>N<br>E<br>N<br>T<br> <br> <br> <br> <br> <br> <br>E<br>v<br>e<br>r<br>t<br>o<br>n<br>\n<br>S<br>E<br>A<br>S<br>O<br>N<br> <br> <br> <br> <br> <br> <br>2<br>0<br>2<br>0<br>-<br>2<br>0<br>2<br>1<br>\n<br>R<br>O<br>U<br>N<br>D<br> <br> <br> <br> <br> <br> <br> <br> <br> <br> <br> <br> <br> <br> <br>1<br>6<br>\n<br>N<br>a<br>m<br>e<br>:<br> <br>1<br>9<br>9<br>3<br>,<br> <br>d<br>t<br>y<br>p<br>e<br>:<br> <br>o<br>b<br>j<br>e<br>c<br>t",
          "O<br>P<br>P<br>O<br>N<br>E<br>N<br>T<br> <br> <br> <br> <br> <br> <br>A<br>r<br>s<br>e<br>n<br>a<br>l<br>\n<br>S<br>E<br>A<br>S<br>O<br>N<br> <br> <br> <br> <br> <br> <br>2<br>0<br>2<br>0<br>-<br>2<br>0<br>2<br>1<br>\n<br>R<br>O<br>U<br>N<br>D<br> <br> <br> <br> <br> <br> <br> <br> <br> <br> <br> <br> <br> <br> <br>2<br>5<br>\n<br>N<br>a<br>m<br>e<br>:<br> <br>2<br>0<br>0<br>7<br>,<br> <br>d<br>t<br>y<br>p<br>e<br>:<br> <br>o<br>b<br>j<br>e<br>c<br>t",
          "O<br>P<br>P<br>O<br>N<br>E<br>N<br>T<br> <br> <br> <br> <br> <br>W<br>e<br>s<br>t<br> <br>H<br>a<br>m<br>\n<br>S<br>E<br>A<br>S<br>O<br>N<br> <br> <br> <br> <br> <br> <br>2<br>0<br>2<br>0<br>-<br>2<br>0<br>2<br>1<br>\n<br>R<br>O<br>U<br>N<br>D<br> <br> <br> <br> <br> <br> <br> <br> <br> <br> <br> <br> <br> <br> <br>2<br>6<br>\n<br>N<br>a<br>m<br>e<br>:<br> <br>2<br>0<br>1<br>9<br>,<br> <br>d<br>t<br>y<br>p<br>e<br>:<br> <br>o<br>b<br>j<br>e<br>c<br>t",
          "O<br>P<br>P<br>O<br>N<br>E<br>N<br>T<br> <br> <br> <br> <br> <br> <br> <br>W<br>o<br>l<br>v<br>e<br>s<br>\n<br>S<br>E<br>A<br>S<br>O<br>N<br> <br> <br> <br> <br> <br> <br>2<br>0<br>2<br>0<br>-<br>2<br>0<br>2<br>1<br>\n<br>R<br>O<br>U<br>N<br>D<br> <br> <br> <br> <br> <br> <br> <br> <br> <br> <br> <br> <br> <br> <br>2<br>9<br>\n<br>N<br>a<br>m<br>e<br>:<br> <br>2<br>0<br>3<br>6<br>,<br> <br>d<br>t<br>y<br>p<br>e<br>:<br> <br>o<br>b<br>j<br>e<br>c<br>t",
          "O<br>P<br>P<br>O<br>N<br>E<br>N<br>T<br> <br> <br> <br> <br>M<br>a<br>n<br>c<br>h<br>e<br>s<br>t<br>e<br>r<br> <br>U<br>t<br>d<br>\n<br>S<br>E<br>A<br>S<br>O<br>N<br> <br> <br> <br> <br> <br> <br> <br> <br> <br> <br> <br>2<br>0<br>2<br>0<br>-<br>2<br>0<br>2<br>1<br>\n<br>R<br>O<br>U<br>N<br>D<br> <br> <br> <br> <br> <br> <br> <br> <br> <br> <br> <br> <br> <br> <br> <br> <br> <br> <br> <br>2<br>7<br>\n<br>N<br>a<br>m<br>e<br>:<br> <br>2<br>0<br>6<br>1<br>,<br> <br>d<br>t<br>y<br>p<br>e<br>:<br> <br>o<br>b<br>j<br>e<br>c<br>t",
          "O<br>P<br>P<br>O<br>N<br>E<br>N<br>T<br> <br> <br> <br> <br>S<br>o<br>u<br>t<br>h<br>a<br>m<br>p<br>t<br>o<br>n<br>\n<br>S<br>E<br>A<br>S<br>O<br>N<br> <br> <br> <br> <br> <br> <br> <br> <br>2<br>0<br>2<br>0<br>-<br>2<br>0<br>2<br>1<br>\n<br>R<br>O<br>U<br>N<br>D<br> <br> <br> <br> <br> <br> <br> <br> <br> <br> <br> <br> <br> <br> <br> <br> <br>3<br>3<br>\n<br>N<br>a<br>m<br>e<br>:<br> <br>2<br>0<br>7<br>0<br>,<br> <br>d<br>t<br>y<br>p<br>e<br>:<br> <br>o<br>b<br>j<br>e<br>c<br>t",
          "O<br>P<br>P<br>O<br>N<br>E<br>N<br>T<br> <br> <br> <br> <br> <br> <br> <br>F<br>u<br>l<br>h<br>a<br>m<br>\n<br>S<br>E<br>A<br>S<br>O<br>N<br> <br> <br> <br> <br> <br> <br>2<br>0<br>2<br>0<br>-<br>2<br>0<br>2<br>1<br>\n<br>R<br>O<br>U<br>N<br>D<br> <br> <br> <br> <br> <br> <br> <br> <br> <br> <br> <br> <br> <br> <br>2<br>8<br>\n<br>N<br>a<br>m<br>e<br>:<br> <br>2<br>0<br>8<br>0<br>,<br> <br>d<br>t<br>y<br>p<br>e<br>:<br> <br>o<br>b<br>j<br>e<br>c<br>t",
          "O<br>P<br>P<br>O<br>N<br>E<br>N<br>T<br> <br> <br> <br> <br>L<br>e<br>i<br>c<br>e<br>s<br>t<br>e<br>r<br> <br>C<br>i<br>t<br>y<br>\n<br>S<br>E<br>A<br>S<br>O<br>N<br> <br> <br> <br> <br> <br> <br> <br> <br> <br> <br> <br>2<br>0<br>2<br>0<br>-<br>2<br>0<br>2<br>1<br>\n<br>R<br>O<br>U<br>N<br>D<br> <br> <br> <br> <br> <br> <br> <br> <br> <br> <br> <br> <br> <br> <br> <br> <br> <br> <br> <br>3<br>0<br>\n<br>N<br>a<br>m<br>e<br>:<br> <br>2<br>1<br>0<br>5<br>,<br> <br>d<br>t<br>y<br>p<br>e<br>:<br> <br>o<br>b<br>j<br>e<br>c<br>t",
          "O<br>P<br>P<br>O<br>N<br>E<br>N<br>T<br> <br> <br> <br> <br>L<br>e<br>e<br>d<br>s<br> <br>U<br>n<br>i<br>t<br>e<br>d<br>\n<br>S<br>E<br>A<br>S<br>O<br>N<br> <br> <br> <br> <br> <br> <br> <br> <br> <br>2<br>0<br>2<br>0<br>-<br>2<br>0<br>2<br>1<br>\n<br>R<br>O<br>U<br>N<br>D<br> <br> <br> <br> <br> <br> <br> <br> <br> <br> <br> <br> <br> <br> <br> <br> <br> <br>3<br>1<br>\n<br>N<br>a<br>m<br>e<br>:<br> <br>2<br>1<br>2<br>7<br>,<br> <br>d<br>t<br>y<br>p<br>e<br>:<br> <br>o<br>b<br>j<br>e<br>c<br>t",
          "O<br>P<br>P<br>O<br>N<br>E<br>N<br>T<br> <br> <br> <br> <br>A<br>s<br>t<br>o<br>n<br> <br>V<br>i<br>l<br>l<br>a<br>\n<br>S<br>E<br>A<br>S<br>O<br>N<br> <br> <br> <br> <br> <br> <br> <br> <br>2<br>0<br>2<br>0<br>-<br>2<br>0<br>2<br>1<br>\n<br>R<br>O<br>U<br>N<br>D<br> <br> <br> <br> <br> <br> <br> <br> <br> <br> <br> <br> <br> <br> <br> <br> <br>3<br>2<br>\n<br>N<br>a<br>m<br>e<br>:<br> <br>2<br>1<br>5<br>5<br>,<br> <br>d<br>t<br>y<br>p<br>e<br>:<br> <br>o<br>b<br>j<br>e<br>c<br>t",
          "O<br>P<br>P<br>O<br>N<br>E<br>N<br>T<br> <br> <br> <br> <br>C<br>r<br>y<br>s<br>t<br>a<br>l<br> <br>P<br>a<br>l<br>a<br>c<br>e<br>\n<br>S<br>E<br>A<br>S<br>O<br>N<br> <br> <br> <br> <br> <br> <br> <br> <br> <br> <br> <br>2<br>0<br>2<br>0<br>-<br>2<br>0<br>2<br>1<br>\n<br>R<br>O<br>U<br>N<br>D<br> <br> <br> <br> <br> <br> <br> <br> <br> <br> <br> <br> <br> <br> <br> <br> <br> <br> <br> <br>3<br>4<br>\n<br>N<br>a<br>m<br>e<br>:<br> <br>2<br>1<br>8<br>5<br>,<br> <br>d<br>t<br>y<br>p<br>e<br>:<br> <br>o<br>b<br>j<br>e<br>c<br>t",
          "O<br>P<br>P<br>O<br>N<br>E<br>N<br>T<br> <br> <br> <br> <br> <br> <br>C<br>h<br>e<br>l<br>s<br>e<br>a<br>\n<br>S<br>E<br>A<br>S<br>O<br>N<br> <br> <br> <br> <br> <br> <br>2<br>0<br>2<br>0<br>-<br>2<br>0<br>2<br>1<br>\n<br>R<br>O<br>U<br>N<br>D<br> <br> <br> <br> <br> <br> <br> <br> <br> <br> <br> <br> <br> <br> <br>3<br>5<br>\n<br>N<br>a<br>m<br>e<br>:<br> <br>2<br>2<br>0<br>0<br>,<br> <br>d<br>t<br>y<br>p<br>e<br>:<br> <br>o<br>b<br>j<br>e<br>c<br>t",
          "O<br>P<br>P<br>O<br>N<br>E<br>N<br>T<br> <br> <br> <br> <br>N<br>e<br>w<br>c<br>a<br>s<br>t<br>l<br>e<br> <br>U<br>t<br>d<br>\n<br>S<br>E<br>A<br>S<br>O<br>N<br> <br> <br> <br> <br> <br> <br> <br> <br> <br> <br>2<br>0<br>2<br>0<br>-<br>2<br>0<br>2<br>1<br>\n<br>R<br>O<br>U<br>N<br>D<br> <br> <br> <br> <br> <br> <br> <br> <br> <br> <br> <br> <br> <br> <br> <br> <br> <br> <br>3<br>6<br>\n<br>N<br>a<br>m<br>e<br>:<br> <br>2<br>2<br>2<br>4<br>,<br> <br>d<br>t<br>y<br>p<br>e<br>:<br> <br>o<br>b<br>j<br>e<br>c<br>t",
          "O<br>P<br>P<br>O<br>N<br>E<br>N<br>T<br> <br> <br> <br> <br> <br>B<br>r<br>i<br>g<br>h<br>t<br>o<br>n<br>\n<br>S<br>E<br>A<br>S<br>O<br>N<br> <br> <br> <br> <br> <br> <br>2<br>0<br>2<br>0<br>-<br>2<br>0<br>2<br>1<br>\n<br>R<br>O<br>U<br>N<br>D<br> <br> <br> <br> <br> <br> <br> <br> <br> <br> <br> <br> <br> <br> <br>3<br>7<br>\n<br>N<br>a<br>m<br>e<br>:<br> <br>2<br>2<br>4<br>5<br>,<br> <br>d<br>t<br>y<br>p<br>e<br>:<br> <br>o<br>b<br>j<br>e<br>c<br>t",
          "O<br>P<br>P<br>O<br>N<br>E<br>N<br>T<br> <br> <br> <br> <br> <br> <br>E<br>v<br>e<br>r<br>t<br>o<br>n<br>\n<br>S<br>E<br>A<br>S<br>O<br>N<br> <br> <br> <br> <br> <br> <br>2<br>0<br>2<br>0<br>-<br>2<br>0<br>2<br>1<br>\n<br>R<br>O<br>U<br>N<br>D<br> <br> <br> <br> <br> <br> <br> <br> <br> <br> <br> <br> <br> <br> <br>3<br>8<br>\n<br>N<br>a<br>m<br>e<br>:<br> <br>2<br>2<br>7<br>1<br>,<br> <br>d<br>t<br>y<br>p<br>e<br>:<br> <br>o<br>b<br>j<br>e<br>c<br>t",
          "O<br>P<br>P<br>O<br>N<br>E<br>N<br>T<br> <br> <br> <br> <br>T<br>o<br>t<br>t<br>e<br>n<br>h<br>a<br>m<br>\n<br>S<br>E<br>A<br>S<br>O<br>N<br> <br> <br> <br> <br> <br> <br>2<br>0<br>2<br>1<br>-<br>2<br>0<br>2<br>2<br>\n<br>R<br>O<br>U<br>N<br>D<br> <br> <br> <br> <br> <br> <br> <br> <br> <br> <br> <br> <br> <br> <br> <br>1<br>\n<br>N<br>a<br>m<br>e<br>:<br> <br>2<br>2<br>9<br>6<br>,<br> <br>d<br>t<br>y<br>p<br>e<br>:<br> <br>o<br>b<br>j<br>e<br>c<br>t",
          "O<br>P<br>P<br>O<br>N<br>E<br>N<br>T<br> <br> <br> <br> <br>N<br>o<br>r<br>w<br>i<br>c<br>h<br> <br>C<br>i<br>t<br>y<br>\n<br>S<br>E<br>A<br>S<br>O<br>N<br> <br> <br> <br> <br> <br> <br> <br> <br> <br>2<br>0<br>2<br>1<br>-<br>2<br>0<br>2<br>2<br>\n<br>R<br>O<br>U<br>N<br>D<br> <br> <br> <br> <br> <br> <br> <br> <br> <br> <br> <br> <br> <br> <br> <br> <br> <br> <br>2<br>\n<br>N<br>a<br>m<br>e<br>:<br> <br>2<br>3<br>0<br>8<br>,<br> <br>d<br>t<br>y<br>p<br>e<br>:<br> <br>o<br>b<br>j<br>e<br>c<br>t",
          "O<br>P<br>P<br>O<br>N<br>E<br>N<br>T<br> <br> <br> <br> <br> <br> <br>A<br>r<br>s<br>e<br>n<br>a<br>l<br>\n<br>S<br>E<br>A<br>S<br>O<br>N<br> <br> <br> <br> <br> <br> <br>2<br>0<br>2<br>1<br>-<br>2<br>0<br>2<br>2<br>\n<br>R<br>O<br>U<br>N<br>D<br> <br> <br> <br> <br> <br> <br> <br> <br> <br> <br> <br> <br> <br> <br> <br>3<br>\n<br>N<br>a<br>m<br>e<br>:<br> <br>2<br>3<br>2<br>9<br>,<br> <br>d<br>t<br>y<br>p<br>e<br>:<br> <br>o<br>b<br>j<br>e<br>c<br>t",
          "O<br>P<br>P<br>O<br>N<br>E<br>N<br>T<br> <br> <br> <br> <br>L<br>e<br>i<br>c<br>e<br>s<br>t<br>e<br>r<br> <br>C<br>i<br>t<br>y<br>\n<br>S<br>E<br>A<br>S<br>O<br>N<br> <br> <br> <br> <br> <br> <br> <br> <br> <br> <br> <br>2<br>0<br>2<br>1<br>-<br>2<br>0<br>2<br>2<br>\n<br>R<br>O<br>U<br>N<br>D<br> <br> <br> <br> <br> <br> <br> <br> <br> <br> <br> <br> <br> <br> <br> <br> <br> <br> <br> <br> <br>4<br>\n<br>N<br>a<br>m<br>e<br>:<br> <br>2<br>3<br>4<br>7<br>,<br> <br>d<br>t<br>y<br>p<br>e<br>:<br> <br>o<br>b<br>j<br>e<br>c<br>t",
          "O<br>P<br>P<br>O<br>N<br>E<br>N<br>T<br> <br> <br> <br> <br>S<br>o<br>u<br>t<br>h<br>a<br>m<br>p<br>t<br>o<br>n<br>\n<br>S<br>E<br>A<br>S<br>O<br>N<br> <br> <br> <br> <br> <br> <br> <br> <br>2<br>0<br>2<br>1<br>-<br>2<br>0<br>2<br>2<br>\n<br>R<br>O<br>U<br>N<br>D<br> <br> <br> <br> <br> <br> <br> <br> <br> <br> <br> <br> <br> <br> <br> <br> <br> <br>5<br>\n<br>N<br>a<br>m<br>e<br>:<br> <br>2<br>3<br>6<br>9<br>,<br> <br>d<br>t<br>y<br>p<br>e<br>:<br> <br>o<br>b<br>j<br>e<br>c<br>t",
          "O<br>P<br>P<br>O<br>N<br>E<br>N<br>T<br> <br> <br> <br> <br> <br> <br>C<br>h<br>e<br>l<br>s<br>e<br>a<br>\n<br>S<br>E<br>A<br>S<br>O<br>N<br> <br> <br> <br> <br> <br> <br>2<br>0<br>2<br>1<br>-<br>2<br>0<br>2<br>2<br>\n<br>R<br>O<br>U<br>N<br>D<br> <br> <br> <br> <br> <br> <br> <br> <br> <br> <br> <br> <br> <br> <br> <br>6<br>\n<br>N<br>a<br>m<br>e<br>:<br> <br>2<br>3<br>8<br>8<br>,<br> <br>d<br>t<br>y<br>p<br>e<br>:<br> <br>o<br>b<br>j<br>e<br>c<br>t",
          "O<br>P<br>P<br>O<br>N<br>E<br>N<br>T<br> <br> <br> <br> <br>L<br>i<br>v<br>e<br>r<br>p<br>o<br>o<br>l<br>\n<br>S<br>E<br>A<br>S<br>O<br>N<br> <br> <br> <br> <br> <br> <br>2<br>0<br>2<br>1<br>-<br>2<br>0<br>2<br>2<br>\n<br>R<br>O<br>U<br>N<br>D<br> <br> <br> <br> <br> <br> <br> <br> <br> <br> <br> <br> <br> <br> <br> <br>7<br>\n<br>N<br>a<br>m<br>e<br>:<br> <br>2<br>4<br>1<br>7<br>,<br> <br>d<br>t<br>y<br>p<br>e<br>:<br> <br>o<br>b<br>j<br>e<br>c<br>t",
          "O<br>P<br>P<br>O<br>N<br>E<br>N<br>T<br> <br> <br> <br> <br> <br> <br>B<br>u<br>r<br>n<br>l<br>e<br>y<br>\n<br>S<br>E<br>A<br>S<br>O<br>N<br> <br> <br> <br> <br> <br> <br>2<br>0<br>2<br>1<br>-<br>2<br>0<br>2<br>2<br>\n<br>R<br>O<br>U<br>N<br>D<br> <br> <br> <br> <br> <br> <br> <br> <br> <br> <br> <br> <br> <br> <br> <br>8<br>\n<br>N<br>a<br>m<br>e<br>:<br> <br>2<br>4<br>2<br>8<br>,<br> <br>d<br>t<br>y<br>p<br>e<br>:<br> <br>o<br>b<br>j<br>e<br>c<br>t",
          "O<br>P<br>P<br>O<br>N<br>E<br>N<br>T<br> <br> <br> <br> <br> <br>B<br>r<br>i<br>g<br>h<br>t<br>o<br>n<br>\n<br>S<br>E<br>A<br>S<br>O<br>N<br> <br> <br> <br> <br> <br> <br>2<br>0<br>2<br>1<br>-<br>2<br>0<br>2<br>2<br>\n<br>R<br>O<br>U<br>N<br>D<br> <br> <br> <br> <br> <br> <br> <br> <br> <br> <br> <br> <br> <br> <br> <br>9<br>\n<br>N<br>a<br>m<br>e<br>:<br> <br>2<br>4<br>4<br>8<br>,<br> <br>d<br>t<br>y<br>p<br>e<br>:<br> <br>o<br>b<br>j<br>e<br>c<br>t",
          "O<br>P<br>P<br>O<br>N<br>E<br>N<br>T<br> <br> <br> <br> <br>C<br>r<br>y<br>s<br>t<br>a<br>l<br> <br>P<br>a<br>l<br>a<br>c<br>e<br>\n<br>S<br>E<br>A<br>S<br>O<br>N<br> <br> <br> <br> <br> <br> <br> <br> <br> <br> <br> <br>2<br>0<br>2<br>1<br>-<br>2<br>0<br>2<br>2<br>\n<br>R<br>O<br>U<br>N<br>D<br> <br> <br> <br> <br> <br> <br> <br> <br> <br> <br> <br> <br> <br> <br> <br> <br> <br> <br> <br>1<br>0<br>\n<br>N<br>a<br>m<br>e<br>:<br> <br>2<br>4<br>6<br>8<br>,<br> <br>d<br>t<br>y<br>p<br>e<br>:<br> <br>o<br>b<br>j<br>e<br>c<br>t",
          "O<br>P<br>P<br>O<br>N<br>E<br>N<br>T<br> <br> <br> <br> <br>M<br>a<br>n<br>c<br>h<br>e<br>s<br>t<br>e<br>r<br> <br>U<br>t<br>d<br>\n<br>S<br>E<br>A<br>S<br>O<br>N<br> <br> <br> <br> <br> <br> <br> <br> <br> <br> <br> <br>2<br>0<br>2<br>1<br>-<br>2<br>0<br>2<br>2<br>\n<br>R<br>O<br>U<br>N<br>D<br> <br> <br> <br> <br> <br> <br> <br> <br> <br> <br> <br> <br> <br> <br> <br> <br> <br> <br> <br>1<br>1<br>\n<br>N<br>a<br>m<br>e<br>:<br> <br>2<br>4<br>8<br>7<br>,<br> <br>d<br>t<br>y<br>p<br>e<br>:<br> <br>o<br>b<br>j<br>e<br>c<br>t",
          "O<br>P<br>P<br>O<br>N<br>E<br>N<br>T<br> <br> <br> <br> <br> <br> <br>E<br>v<br>e<br>r<br>t<br>o<br>n<br>\n<br>S<br>E<br>A<br>S<br>O<br>N<br> <br> <br> <br> <br> <br> <br>2<br>0<br>2<br>1<br>-<br>2<br>0<br>2<br>2<br>\n<br>R<br>O<br>U<br>N<br>D<br> <br> <br> <br> <br> <br> <br> <br> <br> <br> <br> <br> <br> <br> <br>1<br>2<br>\n<br>N<br>a<br>m<br>e<br>:<br> <br>2<br>5<br>1<br>8<br>,<br> <br>d<br>t<br>y<br>p<br>e<br>:<br> <br>o<br>b<br>j<br>e<br>c<br>t",
          "O<br>P<br>P<br>O<br>N<br>E<br>N<br>T<br> <br> <br> <br> <br> <br>W<br>e<br>s<br>t<br> <br>H<br>a<br>m<br>\n<br>S<br>E<br>A<br>S<br>O<br>N<br> <br> <br> <br> <br> <br> <br>2<br>0<br>2<br>1<br>-<br>2<br>0<br>2<br>2<br>\n<br>R<br>O<br>U<br>N<br>D<br> <br> <br> <br> <br> <br> <br> <br> <br> <br> <br> <br> <br> <br> <br>1<br>3<br>\n<br>N<br>a<br>m<br>e<br>:<br> <br>2<br>5<br>3<br>4<br>,<br> <br>d<br>t<br>y<br>p<br>e<br>:<br> <br>o<br>b<br>j<br>e<br>c<br>t",
          "O<br>P<br>P<br>O<br>N<br>E<br>N<br>T<br> <br> <br> <br> <br>A<br>s<br>t<br>o<br>n<br> <br>V<br>i<br>l<br>l<br>a<br>\n<br>S<br>E<br>A<br>S<br>O<br>N<br> <br> <br> <br> <br> <br> <br> <br> <br>2<br>0<br>2<br>1<br>-<br>2<br>0<br>2<br>2<br>\n<br>R<br>O<br>U<br>N<br>D<br> <br> <br> <br> <br> <br> <br> <br> <br> <br> <br> <br> <br> <br> <br> <br> <br>1<br>4<br>\n<br>N<br>a<br>m<br>e<br>:<br> <br>2<br>5<br>4<br>9<br>,<br> <br>d<br>t<br>y<br>p<br>e<br>:<br> <br>o<br>b<br>j<br>e<br>c<br>t",
          "O<br>P<br>P<br>O<br>N<br>E<br>N<br>T<br> <br> <br> <br> <br> <br> <br>W<br>a<br>t<br>f<br>o<br>r<br>d<br>\n<br>S<br>E<br>A<br>S<br>O<br>N<br> <br> <br> <br> <br> <br> <br>2<br>0<br>2<br>1<br>-<br>2<br>0<br>2<br>2<br>\n<br>R<br>O<br>U<br>N<br>D<br> <br> <br> <br> <br> <br> <br> <br> <br> <br> <br> <br> <br> <br> <br>1<br>5<br>\n<br>N<br>a<br>m<br>e<br>:<br> <br>2<br>5<br>6<br>2<br>,<br> <br>d<br>t<br>y<br>p<br>e<br>:<br> <br>o<br>b<br>j<br>e<br>c<br>t",
          "O<br>P<br>P<br>O<br>N<br>E<br>N<br>T<br> <br> <br> <br> <br> <br> <br> <br>W<br>o<br>l<br>v<br>e<br>s<br>\n<br>S<br>E<br>A<br>S<br>O<br>N<br> <br> <br> <br> <br> <br> <br>2<br>0<br>2<br>1<br>-<br>2<br>0<br>2<br>2<br>\n<br>R<br>O<br>U<br>N<br>D<br> <br> <br> <br> <br> <br> <br> <br> <br> <br> <br> <br> <br> <br> <br>1<br>6<br>\n<br>N<br>a<br>m<br>e<br>:<br> <br>2<br>5<br>8<br>5<br>,<br> <br>d<br>t<br>y<br>p<br>e<br>:<br> <br>o<br>b<br>j<br>e<br>c<br>t",
          "O<br>P<br>P<br>O<br>N<br>E<br>N<br>T<br> <br> <br> <br> <br>L<br>e<br>e<br>d<br>s<br> <br>U<br>n<br>i<br>t<br>e<br>d<br>\n<br>S<br>E<br>A<br>S<br>O<br>N<br> <br> <br> <br> <br> <br> <br> <br> <br> <br>2<br>0<br>2<br>1<br>-<br>2<br>0<br>2<br>2<br>\n<br>R<br>O<br>U<br>N<br>D<br> <br> <br> <br> <br> <br> <br> <br> <br> <br> <br> <br> <br> <br> <br> <br> <br> <br>1<br>7<br>\n<br>N<br>a<br>m<br>e<br>:<br> <br>2<br>5<br>9<br>8<br>,<br> <br>d<br>t<br>y<br>p<br>e<br>:<br> <br>o<br>b<br>j<br>e<br>c<br>t",
          "O<br>P<br>P<br>O<br>N<br>E<br>N<br>T<br> <br> <br> <br> <br>N<br>e<br>w<br>c<br>a<br>s<br>t<br>l<br>e<br> <br>U<br>t<br>d<br>\n<br>S<br>E<br>A<br>S<br>O<br>N<br> <br> <br> <br> <br> <br> <br> <br> <br> <br> <br>2<br>0<br>2<br>1<br>-<br>2<br>0<br>2<br>2<br>\n<br>R<br>O<br>U<br>N<br>D<br> <br> <br> <br> <br> <br> <br> <br> <br> <br> <br> <br> <br> <br> <br> <br> <br> <br> <br>1<br>8<br>\n<br>N<br>a<br>m<br>e<br>:<br> <br>2<br>6<br>1<br>4<br>,<br> <br>d<br>t<br>y<br>p<br>e<br>:<br> <br>o<br>b<br>j<br>e<br>c<br>t",
          "O<br>P<br>P<br>O<br>N<br>E<br>N<br>T<br> <br> <br> <br> <br>L<br>e<br>i<br>c<br>e<br>s<br>t<br>e<br>r<br> <br>C<br>i<br>t<br>y<br>\n<br>S<br>E<br>A<br>S<br>O<br>N<br> <br> <br> <br> <br> <br> <br> <br> <br> <br> <br> <br>2<br>0<br>2<br>1<br>-<br>2<br>0<br>2<br>2<br>\n<br>R<br>O<br>U<br>N<br>D<br> <br> <br> <br> <br> <br> <br> <br> <br> <br> <br> <br> <br> <br> <br> <br> <br> <br> <br> <br>1<br>9<br>\n<br>N<br>a<br>m<br>e<br>:<br> <br>2<br>6<br>2<br>5<br>,<br> <br>d<br>t<br>y<br>p<br>e<br>:<br> <br>o<br>b<br>j<br>e<br>c<br>t",
          "O<br>P<br>P<br>O<br>N<br>E<br>N<br>T<br> <br> <br> <br> <br>B<br>r<br>e<br>n<br>t<br>f<br>o<br>r<br>d<br>\n<br>S<br>E<br>A<br>S<br>O<br>N<br> <br> <br> <br> <br> <br> <br>2<br>0<br>2<br>1<br>-<br>2<br>0<br>2<br>2<br>\n<br>R<br>O<br>U<br>N<br>D<br> <br> <br> <br> <br> <br> <br> <br> <br> <br> <br> <br> <br> <br> <br>2<br>0<br>\n<br>N<br>a<br>m<br>e<br>:<br> <br>2<br>6<br>4<br>3<br>,<br> <br>d<br>t<br>y<br>p<br>e<br>:<br> <br>o<br>b<br>j<br>e<br>c<br>t",
          "O<br>P<br>P<br>O<br>N<br>E<br>N<br>T<br> <br> <br> <br> <br> <br> <br>A<br>r<br>s<br>e<br>n<br>a<br>l<br>\n<br>S<br>E<br>A<br>S<br>O<br>N<br> <br> <br> <br> <br> <br> <br>2<br>0<br>2<br>1<br>-<br>2<br>0<br>2<br>2<br>\n<br>R<br>O<br>U<br>N<br>D<br> <br> <br> <br> <br> <br> <br> <br> <br> <br> <br> <br> <br> <br> <br>2<br>1<br>\n<br>N<br>a<br>m<br>e<br>:<br> <br>2<br>6<br>4<br>8<br>,<br> <br>d<br>t<br>y<br>p<br>e<br>:<br> <br>o<br>b<br>j<br>e<br>c<br>t",
          "O<br>P<br>P<br>O<br>N<br>E<br>N<br>T<br> <br> <br> <br> <br> <br> <br>C<br>h<br>e<br>l<br>s<br>e<br>a<br>\n<br>S<br>E<br>A<br>S<br>O<br>N<br> <br> <br> <br> <br> <br> <br>2<br>0<br>2<br>1<br>-<br>2<br>0<br>2<br>2<br>\n<br>R<br>O<br>U<br>N<br>D<br> <br> <br> <br> <br> <br> <br> <br> <br> <br> <br> <br> <br> <br> <br>2<br>2<br>\n<br>N<br>a<br>m<br>e<br>:<br> <br>2<br>6<br>7<br>1<br>,<br> <br>d<br>t<br>y<br>p<br>e<br>:<br> <br>o<br>b<br>j<br>e<br>c<br>t",
          "O<br>P<br>P<br>O<br>N<br>E<br>N<br>T<br> <br> <br> <br> <br>S<br>o<br>u<br>t<br>h<br>a<br>m<br>p<br>t<br>o<br>n<br>\n<br>S<br>E<br>A<br>S<br>O<br>N<br> <br> <br> <br> <br> <br> <br> <br> <br>2<br>0<br>2<br>1<br>-<br>2<br>0<br>2<br>2<br>\n<br>R<br>O<br>U<br>N<br>D<br> <br> <br> <br> <br> <br> <br> <br> <br> <br> <br> <br> <br> <br> <br> <br> <br>2<br>3<br>\n<br>N<br>a<br>m<br>e<br>:<br> <br>2<br>6<br>9<br>4<br>,<br> <br>d<br>t<br>y<br>p<br>e<br>:<br> <br>o<br>b<br>j<br>e<br>c<br>t",
          "O<br>P<br>P<br>O<br>N<br>E<br>N<br>T<br> <br> <br> <br> <br>B<br>r<br>e<br>n<br>t<br>f<br>o<br>r<br>d<br>\n<br>S<br>E<br>A<br>S<br>O<br>N<br> <br> <br> <br> <br> <br> <br>2<br>0<br>2<br>1<br>-<br>2<br>0<br>2<br>2<br>\n<br>R<br>O<br>U<br>N<br>D<br> <br> <br> <br> <br> <br> <br> <br> <br> <br> <br> <br> <br> <br> <br>2<br>4<br>\n<br>N<br>a<br>m<br>e<br>:<br> <br>2<br>7<br>2<br>0<br>,<br> <br>d<br>t<br>y<br>p<br>e<br>:<br> <br>o<br>b<br>j<br>e<br>c<br>t",
          "O<br>P<br>P<br>O<br>N<br>E<br>N<br>T<br> <br> <br> <br> <br>N<br>o<br>r<br>w<br>i<br>c<br>h<br> <br>C<br>i<br>t<br>y<br>\n<br>S<br>E<br>A<br>S<br>O<br>N<br> <br> <br> <br> <br> <br> <br> <br> <br> <br>2<br>0<br>2<br>1<br>-<br>2<br>0<br>2<br>2<br>\n<br>R<br>O<br>U<br>N<br>D<br> <br> <br> <br> <br> <br> <br> <br> <br> <br> <br> <br> <br> <br> <br> <br> <br> <br>2<br>5<br>\n<br>N<br>a<br>m<br>e<br>:<br> <br>2<br>7<br>3<br>3<br>,<br> <br>d<br>t<br>y<br>p<br>e<br>:<br> <br>o<br>b<br>j<br>e<br>c<br>t",
          "O<br>P<br>P<br>O<br>N<br>E<br>N<br>T<br> <br> <br> <br> <br>T<br>o<br>t<br>t<br>e<br>n<br>h<br>a<br>m<br>\n<br>S<br>E<br>A<br>S<br>O<br>N<br> <br> <br> <br> <br> <br> <br>2<br>0<br>2<br>1<br>-<br>2<br>0<br>2<br>2<br>\n<br>R<br>O<br>U<br>N<br>D<br> <br> <br> <br> <br> <br> <br> <br> <br> <br> <br> <br> <br> <br> <br>2<br>6<br>\n<br>N<br>a<br>m<br>e<br>:<br> <br>2<br>7<br>5<br>7<br>,<br> <br>d<br>t<br>y<br>p<br>e<br>:<br> <br>o<br>b<br>j<br>e<br>c<br>t",
          "O<br>P<br>P<br>O<br>N<br>E<br>N<br>T<br> <br> <br> <br> <br> <br> <br>E<br>v<br>e<br>r<br>t<br>o<br>n<br>\n<br>S<br>E<br>A<br>S<br>O<br>N<br> <br> <br> <br> <br> <br> <br>2<br>0<br>2<br>1<br>-<br>2<br>0<br>2<br>2<br>\n<br>R<br>O<br>U<br>N<br>D<br> <br> <br> <br> <br> <br> <br> <br> <br> <br> <br> <br> <br> <br> <br>2<br>7<br>\n<br>N<br>a<br>m<br>e<br>:<br> <br>2<br>7<br>8<br>5<br>,<br> <br>d<br>t<br>y<br>p<br>e<br>:<br> <br>o<br>b<br>j<br>e<br>c<br>t",
          "O<br>P<br>P<br>O<br>N<br>E<br>N<br>T<br> <br> <br> <br> <br>M<br>a<br>n<br>c<br>h<br>e<br>s<br>t<br>e<br>r<br> <br>U<br>t<br>d<br>\n<br>S<br>E<br>A<br>S<br>O<br>N<br> <br> <br> <br> <br> <br> <br> <br> <br> <br> <br> <br>2<br>0<br>2<br>1<br>-<br>2<br>0<br>2<br>2<br>\n<br>R<br>O<br>U<br>N<br>D<br> <br> <br> <br> <br> <br> <br> <br> <br> <br> <br> <br> <br> <br> <br> <br> <br> <br> <br> <br>2<br>8<br>\n<br>N<br>a<br>m<br>e<br>:<br> <br>2<br>8<br>0<br>9<br>,<br> <br>d<br>t<br>y<br>p<br>e<br>:<br> <br>o<br>b<br>j<br>e<br>c<br>t",
          "O<br>P<br>P<br>O<br>N<br>E<br>N<br>T<br> <br> <br> <br> <br>C<br>r<br>y<br>s<br>t<br>a<br>l<br> <br>P<br>a<br>l<br>a<br>c<br>e<br>\n<br>S<br>E<br>A<br>S<br>O<br>N<br> <br> <br> <br> <br> <br> <br> <br> <br> <br> <br> <br>2<br>0<br>2<br>1<br>-<br>2<br>0<br>2<br>2<br>\n<br>R<br>O<br>U<br>N<br>D<br> <br> <br> <br> <br> <br> <br> <br> <br> <br> <br> <br> <br> <br> <br> <br> <br> <br> <br> <br>2<br>9<br>\n<br>N<br>a<br>m<br>e<br>:<br> <br>2<br>8<br>4<br>1<br>,<br> <br>d<br>t<br>y<br>p<br>e<br>:<br> <br>o<br>b<br>j<br>e<br>c<br>t",
          "O<br>P<br>P<br>O<br>N<br>E<br>N<br>T<br> <br> <br> <br> <br> <br> <br>B<br>u<br>r<br>n<br>l<br>e<br>y<br>\n<br>S<br>E<br>A<br>S<br>O<br>N<br> <br> <br> <br> <br> <br> <br>2<br>0<br>2<br>1<br>-<br>2<br>0<br>2<br>2<br>\n<br>R<br>O<br>U<br>N<br>D<br> <br> <br> <br> <br> <br> <br> <br> <br> <br> <br> <br> <br> <br> <br>3<br>1<br>\n<br>N<br>a<br>m<br>e<br>:<br> <br>2<br>8<br>6<br>4<br>,<br> <br>d<br>t<br>y<br>p<br>e<br>:<br> <br>o<br>b<br>j<br>e<br>c<br>t",
          "O<br>P<br>P<br>O<br>N<br>E<br>N<br>T<br> <br> <br> <br> <br>L<br>i<br>v<br>e<br>r<br>p<br>o<br>o<br>l<br>\n<br>S<br>E<br>A<br>S<br>O<br>N<br> <br> <br> <br> <br> <br> <br>2<br>0<br>2<br>1<br>-<br>2<br>0<br>2<br>2<br>\n<br>R<br>O<br>U<br>N<br>D<br> <br> <br> <br> <br> <br> <br> <br> <br> <br> <br> <br> <br> <br> <br>3<br>2<br>\n<br>N<br>a<br>m<br>e<br>:<br> <br>2<br>8<br>9<br>5<br>,<br> <br>d<br>t<br>y<br>p<br>e<br>:<br> <br>o<br>b<br>j<br>e<br>c<br>t",
          "O<br>P<br>P<br>O<br>N<br>E<br>N<br>T<br> <br> <br> <br> <br> <br>B<br>r<br>i<br>g<br>h<br>t<br>o<br>n<br>\n<br>S<br>E<br>A<br>S<br>O<br>N<br> <br> <br> <br> <br> <br> <br>2<br>0<br>2<br>1<br>-<br>2<br>0<br>2<br>2<br>\n<br>R<br>O<br>U<br>N<br>D<br> <br> <br> <br> <br> <br> <br> <br> <br> <br> <br> <br> <br> <br> <br>3<br>0<br>\n<br>N<br>a<br>m<br>e<br>:<br> <br>2<br>9<br>1<br>8<br>,<br> <br>d<br>t<br>y<br>p<br>e<br>:<br> <br>o<br>b<br>j<br>e<br>c<br>t",
          "O<br>P<br>P<br>O<br>N<br>E<br>N<br>T<br> <br> <br> <br> <br> <br> <br>W<br>a<br>t<br>f<br>o<br>r<br>d<br>\n<br>S<br>E<br>A<br>S<br>O<br>N<br> <br> <br> <br> <br> <br> <br>2<br>0<br>2<br>1<br>-<br>2<br>0<br>2<br>2<br>\n<br>R<br>O<br>U<br>N<br>D<br> <br> <br> <br> <br> <br> <br> <br> <br> <br> <br> <br> <br> <br> <br>3<br>4<br>\n<br>N<br>a<br>m<br>e<br>:<br> <br>2<br>9<br>2<br>6<br>,<br> <br>d<br>t<br>y<br>p<br>e<br>:<br> <br>o<br>b<br>j<br>e<br>c<br>t",
          "O<br>P<br>P<br>O<br>N<br>E<br>N<br>T<br> <br> <br> <br> <br>L<br>e<br>e<br>d<br>s<br> <br>U<br>n<br>i<br>t<br>e<br>d<br>\n<br>S<br>E<br>A<br>S<br>O<br>N<br> <br> <br> <br> <br> <br> <br> <br> <br> <br>2<br>0<br>2<br>1<br>-<br>2<br>0<br>2<br>2<br>\n<br>R<br>O<br>U<br>N<br>D<br> <br> <br> <br> <br> <br> <br> <br> <br> <br> <br> <br> <br> <br> <br> <br> <br> <br>3<br>5<br>\n<br>N<br>a<br>m<br>e<br>:<br> <br>2<br>9<br>5<br>0<br>,<br> <br>d<br>t<br>y<br>p<br>e<br>:<br> <br>o<br>b<br>j<br>e<br>c<br>t",
          "O<br>P<br>P<br>O<br>N<br>E<br>N<br>T<br> <br> <br> <br> <br>N<br>e<br>w<br>c<br>a<br>s<br>t<br>l<br>e<br> <br>U<br>t<br>d<br>\n<br>S<br>E<br>A<br>S<br>O<br>N<br> <br> <br> <br> <br> <br> <br> <br> <br> <br> <br>2<br>0<br>2<br>1<br>-<br>2<br>0<br>2<br>2<br>\n<br>R<br>O<br>U<br>N<br>D<br> <br> <br> <br> <br> <br> <br> <br> <br> <br> <br> <br> <br> <br> <br> <br> <br> <br> <br>3<br>6<br>\n<br>N<br>a<br>m<br>e<br>:<br> <br>2<br>9<br>8<br>0<br>,<br> <br>d<br>t<br>y<br>p<br>e<br>:<br> <br>o<br>b<br>j<br>e<br>c<br>t",
          "O<br>P<br>P<br>O<br>N<br>E<br>N<br>T<br> <br> <br> <br> <br> <br> <br> <br>W<br>o<br>l<br>v<br>e<br>s<br>\n<br>S<br>E<br>A<br>S<br>O<br>N<br> <br> <br> <br> <br> <br> <br>2<br>0<br>2<br>1<br>-<br>2<br>0<br>2<br>2<br>\n<br>R<br>O<br>U<br>N<br>D<br> <br> <br> <br> <br> <br> <br> <br> <br> <br> <br> <br> <br> <br> <br>3<br>3<br>\n<br>N<br>a<br>m<br>e<br>:<br> <br>2<br>9<br>9<br>0<br>,<br> <br>d<br>t<br>y<br>p<br>e<br>:<br> <br>o<br>b<br>j<br>e<br>c<br>t",
          "O<br>P<br>P<br>O<br>N<br>E<br>N<br>T<br> <br> <br> <br> <br> <br>W<br>e<br>s<br>t<br> <br>H<br>a<br>m<br>\n<br>S<br>E<br>A<br>S<br>O<br>N<br> <br> <br> <br> <br> <br> <br>2<br>0<br>2<br>1<br>-<br>2<br>0<br>2<br>2<br>\n<br>R<br>O<br>U<br>N<br>D<br> <br> <br> <br> <br> <br> <br> <br> <br> <br> <br> <br> <br> <br> <br>3<br>7<br>\n<br>N<br>a<br>m<br>e<br>:<br> <br>3<br>0<br>0<br>4<br>,<br> <br>d<br>t<br>y<br>p<br>e<br>:<br> <br>o<br>b<br>j<br>e<br>c<br>t",
          "O<br>P<br>P<br>O<br>N<br>E<br>N<br>T<br> <br> <br> <br> <br>A<br>s<br>t<br>o<br>n<br> <br>V<br>i<br>l<br>l<br>a<br>\n<br>S<br>E<br>A<br>S<br>O<br>N<br> <br> <br> <br> <br> <br> <br> <br> <br>2<br>0<br>2<br>1<br>-<br>2<br>0<br>2<br>2<br>\n<br>R<br>O<br>U<br>N<br>D<br> <br> <br> <br> <br> <br> <br> <br> <br> <br> <br> <br> <br> <br> <br> <br> <br>3<br>8<br>\n<br>N<br>a<br>m<br>e<br>:<br> <br>3<br>0<br>3<br>1<br>,<br> <br>d<br>t<br>y<br>p<br>e<br>:<br> <br>o<br>b<br>j<br>e<br>c<br>t"
         ],
         "type": "scatter",
         "x": [
          null,
          null,
          2.1895597680013186,
          null,
          null,
          2.211531024844518,
          null,
          1.4225509381685355,
          null,
          2.1022893418735373,
          null,
          null,
          1.8808632016265152,
          null,
          2.2805542507008045,
          1.8157408496181382,
          null,
          null,
          1.8709418761011638,
          1.9053392935271587,
          null,
          null,
          2.290921005859488,
          2.1587166454542634,
          null,
          2.1551696223575987,
          null,
          null,
          2.2472844764779114,
          null,
          2.090083433489025,
          null,
          1.8324301766354183,
          null,
          1.7779987646042474,
          1.7045814407088498,
          null,
          1.8245593516596972,
          null,
          null,
          2.2144032778451255,
          null,
          2.236677554130124,
          null,
          2.065770583373916,
          null,
          2.171271166026705,
          null,
          null,
          1.9035991758915336,
          null,
          2.3565634735446093,
          2.117048209342381,
          null,
          2.6223296578125286,
          null,
          2.3071558453223595,
          null,
          null,
          2.543240109377681,
          null,
          2.010396313090345,
          2.1921860531101087,
          null,
          2.3969909112421384,
          2.0173803611873797,
          null,
          null,
          1.6000420609469412,
          null,
          2.517532283689822,
          null,
          2.237833725976343,
          null,
          2.622868430613106,
          null,
          null,
          null,
          2.9317254968057256,
          null,
          2.4847432985244295,
          2.3538677036929294,
          null,
          2.148216049210899,
          null,
          null,
          2.252829888004244,
          null,
          2.419352514309776,
          null,
          1.4208097139486708,
          null,
          null,
          null,
          3.006402411172852,
          null,
          2.306172826314094,
          2.0262512479442716,
          null,
          2.832496006848233,
          2.5228904858780705,
          null,
          null,
          null,
          null,
          2.397051227718822,
          2.51111225455708,
          null,
          2.38365759560435,
          2.262109027655592,
          null,
          2.220873235677851,
          1.7483134297298373,
          null,
          null,
          null,
          null,
          2.412890784272849,
          null,
          1.6723450279414167,
          2.0236320567377977,
          null,
          1.9501310060549562,
          null,
          2.45477402381805,
          null,
          null,
          2.651930752363527,
          2.770856771033676,
          null,
          null,
          2.6846658710955884,
          null,
          2.4997844174109254,
          2.1836004179169803,
          null,
          2.3135705978019043,
          null,
          2.4990115403691053,
          null,
          2.7381580130659016,
          null,
          2.246671612273583,
          2.703478699794884,
          null,
          null,
          null,
          2.6710758900103597,
          null,
          2.8632044828358607,
          2.5172847749035974,
          null
         ],
         "xaxis": "x3",
         "y": [
          1.7,
          4.2,
          1.6,
          2,
          4.8,
          2.5,
          2.7,
          1,
          4,
          1.6,
          2.2,
          1.9,
          2.7,
          2.6,
          2.5,
          0.9,
          1.7,
          1.5,
          1.4,
          2.5,
          1.1,
          2.8,
          2,
          1.4,
          2.7,
          2.2,
          3,
          3.5,
          1.2,
          3.4,
          1.8,
          3.2,
          2.5,
          1.9,
          0.5,
          2.5,
          1,
          1.6,
          3.2,
          2.9,
          3,
          1.9,
          2.3,
          5.9,
          2.8,
          1.4,
          3.5,
          2.9,
          2.9,
          1.3,
          1,
          2.4,
          2.2,
          2.2,
          1.3,
          3.3,
          1.5,
          1.1,
          1.5,
          2.8,
          2.6,
          2.8,
          2.4,
          2.1,
          2.4,
          0.6,
          2.6,
          2.4,
          0.8,
          2.4,
          3.2,
          2.8,
          4.4,
          0.7,
          3.3,
          3.2,
          1.9,
          0.9,
          1.2,
          1.3,
          1,
          1.6,
          1.4,
          1.4,
          1.7,
          2.9,
          1.3,
          2.2,
          0.9,
          3,
          2.7,
          2,
          0.7,
          3.4,
          1.8,
          1.5,
          2,
          3.5,
          2.2,
          1,
          1.8,
          0.5,
          3.3,
          1.3,
          2.6,
          2.2,
          1.4,
          2.1,
          1.2,
          1.7,
          1.8,
          1.5,
          0.9,
          2.5,
          2,
          2.7,
          4,
          3.3,
          1.2,
          1.4,
          1.7,
          2.2,
          4,
          1.1,
          2.3,
          2.6,
          2.4,
          1.2,
          3.5,
          3.5,
          3.2,
          2.9,
          3.9,
          1,
          2.2,
          0.9,
          1.9,
          1.8,
          4.9,
          2.6,
          1.9,
          3.1,
          2.9,
          2,
          1.6,
          1.6,
          3.9,
          2.5,
          3.3,
          2.8,
          2.9,
          3.7
         ],
         "yaxis": "y3"
        }
       ],
       "layout": {
        "annotations": [
         {
          "font": {
           "size": 16
          },
          "showarrow": false,
          "text": "ATT_TOTAL",
          "x": 0.14444444444444446,
          "xanchor": "center",
          "xref": "paper",
          "y": 1,
          "yanchor": "bottom",
          "yref": "paper"
         },
         {
          "font": {
           "size": 16
          },
          "showarrow": false,
          "text": "HOME_ATT_TOTAL",
          "x": 0.5,
          "xanchor": "center",
          "xref": "paper",
          "y": 1,
          "yanchor": "bottom",
          "yref": "paper"
         },
         {
          "font": {
           "size": 16
          },
          "showarrow": false,
          "text": "AWAY_ATT_TOTAL",
          "x": 0.8555555555555556,
          "xanchor": "center",
          "xref": "paper",
          "y": 1,
          "yanchor": "bottom",
          "yref": "paper"
         },
         {
          "font": {
           "size": 16
          },
          "showarrow": false,
          "text": "XG",
          "textangle": -90,
          "x": 0,
          "xanchor": "right",
          "xref": "paper",
          "xshift": -40,
          "y": 0.5,
          "yanchor": "middle",
          "yref": "paper"
         }
        ],
        "height": 400,
        "template": {
         "data": {
          "bar": [
           {
            "error_x": {
             "color": "#2a3f5f"
            },
            "error_y": {
             "color": "#2a3f5f"
            },
            "marker": {
             "line": {
              "color": "#E5ECF6",
              "width": 0.5
             },
             "pattern": {
              "fillmode": "overlay",
              "size": 10,
              "solidity": 0.2
             }
            },
            "type": "bar"
           }
          ],
          "barpolar": [
           {
            "marker": {
             "line": {
              "color": "#E5ECF6",
              "width": 0.5
             },
             "pattern": {
              "fillmode": "overlay",
              "size": 10,
              "solidity": 0.2
             }
            },
            "type": "barpolar"
           }
          ],
          "carpet": [
           {
            "aaxis": {
             "endlinecolor": "#2a3f5f",
             "gridcolor": "white",
             "linecolor": "white",
             "minorgridcolor": "white",
             "startlinecolor": "#2a3f5f"
            },
            "baxis": {
             "endlinecolor": "#2a3f5f",
             "gridcolor": "white",
             "linecolor": "white",
             "minorgridcolor": "white",
             "startlinecolor": "#2a3f5f"
            },
            "type": "carpet"
           }
          ],
          "choropleth": [
           {
            "colorbar": {
             "outlinewidth": 0,
             "ticks": ""
            },
            "type": "choropleth"
           }
          ],
          "contour": [
           {
            "colorbar": {
             "outlinewidth": 0,
             "ticks": ""
            },
            "colorscale": [
             [
              0,
              "#0d0887"
             ],
             [
              0.1111111111111111,
              "#46039f"
             ],
             [
              0.2222222222222222,
              "#7201a8"
             ],
             [
              0.3333333333333333,
              "#9c179e"
             ],
             [
              0.4444444444444444,
              "#bd3786"
             ],
             [
              0.5555555555555556,
              "#d8576b"
             ],
             [
              0.6666666666666666,
              "#ed7953"
             ],
             [
              0.7777777777777778,
              "#fb9f3a"
             ],
             [
              0.8888888888888888,
              "#fdca26"
             ],
             [
              1,
              "#f0f921"
             ]
            ],
            "type": "contour"
           }
          ],
          "contourcarpet": [
           {
            "colorbar": {
             "outlinewidth": 0,
             "ticks": ""
            },
            "type": "contourcarpet"
           }
          ],
          "heatmap": [
           {
            "colorbar": {
             "outlinewidth": 0,
             "ticks": ""
            },
            "colorscale": [
             [
              0,
              "#0d0887"
             ],
             [
              0.1111111111111111,
              "#46039f"
             ],
             [
              0.2222222222222222,
              "#7201a8"
             ],
             [
              0.3333333333333333,
              "#9c179e"
             ],
             [
              0.4444444444444444,
              "#bd3786"
             ],
             [
              0.5555555555555556,
              "#d8576b"
             ],
             [
              0.6666666666666666,
              "#ed7953"
             ],
             [
              0.7777777777777778,
              "#fb9f3a"
             ],
             [
              0.8888888888888888,
              "#fdca26"
             ],
             [
              1,
              "#f0f921"
             ]
            ],
            "type": "heatmap"
           }
          ],
          "heatmapgl": [
           {
            "colorbar": {
             "outlinewidth": 0,
             "ticks": ""
            },
            "colorscale": [
             [
              0,
              "#0d0887"
             ],
             [
              0.1111111111111111,
              "#46039f"
             ],
             [
              0.2222222222222222,
              "#7201a8"
             ],
             [
              0.3333333333333333,
              "#9c179e"
             ],
             [
              0.4444444444444444,
              "#bd3786"
             ],
             [
              0.5555555555555556,
              "#d8576b"
             ],
             [
              0.6666666666666666,
              "#ed7953"
             ],
             [
              0.7777777777777778,
              "#fb9f3a"
             ],
             [
              0.8888888888888888,
              "#fdca26"
             ],
             [
              1,
              "#f0f921"
             ]
            ],
            "type": "heatmapgl"
           }
          ],
          "histogram": [
           {
            "marker": {
             "pattern": {
              "fillmode": "overlay",
              "size": 10,
              "solidity": 0.2
             }
            },
            "type": "histogram"
           }
          ],
          "histogram2d": [
           {
            "colorbar": {
             "outlinewidth": 0,
             "ticks": ""
            },
            "colorscale": [
             [
              0,
              "#0d0887"
             ],
             [
              0.1111111111111111,
              "#46039f"
             ],
             [
              0.2222222222222222,
              "#7201a8"
             ],
             [
              0.3333333333333333,
              "#9c179e"
             ],
             [
              0.4444444444444444,
              "#bd3786"
             ],
             [
              0.5555555555555556,
              "#d8576b"
             ],
             [
              0.6666666666666666,
              "#ed7953"
             ],
             [
              0.7777777777777778,
              "#fb9f3a"
             ],
             [
              0.8888888888888888,
              "#fdca26"
             ],
             [
              1,
              "#f0f921"
             ]
            ],
            "type": "histogram2d"
           }
          ],
          "histogram2dcontour": [
           {
            "colorbar": {
             "outlinewidth": 0,
             "ticks": ""
            },
            "colorscale": [
             [
              0,
              "#0d0887"
             ],
             [
              0.1111111111111111,
              "#46039f"
             ],
             [
              0.2222222222222222,
              "#7201a8"
             ],
             [
              0.3333333333333333,
              "#9c179e"
             ],
             [
              0.4444444444444444,
              "#bd3786"
             ],
             [
              0.5555555555555556,
              "#d8576b"
             ],
             [
              0.6666666666666666,
              "#ed7953"
             ],
             [
              0.7777777777777778,
              "#fb9f3a"
             ],
             [
              0.8888888888888888,
              "#fdca26"
             ],
             [
              1,
              "#f0f921"
             ]
            ],
            "type": "histogram2dcontour"
           }
          ],
          "mesh3d": [
           {
            "colorbar": {
             "outlinewidth": 0,
             "ticks": ""
            },
            "type": "mesh3d"
           }
          ],
          "parcoords": [
           {
            "line": {
             "colorbar": {
              "outlinewidth": 0,
              "ticks": ""
             }
            },
            "type": "parcoords"
           }
          ],
          "pie": [
           {
            "automargin": true,
            "type": "pie"
           }
          ],
          "scatter": [
           {
            "fillpattern": {
             "fillmode": "overlay",
             "size": 10,
             "solidity": 0.2
            },
            "type": "scatter"
           }
          ],
          "scatter3d": [
           {
            "line": {
             "colorbar": {
              "outlinewidth": 0,
              "ticks": ""
             }
            },
            "marker": {
             "colorbar": {
              "outlinewidth": 0,
              "ticks": ""
             }
            },
            "type": "scatter3d"
           }
          ],
          "scattercarpet": [
           {
            "marker": {
             "colorbar": {
              "outlinewidth": 0,
              "ticks": ""
             }
            },
            "type": "scattercarpet"
           }
          ],
          "scattergeo": [
           {
            "marker": {
             "colorbar": {
              "outlinewidth": 0,
              "ticks": ""
             }
            },
            "type": "scattergeo"
           }
          ],
          "scattergl": [
           {
            "marker": {
             "colorbar": {
              "outlinewidth": 0,
              "ticks": ""
             }
            },
            "type": "scattergl"
           }
          ],
          "scattermapbox": [
           {
            "marker": {
             "colorbar": {
              "outlinewidth": 0,
              "ticks": ""
             }
            },
            "type": "scattermapbox"
           }
          ],
          "scatterpolar": [
           {
            "marker": {
             "colorbar": {
              "outlinewidth": 0,
              "ticks": ""
             }
            },
            "type": "scatterpolar"
           }
          ],
          "scatterpolargl": [
           {
            "marker": {
             "colorbar": {
              "outlinewidth": 0,
              "ticks": ""
             }
            },
            "type": "scatterpolargl"
           }
          ],
          "scatterternary": [
           {
            "marker": {
             "colorbar": {
              "outlinewidth": 0,
              "ticks": ""
             }
            },
            "type": "scatterternary"
           }
          ],
          "surface": [
           {
            "colorbar": {
             "outlinewidth": 0,
             "ticks": ""
            },
            "colorscale": [
             [
              0,
              "#0d0887"
             ],
             [
              0.1111111111111111,
              "#46039f"
             ],
             [
              0.2222222222222222,
              "#7201a8"
             ],
             [
              0.3333333333333333,
              "#9c179e"
             ],
             [
              0.4444444444444444,
              "#bd3786"
             ],
             [
              0.5555555555555556,
              "#d8576b"
             ],
             [
              0.6666666666666666,
              "#ed7953"
             ],
             [
              0.7777777777777778,
              "#fb9f3a"
             ],
             [
              0.8888888888888888,
              "#fdca26"
             ],
             [
              1,
              "#f0f921"
             ]
            ],
            "type": "surface"
           }
          ],
          "table": [
           {
            "cells": {
             "fill": {
              "color": "#EBF0F8"
             },
             "line": {
              "color": "white"
             }
            },
            "header": {
             "fill": {
              "color": "#C8D4E3"
             },
             "line": {
              "color": "white"
             }
            },
            "type": "table"
           }
          ]
         },
         "layout": {
          "annotationdefaults": {
           "arrowcolor": "#2a3f5f",
           "arrowhead": 0,
           "arrowwidth": 1
          },
          "autotypenumbers": "strict",
          "coloraxis": {
           "colorbar": {
            "outlinewidth": 0,
            "ticks": ""
           }
          },
          "colorscale": {
           "diverging": [
            [
             0,
             "#8e0152"
            ],
            [
             0.1,
             "#c51b7d"
            ],
            [
             0.2,
             "#de77ae"
            ],
            [
             0.3,
             "#f1b6da"
            ],
            [
             0.4,
             "#fde0ef"
            ],
            [
             0.5,
             "#f7f7f7"
            ],
            [
             0.6,
             "#e6f5d0"
            ],
            [
             0.7,
             "#b8e186"
            ],
            [
             0.8,
             "#7fbc41"
            ],
            [
             0.9,
             "#4d9221"
            ],
            [
             1,
             "#276419"
            ]
           ],
           "sequential": [
            [
             0,
             "#0d0887"
            ],
            [
             0.1111111111111111,
             "#46039f"
            ],
            [
             0.2222222222222222,
             "#7201a8"
            ],
            [
             0.3333333333333333,
             "#9c179e"
            ],
            [
             0.4444444444444444,
             "#bd3786"
            ],
            [
             0.5555555555555556,
             "#d8576b"
            ],
            [
             0.6666666666666666,
             "#ed7953"
            ],
            [
             0.7777777777777778,
             "#fb9f3a"
            ],
            [
             0.8888888888888888,
             "#fdca26"
            ],
            [
             1,
             "#f0f921"
            ]
           ],
           "sequentialminus": [
            [
             0,
             "#0d0887"
            ],
            [
             0.1111111111111111,
             "#46039f"
            ],
            [
             0.2222222222222222,
             "#7201a8"
            ],
            [
             0.3333333333333333,
             "#9c179e"
            ],
            [
             0.4444444444444444,
             "#bd3786"
            ],
            [
             0.5555555555555556,
             "#d8576b"
            ],
            [
             0.6666666666666666,
             "#ed7953"
            ],
            [
             0.7777777777777778,
             "#fb9f3a"
            ],
            [
             0.8888888888888888,
             "#fdca26"
            ],
            [
             1,
             "#f0f921"
            ]
           ]
          },
          "colorway": [
           "#636efa",
           "#EF553B",
           "#00cc96",
           "#ab63fa",
           "#FFA15A",
           "#19d3f3",
           "#FF6692",
           "#B6E880",
           "#FF97FF",
           "#FECB52"
          ],
          "font": {
           "color": "#2a3f5f"
          },
          "geo": {
           "bgcolor": "white",
           "lakecolor": "white",
           "landcolor": "#E5ECF6",
           "showlakes": true,
           "showland": true,
           "subunitcolor": "white"
          },
          "hoverlabel": {
           "align": "left"
          },
          "hovermode": "closest",
          "mapbox": {
           "style": "light"
          },
          "paper_bgcolor": "white",
          "plot_bgcolor": "#E5ECF6",
          "polar": {
           "angularaxis": {
            "gridcolor": "white",
            "linecolor": "white",
            "ticks": ""
           },
           "bgcolor": "#E5ECF6",
           "radialaxis": {
            "gridcolor": "white",
            "linecolor": "white",
            "ticks": ""
           }
          },
          "scene": {
           "xaxis": {
            "backgroundcolor": "#E5ECF6",
            "gridcolor": "white",
            "gridwidth": 2,
            "linecolor": "white",
            "showbackground": true,
            "ticks": "",
            "zerolinecolor": "white"
           },
           "yaxis": {
            "backgroundcolor": "#E5ECF6",
            "gridcolor": "white",
            "gridwidth": 2,
            "linecolor": "white",
            "showbackground": true,
            "ticks": "",
            "zerolinecolor": "white"
           },
           "zaxis": {
            "backgroundcolor": "#E5ECF6",
            "gridcolor": "white",
            "gridwidth": 2,
            "linecolor": "white",
            "showbackground": true,
            "ticks": "",
            "zerolinecolor": "white"
           }
          },
          "shapedefaults": {
           "line": {
            "color": "#2a3f5f"
           }
          },
          "ternary": {
           "aaxis": {
            "gridcolor": "white",
            "linecolor": "white",
            "ticks": ""
           },
           "baxis": {
            "gridcolor": "white",
            "linecolor": "white",
            "ticks": ""
           },
           "bgcolor": "#E5ECF6",
           "caxis": {
            "gridcolor": "white",
            "linecolor": "white",
            "ticks": ""
           }
          },
          "title": {
           "x": 0.05
          },
          "xaxis": {
           "automargin": true,
           "gridcolor": "white",
           "linecolor": "white",
           "ticks": "",
           "title": {
            "standoff": 15
           },
           "zerolinecolor": "white",
           "zerolinewidth": 2
          },
          "yaxis": {
           "automargin": true,
           "gridcolor": "white",
           "linecolor": "white",
           "ticks": "",
           "title": {
            "standoff": 15
           },
           "zerolinecolor": "white",
           "zerolinewidth": 2
          }
         }
        },
        "width": 1200,
        "xaxis": {
         "anchor": "y",
         "domain": [
          0,
          0.2888888888888889
         ]
        },
        "xaxis2": {
         "anchor": "y2",
         "domain": [
          0.35555555555555557,
          0.6444444444444445
         ]
        },
        "xaxis3": {
         "anchor": "y3",
         "domain": [
          0.7111111111111111,
          1
         ]
        },
        "yaxis": {
         "anchor": "x",
         "domain": [
          0,
          1
         ]
        },
        "yaxis2": {
         "anchor": "x2",
         "domain": [
          0,
          1
         ],
         "matches": "y",
         "showticklabels": false
        },
        "yaxis3": {
         "anchor": "x3",
         "domain": [
          0,
          1
         ],
         "matches": "y",
         "showticklabels": false
        }
       }
      }
     },
     "metadata": {},
     "output_type": "display_data"
    }
   ],
   "source": [
    "with sqlite3.connect('../data/fpl.db') as con:\n",
    "    processed_data = pd.read_sql_query('select * from \"02_PROCESSED_DATA\"', con)\n",
    "team_df = processed_data[processed_data[\"TEAM\"]==\"Manchester City\"].copy()\n",
    "team_df.loc[team_df.index,\"OPPONENT_COLOR\"] = team_df[\"OPPONENT\"].map(lambda x: color_map[x])\n",
    "plot_elos(team_df, [\"ATT_TOTAL\", \"HOME_ATT_TOTAL\", \"AWAY_ATT_TOTAL\"], \"XG\", \"OPPONENT_COLOR\", [\"OPPONENT\", \"SEASON\", \"ROUND\"])"
   ]
  },
  {
   "cell_type": "code",
   "execution_count": 202,
   "metadata": {},
   "outputs": [],
   "source": [
    "numerical_features = ['ROUND', 'POSS', 'DAYS_TILL_NEXT', 'DAYS_SINCE_LAST', 'ATT_TOTAL', 'HOME_ATT_TOTAL', 'AWAY_ATT_TOTAL'] \n",
    "# 'DEF_TOTAL', 'HOME_DEF_TOTAL', 'AWAY_DEF_TOTAL', 'DATE', 'XGA', ]\n",
    "categorical_features = ['VENUE', 'TEAM', 'OPPONENT']\n",
    "target = \"XG\""
   ]
  },
  {
   "cell_type": "code",
   "execution_count": 177,
   "metadata": {},
   "outputs": [
    {
     "data": {
      "text/html": [
       "<div>\n",
       "<style scoped>\n",
       "    .dataframe tbody tr th:only-of-type {\n",
       "        vertical-align: middle;\n",
       "    }\n",
       "\n",
       "    .dataframe tbody tr th {\n",
       "        vertical-align: top;\n",
       "    }\n",
       "\n",
       "    .dataframe thead th {\n",
       "        text-align: right;\n",
       "    }\n",
       "</style>\n",
       "<table border=\"1\" class=\"dataframe\">\n",
       "  <thead>\n",
       "    <tr style=\"text-align: right;\">\n",
       "      <th></th>\n",
       "      <th>index</th>\n",
       "      <th>SEASON</th>\n",
       "      <th>TEAM</th>\n",
       "      <th>DATE</th>\n",
       "      <th>ROUND</th>\n",
       "      <th>VENUE</th>\n",
       "      <th>GF</th>\n",
       "      <th>GA</th>\n",
       "      <th>OPPONENT</th>\n",
       "      <th>XG</th>\n",
       "      <th>...</th>\n",
       "      <th>OPPONENT_Manchester Utd</th>\n",
       "      <th>OPPONENT_Newcastle Utd</th>\n",
       "      <th>OPPONENT_Norwich City</th>\n",
       "      <th>OPPONENT_Sheffield Utd</th>\n",
       "      <th>OPPONENT_Southampton</th>\n",
       "      <th>OPPONENT_Tottenham</th>\n",
       "      <th>OPPONENT_Watford</th>\n",
       "      <th>OPPONENT_West Brom</th>\n",
       "      <th>OPPONENT_West Ham</th>\n",
       "      <th>OPPONENT_Wolves</th>\n",
       "    </tr>\n",
       "  </thead>\n",
       "  <tbody>\n",
       "    <tr>\n",
       "      <th>0</th>\n",
       "      <td>0</td>\n",
       "      <td>2018-2019</td>\n",
       "      <td>Leicester City</td>\n",
       "      <td>2018-08-10</td>\n",
       "      <td>1</td>\n",
       "      <td>Away</td>\n",
       "      <td>1</td>\n",
       "      <td>2</td>\n",
       "      <td>Manchester Utd</td>\n",
       "      <td>1.8</td>\n",
       "      <td>...</td>\n",
       "      <td>1</td>\n",
       "      <td>0</td>\n",
       "      <td>0</td>\n",
       "      <td>0</td>\n",
       "      <td>0</td>\n",
       "      <td>0</td>\n",
       "      <td>0</td>\n",
       "      <td>0</td>\n",
       "      <td>0</td>\n",
       "      <td>0</td>\n",
       "    </tr>\n",
       "    <tr>\n",
       "      <th>1</th>\n",
       "      <td>1</td>\n",
       "      <td>2018-2019</td>\n",
       "      <td>Manchester Utd</td>\n",
       "      <td>2018-08-10</td>\n",
       "      <td>1</td>\n",
       "      <td>Home</td>\n",
       "      <td>2</td>\n",
       "      <td>1</td>\n",
       "      <td>Leicester City</td>\n",
       "      <td>1.5</td>\n",
       "      <td>...</td>\n",
       "      <td>0</td>\n",
       "      <td>0</td>\n",
       "      <td>0</td>\n",
       "      <td>0</td>\n",
       "      <td>0</td>\n",
       "      <td>0</td>\n",
       "      <td>0</td>\n",
       "      <td>0</td>\n",
       "      <td>0</td>\n",
       "      <td>0</td>\n",
       "    </tr>\n",
       "    <tr>\n",
       "      <th>2</th>\n",
       "      <td>2</td>\n",
       "      <td>2018-2019</td>\n",
       "      <td>Bournemouth</td>\n",
       "      <td>2018-08-11</td>\n",
       "      <td>1</td>\n",
       "      <td>Home</td>\n",
       "      <td>2</td>\n",
       "      <td>0</td>\n",
       "      <td>Cardiff City</td>\n",
       "      <td>2.2</td>\n",
       "      <td>...</td>\n",
       "      <td>0</td>\n",
       "      <td>0</td>\n",
       "      <td>0</td>\n",
       "      <td>0</td>\n",
       "      <td>0</td>\n",
       "      <td>0</td>\n",
       "      <td>0</td>\n",
       "      <td>0</td>\n",
       "      <td>0</td>\n",
       "      <td>0</td>\n",
       "    </tr>\n",
       "    <tr>\n",
       "      <th>3</th>\n",
       "      <td>3</td>\n",
       "      <td>2018-2019</td>\n",
       "      <td>Brighton</td>\n",
       "      <td>2018-08-11</td>\n",
       "      <td>1</td>\n",
       "      <td>Away</td>\n",
       "      <td>0</td>\n",
       "      <td>2</td>\n",
       "      <td>Watford</td>\n",
       "      <td>0.3</td>\n",
       "      <td>...</td>\n",
       "      <td>0</td>\n",
       "      <td>0</td>\n",
       "      <td>0</td>\n",
       "      <td>0</td>\n",
       "      <td>0</td>\n",
       "      <td>0</td>\n",
       "      <td>1</td>\n",
       "      <td>0</td>\n",
       "      <td>0</td>\n",
       "      <td>0</td>\n",
       "    </tr>\n",
       "    <tr>\n",
       "      <th>4</th>\n",
       "      <td>4</td>\n",
       "      <td>2018-2019</td>\n",
       "      <td>Cardiff City</td>\n",
       "      <td>2018-08-11</td>\n",
       "      <td>1</td>\n",
       "      <td>Away</td>\n",
       "      <td>0</td>\n",
       "      <td>2</td>\n",
       "      <td>Bournemouth</td>\n",
       "      <td>1.4</td>\n",
       "      <td>...</td>\n",
       "      <td>0</td>\n",
       "      <td>0</td>\n",
       "      <td>0</td>\n",
       "      <td>0</td>\n",
       "      <td>0</td>\n",
       "      <td>0</td>\n",
       "      <td>0</td>\n",
       "      <td>0</td>\n",
       "      <td>0</td>\n",
       "      <td>0</td>\n",
       "    </tr>\n",
       "  </tbody>\n",
       "</table>\n",
       "<p>5 rows × 78 columns</p>\n",
       "</div>"
      ],
      "text/plain": [
       "   index     SEASON            TEAM        DATE  ROUND VENUE  GF  GA  \\\n",
       "0      0  2018-2019  Leicester City  2018-08-10      1  Away   1   2   \n",
       "1      1  2018-2019  Manchester Utd  2018-08-10      1  Home   2   1   \n",
       "2      2  2018-2019     Bournemouth  2018-08-11      1  Home   2   0   \n",
       "3      3  2018-2019        Brighton  2018-08-11      1  Away   0   2   \n",
       "4      4  2018-2019    Cardiff City  2018-08-11      1  Away   0   2   \n",
       "\n",
       "         OPPONENT   XG  ...  OPPONENT_Manchester Utd  OPPONENT_Newcastle Utd  \\\n",
       "0  Manchester Utd  1.8  ...                        1                       0   \n",
       "1  Leicester City  1.5  ...                        0                       0   \n",
       "2    Cardiff City  2.2  ...                        0                       0   \n",
       "3         Watford  0.3  ...                        0                       0   \n",
       "4     Bournemouth  1.4  ...                        0                       0   \n",
       "\n",
       "   OPPONENT_Norwich City  OPPONENT_Sheffield Utd  OPPONENT_Southampton  \\\n",
       "0                      0                       0                     0   \n",
       "1                      0                       0                     0   \n",
       "2                      0                       0                     0   \n",
       "3                      0                       0                     0   \n",
       "4                      0                       0                     0   \n",
       "\n",
       "   OPPONENT_Tottenham  OPPONENT_Watford  OPPONENT_West Brom  \\\n",
       "0                   0                 0                   0   \n",
       "1                   0                 0                   0   \n",
       "2                   0                 0                   0   \n",
       "3                   0                 1                   0   \n",
       "4                   0                 0                   0   \n",
       "\n",
       "   OPPONENT_West Ham  OPPONENT_Wolves  \n",
       "0                  0                0  \n",
       "1                  0                0  \n",
       "2                  0                0  \n",
       "3                  0                0  \n",
       "4                  0                0  \n",
       "\n",
       "[5 rows x 78 columns]"
      ]
     },
     "execution_count": 177,
     "metadata": {},
     "output_type": "execute_result"
    }
   ],
   "source": [
    "one_hot_encoded_features = pd.get_dummies(processed_data[categorical_features+[\"index\"]])\n",
    "one_hot_encoded_columns =  [col for col in one_hot_encoded_features.columns if col != 'index']\n",
    "one_hot_encoded_data = pd.merge(processed_data, one_hot_encoded_features, on=\"index\")\n",
    "one_hot_encoded_data.head()"
   ]
  },
  {
   "cell_type": "code",
   "execution_count": 178,
   "metadata": {},
   "outputs": [],
   "source": [
    "train_data = one_hot_encoded_data[one_hot_encoded_data['SEASON'] < \"2021-2022\"]\n",
    "test_data = one_hot_encoded_data[one_hot_encoded_data['SEASON'] >= \"2021-2022\"]\n",
    "\n",
    "X_train = train_data[numerical_features+one_hot_encoded_columns]\n",
    "y_train = train_data[target]\n",
    "\n",
    "# Separate features and target for the test_data\n",
    "X_test = test_data[numerical_features+one_hot_encoded_columns]\n",
    "y_test = test_data[target]"
   ]
  },
  {
   "cell_type": "code",
   "execution_count": 179,
   "metadata": {},
   "outputs": [],
   "source": [
    "import seaborn as sns\n",
    "color_pal = sns.color_palette()\n",
    "plt.style.use('fivethirtyeight')\n",
    "import matplotlib.pyplot as plt"
   ]
  },
  {
   "cell_type": "code",
   "execution_count": 234,
   "metadata": {},
   "outputs": [
    {
     "data": {
      "image/png": "[encoded data removed]",
      "text/plain": [
       "<Figure size 1200x600 with 1 Axes>"
      ]
     },
     "metadata": {},
     "output_type": "display_data"
    }
   ],
   "source": [
    "copy_df = train_data[[\"ATT_TOTAL\", \"XG\"]].copy()\n",
    "copy_df['ATT_TOTAL_bin'] = pd.cut(copy_df['ATT_TOTAL'], bins=np.arange(0,4, 0.5))\n",
    "plt.figure(figsize=(12, 6))\n",
    "sns.boxplot(x='ATT_TOTAL_bin', y='XG', data=copy_df)\n",
    "plt.show()"
   ]
  },
  {
   "cell_type": "code",
   "execution_count": 181,
   "metadata": {},
   "outputs": [],
   "source": [
    "from sklearn.metrics import mean_squared_error\n",
    "import xgboost as xgb\n",
    "parameters = dict(random_seed=42, n_estimators=1000, learning_rate=0.01)"
   ]
  },
  {
   "cell_type": "code",
   "execution_count": 182,
   "metadata": {},
   "outputs": [
    {
     "name": "stdout",
     "output_type": "stream",
     "text": [
      "[0]\tvalidation_0-mae:0.87499\tvalidation_1-mae:1.01673\n"
     ]
    },
    {
     "name": "stderr",
     "output_type": "stream",
     "text": [
      "c:\\ProgramData\\miniconda3\\envs\\fpl\\lib\\site-packages\\xgboost\\sklearn.py:835: UserWarning:\n",
      "\n",
      "`early_stopping_rounds` in `fit` method is deprecated for better compatibility with scikit-learn, use `early_stopping_rounds` in constructor or`set_params` instead.\n",
      "\n"
     ]
    },
    {
     "name": "stdout",
     "output_type": "stream",
     "text": [
      "[100]\tvalidation_0-mae:0.53862\tvalidation_1-mae:0.65073\n",
      "[200]\tvalidation_0-mae:0.47324\tvalidation_1-mae:0.58700\n",
      "[300]\tvalidation_0-mae:0.44920\tvalidation_1-mae:0.57485\n",
      "[400]\tvalidation_0-mae:0.43284\tvalidation_1-mae:0.57186\n",
      "[451]\tvalidation_0-mae:0.42461\tvalidation_1-mae:0.57222\n",
      "Mean Absolute Error:  0.5514650101095785\n"
     ]
    }
   ],
   "source": [
    "xgb_model = xgb.XGBRegressor(\n",
    "    n_estimators=parameters[\"n_estimators\"],\n",
    "    learning_rate=parameters[\"learning_rate\"],\n",
    "    objective ='reg:squarederror', \n",
    "    eval_metric='mae', \n",
    "    seed=parameters[\"random_seed\"]\n",
    "    )\n",
    "xgb_model.fit(X_train, y_train,\n",
    "        eval_set=[(X_train, y_train), (X_test, y_test)],\n",
    "        early_stopping_rounds=50,\n",
    "        verbose=100\n",
    "    )\n",
    "y_pred = xgb_model.predict(X_test)\n",
    "mse = mean_squared_error(y_test, y_pred)\n",
    "print(\"Mean Absolute Error: \", mse)"
   ]
  },
  {
   "cell_type": "code",
   "execution_count": 183,
   "metadata": {},
   "outputs": [
    {
     "data": {
      "image/png": "[encoded data removed]",
      "text/plain": [
       "<Figure size 640x480 with 1 Axes>"
      ]
     },
     "metadata": {},
     "output_type": "display_data"
    }
   ],
   "source": [
    "fi = pd.DataFrame(data=xgb_model.feature_importances_,\n",
    "             index=xgb_model.feature_names_in_,\n",
    "             columns=['importance'])\n",
    "fi = fi.sort_values(by='importance', ascending=False).head(10)\n",
    "fi.sort_values('importance').plot(kind='barh', title='Feature Importance')\n",
    "plt.show()"
   ]
  },
  {
   "cell_type": "code",
   "execution_count": 230,
   "metadata": {},
   "outputs": [
    {
     "data": {
      "image/png": "[encoded data removed]",
      "text/plain": [
       "<Figure size 2000x500 with 4 Axes>"
      ]
     },
     "metadata": {},
     "output_type": "display_data"
    }
   ],
   "source": [
    "baseline_columns = ['XG_MA', \"TEAM_ODDS_2_SCORE\", 'ATT_TOTAL']\n",
    "\n",
    "output_cols = list(set([\"index\"]+numerical_features+categorical_features+[target]+baseline_columns))\n",
    "output_df = test_data[output_cols].copy()\n",
    "eval_cols = [\"prediction\"]+baseline_columns\n",
    "output_df[\"prediction\"] = y_pred\n",
    "\n",
    "fig, axes = plt.subplots(nrows=1, ncols=len(eval_cols), figsize=(20, 5), sharey=True)\n",
    "\n",
    "for i, col in enumerate(eval_cols):\n",
    "    output_df[f\"{col}_error\"] = output_df[col] - output_df[target]\n",
    "    output_df[f\"{col}_error\"].hist(ax=axes[i], bins=np.linspace(-4, 3, 10), color=color_pal[i])\n",
    "    mae = output_df[f\"{col}_error\"].abs().mean()\n",
    "    axes[i].set_xlabel(f\"{col} MAE: {mae:.2f}\")\n",
    "output_df.head()\n",
    "plt.subplots_adjust(wspace=0.1)\n",
    "plt.show()"
   ]
  }
 ],
 "metadata": {
  "kernelspec": {
   "display_name": "fpl",
   "language": "python",
   "name": "python3"
  },
  "language_info": {
   "codemirror_mode": {
    "name": "ipython",
    "version": 3
   },
   "file_extension": ".py",
   "mimetype": "text/x-python",
   "name": "python",
   "nbconvert_exporter": "python",
   "pygments_lexer": "ipython3",
   "version": "3.10.11"
  },
  "orig_nbformat": 4,
  "vscode": {
   "interpreter": {
    "hash": "f9696d04c77630052d9401e416d8c1cf68ecffaaf52b682fd2a8103057a57489"
   }
  }
 },
 "nbformat": 4,
 "nbformat_minor": 2
}
