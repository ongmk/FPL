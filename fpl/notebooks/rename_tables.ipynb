{
 "cells": [
  {
   "attachments": {},
   "cell_type": "markdown",
   "metadata": {},
   "source": [
    "## Rename tables"
   ]
  },
  {
   "cell_type": "code",
   "execution_count": 6,
   "metadata": {},
   "outputs": [],
   "source": [
    "import sqlite3\n",
    "\n",
    "db_path = '../data/fpl.db'\n",
    "conn = sqlite3.connect(db_path)\n",
    "cursor = conn.cursor()\n",
    "\n",
    "# Find all tables in the database\n",
    "cursor.execute(\"SELECT name FROM sqlite_master WHERE type='table'\")\n",
    "tables = cursor.fetchall()\n",
    "\n",
    "# Iterate through the tables\n",
    "for table in tables:\n",
    "    old_name = table[0]\n",
    "    # Remove prefix number and underscore, then convert to lowercase\n",
    "    new_name = old_name.lstrip('0123456789_').lower()\n",
    "    if old_name[:2] == \"01\":\n",
    "        new_name = f\"raw_{new_name}\"\n",
    "\n",
    "    # Rename the table\n",
    "    if old_name != new_name:\n",
    "        print(f\"{old_name}-->{new_name}\")\n",
    "        if old_name == new_name.upper():\n",
    "            cursor.execute(f\"ALTER TABLE \\\"{old_name}\\\" RENAME TO \\\"01_{old_name}\\\"\")\n",
    "            cursor.execute(f\"ALTER TABLE \\\"01_{old_name}\\\" RENAME TO {new_name}\")\n",
    "        else:\n",
    "            cursor.execute(f\"ALTER TABLE \\\"{old_name}\\\" RENAME TO {new_name}\")\n",
    "\n",
    "\n",
    "# Commit the changes and close the connection\n",
    "conn.commit()\n",
    "conn.close()"
   ]
  },
  {
   "attachments": {},
   "cell_type": "markdown",
   "metadata": {},
   "source": [
    "## Rename columns"
   ]
  },
  {
   "cell_type": "code",
   "execution_count": 13,
   "metadata": {},
   "outputs": [],
   "source": [
    "db_path = '../data/fpl.db'\n",
    "conn = sqlite3.connect(db_path)\n",
    "cursor = conn.cursor()\n",
    "\n",
    "# Find all tables in the database\n",
    "cursor.execute(\"SELECT name FROM sqlite_master WHERE type='table'\")\n",
    "tables = cursor.fetchall()\n",
    "\n",
    "# Iterate through the tables\n",
    "for table in tables:\n",
    "    table_name = table[0]\n",
    "\n",
    "    # Get column names for the table\n",
    "    cursor.execute(f\"PRAGMA table_info({table_name})\")\n",
    "    columns = cursor.fetchall()\n",
    "\n",
    "    # Create a temporary table with lowercase column names\n",
    "    new_columns = []\n",
    "    for col in columns:\n",
    "        name = col[1]\n",
    "        _type = col[2]\n",
    "        name = name.lower()\n",
    "        if name == \"index\":\n",
    "            name = \"id\"\n",
    "        new_columns.append(f\"{name} {_type}\")\n",
    "    old_columns = [col[1] if col[1] != \"index\" else \"'index'\" for col in columns]\n",
    "    new_columns_without_type = [col.split()[0] for col in new_columns]\n",
    "\n",
    "    if old_columns!=new_columns_without_type:\n",
    "        new_columns_str = ', '.join(new_columns)\n",
    "        cursor.execute(f\"CREATE TABLE temp_table ({new_columns_str})\")\n",
    "\n",
    "        # Copy data from the original table to the temporary table\n",
    "        old_columns_str = ', '.join(old_columns)\n",
    "        cursor.execute(f\"INSERT INTO temp_table SELECT {old_columns_str} FROM {table_name}\")\n",
    "\n",
    "        # # Drop the original table\n",
    "        cursor.execute(f\"DROP TABLE {table_name}\")\n",
    "\n",
    "        # # Rename the temporary table to the original table name\n",
    "        cursor.execute(f\"ALTER TABLE temp_table RENAME TO {table_name}\")\n",
    "\n",
    "        print(\"Renamed all columns in table\", table_name)\n",
    "\n",
    "# Commit the changes and close the connection\n",
    "conn.commit()\n",
    "conn.close()"
   ]
  }
 ],
 "metadata": {
  "kernelspec": {
   "display_name": "fpl",
   "language": "python",
   "name": "python3"
  },
  "language_info": {
   "codemirror_mode": {
    "name": "ipython",
    "version": 3
   },
   "file_extension": ".py",
   "mimetype": "text/x-python",
   "name": "python",
   "nbconvert_exporter": "python",
   "pygments_lexer": "ipython3",
   "version": "3.10.11"
  },
  "orig_nbformat": 4
 },
 "nbformat": 4,
 "nbformat_minor": 2
}
