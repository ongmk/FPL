{
 "cells": [
  {
   "cell_type": "code",
   "execution_count": 1,
   "metadata": {},
   "outputs": [],
   "source": [
    "from flatten_dict import flatten, unflatten"
   ]
  },
  {
   "cell_type": "code",
   "execution_count": 13,
   "metadata": {},
   "outputs": [],
   "source": [
    "def find_search_groups(search_group_params: dict) -> list[dict]:\n",
    "    flat_param_dict = flatten(search_group_params, reducer=\"dot\")\n",
    "    if len(flat_param_dict.keys()) > 1:\n",
    "        raise ValueError(f\"Cannot group by more than one key.\")\n",
    "    if len(flat_param_dict.keys()) == 0:\n",
    "        return []\n",
    "    else:\n",
    "        key = list(flat_param_dict.keys())[0]\n",
    "        groups = list(flat_param_dict.values())[0]\n",
    "        for group in groups:\n",
    "            print({key: group})\n",
    "            print(unflatten({key: group}))\n",
    "        return [unflatten({key: group}, splitter=\"dot\") for group in groups]"
   ]
  },
  {
   "cell_type": "code",
   "execution_count": 14,
   "metadata": {},
   "outputs": [
    {
     "name": "stdout",
     "output_type": "stream",
     "text": [
      "{'model.models': ['huber']}\n",
      "{'m': {'o': {'d': {'e': {'l': {'.': {'m': {'o': {'d': {'e': {'l': {'s': ['huber']}}}}}}}}}}}}\n",
      "{'model.models': ['ridge']}\n",
      "{'m': {'o': {'d': {'e': {'l': {'.': {'m': {'o': {'d': {'e': {'l': {'s': ['ridge']}}}}}}}}}}}}\n"
     ]
    },
    {
     "data": {
      "text/plain": [
       "[{'model': {'models': ['huber']}}, {'model': {'models': ['ridge']}}]"
      ]
     },
     "execution_count": 14,
     "metadata": {},
     "output_type": "execute_result"
    }
   ],
   "source": [
    "find_search_groups({\n",
    "    'model': {\n",
    "        'models': [\n",
    "            ['huber'],\n",
    "            ['ridge']\n",
    "        ]\n",
    "    }\n",
    "})"
   ]
  },
  {
   "cell_type": "code",
   "execution_count": null,
   "metadata": {},
   "outputs": [],
   "source": []
  }
 ],
 "metadata": {
  "kernelspec": {
   "display_name": "fpl",
   "language": "python",
   "name": "python3"
  },
  "language_info": {
   "codemirror_mode": {
    "name": "ipython",
    "version": 3
   },
   "file_extension": ".py",
   "mimetype": "text/x-python",
   "name": "python",
   "nbconvert_exporter": "python",
   "pygments_lexer": "ipython3",
   "version": "3.10.11"
  },
  "orig_nbformat": 4
 },
 "nbformat": 4,
 "nbformat_minor": 2
}
