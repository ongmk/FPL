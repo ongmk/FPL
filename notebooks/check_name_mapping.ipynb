{
 "cells": [
  {
   "cell_type": "code",
   "execution_count": 2,
   "metadata": {},
   "outputs": [],
   "source": [
    "import os\n",
    "import sys\n",
    "from pathlib import Path\n",
    "if Path(os.getcwd()).name == \"notebooks\":\n",
    "    os.chdir(\"../\")\n",
    "    print(f\"Working dir changed to {os.getcwd()}\")\n",
    "sys.path.append(\"src\")"
   ]
  },
  {
   "cell_type": "code",
   "execution_count": 3,
   "metadata": {},
   "outputs": [],
   "source": [
    "import sqlite3\n",
    "import yaml\n",
    "import pandas as pd\n",
    "import re\n",
    "from thefuzz import process"
   ]
  },
  {
   "cell_type": "code",
   "execution_count": 4,
   "metadata": {},
   "outputs": [],
   "source": [
    "def load_yaml_as_dict(yaml_file):\n",
    "    with open(yaml_file) as stream:\n",
    "        return yaml.safe_load(stream)\n",
    "data_params = load_yaml_as_dict(\"conf/base/parameters/data.yml\")\n",
    "model_params = load_yaml_as_dict(\"conf/base/parameters/model.yml\")"
   ]
  },
  {
   "cell_type": "code",
   "execution_count": 5,
   "metadata": {},
   "outputs": [],
   "source": [
    "def select_relevant_rows(processed_data):\n",
    "    ma_cols = processed_data.filter(regex=r\"\\w+_ma\\d+\").columns\n",
    "    ma_cols = set([re.sub(r\"_ma\\d+\", \"\", col) for col in ma_cols])\n",
    "    excluded = [\n",
    "        \"value\",\n",
    "        \"att_total\",\n",
    "        \"home_att_total\",\n",
    "        \"away_att_total\",\n",
    "        \"def_total\",\n",
    "        \"home_def_total\",\n",
    "        \"away_def_total\",\n",
    "        \"fpl_points\",\n",
    "    ]\n",
    "    ma_cols = [col for col in ma_cols if col not in excluded]\n",
    "    non_features = [\"cached\", \"start\", \"match_points\", \"league_points\"]\n",
    "    non_features += processed_data.filter(regex=\"_elo$\").columns.tolist()\n",
    "    non_features += processed_data.filter(regex=\"_opp$\").columns.tolist()\n",
    "    to_drop = [col for col in ma_cols + non_features if col in processed_data.columns]\n",
    "    processed_data = processed_data.drop(to_drop, axis=1)\n",
    "    return processed_data"
   ]
  },
  {
   "cell_type": "code",
   "execution_count": 69,
   "metadata": {},
   "outputs": [],
   "source": [
    "conn = sqlite3.connect(\"data/fpl.db\")\n",
    "\n",
    "fpl_data = pd.read_sql(f\"select full_name, season, sum(total_points) from raw_fpl_data group by full_name, season\", conn)\n",
    "\n",
    "conn.close()"
   ]
  },
  {
   "cell_type": "code",
   "execution_count": 76,
   "metadata": {},
   "outputs": [
    {
     "data": {
      "text/html": [
       "<div>\n",
       "<style scoped>\n",
       "    .dataframe tbody tr th:only-of-type {\n",
       "        vertical-align: middle;\n",
       "    }\n",
       "\n",
       "    .dataframe tbody tr th {\n",
       "        vertical-align: top;\n",
       "    }\n",
       "\n",
       "    .dataframe thead th {\n",
       "        text-align: right;\n",
       "    }\n",
       "</style>\n",
       "<table border=\"1\" class=\"dataframe\">\n",
       "  <thead>\n",
       "    <tr style=\"text-align: right;\">\n",
       "      <th></th>\n",
       "      <th>fbref_name</th>\n",
       "      <th>fpl_name</th>\n",
       "      <th>season</th>\n",
       "      <th>sum(total_points)</th>\n",
       "    </tr>\n",
       "  </thead>\n",
       "  <tbody>\n",
       "    <tr>\n",
       "      <th>0</th>\n",
       "      <td>Kaine Kesler-Hayden</td>\n",
       "      <td>Kaine Kesler Hayden</td>\n",
       "      <td>2022-2023</td>\n",
       "      <td>0.0</td>\n",
       "    </tr>\n",
       "  </tbody>\n",
       "</table>\n",
       "</div>"
      ],
      "text/plain": [
       "            fbref_name             fpl_name     season  sum(total_points)\n",
       "0  Kaine Kesler-Hayden  Kaine Kesler Hayden  2022-2023                0.0"
      ]
     },
     "metadata": {},
     "output_type": "display_data"
    },
    {
     "data": {
      "text/html": [
       "<div>\n",
       "<style scoped>\n",
       "    .dataframe tbody tr th:only-of-type {\n",
       "        vertical-align: middle;\n",
       "    }\n",
       "\n",
       "    .dataframe tbody tr th {\n",
       "        vertical-align: top;\n",
       "    }\n",
       "\n",
       "    .dataframe thead th {\n",
       "        text-align: right;\n",
       "    }\n",
       "</style>\n",
       "<table border=\"1\" class=\"dataframe\">\n",
       "  <thead>\n",
       "    <tr style=\"text-align: right;\">\n",
       "      <th></th>\n",
       "      <th>fbref_name</th>\n",
       "      <th>fpl_name</th>\n",
       "      <th>season</th>\n",
       "      <th>sum(total_points)</th>\n",
       "    </tr>\n",
       "  </thead>\n",
       "  <tbody>\n",
       "    <tr>\n",
       "      <th>0</th>\n",
       "      <td>NaN</td>\n",
       "      <td>Kaine Kesler-Hayden</td>\n",
       "      <td>2023-2024</td>\n",
       "      <td>2.0</td>\n",
       "    </tr>\n",
       "  </tbody>\n",
       "</table>\n",
       "</div>"
      ],
      "text/plain": [
       "  fbref_name             fpl_name     season  sum(total_points)\n",
       "0        NaN  Kaine Kesler-Hayden  2023-2024                2.0"
      ]
     },
     "metadata": {},
     "output_type": "display_data"
    },
    {
     "data": {
      "text/html": [
       "<div>\n",
       "<style scoped>\n",
       "    .dataframe tbody tr th:only-of-type {\n",
       "        vertical-align: middle;\n",
       "    }\n",
       "\n",
       "    .dataframe tbody tr th {\n",
       "        vertical-align: top;\n",
       "    }\n",
       "\n",
       "    .dataframe thead th {\n",
       "        text-align: right;\n",
       "    }\n",
       "</style>\n",
       "<table border=\"1\" class=\"dataframe\">\n",
       "  <thead>\n",
       "    <tr style=\"text-align: right;\">\n",
       "      <th></th>\n",
       "      <th>fbref_name</th>\n",
       "      <th>fpl_name</th>\n",
       "      <th>season</th>\n",
       "      <th>sum(total_points)</th>\n",
       "    </tr>\n",
       "  </thead>\n",
       "  <tbody>\n",
       "    <tr>\n",
       "      <th>0</th>\n",
       "      <td>Isaac Hayden</td>\n",
       "      <td>Isaac Hayden</td>\n",
       "      <td>2017-2018</td>\n",
       "      <td>41.0</td>\n",
       "    </tr>\n",
       "    <tr>\n",
       "      <th>1</th>\n",
       "      <td>Isaac Hayden</td>\n",
       "      <td>Isaac Hayden</td>\n",
       "      <td>2018-2019</td>\n",
       "      <td>69.0</td>\n",
       "    </tr>\n",
       "    <tr>\n",
       "      <th>2</th>\n",
       "      <td>Isaac Hayden</td>\n",
       "      <td>Isaac Hayden</td>\n",
       "      <td>2019-2020</td>\n",
       "      <td>73.0</td>\n",
       "    </tr>\n",
       "    <tr>\n",
       "      <th>3</th>\n",
       "      <td>Isaac Hayden</td>\n",
       "      <td>Isaac Hayden</td>\n",
       "      <td>2020-2021</td>\n",
       "      <td>40.0</td>\n",
       "    </tr>\n",
       "    <tr>\n",
       "      <th>4</th>\n",
       "      <td>Isaac Hayden</td>\n",
       "      <td>Isaac Hayden</td>\n",
       "      <td>2021-2022</td>\n",
       "      <td>28.0</td>\n",
       "    </tr>\n",
       "    <tr>\n",
       "      <th>5</th>\n",
       "      <td>Isaac Hayden</td>\n",
       "      <td>Isaac Hayden</td>\n",
       "      <td>2023-2024</td>\n",
       "      <td>0.0</td>\n",
       "    </tr>\n",
       "  </tbody>\n",
       "</table>\n",
       "</div>"
      ],
      "text/plain": [
       "     fbref_name      fpl_name     season  sum(total_points)\n",
       "0  Isaac Hayden  Isaac Hayden  2017-2018               41.0\n",
       "1  Isaac Hayden  Isaac Hayden  2018-2019               69.0\n",
       "2  Isaac Hayden  Isaac Hayden  2019-2020               73.0\n",
       "3  Isaac Hayden  Isaac Hayden  2020-2021               40.0\n",
       "4  Isaac Hayden  Isaac Hayden  2021-2022               28.0\n",
       "5  Isaac Hayden  Isaac Hayden  2023-2024                0.0"
      ]
     },
     "metadata": {},
     "output_type": "display_data"
    },
    {
     "data": {
      "text/html": [
       "<div>\n",
       "<style scoped>\n",
       "    .dataframe tbody tr th:only-of-type {\n",
       "        vertical-align: middle;\n",
       "    }\n",
       "\n",
       "    .dataframe tbody tr th {\n",
       "        vertical-align: top;\n",
       "    }\n",
       "\n",
       "    .dataframe thead th {\n",
       "        text-align: right;\n",
       "    }\n",
       "</style>\n",
       "<table border=\"1\" class=\"dataframe\">\n",
       "  <thead>\n",
       "    <tr style=\"text-align: right;\">\n",
       "      <th></th>\n",
       "      <th>fbref_name</th>\n",
       "      <th>fpl_name</th>\n",
       "      <th>season</th>\n",
       "      <th>sum(total_points)</th>\n",
       "    </tr>\n",
       "  </thead>\n",
       "  <tbody>\n",
       "    <tr>\n",
       "      <th>0</th>\n",
       "      <td>NaN</td>\n",
       "      <td>Kaine Hayden</td>\n",
       "      <td>2019-2020</td>\n",
       "      <td>0.0</td>\n",
       "    </tr>\n",
       "    <tr>\n",
       "      <th>1</th>\n",
       "      <td>NaN</td>\n",
       "      <td>Kaine Hayden</td>\n",
       "      <td>2020-2021</td>\n",
       "      <td>0.0</td>\n",
       "    </tr>\n",
       "    <tr>\n",
       "      <th>2</th>\n",
       "      <td>NaN</td>\n",
       "      <td>Kaine Hayden</td>\n",
       "      <td>2021-2022</td>\n",
       "      <td>0.0</td>\n",
       "    </tr>\n",
       "  </tbody>\n",
       "</table>\n",
       "</div>"
      ],
      "text/plain": [
       "  fbref_name      fpl_name     season  sum(total_points)\n",
       "0        NaN  Kaine Hayden  2019-2020                0.0\n",
       "1        NaN  Kaine Hayden  2020-2021                0.0\n",
       "2        NaN  Kaine Hayden  2021-2022                0.0"
      ]
     },
     "metadata": {},
     "output_type": "display_data"
    }
   ],
   "source": [
    "player_name_mapping = pd.read_csv(\"data/preprocess/player_name_mapping.csv\")\n",
    "\n",
    "search_for = \"Kaine Kesler-Hayden\"\n",
    "matched = process.extract(\n",
    "    search_for, player_name_mapping[\"fpl_name\"].tolist(), limit=10, \n",
    ")\n",
    "top_matches = [m for m in matched if m[1] > 60]\n",
    "if not top_matches:\n",
    "    top_matches = matched\n",
    "\n",
    "for fpl_name, score in top_matches:\n",
    "    data = fpl_data.query(f\"full_name == '{fpl_name}'\")\n",
    "    data = pd.merge(player_name_mapping[[\"fbref_name\", \"fpl_name\"]], data, how=\"right\", right_on=\"full_name\", left_on=\"fpl_name\").drop(\"full_name\", axis=1)\n",
    "    display(data)"
   ]
  },
  {
   "cell_type": "code",
   "execution_count": 74,
   "metadata": {},
   "outputs": [
    {
     "data": {
      "text/plain": [
       "[('Diego Costa', 86),\n",
       " ('Kevin De Bruyne', 86),\n",
       " ('David de Gea', 86),\n",
       " ('Marten de Roon', 86),\n",
       " ('Hélder Costa', 86),\n",
       " ('Donny van de Beek', 86),\n",
       " ('Micky van de Ven', 86),\n",
       " ('Ederson', 64),\n",
       " ('Eric Dier', 60),\n",
       " ('Oscar', 60)]"
      ]
     },
     "execution_count": 74,
     "metadata": {},
     "output_type": "execute_result"
    }
   ],
   "source": [
    "matched = process.extract(\n",
    "    search_for, player_name_mapping[\"fbref_name\"].tolist(), limit=10, \n",
    ")\n",
    "matched"
   ]
  },
  {
   "cell_type": "code",
   "execution_count": 75,
   "metadata": {},
   "outputs": [
    {
     "data": {
      "text/html": [
       "<div>\n",
       "<style scoped>\n",
       "    .dataframe tbody tr th:only-of-type {\n",
       "        vertical-align: middle;\n",
       "    }\n",
       "\n",
       "    .dataframe tbody tr th {\n",
       "        vertical-align: top;\n",
       "    }\n",
       "\n",
       "    .dataframe thead th {\n",
       "        text-align: right;\n",
       "    }\n",
       "</style>\n",
       "<table border=\"1\" class=\"dataframe\">\n",
       "  <thead>\n",
       "    <tr style=\"text-align: right;\">\n",
       "      <th></th>\n",
       "      <th>fbref_id</th>\n",
       "      <th>fbref_name</th>\n",
       "      <th>fpl_name</th>\n",
       "      <th>fuzzy_score</th>\n",
       "      <th>total_points</th>\n",
       "      <th>review</th>\n",
       "      <th>duplicated</th>\n",
       "      <th>missing_matchlogs</th>\n",
       "    </tr>\n",
       "  </thead>\n",
       "  <tbody>\n",
       "    <tr>\n",
       "      <th>596</th>\n",
       "      <td>ca2bc3df</td>\n",
       "      <td>José Izquierdo</td>\n",
       "      <td>José Heriberto Izquierdo Mena</td>\n",
       "      <td>100.0</td>\n",
       "      <td>NaN</td>\n",
       "      <td>NaN</td>\n",
       "      <td>NaN</td>\n",
       "      <td>NaN</td>\n",
       "    </tr>\n",
       "  </tbody>\n",
       "</table>\n",
       "</div>"
      ],
      "text/plain": [
       "     fbref_id      fbref_name                       fpl_name  fuzzy_score  \\\n",
       "596  ca2bc3df  José Izquierdo  José Heriberto Izquierdo Mena        100.0   \n",
       "\n",
       "     total_points  review  duplicated  missing_matchlogs  \n",
       "596           NaN     NaN         NaN                NaN  "
      ]
     },
     "execution_count": 75,
     "metadata": {},
     "output_type": "execute_result"
    }
   ],
   "source": [
    "player_name_mapping.query(\"fbref_name == 'José Izquierdo'\")"
   ]
  },
  {
   "cell_type": "code",
   "execution_count": null,
   "metadata": {},
   "outputs": [],
   "source": []
  }
 ],
 "metadata": {
  "kernelspec": {
   "display_name": "fpl",
   "language": "python",
   "name": "python3"
  },
  "language_info": {
   "codemirror_mode": {
    "name": "ipython",
    "version": 3
   },
   "file_extension": ".py",
   "mimetype": "text/x-python",
   "name": "python",
   "nbconvert_exporter": "python",
   "pygments_lexer": "ipython3",
   "version": "3.10.13"
  }
 },
 "nbformat": 4,
 "nbformat_minor": 2
}
