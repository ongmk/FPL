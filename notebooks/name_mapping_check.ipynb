{
 "cells": [
  {
   "cell_type": "code",
   "execution_count": 1,
   "metadata": {},
   "outputs": [],
   "source": [
    "import os\n",
    "import sys\n",
    "from pathlib import Path\n",
    "if Path(os.getcwd()).name == \"notebooks\":\n",
    "    os.chdir(\"../\")\n",
    "    print(f\"Working dir changed to {os.getcwd()}\")\n",
    "sys.path.append(\"src\")"
   ]
  },
  {
   "cell_type": "code",
   "execution_count": 2,
   "metadata": {},
   "outputs": [],
   "source": [
    "import sqlite3\n",
    "import yaml\n",
    "import pandas as pd\n",
    "import re\n",
    "from thefuzz import process"
   ]
  },
  {
   "cell_type": "code",
   "execution_count": 3,
   "metadata": {},
   "outputs": [],
   "source": [
    "def load_yaml_as_dict(yaml_file):\n",
    "    with open(yaml_file) as stream:\n",
    "        return yaml.safe_load(stream)\n",
    "data_params = load_yaml_as_dict(\"conf/base/parameters/data.yml\")\n",
    "model_params = load_yaml_as_dict(\"conf/base/parameters/model.yml\")"
   ]
  },
  {
   "cell_type": "code",
   "execution_count": 4,
   "metadata": {},
   "outputs": [],
   "source": [
    "def select_relevant_rows(processed_data):\n",
    "    ma_cols = processed_data.filter(regex=r\"\\w+_ma\\d+\").columns\n",
    "    ma_cols = set([re.sub(r\"_ma\\d+\", \"\", col) for col in ma_cols])\n",
    "    excluded = [\n",
    "        \"value\",\n",
    "        \"att_total\",\n",
    "        \"home_att_total\",\n",
    "        \"away_att_total\",\n",
    "        \"def_total\",\n",
    "        \"home_def_total\",\n",
    "        \"away_def_total\",\n",
    "        \"fpl_points\",\n",
    "    ]\n",
    "    ma_cols = [col for col in ma_cols if col not in excluded]\n",
    "    non_features = [\"cached\", \"start\", \"match_points\", \"league_points\"]\n",
    "    non_features += processed_data.filter(regex=\"_elo$\").columns.tolist()\n",
    "    non_features += processed_data.filter(regex=\"_opp$\").columns.tolist()\n",
    "    to_drop = [col for col in ma_cols + non_features if col in processed_data.columns]\n",
    "    processed_data = processed_data.drop(to_drop, axis=1)\n",
    "    return processed_data"
   ]
  },
  {
   "cell_type": "code",
   "execution_count": 14,
   "metadata": {},
   "outputs": [],
   "source": [
    "conn = sqlite3.connect(\"data/fpl.db\")\n",
    "\n",
    "fpl_data = pd.read_sql(f\"select full_name, season, sum(total_points) from raw_fpl_data group by full_name, season\", conn)\n",
    "\n",
    "conn.close()"
   ]
  },
  {
   "cell_type": "code",
   "execution_count": 9,
   "metadata": {},
   "outputs": [],
   "source": [
    "player_name_mapping = pd.read_csv(\"data/preprocess/player_mapping/player_name_mapping.csv\")"
   ]
  },
  {
   "cell_type": "code",
   "execution_count": 46,
   "metadata": {},
   "outputs": [
    {
     "data": {
      "text/html": [
       "<div>\n",
       "<style scoped>\n",
       "    .dataframe tbody tr th:only-of-type {\n",
       "        vertical-align: middle;\n",
       "    }\n",
       "\n",
       "    .dataframe tbody tr th {\n",
       "        vertical-align: top;\n",
       "    }\n",
       "\n",
       "    .dataframe thead th {\n",
       "        text-align: right;\n",
       "    }\n",
       "</style>\n",
       "<table border=\"1\" class=\"dataframe\">\n",
       "  <thead>\n",
       "    <tr style=\"text-align: right;\">\n",
       "      <th></th>\n",
       "      <th>fbref_name</th>\n",
       "      <th>fpl_name</th>\n",
       "      <th>season</th>\n",
       "      <th>sum(total_points)</th>\n",
       "    </tr>\n",
       "  </thead>\n",
       "  <tbody>\n",
       "    <tr>\n",
       "      <th>0</th>\n",
       "      <td>NaN</td>\n",
       "      <td>Carlton Morris</td>\n",
       "      <td>2023-2024</td>\n",
       "      <td>140.0</td>\n",
       "    </tr>\n",
       "  </tbody>\n",
       "</table>\n",
       "</div>"
      ],
      "text/plain": [
       "  fbref_name        fpl_name     season  sum(total_points)\n",
       "0        NaN  Carlton Morris  2023-2024              140.0"
      ]
     },
     "metadata": {},
     "output_type": "display_data"
    },
    {
     "data": {
      "text/html": [
       "<div>\n",
       "<style scoped>\n",
       "    .dataframe tbody tr th:only-of-type {\n",
       "        vertical-align: middle;\n",
       "    }\n",
       "\n",
       "    .dataframe tbody tr th {\n",
       "        vertical-align: top;\n",
       "    }\n",
       "\n",
       "    .dataframe thead th {\n",
       "        text-align: right;\n",
       "    }\n",
       "</style>\n",
       "<table border=\"1\" class=\"dataframe\">\n",
       "  <thead>\n",
       "    <tr style=\"text-align: right;\">\n",
       "      <th></th>\n",
       "      <th>fbref_name</th>\n",
       "      <th>fpl_name</th>\n",
       "      <th>season</th>\n",
       "      <th>sum(total_points)</th>\n",
       "    </tr>\n",
       "  </thead>\n",
       "  <tbody>\n",
       "    <tr>\n",
       "      <th>0</th>\n",
       "      <td>Carlos Vinícius</td>\n",
       "      <td>Carlos Vinícius Alves Morais</td>\n",
       "      <td>2022-2023</td>\n",
       "      <td>72.0</td>\n",
       "    </tr>\n",
       "    <tr>\n",
       "      <th>1</th>\n",
       "      <td>Carlos Vinícius</td>\n",
       "      <td>Carlos Vinícius Alves Morais</td>\n",
       "      <td>2023-2024</td>\n",
       "      <td>22.0</td>\n",
       "    </tr>\n",
       "  </tbody>\n",
       "</table>\n",
       "</div>"
      ],
      "text/plain": [
       "        fbref_name                      fpl_name     season  sum(total_points)\n",
       "0  Carlos Vinícius  Carlos Vinícius Alves Morais  2022-2023               72.0\n",
       "1  Carlos Vinícius  Carlos Vinícius Alves Morais  2023-2024               22.0"
      ]
     },
     "metadata": {},
     "output_type": "display_data"
    },
    {
     "data": {
      "text/html": [
       "<div>\n",
       "<style scoped>\n",
       "    .dataframe tbody tr th:only-of-type {\n",
       "        vertical-align: middle;\n",
       "    }\n",
       "\n",
       "    .dataframe tbody tr th {\n",
       "        vertical-align: top;\n",
       "    }\n",
       "\n",
       "    .dataframe thead th {\n",
       "        text-align: right;\n",
       "    }\n",
       "</style>\n",
       "<table border=\"1\" class=\"dataframe\">\n",
       "  <thead>\n",
       "    <tr style=\"text-align: right;\">\n",
       "      <th></th>\n",
       "      <th>fbref_name</th>\n",
       "      <th>fpl_name</th>\n",
       "      <th>season</th>\n",
       "      <th>sum(total_points)</th>\n",
       "    </tr>\n",
       "  </thead>\n",
       "  <tbody>\n",
       "    <tr>\n",
       "      <th>0</th>\n",
       "      <td>NaN</td>\n",
       "      <td>Carlos Vinicius Alves Morais</td>\n",
       "      <td>2020-2021</td>\n",
       "      <td>13.0</td>\n",
       "    </tr>\n",
       "  </tbody>\n",
       "</table>\n",
       "</div>"
      ],
      "text/plain": [
       "  fbref_name                      fpl_name     season  sum(total_points)\n",
       "0        NaN  Carlos Vinicius Alves Morais  2020-2021               13.0"
      ]
     },
     "metadata": {},
     "output_type": "display_data"
    }
   ],
   "source": [
    "search_for = \"Carlton Morris\"\n",
    "matched = process.extract(\n",
    "    search_for, player_name_mapping[\"fpl_name\"].tolist(), limit=10, \n",
    ")\n",
    "top_matches = [m for m in matched if m[1] > 60]\n",
    "if not top_matches:\n",
    "    top_matches = matched\n",
    "\n",
    "for fpl_name, score in top_matches[:3]:\n",
    "    data = fpl_data.query(f\"full_name == '{fpl_name}'\")\n",
    "    data = pd.merge(player_name_mapping[[\"fbref_name\", \"fpl_name\"]], data, how=\"right\", right_on=\"full_name\", left_on=\"fpl_name\").drop(\"full_name\", axis=1)\n",
    "    display(data)"
   ]
  },
  {
   "cell_type": "code",
   "execution_count": 48,
   "metadata": {},
   "outputs": [
    {
     "data": {
      "text/plain": [
       "[('Oscar', 68),\n",
       " ('Sean Morrison', 67),\n",
       " ('Ravel Morrison', 64),\n",
       " ('Rodri', 60),\n",
       " ('Antony', 60),\n",
       " ('Cafú', 60),\n",
       " ('Aaron Mooy', 58),\n",
       " ('Ramiro Funes Mori', 58),\n",
       " ('Alberto Moreno', 57),\n",
       " ('James Morrison', 57)]"
      ]
     },
     "execution_count": 48,
     "metadata": {},
     "output_type": "execute_result"
    }
   ],
   "source": [
    "matched = process.extract(\n",
    "    \"carlton morris\", player_name_mapping[\"fbref_name\"].tolist(), limit=10, \n",
    ")\n",
    "matched"
   ]
  }
 ],
 "metadata": {
  "kernelspec": {
   "display_name": "fpl",
   "language": "python",
   "name": "python3"
  },
  "language_info": {
   "codemirror_mode": {
    "name": "ipython",
    "version": 3
   },
   "file_extension": ".py",
   "mimetype": "text/x-python",
   "name": "python",
   "nbconvert_exporter": "python",
   "pygments_lexer": "ipython3",
   "version": "3.10.13"
  }
 },
 "nbformat": 4,
 "nbformat_minor": 2
}
