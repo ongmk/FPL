{
 "cells": [
  {
   "cell_type": "code",
   "execution_count": 3,
   "metadata": {},
   "outputs": [],
   "source": [
    "import os\n",
    "import sys\n",
    "from pathlib import Path\n",
    "if Path(os.getcwd()).name == \"notebooks\":\n",
    "    os.chdir(\"../\")\n",
    "    print(f\"Working dir changed to {os.getcwd()}\")\n",
    "sys.path.append(\"src\")"
   ]
  },
  {
   "cell_type": "code",
   "execution_count": 60,
   "metadata": {},
   "outputs": [],
   "source": [
    "import sqlite3\n",
    "import yaml\n",
    "import pandas as pd\n",
    "import re\n",
    "from thefuzz import process"
   ]
  },
  {
   "cell_type": "code",
   "execution_count": 8,
   "metadata": {},
   "outputs": [],
   "source": [
    "def load_yaml_as_dict(yaml_file):\n",
    "    with open(yaml_file) as stream:\n",
    "        return yaml.safe_load(stream)\n",
    "data_params = load_yaml_as_dict(\"conf/base/parameters/data.yml\")\n",
    "model_params = load_yaml_as_dict(\"conf/base/parameters/model.yml\")"
   ]
  },
  {
   "cell_type": "code",
   "execution_count": 15,
   "metadata": {},
   "outputs": [],
   "source": [
    "def select_relevant_rows(processed_data):\n",
    "    ma_cols = processed_data.filter(regex=r\"\\w+_ma\\d+\").columns\n",
    "    ma_cols = set([re.sub(r\"_ma\\d+\", \"\", col) for col in ma_cols])\n",
    "    excluded = [\n",
    "        \"value\",\n",
    "        \"att_total\",\n",
    "        \"home_att_total\",\n",
    "        \"away_att_total\",\n",
    "        \"def_total\",\n",
    "        \"home_def_total\",\n",
    "        \"away_def_total\",\n",
    "        \"fpl_points\",\n",
    "    ]\n",
    "    ma_cols = [col for col in ma_cols if col not in excluded]\n",
    "    non_features = [\"cached\", \"start\", \"match_points\", \"league_points\"]\n",
    "    non_features += processed_data.filter(regex=\"_elo$\").columns.tolist()\n",
    "    non_features += processed_data.filter(regex=\"_opp$\").columns.tolist()\n",
    "    to_drop = [col for col in ma_cols + non_features if col in processed_data.columns]\n",
    "    processed_data = processed_data.drop(to_drop, axis=1)\n",
    "    return processed_data"
   ]
  },
  {
   "cell_type": "code",
   "execution_count": 62,
   "metadata": {},
   "outputs": [],
   "source": [
    "conn = sqlite3.connect(\"data/fpl.db\")\n",
    "\n",
    "intermediate_data = pd.read_sql(f\"select * from intermediate_data\", conn)\n",
    "intermediate_data = select_relevant_rows(intermediate_data)\n",
    "\n",
    "conn.close()"
   ]
  },
  {
   "cell_type": "code",
   "execution_count": 53,
   "metadata": {},
   "outputs": [
    {
     "data": {
      "text/html": [
       "<div>\n",
       "<style scoped>\n",
       "    .dataframe tbody tr th:only-of-type {\n",
       "        vertical-align: middle;\n",
       "    }\n",
       "\n",
       "    .dataframe tbody tr th {\n",
       "        vertical-align: top;\n",
       "    }\n",
       "\n",
       "    .dataframe thead th {\n",
       "        text-align: right;\n",
       "    }\n",
       "</style>\n",
       "<table border=\"1\" class=\"dataframe\">\n",
       "  <thead>\n",
       "    <tr style=\"text-align: right;\">\n",
       "      <th></th>\n",
       "      <th>fpl_points</th>\n",
       "    </tr>\n",
       "    <tr>\n",
       "      <th>fpl_name</th>\n",
       "      <th></th>\n",
       "    </tr>\n",
       "  </thead>\n",
       "  <tbody>\n",
       "    <tr>\n",
       "      <th>Rúben Diogo da Silva Neves</th>\n",
       "      <td>199.0</td>\n",
       "    </tr>\n",
       "    <tr>\n",
       "      <th>Thiago Thiago</th>\n",
       "      <td>92.0</td>\n",
       "    </tr>\n",
       "    <tr>\n",
       "      <th>Ricardo Domingos Barbosa Pereira</th>\n",
       "      <td>62.0</td>\n",
       "    </tr>\n",
       "    <tr>\n",
       "      <th>Bamidele Alli</th>\n",
       "      <td>35.0</td>\n",
       "    </tr>\n",
       "    <tr>\n",
       "      <th>Fabio Carvalho</th>\n",
       "      <td>12.0</td>\n",
       "    </tr>\n",
       "    <tr>\n",
       "      <th>Rúben Gonçalo Silva Nascimento Vinagre</th>\n",
       "      <td>1.0</td>\n",
       "    </tr>\n",
       "    <tr>\n",
       "      <th>Marcus Bettinelli</th>\n",
       "      <td>-1.0</td>\n",
       "    </tr>\n",
       "    <tr>\n",
       "      <th>Marek Rodák</th>\n",
       "      <td>-1.0</td>\n",
       "    </tr>\n",
       "    <tr>\n",
       "      <th>Nohan Kenneh</th>\n",
       "      <td>-1.0</td>\n",
       "    </tr>\n",
       "  </tbody>\n",
       "</table>\n",
       "</div>"
      ],
      "text/plain": [
       "                                        fpl_points\n",
       "fpl_name                                          \n",
       "Rúben Diogo da Silva Neves                   199.0\n",
       "Thiago Thiago                                 92.0\n",
       "Ricardo Domingos Barbosa Pereira              62.0\n",
       "Bamidele Alli                                 35.0\n",
       "Fabio Carvalho                                12.0\n",
       "Rúben Gonçalo Silva Nascimento Vinagre         1.0\n",
       "Marcus Bettinelli                             -1.0\n",
       "Marek Rodák                                   -1.0\n",
       "Nohan Kenneh                                  -1.0"
      ]
     },
     "execution_count": 53,
     "metadata": {},
     "output_type": "execute_result"
    }
   ],
   "source": [
    "highest_points_without_match_log = (\n",
    "    intermediate_data[\n",
    "        intermediate_data[\"player\"].isna() & intermediate_data[\"fpl_points\"] != 0\n",
    "    ]\n",
    "    .groupby(\"fpl_name\")[[\"fpl_points\"]]\n",
    "    .sum()\n",
    "    .sort_values(\"fpl_points\", ascending=False)\n",
    ")\n",
    "highest_points_without_match_log"
   ]
  },
  {
   "cell_type": "code",
   "execution_count": 85,
   "metadata": {},
   "outputs": [
    {
     "data": {
      "text/html": [
       "<div>\n",
       "<style scoped>\n",
       "    .dataframe tbody tr th:only-of-type {\n",
       "        vertical-align: middle;\n",
       "    }\n",
       "\n",
       "    .dataframe tbody tr th {\n",
       "        vertical-align: top;\n",
       "    }\n",
       "\n",
       "    .dataframe thead th {\n",
       "        text-align: right;\n",
       "    }\n",
       "</style>\n",
       "<table border=\"1\" class=\"dataframe\">\n",
       "  <thead>\n",
       "    <tr style=\"text-align: right;\">\n",
       "      <th></th>\n",
       "      <th>fbref_name</th>\n",
       "      <th>fpl_name</th>\n",
       "      <th>fuzzy_score</th>\n",
       "      <th>total_points</th>\n",
       "      <th>review</th>\n",
       "      <th>duplicated</th>\n",
       "    </tr>\n",
       "  </thead>\n",
       "  <tbody>\n",
       "  </tbody>\n",
       "</table>\n",
       "</div>"
      ],
      "text/plain": [
       "Empty DataFrame\n",
       "Columns: [fbref_name, fpl_name, fuzzy_score, total_points, review, duplicated]\n",
       "Index: []"
      ]
     },
     "execution_count": 85,
     "metadata": {},
     "output_type": "execute_result"
    }
   ],
   "source": [
    "player_name_mapping = pd.read_csv(\"data/preprocess/player_mapping/player_name_mapping.csv\")\n",
    "search_for = \"Allan Nyom\"\n",
    "player_name_mapping[player_name_mapping[\"fpl_name\"] == search_for]"
   ]
  },
  {
   "cell_type": "code",
   "execution_count": 87,
   "metadata": {},
   "outputs": [
    {
     "name": "stdout",
     "output_type": "stream",
     "text": [
      "[('Allan Marques Loureiro', 86), ('Allan Marques Loureiro', 86), ('Allan Saint-Maximin', 86), ('Allan Tchaptchet', 86), ('Allan-Roméo Nyom', 86), ('Thomas Allan', 69), ('Allan Campbell', 63), ('Allan McGregor', 63)]\n"
     ]
    }
   ],
   "source": [
    "matched = process.extract(\n",
    "    search_for, player_name_mapping[\"fpl_name\"].tolist(), limit=10, \n",
    ")\n",
    "matched = [m for m in matched if m[1] > 60]\n",
    "if matched:\n",
    "    print(matched)"
   ]
  },
  {
   "cell_type": "code",
   "execution_count": 81,
   "metadata": {},
   "outputs": [
    {
     "data": {
      "text/html": [
       "<div>\n",
       "<style scoped>\n",
       "    .dataframe tbody tr th:only-of-type {\n",
       "        vertical-align: middle;\n",
       "    }\n",
       "\n",
       "    .dataframe tbody tr th {\n",
       "        vertical-align: top;\n",
       "    }\n",
       "\n",
       "    .dataframe thead th {\n",
       "        text-align: right;\n",
       "    }\n",
       "</style>\n",
       "<table border=\"1\" class=\"dataframe\">\n",
       "  <thead>\n",
       "    <tr style=\"text-align: right;\">\n",
       "      <th></th>\n",
       "      <th>season</th>\n",
       "      <th>fbref_name</th>\n",
       "      <th>fpl_name</th>\n",
       "      <th>fuzzy_score</th>\n",
       "      <th>total_points</th>\n",
       "      <th>review</th>\n",
       "      <th>duplicated</th>\n",
       "    </tr>\n",
       "  </thead>\n",
       "  <tbody>\n",
       "    <tr>\n",
       "      <th>4346</th>\n",
       "      <td>2016-2017</td>\n",
       "      <td>NaN</td>\n",
       "      <td>Matthew James</td>\n",
       "      <td>NaN</td>\n",
       "      <td>1.0</td>\n",
       "      <td>True</td>\n",
       "      <td>NaN</td>\n",
       "    </tr>\n",
       "  </tbody>\n",
       "</table>\n",
       "</div>"
      ],
      "text/plain": [
       "         season fbref_name       fpl_name  fuzzy_score  total_points review  \\\n",
       "4346  2016-2017        NaN  Matthew James          NaN           1.0   True   \n",
       "\n",
       "     duplicated  \n",
       "4346        NaN  "
      ]
     },
     "execution_count": 81,
     "metadata": {},
     "output_type": "execute_result"
    }
   ],
   "source": [
    "player_name_mapping.query(\"fpl_name == 'Matthew James'\")"
   ]
  }
 ],
 "metadata": {
  "kernelspec": {
   "display_name": "fpl",
   "language": "python",
   "name": "python3"
  },
  "language_info": {
   "codemirror_mode": {
    "name": "ipython",
    "version": 3
   },
   "file_extension": ".py",
   "mimetype": "text/x-python",
   "name": "python",
   "nbconvert_exporter": "python",
   "pygments_lexer": "ipython3",
   "version": "3.10.13"
  }
 },
 "nbformat": 4,
 "nbformat_minor": 2
}
