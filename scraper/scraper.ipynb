{
 "cells": [
  {
   "cell_type": "code",
   "execution_count": 1,
   "metadata": {},
   "outputs": [],
   "source": [
    "import sqlite3\n",
    "from pprint import pprint\n",
    "import time\n",
    "import warnings\n",
    "warnings.simplefilter(action='ignore', category=FutureWarning)\n",
    "import pandas as pd\n",
    "import logging\n",
    "from tqdm.notebook import tqdm\n",
    "from lxml import etree\n",
    "from io import StringIO\n",
    "from urllib.parse import urljoin\n",
    "\n",
    "\n",
    "from selenium import webdriver\n",
    "from selenium.webdriver.common.by import By\n",
    "from selenium.webdriver.support.ui import WebDriverWait\n",
    "from selenium.webdriver.support import expected_conditions as ec\n",
    "from selenium.common.exceptions import TimeoutException"
   ]
  },
  {
   "cell_type": "code",
   "execution_count": 13,
   "metadata": {},
   "outputs": [],
   "source": [
    "class FBRefDriver():\n",
    "    \"\"\"Custom web driver for FBRef.com\"\"\"\n",
    "\n",
    "    def __init__(self):\n",
    "        chrome_options = webdriver.ChromeOptions()\n",
    "        chrome_options.add_argument('--blink-settings=imagesEnabled=false')\n",
    "\n",
    "        self.driver = webdriver.Chrome(options=chrome_options)\n",
    "        self.base_url = \"https://fbref.com\"\n",
    "        self.last_visit = 0\n",
    "\n",
    "    def absolute_url(self, relative_url):\n",
    "        return urljoin(self.base_url, relative_url)\n",
    "        \n",
    "    def __enter__(self): return self\n",
    "\n",
    "    def __exit__(self, exc_type, exc_value, exc_traceback): self.driver.close()\n",
    "\n",
    "    def get(self, url):\n",
    "        # One request every three seconds\n",
    "        delay = 3\n",
    "        time_since_last_visit = time.time() - self.last_visit\n",
    "        if time_since_last_visit <= delay:\n",
    "            logging.info(f\"sleep for {delay-time_since_last_visit}\")\n",
    "            time.sleep(delay-time_since_last_visit)\n",
    "        self.last_visit = time.time()\n",
    "\n",
    "        res = self.driver.get(url)\n",
    "        return res\n",
    "\n",
    "    def get_tree_by_id(self, id):\n",
    "        for attempt in range(3):\n",
    "            try:\n",
    "                element = WebDriverWait(self.driver, timeout=30).until(\n",
    "                    ec.presence_of_element_located((By.ID, id))\n",
    "                )\n",
    "                parser = etree.HTMLParser()\n",
    "                tree = etree.parse(StringIO(element.get_attribute('innerHTML')), parser)\n",
    "                return tree\n",
    "            except TimeoutException as e:\n",
    "                logging.warning(\"Webdriver Timeout. Retrying...\")\n",
    "                self.driver.refresh()\n",
    "                continue\n",
    "        raise Exception(\"Failed 3 retries!\")\n",
    "\n",
    "    def get_table_text(self, cell):\n",
    "        if list(cell) == []:\n",
    "            return cell.text\n",
    "        else:\n",
    "            if cell.xpath(\"./a\") != []:\n",
    "                return cell.xpath(\"./a\")[0].text\n",
    "            if cell.xpath('./span[@class=\"venuetime\"]') != []:\n",
    "                return cell.xpath('./span[@class=\"venuetime\"]')[0].text\n",
    "            if cell.xpath('./small') != []:\n",
    "                return cell.text\n",
    "            return cell.text\n",
    "        \n",
    "        \n",
    "    def get_table_df_by_id(self, id):\n",
    "        tree = self.get_tree_by_id(id)\n",
    "\n",
    "        columns = tree.xpath('*/thead/tr[not (@class)]/th')\n",
    "        columns = [c.text for c in columns]\n",
    "        rows = tree.xpath('*/tbody/tr[not (@class)]')\n",
    "        content = []\n",
    "        for tr in rows:\n",
    "            td = tr.xpath(\".//*[self::th or self::td]\")\n",
    "            # get last child element's text\n",
    "            td = [self.get_table_text(d) for d in td] \n",
    "            content.append(td)\n",
    "        return pd.DataFrame(content, columns=columns)\n",
    "\n",
    "\n",
    "    def get_team_season_links(self, season):\n",
    "        relative_url = f\"/en/comps/9/{season}/{season}-Premier-League-Stats\"\n",
    "        url = self.absolute_url(relative_url)\n",
    "        logging.info(f\"Crawling Season Result:\\t{season}\\t{url}\")\n",
    "        self.get(url)\n",
    "        tree = self.get_tree_by_id(f'results{season}91_overall')\n",
    "        links = tree.xpath('*/tbody/tr/td[1]/a')\n",
    "        return [(l.text, self.absolute_url(l.get(\"href\"))) for l in links]\n",
    "\n",
    "\n",
    "    def get_player_season_links(self, season):\n",
    "        relative_url = f\"/en/comps/9/{season}/stats/{season}-Premier-League-Stats\"\n",
    "        url = self.absolute_url(relative_url)\n",
    "        logging.info(f\"Crawling Season Result:\\t{season}\\t{url}\")\n",
    "        self.get(url)\n",
    "        tree = self.get_tree_by_id(f'stats_standard')\n",
    "        rows = tree.xpath('*/tbody/tr[not(@class)]')\n",
    "        player_season_links = []\n",
    "        for r in rows:\n",
    "            player = r.xpath('./td[1]/a')[0].text\n",
    "            pos = r.xpath('./td[3]')[0].text\n",
    "            relative_url = r.xpath('./td[last()]/a')[0].get(\"href\")\n",
    "            \n",
    "            if pos == 'GK':\n",
    "                relative_url = relative_url.replace(\"summary\", \"keeper\")\n",
    "            player_season_links.append((player, pos, self.absolute_url(relative_url)))\n",
    "        return player_season_links\n",
    "\n",
    "    def get_team_match_log(self, season, team, link):\n",
    "        logging.info(f\"Crawling Match Log:\\t{season} {team}\\t{link}\")\n",
    "        self.get(link)\n",
    "        match_log_df = self.get_table_df_by_id('matchlogs_for')\n",
    "\n",
    "        match_log_df = match_log_df.drop(['Attendance', 'Captain', 'Formation', 'Referee', 'Match Report', 'Notes'], axis=1)\n",
    "        match_log_df[['GF', 'GA']] = match_log_df[['GF', 'GA']].stack().str.replace(\" \\(\\d+\\)\", \"\").unstack()\n",
    "        numeric_columns = [c for c in match_log_df.columns if c in ['GF', 'GA', 'xG', 'xGA', 'Poss']]\n",
    "        match_log_df[numeric_columns] = match_log_df[numeric_columns].apply(pd.to_numeric)\n",
    "        match_log_df[\"Season\"] = season\n",
    "        match_log_df[\"Team\"] = team\n",
    "        match_log_df[\"Link\"] = link\n",
    "        \n",
    "        return match_log_df\n",
    "\n",
    "    def get_player_match_log(self, season, player, pos, link):\n",
    "        logging.info(f\"Crawling Match Log:\\t{season} {player}\\t{link}\")\n",
    "        self.get(link)\n",
    "        match_log_df = self.get_table_df_by_id('matchlogs_all')\n",
    "\n",
    "        useless_cols = [c for c in match_log_df.columns if c in [\n",
    "            \"CrdY\", \"CrdR\", \"Press\", \"Tkl\", \"Int\", \"Blocks\", \"Cmp\", \"Att\", \"Cmp%\",\n",
    "            \"Prog\", \"Carries\", \"Prog\", \"Succ\", \"Att\", \"Match Report\", \"PKA\", \n",
    "            \"PKsv\", \"PKm\", \"Att\", \"Thr\", \"Launch%\", \"AvgLen\", \"Launch%\", \"AvgLen\", \n",
    "            \"Opp\", \"Stp\", \"Stp%\", \"#OPA\", \"AvgDist\", \"Fls\", \"Fld\", \"Off\", \"Crs\",\n",
    "            \"TklW\", \"OG\", \"PKwon\", \"PKcon\"\n",
    "            ]]\n",
    "        match_log_df = match_log_df.drop(useless_cols, axis=1)\n",
    "        numeric_columns = [c for c in match_log_df.columns if c in [\n",
    "            'Min', 'Gls', 'Ast', 'Pk', \"PKatt\", \"Sh\", \"SoT\", \"Touches\", \"xG\", \n",
    "            \"npxG\", \"xA\", \"SCA\", \"GCA\", \"SoTA\", \"GA\", \"Saves\", \"Save%\", \"CS\",\n",
    "            \"PSxG\"]]\n",
    "        match_log_df[numeric_columns] = match_log_df[numeric_columns].apply(pd.to_numeric)\n",
    "        match_log_df[\"Start\"] = match_log_df[\"Start\"].str.contains('Y').mul(1)\n",
    "        match_log_df[\"Pos\"] = match_log_df[\"Pos\"].fillna(pos)\n",
    "        match_log_df = match_log_df.rename(columns={\"Save%\":\"SavePCT\"})\n",
    "\n",
    "        match_log_df[\"Season\"] = season\n",
    "        match_log_df[\"Player\"] = player\n",
    "        match_log_df[\"Link\"] = link\n",
    "        \n",
    "        return match_log_df\n",
    "\n",
    "\n",
    "logging.basicConfig(\n",
    "    handlers=[logging.FileHandler('scraper.log', 'a', 'utf-8')],\n",
    "    format='%(asctime)s - %(levelname)s - %(message)s',\n",
    "    level=logging.INFO\n",
    ")\n"
   ]
  },
  {
   "cell_type": "markdown",
   "metadata": {},
   "source": [
    "## Crawl Team Match Logs"
   ]
  },
  {
   "cell_type": "code",
   "execution_count": 15,
   "metadata": {},
   "outputs": [
    {
     "data": {
      "application/vnd.jupyter.widget-view+json": {
       "model_id": "6dd4f4c9b8764b68a5073670e3ec44b7",
       "version_major": 2,
       "version_minor": 0
      },
      "text/plain": [
       "Seasons crawled:   0%|          | 0/10 [00:00<?, ?it/s]"
      ]
     },
     "metadata": {},
     "output_type": "display_data"
    },
    {
     "data": {
      "application/vnd.jupyter.widget-view+json": {
       "model_id": "9eb9e314930d425d89fc2b51785615c7",
       "version_major": 2,
       "version_minor": 0
      },
      "text/plain": [
       "Teams crawled:   0%|          | 0/20 [00:00<?, ?it/s]"
      ]
     },
     "metadata": {},
     "output_type": "display_data"
    },
    {
     "data": {
      "application/vnd.jupyter.widget-view+json": {
       "model_id": "c62daf7a2de648ceab661162d48bc172",
       "version_major": 2,
       "version_minor": 0
      },
      "text/plain": [
       "Teams crawled:   0%|          | 0/20 [00:00<?, ?it/s]"
      ]
     },
     "metadata": {},
     "output_type": "display_data"
    },
    {
     "data": {
      "application/vnd.jupyter.widget-view+json": {
       "model_id": "ea6de8e264f54c56b84c9be2b0391320",
       "version_major": 2,
       "version_minor": 0
      },
      "text/plain": [
       "Teams crawled:   0%|          | 0/20 [00:00<?, ?it/s]"
      ]
     },
     "metadata": {},
     "output_type": "display_data"
    },
    {
     "data": {
      "application/vnd.jupyter.widget-view+json": {
       "model_id": "f16faf3a4aa34f2b94dec32355090669",
       "version_major": 2,
       "version_minor": 0
      },
      "text/plain": [
       "Teams crawled:   0%|          | 0/20 [00:00<?, ?it/s]"
      ]
     },
     "metadata": {},
     "output_type": "display_data"
    },
    {
     "data": {
      "application/vnd.jupyter.widget-view+json": {
       "model_id": "cd8d11e1f881400ab89795822ff13742",
       "version_major": 2,
       "version_minor": 0
      },
      "text/plain": [
       "Teams crawled:   0%|          | 0/20 [00:00<?, ?it/s]"
      ]
     },
     "metadata": {},
     "output_type": "display_data"
    },
    {
     "data": {
      "application/vnd.jupyter.widget-view+json": {
       "model_id": "4644415e2cd74ce88ce6623b65787a2f",
       "version_major": 2,
       "version_minor": 0
      },
      "text/plain": [
       "Teams crawled:   0%|          | 0/20 [00:00<?, ?it/s]"
      ]
     },
     "metadata": {},
     "output_type": "display_data"
    },
    {
     "data": {
      "application/vnd.jupyter.widget-view+json": {
       "model_id": "90095c28b75e44059b3d01a9987b9aec",
       "version_major": 2,
       "version_minor": 0
      },
      "text/plain": [
       "Teams crawled:   0%|          | 0/20 [00:00<?, ?it/s]"
      ]
     },
     "metadata": {},
     "output_type": "display_data"
    },
    {
     "data": {
      "application/vnd.jupyter.widget-view+json": {
       "model_id": "0c6662ec826a433cae865255c047e194",
       "version_major": 2,
       "version_minor": 0
      },
      "text/plain": [
       "Teams crawled:   0%|          | 0/20 [00:00<?, ?it/s]"
      ]
     },
     "metadata": {},
     "output_type": "display_data"
    },
    {
     "data": {
      "application/vnd.jupyter.widget-view+json": {
       "model_id": "a7fd925e255f4a2d97fa1d781a4e3b5c",
       "version_major": 2,
       "version_minor": 0
      },
      "text/plain": [
       "Teams crawled:   0%|          | 0/20 [00:00<?, ?it/s]"
      ]
     },
     "metadata": {},
     "output_type": "display_data"
    },
    {
     "data": {
      "application/vnd.jupyter.widget-view+json": {
       "model_id": "8d6507d7902849279a803c729368be5d",
       "version_major": 2,
       "version_minor": 0
      },
      "text/plain": [
       "Teams crawled:   0%|          | 0/20 [00:00<?, ?it/s]"
      ]
     },
     "metadata": {},
     "output_type": "display_data"
    }
   ],
   "source": [
    "seasons = [2021-i for i in range(10)]\n",
    "seasons = [f'{s}-{s+1}' for s in seasons]\n",
    "\n",
    "logging.info(f\"Initializing SQLite connection...\")\n",
    "conn = sqlite3.connect('fpl.db')\n",
    "\n",
    "logging.info(f\"Initializing Chrome Webdriver...\")\n",
    "with FBRefDriver() as d:\n",
    "    crawled_df = pd.read_sql('select distinct TEAM, SEASON from TEAM_MATCH_LOG', conn)\n",
    "\n",
    "    for s in tqdm(seasons, desc=\"Seasons crawled\"):\n",
    "        team_season_links = d.get_team_season_links(s)\n",
    "\n",
    "        for team, link in tqdm(team_season_links, leave=False, desc=\"Teams crawled\"):\n",
    "            if not crawled_df.loc[(crawled_df[\"SEASON\"] == s) & (crawled_df[\"TEAM\"] == team)].empty:\n",
    "                logging.warning(f\"{s} {team}\\tMatch Log already crawled.\\t{link}\")\n",
    "                continue\n",
    "            \n",
    "            match_log_df = d.get_team_match_log(s, team, link)\n",
    "            \n",
    "            logging.info(f\"Saving Match Log:\\t{s} {team}\")\n",
    "            match_log_df.to_sql('TEAM_MATCH_LOG', conn, if_exists='append', index=False)\n",
    "    "
   ]
  },
  {
   "cell_type": "markdown",
   "metadata": {},
   "source": [
    "## Crawl Player Match Logs"
   ]
  },
  {
   "cell_type": "code",
   "execution_count": 21,
   "metadata": {},
   "outputs": [
    {
     "data": {
      "application/vnd.jupyter.widget-view+json": {
       "model_id": "ac808e9630464fedac564e48684c131a",
       "version_major": 2,
       "version_minor": 0
      },
      "text/plain": [
       "Seasons crawled:   0%|          | 0/10 [00:00<?, ?it/s]"
      ]
     },
     "metadata": {},
     "output_type": "display_data"
    },
    {
     "data": {
      "application/vnd.jupyter.widget-view+json": {
       "model_id": "3d9a6d7ebd964074a88f31f9be1818e5",
       "version_major": 2,
       "version_minor": 0
      },
      "text/plain": [
       "Players crawled:   0%|          | 0/546 [00:00<?, ?it/s]"
      ]
     },
     "metadata": {},
     "output_type": "display_data"
    },
    {
     "data": {
      "application/vnd.jupyter.widget-view+json": {
       "model_id": "106a22affbc849cab78a846105660fd0",
       "version_major": 2,
       "version_minor": 0
      },
      "text/plain": [
       "Players crawled:   0%|          | 0/532 [00:00<?, ?it/s]"
      ]
     },
     "metadata": {},
     "output_type": "display_data"
    },
    {
     "data": {
      "application/vnd.jupyter.widget-view+json": {
       "model_id": "771b50e5006e4980903cf7c5be432fe5",
       "version_major": 2,
       "version_minor": 0
      },
      "text/plain": [
       "Players crawled:   0%|          | 0/522 [00:00<?, ?it/s]"
      ]
     },
     "metadata": {},
     "output_type": "display_data"
    },
    {
     "data": {
      "application/vnd.jupyter.widget-view+json": {
       "model_id": "fdf525f1a8c14ae5bd1e8809e7c57d19",
       "version_major": 2,
       "version_minor": 0
      },
      "text/plain": [
       "Players crawled:   0%|          | 0/508 [00:00<?, ?it/s]"
      ]
     },
     "metadata": {},
     "output_type": "display_data"
    },
    {
     "data": {
      "application/vnd.jupyter.widget-view+json": {
       "model_id": "f3c6de982b3649b6b9b5d83e917d6290",
       "version_major": 2,
       "version_minor": 0
      },
      "text/plain": [
       "Players crawled:   0%|          | 0/529 [00:00<?, ?it/s]"
      ]
     },
     "metadata": {},
     "output_type": "display_data"
    },
    {
     "data": {
      "application/vnd.jupyter.widget-view+json": {
       "model_id": "e29af18ead9e49c3a13066fb1048b7a7",
       "version_major": 2,
       "version_minor": 0
      },
      "text/plain": [
       "Players crawled:   0%|          | 0/543 [00:00<?, ?it/s]"
      ]
     },
     "metadata": {},
     "output_type": "display_data"
    },
    {
     "data": {
      "application/vnd.jupyter.widget-view+json": {
       "model_id": "ad1da61993d0471dac46570cb9b2baf2",
       "version_major": 2,
       "version_minor": 0
      },
      "text/plain": [
       "Players crawled:   0%|          | 0/561 [00:00<?, ?it/s]"
      ]
     },
     "metadata": {},
     "output_type": "display_data"
    },
    {
     "data": {
      "application/vnd.jupyter.widget-view+json": {
       "model_id": "da6018ad94a045ca8779881573e16b3e",
       "version_major": 2,
       "version_minor": 0
      },
      "text/plain": [
       "Players crawled:   0%|          | 0/548 [00:00<?, ?it/s]"
      ]
     },
     "metadata": {},
     "output_type": "display_data"
    },
    {
     "data": {
      "application/vnd.jupyter.widget-view+json": {
       "model_id": "c0ac772b016b43c4af60517cd13ccda6",
       "version_major": 2,
       "version_minor": 0
      },
      "text/plain": [
       "Players crawled:   0%|          | 0/561 [00:00<?, ?it/s]"
      ]
     },
     "metadata": {},
     "output_type": "display_data"
    },
    {
     "data": {
      "application/vnd.jupyter.widget-view+json": {
       "model_id": "72b7ec5d55644e1caf90b49ea044482d",
       "version_major": 2,
       "version_minor": 0
      },
      "text/plain": [
       "Players crawled:   0%|          | 0/537 [00:00<?, ?it/s]"
      ]
     },
     "metadata": {},
     "output_type": "display_data"
    }
   ],
   "source": [
    "seasons = [2021-i for i in range(10)]\n",
    "seasons = [f'{s}-{s+1}' for s in seasons]\n",
    "\n",
    "logging.info(f\"Initializing SQLite connection...\")\n",
    "conn = sqlite3.connect('fpl.db')\n",
    "\n",
    "logging.info(f\"Initializing Chrome Webdriver...\")\n",
    "with FBRefDriver() as d:\n",
    "    crawled_df = pd.read_sql('select distinct PLAYER, SEASON from PLAYER_MATCH_LOG', conn)\n",
    "\n",
    "    for s in tqdm(seasons, desc=\"Seasons crawled\"):\n",
    "        player_season_links = d.get_player_season_links(s)\n",
    "\n",
    "        for player, pos, link in tqdm(player_season_links, leave=False, desc=\"Players crawled\"):\n",
    "            if not crawled_df.loc[(crawled_df[\"SEASON\"] == s) & (crawled_df[\"PLAYER\"] == player)].empty:\n",
    "                logging.warning(f\"{s} {player}\\tMatch Log already crawled.\\t{link}\")\n",
    "                continue\n",
    "            \n",
    "            match_log_df = d.get_player_match_log(s, player, pos, link)\n",
    "            \n",
    "            logging.info(f\"Saving Match Log:\\t{s} {player}\")\n",
    "            match_log_df.to_sql('PLAYER_MATCH_LOG', conn, if_exists='append', index=False)\n",
    "            crawled_df.loc[len(crawled_df)] = [player, s]"
   ]
  },
  {
   "cell_type": "code",
   "execution_count": null,
   "metadata": {},
   "outputs": [],
   "source": []
  }
 ],
 "metadata": {
  "kernelspec": {
   "display_name": "Python 3.10.4 ('fpl')",
   "language": "python",
   "name": "python3"
  },
  "language_info": {
   "codemirror_mode": {
    "name": "ipython",
    "version": 3
   },
   "file_extension": ".py",
   "mimetype": "text/x-python",
   "name": "python",
   "nbconvert_exporter": "python",
   "pygments_lexer": "ipython3",
   "version": "3.8.10"
  },
  "orig_nbformat": 4,
  "vscode": {
   "interpreter": {
    "hash": "f9696d04c77630052d9401e416d8c1cf68ecffaaf52b682fd2a8103057a57489"
   }
  }
 },
 "nbformat": 4,
 "nbformat_minor": 2
}
